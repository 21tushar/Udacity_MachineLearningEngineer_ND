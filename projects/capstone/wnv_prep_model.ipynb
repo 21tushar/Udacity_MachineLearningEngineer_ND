{
 "cells": [
  {
   "cell_type": "code",
   "execution_count": 1,
   "metadata": {
    "collapsed": false
   },
   "outputs": [
    {
     "name": "stderr",
     "output_type": "stream",
     "text": [
      "C:\\Users\\Andrew\\Anaconda2\\lib\\site-packages\\matplotlib\\__init__.py:878: UserWarning: axes.color_cycle is deprecated and replaced with axes.prop_cycle; please use the latter.\n",
      "  warnings.warn(self.msg_depr % (key, alt_key))\n"
     ]
    },
    {
     "name": "stdout",
     "output_type": "stream",
     "text": [
      "Populating the interactive namespace from numpy and matplotlib\n"
     ]
    }
   ],
   "source": [
    "# system\n",
    "import sys\n",
    "sys.path.append(\"../../Kaggle-Ensemble-Guide-master/\")\n",
    "\n",
    "# Data Handling\n",
    "import pandas as pd\n",
    "import numpy as np\n",
    "import math\n",
    "import scipy.stats as sps\n",
    "#from scipy import stats, integrate\n",
    "from time import time\n",
    "\n",
    "\n",
    "# sklearn and models\n",
    "from sklearn import preprocessing, ensemble, metrics, feature_selection, model_selection, pipeline\n",
    "import xgboost as xgb\n",
    "\n",
    "#plotting and display\n",
    "from IPython.display import display\n",
    "from matplotlib import pyplot\n",
    "import pprint\n",
    "%pylab inline"
   ]
  },
  {
   "cell_type": "code",
   "execution_count": 2,
   "metadata": {
    "collapsed": false
   },
   "outputs": [
    {
     "data": {
      "text/plain": [
       "XGBClassifier(base_score=0.5, colsample_bylevel=1, colsample_bytree=1,\n",
       "       gamma=0, learning_rate=0.1, max_delta_step=0, max_depth=3,\n",
       "       min_child_weight=1, missing=None, n_estimators=100, nthread=-1,\n",
       "       objective='binary:logistic', reg_alpha=0, reg_lambda=1,\n",
       "       scale_pos_weight=1, seed=0, silent=True, subsample=1)"
      ]
     },
     "execution_count": 2,
     "metadata": {},
     "output_type": "execute_result"
    }
   ],
   "source": [
    "xgb.XGBClassifier()"
   ]
  },
  {
   "cell_type": "code",
   "execution_count": 3,
   "metadata": {
    "collapsed": true
   },
   "outputs": [],
   "source": [
    "# set up pickle functions for saving and restoring tuned classifier\n",
    "import pickle\n",
    "\n",
    "def dump_pkl(my_object, filename):\n",
    "    with open(filename, \"w\") as outfile:\n",
    "        pickle.dump(my_object, outfile)\n",
    "\n",
    "\n",
    "def load_pkl(filename):\n",
    "    with open(filename, \"r\") as infile:\n",
    "        obj = pickle.load(infile)\n",
    "        return obj"
   ]
  },
  {
   "cell_type": "markdown",
   "metadata": {},
   "source": [
    "### Load Data"
   ]
  },
  {
   "cell_type": "code",
   "execution_count": 4,
   "metadata": {
    "collapsed": false
   },
   "outputs": [],
   "source": [
    "# create date parser\n",
    "dateparse = lambda x: pd.datetime.strptime(x, '%Y-%m-%d')\n",
    "\n",
    "# create data type converters\n",
    "dtype_map_weather = dict(Station = 'str')\n",
    "dtype_map_test_train = dict(Block = 'str', Street = 'str')\n",
    "\n",
    "# read data into PANDAS DataFrames with date parsing\n",
    "test = pd.read_csv('input/test.csv', parse_dates=['Date'], date_parser=dateparse, dtype= dtype_map_test_train)\n",
    "train = pd.read_csv('input/train.csv', parse_dates=['Date'], date_parser=dateparse, dtype= dtype_map_test_train)\n",
    "weather = pd.read_csv('input/weather.csv', parse_dates=['Date'], date_parser=dateparse, dtype= dtype_map_weather)\n",
    "sample_sub = pd.read_csv('input/sampleSubmission.csv')"
   ]
  },
  {
   "cell_type": "code",
   "execution_count": 5,
   "metadata": {
    "collapsed": false
   },
   "outputs": [
    {
     "name": "stdout",
     "output_type": "stream",
     "text": [
      "Train\n",
      "<class 'pandas.core.frame.DataFrame'>\n",
      "RangeIndex: 10506 entries, 0 to 10505\n",
      "Data columns (total 12 columns):\n",
      "Date                      10506 non-null datetime64[ns]\n",
      "Address                   10506 non-null object\n",
      "Species                   10506 non-null object\n",
      "Block                     10506 non-null object\n",
      "Street                    10506 non-null object\n",
      "Trap                      10506 non-null object\n",
      "AddressNumberAndStreet    10506 non-null object\n",
      "Latitude                  10506 non-null float64\n",
      "Longitude                 10506 non-null float64\n",
      "AddressAccuracy           10506 non-null int64\n",
      "NumMosquitos              10506 non-null int64\n",
      "WnvPresent                10506 non-null int64\n",
      "dtypes: datetime64[ns](1), float64(2), int64(3), object(6)\n",
      "memory usage: 985.0+ KB\n"
     ]
    },
    {
     "data": {
      "text/plain": [
       "None"
      ]
     },
     "metadata": {},
     "output_type": "display_data"
    },
    {
     "name": "stdout",
     "output_type": "stream",
     "text": [
      "Test\n",
      "<class 'pandas.core.frame.DataFrame'>\n",
      "RangeIndex: 116293 entries, 0 to 116292\n",
      "Data columns (total 11 columns):\n",
      "Id                        116293 non-null int64\n",
      "Date                      116293 non-null datetime64[ns]\n",
      "Address                   116293 non-null object\n",
      "Species                   116293 non-null object\n",
      "Block                     116293 non-null object\n",
      "Street                    116293 non-null object\n",
      "Trap                      116293 non-null object\n",
      "AddressNumberAndStreet    116293 non-null object\n",
      "Latitude                  116293 non-null float64\n",
      "Longitude                 116293 non-null float64\n",
      "AddressAccuracy           116293 non-null int64\n",
      "dtypes: datetime64[ns](1), float64(2), int64(2), object(6)\n",
      "memory usage: 9.8+ MB\n"
     ]
    },
    {
     "data": {
      "text/plain": [
       "None"
      ]
     },
     "metadata": {},
     "output_type": "display_data"
    }
   ],
   "source": [
    "print('Train')\n",
    "display(train.info())\n",
    "\n",
    "print('Test')\n",
    "display(test.info())"
   ]
  },
  {
   "cell_type": "code",
   "execution_count": 6,
   "metadata": {
    "collapsed": false
   },
   "outputs": [
    {
     "name": "stdout",
     "output_type": "stream",
     "text": [
      "Weather\n",
      "<class 'pandas.core.frame.DataFrame'>\n",
      "RangeIndex: 2944 entries, 0 to 2943\n",
      "Data columns (total 22 columns):\n",
      "Station        2944 non-null object\n",
      "Date           2944 non-null datetime64[ns]\n",
      "Tmax           2944 non-null int64\n",
      "Tmin           2944 non-null int64\n",
      "Tavg           2944 non-null object\n",
      "Depart         2944 non-null object\n",
      "DewPoint       2944 non-null int64\n",
      "WetBulb        2944 non-null object\n",
      "Heat           2944 non-null object\n",
      "Cool           2944 non-null object\n",
      "Sunrise        2944 non-null object\n",
      "Sunset         2944 non-null object\n",
      "CodeSum        2944 non-null object\n",
      "Depth          2944 non-null object\n",
      "Water1         2944 non-null object\n",
      "SnowFall       2944 non-null object\n",
      "PrecipTotal    2944 non-null object\n",
      "StnPressure    2944 non-null object\n",
      "SeaLevel       2944 non-null object\n",
      "ResultSpeed    2944 non-null float64\n",
      "ResultDir      2944 non-null int64\n",
      "AvgSpeed       2944 non-null object\n",
      "dtypes: datetime64[ns](1), float64(1), int64(4), object(16)\n",
      "memory usage: 506.1+ KB\n"
     ]
    },
    {
     "data": {
      "text/plain": [
       "None"
      ]
     },
     "metadata": {},
     "output_type": "display_data"
    }
   ],
   "source": [
    "print('Weather')\n",
    "display(weather.info())"
   ]
  },
  {
   "cell_type": "markdown",
   "metadata": {},
   "source": [
    "### Select Columns"
   ]
  },
  {
   "cell_type": "code",
   "execution_count": 7,
   "metadata": {
    "collapsed": true
   },
   "outputs": [],
   "source": [
    "# weather\n",
    "weather_exclude = ['Dewpoint', 'WetBulb', 'CodeSum', 'Depth', 'Water1', 'SnowFall', 'StnPressure',\n",
    "                 'SeaLevel', 'ResultSpeed', 'ResultDir', 'AvgSpeed','DewPoint']\n",
    "weather_cols = [col for col in weather.columns if col not in weather_exclude]\n",
    "weather = weather[weather_cols]\n",
    "\n",
    "\n",
    "# train\n",
    "train_exclude = ['Address', 'AddressNumberAndStreet', 'AddressAccuracy', 'NumMosquitos']\n",
    "train_cols = [col for col in train.columns if col not in train_exclude]\n",
    "train = train[train_cols]\n",
    "\n",
    "# test\n",
    "test_exclude = ['Address', 'AddressNumberAndStreet', 'AddressAccuracy', 'Id']\n",
    "test_cols = [col for col in test.columns if col not in test_exclude]\n",
    "test = test[test_cols]"
   ]
  },
  {
   "cell_type": "code",
   "execution_count": 8,
   "metadata": {
    "collapsed": false
   },
   "outputs": [
    {
     "name": "stdout",
     "output_type": "stream",
     "text": [
      "<class 'pandas.core.frame.DataFrame'>\n",
      "RangeIndex: 2944 entries, 0 to 2943\n",
      "Data columns (total 11 columns):\n",
      "Station        2944 non-null object\n",
      "Date           2944 non-null datetime64[ns]\n",
      "Tmax           2944 non-null int64\n",
      "Tmin           2944 non-null int64\n",
      "Tavg           2944 non-null object\n",
      "Depart         2944 non-null object\n",
      "Heat           2944 non-null object\n",
      "Cool           2944 non-null object\n",
      "Sunrise        2944 non-null object\n",
      "Sunset         2944 non-null object\n",
      "PrecipTotal    2944 non-null object\n",
      "dtypes: datetime64[ns](1), int64(2), object(8)\n",
      "memory usage: 253.1+ KB\n"
     ]
    }
   ],
   "source": [
    "weather.info()"
   ]
  },
  {
   "cell_type": "code",
   "execution_count": 9,
   "metadata": {
    "collapsed": false
   },
   "outputs": [
    {
     "name": "stdout",
     "output_type": "stream",
     "text": [
      "Weather\n"
     ]
    },
    {
     "data": {
      "text/html": [
       "<div>\n",
       "<table border=\"1\" class=\"dataframe\">\n",
       "  <thead>\n",
       "    <tr style=\"text-align: right;\">\n",
       "      <th></th>\n",
       "      <th>Station</th>\n",
       "      <th>Date</th>\n",
       "      <th>Tmax</th>\n",
       "      <th>Tmin</th>\n",
       "      <th>Tavg</th>\n",
       "      <th>Depart</th>\n",
       "      <th>Heat</th>\n",
       "      <th>Cool</th>\n",
       "      <th>Sunrise</th>\n",
       "      <th>Sunset</th>\n",
       "      <th>PrecipTotal</th>\n",
       "    </tr>\n",
       "  </thead>\n",
       "  <tbody>\n",
       "    <tr>\n",
       "      <th>0</th>\n",
       "      <td>1</td>\n",
       "      <td>2007-05-01</td>\n",
       "      <td>83</td>\n",
       "      <td>50</td>\n",
       "      <td>67</td>\n",
       "      <td>14</td>\n",
       "      <td>0</td>\n",
       "      <td>2</td>\n",
       "      <td>0448</td>\n",
       "      <td>1849</td>\n",
       "      <td>0.00</td>\n",
       "    </tr>\n",
       "    <tr>\n",
       "      <th>1</th>\n",
       "      <td>2</td>\n",
       "      <td>2007-05-01</td>\n",
       "      <td>84</td>\n",
       "      <td>52</td>\n",
       "      <td>68</td>\n",
       "      <td>M</td>\n",
       "      <td>0</td>\n",
       "      <td>3</td>\n",
       "      <td>-</td>\n",
       "      <td>-</td>\n",
       "      <td>0.00</td>\n",
       "    </tr>\n",
       "    <tr>\n",
       "      <th>2</th>\n",
       "      <td>1</td>\n",
       "      <td>2007-05-02</td>\n",
       "      <td>59</td>\n",
       "      <td>42</td>\n",
       "      <td>51</td>\n",
       "      <td>-3</td>\n",
       "      <td>14</td>\n",
       "      <td>0</td>\n",
       "      <td>0447</td>\n",
       "      <td>1850</td>\n",
       "      <td>0.00</td>\n",
       "    </tr>\n",
       "    <tr>\n",
       "      <th>3</th>\n",
       "      <td>2</td>\n",
       "      <td>2007-05-02</td>\n",
       "      <td>60</td>\n",
       "      <td>43</td>\n",
       "      <td>52</td>\n",
       "      <td>M</td>\n",
       "      <td>13</td>\n",
       "      <td>0</td>\n",
       "      <td>-</td>\n",
       "      <td>-</td>\n",
       "      <td>0.00</td>\n",
       "    </tr>\n",
       "    <tr>\n",
       "      <th>4</th>\n",
       "      <td>1</td>\n",
       "      <td>2007-05-03</td>\n",
       "      <td>66</td>\n",
       "      <td>46</td>\n",
       "      <td>56</td>\n",
       "      <td>2</td>\n",
       "      <td>9</td>\n",
       "      <td>0</td>\n",
       "      <td>0446</td>\n",
       "      <td>1851</td>\n",
       "      <td>0.00</td>\n",
       "    </tr>\n",
       "  </tbody>\n",
       "</table>\n",
       "</div>"
      ],
      "text/plain": [
       "  Station       Date  Tmax  Tmin Tavg Depart Heat Cool Sunrise Sunset  \\\n",
       "0       1 2007-05-01    83    50   67     14    0    2    0448   1849   \n",
       "1       2 2007-05-01    84    52   68      M    0    3       -      -   \n",
       "2       1 2007-05-02    59    42   51     -3   14    0    0447   1850   \n",
       "3       2 2007-05-02    60    43   52      M   13    0       -      -   \n",
       "4       1 2007-05-03    66    46   56      2    9    0    0446   1851   \n",
       "\n",
       "  PrecipTotal  \n",
       "0        0.00  \n",
       "1        0.00  \n",
       "2        0.00  \n",
       "3        0.00  \n",
       "4        0.00  "
      ]
     },
     "metadata": {},
     "output_type": "display_data"
    },
    {
     "name": "stdout",
     "output_type": "stream",
     "text": [
      "Train\n"
     ]
    },
    {
     "data": {
      "text/html": [
       "<div>\n",
       "<table border=\"1\" class=\"dataframe\">\n",
       "  <thead>\n",
       "    <tr style=\"text-align: right;\">\n",
       "      <th></th>\n",
       "      <th>Date</th>\n",
       "      <th>Species</th>\n",
       "      <th>Block</th>\n",
       "      <th>Street</th>\n",
       "      <th>Trap</th>\n",
       "      <th>Latitude</th>\n",
       "      <th>Longitude</th>\n",
       "      <th>WnvPresent</th>\n",
       "    </tr>\n",
       "  </thead>\n",
       "  <tbody>\n",
       "    <tr>\n",
       "      <th>0</th>\n",
       "      <td>2007-05-29</td>\n",
       "      <td>CULEX PIPIENS/RESTUANS</td>\n",
       "      <td>41</td>\n",
       "      <td>N OAK PARK AVE</td>\n",
       "      <td>T002</td>\n",
       "      <td>41.954690</td>\n",
       "      <td>-87.800991</td>\n",
       "      <td>0</td>\n",
       "    </tr>\n",
       "    <tr>\n",
       "      <th>1</th>\n",
       "      <td>2007-05-29</td>\n",
       "      <td>CULEX RESTUANS</td>\n",
       "      <td>41</td>\n",
       "      <td>N OAK PARK AVE</td>\n",
       "      <td>T002</td>\n",
       "      <td>41.954690</td>\n",
       "      <td>-87.800991</td>\n",
       "      <td>0</td>\n",
       "    </tr>\n",
       "    <tr>\n",
       "      <th>2</th>\n",
       "      <td>2007-05-29</td>\n",
       "      <td>CULEX RESTUANS</td>\n",
       "      <td>62</td>\n",
       "      <td>N MANDELL AVE</td>\n",
       "      <td>T007</td>\n",
       "      <td>41.994991</td>\n",
       "      <td>-87.769279</td>\n",
       "      <td>0</td>\n",
       "    </tr>\n",
       "    <tr>\n",
       "      <th>3</th>\n",
       "      <td>2007-05-29</td>\n",
       "      <td>CULEX PIPIENS/RESTUANS</td>\n",
       "      <td>79</td>\n",
       "      <td>W FOSTER AVE</td>\n",
       "      <td>T015</td>\n",
       "      <td>41.974089</td>\n",
       "      <td>-87.824812</td>\n",
       "      <td>0</td>\n",
       "    </tr>\n",
       "    <tr>\n",
       "      <th>4</th>\n",
       "      <td>2007-05-29</td>\n",
       "      <td>CULEX RESTUANS</td>\n",
       "      <td>79</td>\n",
       "      <td>W FOSTER AVE</td>\n",
       "      <td>T015</td>\n",
       "      <td>41.974089</td>\n",
       "      <td>-87.824812</td>\n",
       "      <td>0</td>\n",
       "    </tr>\n",
       "  </tbody>\n",
       "</table>\n",
       "</div>"
      ],
      "text/plain": [
       "        Date                 Species Block           Street  Trap   Latitude  \\\n",
       "0 2007-05-29  CULEX PIPIENS/RESTUANS    41   N OAK PARK AVE  T002  41.954690   \n",
       "1 2007-05-29          CULEX RESTUANS    41   N OAK PARK AVE  T002  41.954690   \n",
       "2 2007-05-29          CULEX RESTUANS    62    N MANDELL AVE  T007  41.994991   \n",
       "3 2007-05-29  CULEX PIPIENS/RESTUANS    79     W FOSTER AVE  T015  41.974089   \n",
       "4 2007-05-29          CULEX RESTUANS    79     W FOSTER AVE  T015  41.974089   \n",
       "\n",
       "   Longitude  WnvPresent  \n",
       "0 -87.800991           0  \n",
       "1 -87.800991           0  \n",
       "2 -87.769279           0  \n",
       "3 -87.824812           0  \n",
       "4 -87.824812           0  "
      ]
     },
     "metadata": {},
     "output_type": "display_data"
    }
   ],
   "source": [
    "print('Weather')\n",
    "display(weather.head())\n",
    "\n",
    "print('Train')\n",
    "display(train.head())"
   ]
  },
  {
   "cell_type": "code",
   "execution_count": 10,
   "metadata": {
    "collapsed": false
   },
   "outputs": [
    {
     "data": {
      "text/plain": [
       "{'CULEX ERRATICUS',\n",
       " 'CULEX PIPIENS',\n",
       " 'CULEX PIPIENS/RESTUANS',\n",
       " 'CULEX RESTUANS',\n",
       " 'CULEX SALINARIUS',\n",
       " 'CULEX TARSALIS',\n",
       " 'CULEX TERRITANS'}"
      ]
     },
     "execution_count": 10,
     "metadata": {},
     "output_type": "execute_result"
    }
   ],
   "source": [
    "# what species have been detected (note that according to the CDC each\n",
    "# of these species can carry WNV)\n",
    "set(train.Species)"
   ]
  },
  {
   "cell_type": "code",
   "execution_count": 11,
   "metadata": {
    "collapsed": false
   },
   "outputs": [
    {
     "data": {
      "text/plain": [
       "{'CULEX ERRATICUS',\n",
       " 'CULEX PIPIENS',\n",
       " 'CULEX PIPIENS/RESTUANS',\n",
       " 'CULEX RESTUANS',\n",
       " 'CULEX SALINARIUS',\n",
       " 'CULEX TARSALIS',\n",
       " 'CULEX TERRITANS',\n",
       " 'UNSPECIFIED CULEX'}"
      ]
     },
     "execution_count": 11,
     "metadata": {},
     "output_type": "execute_result"
    }
   ],
   "source": [
    "# does this correspond to the test set\n",
    "set(test.Species)\n",
    "# it looks like there is another category"
   ]
  },
  {
   "cell_type": "code",
   "execution_count": 12,
   "metadata": {
    "collapsed": false
   },
   "outputs": [
    {
     "data": {
      "text/plain": [
       "Species\n",
       "CULEX ERRATICUS             0\n",
       "CULEX PIPIENS             240\n",
       "CULEX PIPIENS/RESTUANS    262\n",
       "CULEX RESTUANS             49\n",
       "CULEX SALINARIUS            0\n",
       "CULEX TARSALIS              0\n",
       "CULEX TERRITANS             0\n",
       "Name: WnvPresent, dtype: int64"
      ]
     },
     "execution_count": 12,
     "metadata": {},
     "output_type": "execute_result"
    }
   ],
   "source": [
    "train.groupby('Species').sum().WnvPresent"
   ]
  },
  {
   "cell_type": "markdown",
   "metadata": {},
   "source": [
    "### Examine and Handle missing Data"
   ]
  },
  {
   "cell_type": "markdown",
   "metadata": {},
   "source": [
    "**What is 'T' and 'M'?**\n",
    "- From http://www.nws.noaa.gov/om/csd/info/NOWdata/FAQ.php\n",
    "\n",
    "> \"M\" stands for \"Missing\". Data for an element will be missing if the primary sensor for that weather element is inoperable (e.g., has an outage) or malfunctioning (e.g., producing errant data) AND any collocated backup sensor is also inoperable or malfunctioning. \"T\" stand for \"Trace\". This is a small amount of precipitation that will wet a raingage but is less than the 0.01 inch measuring limit.\n",
    "\n",
    "The Precipitation Total column is the only column in the retained data that can contain this value. The value has leading whitespace so we should strip prior to counting."
   ]
  },
  {
   "cell_type": "code",
   "execution_count": 13,
   "metadata": {
    "collapsed": true
   },
   "outputs": [],
   "source": [
    "# strip whitespace\n",
    "weather.PrecipTotal = weather.PrecipTotal.str.strip()"
   ]
  },
  {
   "cell_type": "code",
   "execution_count": 14,
   "metadata": {
    "collapsed": true
   },
   "outputs": [],
   "source": [
    "miss_weather = ['M', '-']\n",
    "trace_weather = ['T']"
   ]
  },
  {
   "cell_type": "code",
   "execution_count": 15,
   "metadata": {
    "collapsed": true
   },
   "outputs": [],
   "source": [
    "cols_not_date = [col for col in weather.columns if col != 'Date']"
   ]
  },
  {
   "cell_type": "code",
   "execution_count": 16,
   "metadata": {
    "collapsed": false
   },
   "outputs": [
    {
     "data": {
      "text/plain": [
       "M    1507.0\n",
       "-    2944.0\n",
       "T     318.0\n",
       "dtype: float64"
      ]
     },
     "execution_count": 16,
     "metadata": {},
     "output_type": "execute_result"
    }
   ],
   "source": [
    "weather[cols_not_date].apply(pd.value_counts, axis=1)[miss_weather + trace_weather].fillna(0).sum()"
   ]
  },
  {
   "cell_type": "code",
   "execution_count": 17,
   "metadata": {
    "collapsed": false
   },
   "outputs": [
    {
     "data": {
      "text/html": [
       "<div>\n",
       "<table border=\"1\" class=\"dataframe\">\n",
       "  <thead>\n",
       "    <tr style=\"text-align: right;\">\n",
       "      <th></th>\n",
       "      <th>Station</th>\n",
       "      <th>Tmax</th>\n",
       "      <th>Tmin</th>\n",
       "      <th>Tavg</th>\n",
       "      <th>Depart</th>\n",
       "      <th>Heat</th>\n",
       "      <th>Cool</th>\n",
       "      <th>Sunrise</th>\n",
       "      <th>Sunset</th>\n",
       "      <th>PrecipTotal</th>\n",
       "    </tr>\n",
       "  </thead>\n",
       "  <tbody>\n",
       "    <tr>\n",
       "      <th>M</th>\n",
       "      <td>0.0</td>\n",
       "      <td>0.0</td>\n",
       "      <td>0.0</td>\n",
       "      <td>11.0</td>\n",
       "      <td>1472.0</td>\n",
       "      <td>11.0</td>\n",
       "      <td>11.0</td>\n",
       "      <td>0.0</td>\n",
       "      <td>0.0</td>\n",
       "      <td>2.0</td>\n",
       "    </tr>\n",
       "    <tr>\n",
       "      <th>-</th>\n",
       "      <td>0.0</td>\n",
       "      <td>0.0</td>\n",
       "      <td>0.0</td>\n",
       "      <td>0.0</td>\n",
       "      <td>0.0</td>\n",
       "      <td>0.0</td>\n",
       "      <td>0.0</td>\n",
       "      <td>1472.0</td>\n",
       "      <td>1472.0</td>\n",
       "      <td>0.0</td>\n",
       "    </tr>\n",
       "    <tr>\n",
       "      <th>T</th>\n",
       "      <td>0.0</td>\n",
       "      <td>0.0</td>\n",
       "      <td>0.0</td>\n",
       "      <td>0.0</td>\n",
       "      <td>0.0</td>\n",
       "      <td>0.0</td>\n",
       "      <td>0.0</td>\n",
       "      <td>0.0</td>\n",
       "      <td>0.0</td>\n",
       "      <td>318.0</td>\n",
       "    </tr>\n",
       "  </tbody>\n",
       "</table>\n",
       "</div>"
      ],
      "text/plain": [
       "   Station  Tmax  Tmin  Tavg  Depart  Heat  Cool  Sunrise  Sunset  PrecipTotal\n",
       "M      0.0   0.0   0.0  11.0  1472.0  11.0  11.0      0.0     0.0          2.0\n",
       "-      0.0   0.0   0.0   0.0     0.0   0.0   0.0   1472.0  1472.0          0.0\n",
       "T      0.0   0.0   0.0   0.0     0.0   0.0   0.0      0.0     0.0        318.0"
      ]
     },
     "execution_count": 17,
     "metadata": {},
     "output_type": "execute_result"
    }
   ],
   "source": [
    "# Both stations\n",
    "check = weather[cols_not_date].apply(pd.value_counts, axis=0).fillna(0)\n",
    "check.loc[['M', '-', 'T']]"
   ]
  },
  {
   "cell_type": "code",
   "execution_count": 18,
   "metadata": {
    "collapsed": false
   },
   "outputs": [
    {
     "data": {
      "text/html": [
       "<div>\n",
       "<table border=\"1\" class=\"dataframe\">\n",
       "  <thead>\n",
       "    <tr style=\"text-align: right;\">\n",
       "      <th></th>\n",
       "      <th>Station</th>\n",
       "      <th>Tmax</th>\n",
       "      <th>Tmin</th>\n",
       "      <th>Tavg</th>\n",
       "      <th>Depart</th>\n",
       "      <th>Heat</th>\n",
       "      <th>Cool</th>\n",
       "      <th>Sunrise</th>\n",
       "      <th>Sunset</th>\n",
       "      <th>PrecipTotal</th>\n",
       "    </tr>\n",
       "  </thead>\n",
       "  <tbody>\n",
       "    <tr>\n",
       "      <th>M</th>\n",
       "      <td>NaN</td>\n",
       "      <td>NaN</td>\n",
       "      <td>NaN</td>\n",
       "      <td>NaN</td>\n",
       "      <td>NaN</td>\n",
       "      <td>NaN</td>\n",
       "      <td>NaN</td>\n",
       "      <td>NaN</td>\n",
       "      <td>NaN</td>\n",
       "      <td>NaN</td>\n",
       "    </tr>\n",
       "    <tr>\n",
       "      <th>-</th>\n",
       "      <td>NaN</td>\n",
       "      <td>NaN</td>\n",
       "      <td>NaN</td>\n",
       "      <td>NaN</td>\n",
       "      <td>NaN</td>\n",
       "      <td>NaN</td>\n",
       "      <td>NaN</td>\n",
       "      <td>NaN</td>\n",
       "      <td>NaN</td>\n",
       "      <td>NaN</td>\n",
       "    </tr>\n",
       "    <tr>\n",
       "      <th>T</th>\n",
       "      <td>0.0</td>\n",
       "      <td>0.0</td>\n",
       "      <td>0.0</td>\n",
       "      <td>0.0</td>\n",
       "      <td>0.0</td>\n",
       "      <td>0.0</td>\n",
       "      <td>0.0</td>\n",
       "      <td>0.0</td>\n",
       "      <td>0.0</td>\n",
       "      <td>163.0</td>\n",
       "    </tr>\n",
       "  </tbody>\n",
       "</table>\n",
       "</div>"
      ],
      "text/plain": [
       "   Station  Tmax  Tmin  Tavg  Depart  Heat  Cool  Sunrise  Sunset  PrecipTotal\n",
       "M      NaN   NaN   NaN   NaN     NaN   NaN   NaN      NaN     NaN          NaN\n",
       "-      NaN   NaN   NaN   NaN     NaN   NaN   NaN      NaN     NaN          NaN\n",
       "T      0.0   0.0   0.0   0.0     0.0   0.0   0.0      0.0     0.0        163.0"
      ]
     },
     "execution_count": 18,
     "metadata": {},
     "output_type": "execute_result"
    }
   ],
   "source": [
    "# Station 1\n",
    "check_stat1 = weather[cols_not_date][weather.Station == '1'].apply(pd.value_counts, axis=0).fillna(0)\n",
    "check_stat1.loc[['M', '-', 'T']]"
   ]
  },
  {
   "cell_type": "code",
   "execution_count": 19,
   "metadata": {
    "collapsed": false
   },
   "outputs": [
    {
     "data": {
      "text/html": [
       "<div>\n",
       "<table border=\"1\" class=\"dataframe\">\n",
       "  <thead>\n",
       "    <tr style=\"text-align: right;\">\n",
       "      <th></th>\n",
       "      <th>Station</th>\n",
       "      <th>Tmax</th>\n",
       "      <th>Tmin</th>\n",
       "      <th>Tavg</th>\n",
       "      <th>Depart</th>\n",
       "      <th>Heat</th>\n",
       "      <th>Cool</th>\n",
       "      <th>Sunrise</th>\n",
       "      <th>Sunset</th>\n",
       "      <th>PrecipTotal</th>\n",
       "    </tr>\n",
       "  </thead>\n",
       "  <tbody>\n",
       "    <tr>\n",
       "      <th>M</th>\n",
       "      <td>0.0</td>\n",
       "      <td>0.0</td>\n",
       "      <td>0.0</td>\n",
       "      <td>11.0</td>\n",
       "      <td>1472.0</td>\n",
       "      <td>11.0</td>\n",
       "      <td>11.0</td>\n",
       "      <td>0.0</td>\n",
       "      <td>0.0</td>\n",
       "      <td>2.0</td>\n",
       "    </tr>\n",
       "    <tr>\n",
       "      <th>-</th>\n",
       "      <td>0.0</td>\n",
       "      <td>0.0</td>\n",
       "      <td>0.0</td>\n",
       "      <td>0.0</td>\n",
       "      <td>0.0</td>\n",
       "      <td>0.0</td>\n",
       "      <td>0.0</td>\n",
       "      <td>1472.0</td>\n",
       "      <td>1472.0</td>\n",
       "      <td>0.0</td>\n",
       "    </tr>\n",
       "    <tr>\n",
       "      <th>T</th>\n",
       "      <td>0.0</td>\n",
       "      <td>0.0</td>\n",
       "      <td>0.0</td>\n",
       "      <td>0.0</td>\n",
       "      <td>0.0</td>\n",
       "      <td>0.0</td>\n",
       "      <td>0.0</td>\n",
       "      <td>0.0</td>\n",
       "      <td>0.0</td>\n",
       "      <td>155.0</td>\n",
       "    </tr>\n",
       "  </tbody>\n",
       "</table>\n",
       "</div>"
      ],
      "text/plain": [
       "   Station  Tmax  Tmin  Tavg  Depart  Heat  Cool  Sunrise  Sunset  PrecipTotal\n",
       "M      0.0   0.0   0.0  11.0  1472.0  11.0  11.0      0.0     0.0          2.0\n",
       "-      0.0   0.0   0.0   0.0     0.0   0.0   0.0   1472.0  1472.0          0.0\n",
       "T      0.0   0.0   0.0   0.0     0.0   0.0   0.0      0.0     0.0        155.0"
      ]
     },
     "execution_count": 19,
     "metadata": {},
     "output_type": "execute_result"
    }
   ],
   "source": [
    "# Station 2\n",
    "check_stat2 = weather[cols_not_date][weather.Station == '2'].apply(pd.value_counts, axis=0).fillna(0)\n",
    "check_stat2.loc[['M', '-', 'T']]"
   ]
  },
  {
   "cell_type": "code",
   "execution_count": 20,
   "metadata": {
    "collapsed": false
   },
   "outputs": [
    {
     "data": {
      "text/html": [
       "<div>\n",
       "<table border=\"1\" class=\"dataframe\">\n",
       "  <thead>\n",
       "    <tr style=\"text-align: right;\">\n",
       "      <th></th>\n",
       "      <th>Station</th>\n",
       "      <th>Tmax</th>\n",
       "      <th>Tmin</th>\n",
       "      <th>Tavg</th>\n",
       "      <th>Depart</th>\n",
       "      <th>Heat</th>\n",
       "      <th>Cool</th>\n",
       "      <th>Sunrise</th>\n",
       "      <th>Sunset</th>\n",
       "      <th>PrecipTotal</th>\n",
       "    </tr>\n",
       "  </thead>\n",
       "  <tbody>\n",
       "    <tr>\n",
       "      <th>M</th>\n",
       "      <td>0.0</td>\n",
       "      <td>0.0</td>\n",
       "      <td>0.0</td>\n",
       "      <td>0.373641</td>\n",
       "      <td>50.0</td>\n",
       "      <td>0.373641</td>\n",
       "      <td>0.373641</td>\n",
       "      <td>0.0</td>\n",
       "      <td>0.0</td>\n",
       "      <td>0.067935</td>\n",
       "    </tr>\n",
       "    <tr>\n",
       "      <th>-</th>\n",
       "      <td>0.0</td>\n",
       "      <td>0.0</td>\n",
       "      <td>0.0</td>\n",
       "      <td>0.000000</td>\n",
       "      <td>0.0</td>\n",
       "      <td>0.000000</td>\n",
       "      <td>0.000000</td>\n",
       "      <td>50.0</td>\n",
       "      <td>50.0</td>\n",
       "      <td>0.000000</td>\n",
       "    </tr>\n",
       "    <tr>\n",
       "      <th>T</th>\n",
       "      <td>0.0</td>\n",
       "      <td>0.0</td>\n",
       "      <td>0.0</td>\n",
       "      <td>0.000000</td>\n",
       "      <td>0.0</td>\n",
       "      <td>0.000000</td>\n",
       "      <td>0.000000</td>\n",
       "      <td>0.0</td>\n",
       "      <td>0.0</td>\n",
       "      <td>10.801630</td>\n",
       "    </tr>\n",
       "  </tbody>\n",
       "</table>\n",
       "</div>"
      ],
      "text/plain": [
       "   Station  Tmax  Tmin      Tavg  Depart      Heat      Cool  Sunrise  Sunset  \\\n",
       "M      0.0   0.0   0.0  0.373641    50.0  0.373641  0.373641      0.0     0.0   \n",
       "-      0.0   0.0   0.0  0.000000     0.0  0.000000  0.000000     50.0    50.0   \n",
       "T      0.0   0.0   0.0  0.000000     0.0  0.000000  0.000000      0.0     0.0   \n",
       "\n",
       "   PrecipTotal  \n",
       "M     0.067935  \n",
       "-     0.000000  \n",
       "T    10.801630  "
      ]
     },
     "execution_count": 20,
     "metadata": {},
     "output_type": "execute_result"
    }
   ],
   "source": [
    "# Both stations\n",
    "check.loc[['M', '-', 'T']]/(len(weather)) * 100"
   ]
  },
  {
   "cell_type": "code",
   "execution_count": 21,
   "metadata": {
    "collapsed": false
   },
   "outputs": [
    {
     "data": {
      "text/html": [
       "<div>\n",
       "<table border=\"1\" class=\"dataframe\">\n",
       "  <thead>\n",
       "    <tr style=\"text-align: right;\">\n",
       "      <th></th>\n",
       "      <th>Station</th>\n",
       "      <th>Tmax</th>\n",
       "      <th>Tmin</th>\n",
       "      <th>Tavg</th>\n",
       "      <th>Depart</th>\n",
       "      <th>Heat</th>\n",
       "      <th>Cool</th>\n",
       "      <th>Sunrise</th>\n",
       "      <th>Sunset</th>\n",
       "      <th>PrecipTotal</th>\n",
       "    </tr>\n",
       "  </thead>\n",
       "  <tbody>\n",
       "    <tr>\n",
       "      <th>M</th>\n",
       "      <td>NaN</td>\n",
       "      <td>NaN</td>\n",
       "      <td>NaN</td>\n",
       "      <td>NaN</td>\n",
       "      <td>NaN</td>\n",
       "      <td>NaN</td>\n",
       "      <td>NaN</td>\n",
       "      <td>NaN</td>\n",
       "      <td>NaN</td>\n",
       "      <td>NaN</td>\n",
       "    </tr>\n",
       "    <tr>\n",
       "      <th>-</th>\n",
       "      <td>NaN</td>\n",
       "      <td>NaN</td>\n",
       "      <td>NaN</td>\n",
       "      <td>NaN</td>\n",
       "      <td>NaN</td>\n",
       "      <td>NaN</td>\n",
       "      <td>NaN</td>\n",
       "      <td>NaN</td>\n",
       "      <td>NaN</td>\n",
       "      <td>NaN</td>\n",
       "    </tr>\n",
       "    <tr>\n",
       "      <th>T</th>\n",
       "      <td>0.0</td>\n",
       "      <td>0.0</td>\n",
       "      <td>0.0</td>\n",
       "      <td>0.0</td>\n",
       "      <td>0.0</td>\n",
       "      <td>0.0</td>\n",
       "      <td>0.0</td>\n",
       "      <td>0.0</td>\n",
       "      <td>0.0</td>\n",
       "      <td>5.536685</td>\n",
       "    </tr>\n",
       "  </tbody>\n",
       "</table>\n",
       "</div>"
      ],
      "text/plain": [
       "   Station  Tmax  Tmin  Tavg  Depart  Heat  Cool  Sunrise  Sunset  PrecipTotal\n",
       "M      NaN   NaN   NaN   NaN     NaN   NaN   NaN      NaN     NaN          NaN\n",
       "-      NaN   NaN   NaN   NaN     NaN   NaN   NaN      NaN     NaN          NaN\n",
       "T      0.0   0.0   0.0   0.0     0.0   0.0   0.0      0.0     0.0     5.536685"
      ]
     },
     "execution_count": 21,
     "metadata": {},
     "output_type": "execute_result"
    }
   ],
   "source": [
    "# Station 1\n",
    "check_stat1.loc[['M', '-', 'T']]/(len(weather)) * 100"
   ]
  },
  {
   "cell_type": "code",
   "execution_count": 22,
   "metadata": {
    "collapsed": false
   },
   "outputs": [
    {
     "data": {
      "text/html": [
       "<div>\n",
       "<table border=\"1\" class=\"dataframe\">\n",
       "  <thead>\n",
       "    <tr style=\"text-align: right;\">\n",
       "      <th></th>\n",
       "      <th>Station</th>\n",
       "      <th>Tmax</th>\n",
       "      <th>Tmin</th>\n",
       "      <th>Tavg</th>\n",
       "      <th>Depart</th>\n",
       "      <th>Heat</th>\n",
       "      <th>Cool</th>\n",
       "      <th>Sunrise</th>\n",
       "      <th>Sunset</th>\n",
       "      <th>PrecipTotal</th>\n",
       "    </tr>\n",
       "  </thead>\n",
       "  <tbody>\n",
       "    <tr>\n",
       "      <th>M</th>\n",
       "      <td>0.0</td>\n",
       "      <td>0.0</td>\n",
       "      <td>0.0</td>\n",
       "      <td>0.373641</td>\n",
       "      <td>50.0</td>\n",
       "      <td>0.373641</td>\n",
       "      <td>0.373641</td>\n",
       "      <td>0.0</td>\n",
       "      <td>0.0</td>\n",
       "      <td>0.067935</td>\n",
       "    </tr>\n",
       "    <tr>\n",
       "      <th>-</th>\n",
       "      <td>0.0</td>\n",
       "      <td>0.0</td>\n",
       "      <td>0.0</td>\n",
       "      <td>0.000000</td>\n",
       "      <td>0.0</td>\n",
       "      <td>0.000000</td>\n",
       "      <td>0.000000</td>\n",
       "      <td>50.0</td>\n",
       "      <td>50.0</td>\n",
       "      <td>0.000000</td>\n",
       "    </tr>\n",
       "    <tr>\n",
       "      <th>T</th>\n",
       "      <td>0.0</td>\n",
       "      <td>0.0</td>\n",
       "      <td>0.0</td>\n",
       "      <td>0.000000</td>\n",
       "      <td>0.0</td>\n",
       "      <td>0.000000</td>\n",
       "      <td>0.000000</td>\n",
       "      <td>0.0</td>\n",
       "      <td>0.0</td>\n",
       "      <td>5.264946</td>\n",
       "    </tr>\n",
       "  </tbody>\n",
       "</table>\n",
       "</div>"
      ],
      "text/plain": [
       "   Station  Tmax  Tmin      Tavg  Depart      Heat      Cool  Sunrise  Sunset  \\\n",
       "M      0.0   0.0   0.0  0.373641    50.0  0.373641  0.373641      0.0     0.0   \n",
       "-      0.0   0.0   0.0  0.000000     0.0  0.000000  0.000000     50.0    50.0   \n",
       "T      0.0   0.0   0.0  0.000000     0.0  0.000000  0.000000      0.0     0.0   \n",
       "\n",
       "   PrecipTotal  \n",
       "M     0.067935  \n",
       "-     0.000000  \n",
       "T     5.264946  "
      ]
     },
     "execution_count": 22,
     "metadata": {},
     "output_type": "execute_result"
    }
   ],
   "source": [
    "# Station 2()\n",
    "check_stat2.loc[['M', '-', 'T']]/(len(weather)) * 100"
   ]
  },
  {
   "cell_type": "code",
   "execution_count": 23,
   "metadata": {
    "collapsed": true
   },
   "outputs": [],
   "source": [
    "# reaplace M and - with NaN, impute T\n",
    "weather = weather.replace('M', np.NaN)\n",
    "weather = weather.replace('-', np.NaN)\n",
    "weather = weather.replace('T', 0.005) # very small amounts of rain can impact mosquito hatches\n",
    "\n",
    "# forward fill missing station 2 data with station 1 data\n",
    "weather.Tmax = weather.Tmax.fillna(method = 'ffill')\n",
    "weather.Tmin = weather.Tmin.fillna(method = 'ffill')\n",
    "weather.Depart = weather.Depart.fillna(method = 'ffill')\n",
    "weather.Heat = weather.Heat.fillna(method = 'ffill')\n",
    "weather.Cool = weather.Cool.fillna(method = 'ffill')\n",
    "weather.PrecipTotal = weather.PrecipTotal.fillna(method = 'ffill')"
   ]
  },
  {
   "cell_type": "code",
   "execution_count": 24,
   "metadata": {
    "collapsed": true
   },
   "outputs": [],
   "source": [
    "# convert datatpypes\n",
    "\n",
    "to_numeric = ['Tmax','Tmin','Tavg', 'Depart', 'Heat', 'Cool', 'PrecipTotal']\n",
    "\n",
    "for col in to_numeric:\n",
    "    weather[col]= pd.to_numeric(weather[col])"
   ]
  },
  {
   "cell_type": "code",
   "execution_count": 25,
   "metadata": {
    "collapsed": true
   },
   "outputs": [],
   "source": [
    "# forward fill station 2 sunrise and sunset data with station 1 data\n",
    "weather.Sunrise = weather.Sunrise.fillna(method = 'ffill')\n",
    "weather.Sunset = weather.Sunset.fillna(method = 'ffill')"
   ]
  },
  {
   "cell_type": "code",
   "execution_count": 26,
   "metadata": {
    "collapsed": false
   },
   "outputs": [
    {
     "name": "stdout",
     "output_type": "stream",
     "text": [
      "(2925, '1660', '60', 48)\n"
     ]
    }
   ],
   "source": [
    "# sunset has entries where instead of incrementing to the next hour after xx59 it incremented to xx60\n",
    "# This causes an exception, let's take a look\n",
    "counter = 0\n",
    "tracker = []\n",
    "for index, val in enumerate(weather.Sunset):\n",
    "    try:\n",
    "        pd.to_datetime(val, format = '%H%M').time()\n",
    "    except:\n",
    "        counter += 1\n",
    "        tracker.append((index, val, val[2:], counter))\n",
    "\n",
    "print(tracker[-1])\n",
    "\n",
    "# there are 48 exceptions"
   ]
  },
  {
   "cell_type": "code",
   "execution_count": 27,
   "metadata": {
    "collapsed": true
   },
   "outputs": [],
   "source": [
    "# let's deal with this by decrmenting by 1 for each invalid instance\n",
    "weather.Sunset = weather.Sunset.replace('\\+?60', '59', regex = True)\n",
    "\n",
    "# time conversion lambda function\n",
    "time_func = lambda x: pd.Timestamp(pd.to_datetime(x, format = '%H%M'))\n",
    "\n",
    "weather.Sunrise = weather.Sunrise.apply(time_func)\n",
    "\n",
    "weather.Sunset = weather.Sunset.apply(time_func)"
   ]
  },
  {
   "cell_type": "code",
   "execution_count": 28,
   "metadata": {
    "collapsed": true
   },
   "outputs": [],
   "source": [
    "# what is the range of values for sunrise and sunset (in hours)\n",
    "minutes= (weather.Sunset - weather.Sunrise).astype('timedelta64[m]')\n",
    "\n",
    "hours = minutes/60"
   ]
  },
  {
   "cell_type": "code",
   "execution_count": 29,
   "metadata": {
    "collapsed": false
   },
   "outputs": [
    {
     "data": {
      "text/plain": [
       "{10.0, 11.0, 12.0, 13.0, 14.0, 15.0}"
      ]
     },
     "execution_count": 29,
     "metadata": {},
     "output_type": "execute_result"
    }
   ],
   "source": [
    "set(np.round(hours.values))"
   ]
  },
  {
   "cell_type": "code",
   "execution_count": 30,
   "metadata": {
    "collapsed": true
   },
   "outputs": [],
   "source": [
    "#create a DayLength column with minute level precsion\n",
    "weather['DayLength_MPrec'] = (weather.Sunset - weather.Sunrise).astype('timedelta64[m]')/60\n",
    "\n",
    "#create a DayLength column with rounded to the nearest hour\n",
    "weather['DayLength_NearH'] = np.round(((weather.Sunset - weather.Sunrise).astype('timedelta64[m]')/60).values)\n",
    "\n",
    "# length of night with minute level precision\n",
    "weather['NightLength_MPrec']= 24.0 - weather.DayLength_MPrec\n",
    "\n",
    "# length of night rounded to nearest hour\n",
    "weather['NightLength_NearH']= 24.0 - weather.DayLength_NearH"
   ]
  },
  {
   "cell_type": "code",
   "execution_count": 31,
   "metadata": {
    "collapsed": true
   },
   "outputs": [],
   "source": [
    "# function to calculate sunset and sunrise times in hours\n",
    "hours_RiseSet_func = lambda x: x.minute/60.0 + float(x.hour)\n",
    "\n",
    "# sunrise in hours\n",
    "weather['Sunrise_hours'] = weather.Sunrise.apply(hours_RiseSet_func)\n",
    "\n",
    "# sunset in hours\n",
    "weather['Sunset_hours'] = weather.Sunset.apply(hours_RiseSet_func)"
   ]
  },
  {
   "cell_type": "code",
   "execution_count": 32,
   "metadata": {
    "collapsed": false
   },
   "outputs": [],
   "source": [
    "# create columns that blend (use the mean) of station 1 and 2 values\n",
    "mean_func = lambda x: x.mean()\n",
    "\n",
    "blend_cols = ['Tmax', 'Tmin', 'Depart' ,'Heat', 'Cool', 'PrecipTotal']\n",
    "\n",
    "blended_cols= ['blended_' + col for col in blend_cols]\n",
    "\n",
    "# split\n",
    "station_1 = weather[blend_cols][weather.Station == '1']\n",
    "station_2 = weather[blend_cols][weather.Station == '2']\n",
    "\n",
    "station_blend = pd.DataFrame((station_1.values + station_2.values)/2, columns= blended_cols)\n",
    "\n",
    "# apply\n",
    "extract_2 = weather[weather.Station == '2'].reset_index(drop = True)\n",
    "extract_1 = weather[weather.Station == '1'].reset_index(drop = True)\n",
    "\n",
    "\n",
    "\n",
    "# combine\n",
    "joined_1 = extract_1.join(station_blend)\n",
    "joined_2 = extract_2.join(station_blend)\n",
    "\n",
    "weather_blend = pd.concat([joined_1, joined_2])"
   ]
  },
  {
   "cell_type": "code",
   "execution_count": 33,
   "metadata": {
    "collapsed": false
   },
   "outputs": [
    {
     "name": "stdout",
     "output_type": "stream",
     "text": [
      "<class 'pandas.core.frame.DataFrame'>\n",
      "Int64Index: 2944 entries, 0 to 1471\n",
      "Data columns (total 23 columns):\n",
      "Station                2944 non-null object\n",
      "Date                   2944 non-null datetime64[ns]\n",
      "Tmax                   2944 non-null int64\n",
      "Tmin                   2944 non-null int64\n",
      "Tavg                   2933 non-null float64\n",
      "Depart                 2944 non-null int64\n",
      "Heat                   2944 non-null int64\n",
      "Cool                   2944 non-null int64\n",
      "Sunrise                2944 non-null datetime64[ns]\n",
      "Sunset                 2944 non-null datetime64[ns]\n",
      "PrecipTotal            2944 non-null float64\n",
      "DayLength_MPrec        2944 non-null float64\n",
      "DayLength_NearH        2944 non-null float64\n",
      "NightLength_MPrec      2944 non-null float64\n",
      "NightLength_NearH      2944 non-null float64\n",
      "Sunrise_hours          2944 non-null float64\n",
      "Sunset_hours           2944 non-null float64\n",
      "blended_Tmax           2944 non-null float64\n",
      "blended_Tmin           2944 non-null float64\n",
      "blended_Depart         2944 non-null float64\n",
      "blended_Heat           2944 non-null float64\n",
      "blended_Cool           2944 non-null float64\n",
      "blended_PrecipTotal    2944 non-null float64\n",
      "dtypes: datetime64[ns](3), float64(14), int64(5), object(1)\n",
      "memory usage: 552.0+ KB\n"
     ]
    }
   ],
   "source": [
    "weather_blend.info()"
   ]
  },
  {
   "cell_type": "markdown",
   "metadata": {},
   "source": [
    "### Create Month and Day columns"
   ]
  },
  {
   "cell_type": "code",
   "execution_count": 34,
   "metadata": {
    "collapsed": true
   },
   "outputs": [],
   "source": [
    "month_func = lambda x: x.month\n",
    "day_func= lambda x: x.day\n",
    "day_of_year_func = lambda x: x.dayofyear\n",
    "week_of_year_func = lambda x: x.week\n",
    "\n",
    "# train\n",
    "train['month'] = train.Date.apply(month_func)\n",
    "train['day'] = train.Date.apply(day_func)\n",
    "train['day_of_year'] = train.Date.apply(day_of_year_func)\n",
    "train['week'] = train.Date.apply(week_of_year_func)\n",
    "\n",
    "# test\n",
    "test['month'] = test.Date.apply(month_func)\n",
    "test['day'] = test.Date.apply(day_func)\n",
    "test['day_of_year'] = test.Date.apply(day_of_year_func)\n",
    "test['week'] = test.Date.apply(week_of_year_func)"
   ]
  },
  {
   "cell_type": "code",
   "execution_count": 35,
   "metadata": {
    "collapsed": false
   },
   "outputs": [
    {
     "data": {
      "text/html": [
       "<div>\n",
       "<table border=\"1\" class=\"dataframe\">\n",
       "  <thead>\n",
       "    <tr style=\"text-align: right;\">\n",
       "      <th></th>\n",
       "      <th>Latitude</th>\n",
       "      <th>Longitude</th>\n",
       "      <th>WnvPresent</th>\n",
       "      <th>month</th>\n",
       "      <th>day</th>\n",
       "      <th>day_of_year</th>\n",
       "      <th>week</th>\n",
       "    </tr>\n",
       "  </thead>\n",
       "  <tbody>\n",
       "    <tr>\n",
       "      <th>count</th>\n",
       "      <td>10506.000000</td>\n",
       "      <td>10506.000000</td>\n",
       "      <td>10506.000000</td>\n",
       "      <td>10506.000000</td>\n",
       "      <td>10506.000000</td>\n",
       "      <td>10506.000000</td>\n",
       "      <td>10506.000000</td>\n",
       "    </tr>\n",
       "    <tr>\n",
       "      <th>mean</th>\n",
       "      <td>41.841139</td>\n",
       "      <td>-87.699908</td>\n",
       "      <td>0.052446</td>\n",
       "      <td>7.692557</td>\n",
       "      <td>15.341424</td>\n",
       "      <td>217.941938</td>\n",
       "      <td>31.687131</td>\n",
       "    </tr>\n",
       "    <tr>\n",
       "      <th>std</th>\n",
       "      <td>0.112742</td>\n",
       "      <td>0.096514</td>\n",
       "      <td>0.222936</td>\n",
       "      <td>1.067675</td>\n",
       "      <td>8.901205</td>\n",
       "      <td>31.735797</td>\n",
       "      <td>4.526874</td>\n",
       "    </tr>\n",
       "    <tr>\n",
       "      <th>min</th>\n",
       "      <td>41.644612</td>\n",
       "      <td>-87.930995</td>\n",
       "      <td>0.000000</td>\n",
       "      <td>5.000000</td>\n",
       "      <td>1.000000</td>\n",
       "      <td>148.000000</td>\n",
       "      <td>22.000000</td>\n",
       "    </tr>\n",
       "    <tr>\n",
       "      <th>25%</th>\n",
       "      <td>41.732984</td>\n",
       "      <td>-87.760070</td>\n",
       "      <td>0.000000</td>\n",
       "      <td>7.000000</td>\n",
       "      <td>7.000000</td>\n",
       "      <td>196.000000</td>\n",
       "      <td>28.000000</td>\n",
       "    </tr>\n",
       "    <tr>\n",
       "      <th>50%</th>\n",
       "      <td>41.846283</td>\n",
       "      <td>-87.694991</td>\n",
       "      <td>0.000000</td>\n",
       "      <td>8.000000</td>\n",
       "      <td>15.000000</td>\n",
       "      <td>217.000000</td>\n",
       "      <td>31.000000</td>\n",
       "    </tr>\n",
       "    <tr>\n",
       "      <th>75%</th>\n",
       "      <td>41.954690</td>\n",
       "      <td>-87.627796</td>\n",
       "      <td>0.000000</td>\n",
       "      <td>8.000000</td>\n",
       "      <td>24.000000</td>\n",
       "      <td>241.000000</td>\n",
       "      <td>35.000000</td>\n",
       "    </tr>\n",
       "    <tr>\n",
       "      <th>max</th>\n",
       "      <td>42.017430</td>\n",
       "      <td>-87.531635</td>\n",
       "      <td>1.000000</td>\n",
       "      <td>10.000000</td>\n",
       "      <td>31.000000</td>\n",
       "      <td>282.000000</td>\n",
       "      <td>41.000000</td>\n",
       "    </tr>\n",
       "  </tbody>\n",
       "</table>\n",
       "</div>"
      ],
      "text/plain": [
       "           Latitude     Longitude    WnvPresent         month           day  \\\n",
       "count  10506.000000  10506.000000  10506.000000  10506.000000  10506.000000   \n",
       "mean      41.841139    -87.699908      0.052446      7.692557     15.341424   \n",
       "std        0.112742      0.096514      0.222936      1.067675      8.901205   \n",
       "min       41.644612    -87.930995      0.000000      5.000000      1.000000   \n",
       "25%       41.732984    -87.760070      0.000000      7.000000      7.000000   \n",
       "50%       41.846283    -87.694991      0.000000      8.000000     15.000000   \n",
       "75%       41.954690    -87.627796      0.000000      8.000000     24.000000   \n",
       "max       42.017430    -87.531635      1.000000     10.000000     31.000000   \n",
       "\n",
       "        day_of_year          week  \n",
       "count  10506.000000  10506.000000  \n",
       "mean     217.941938     31.687131  \n",
       "std       31.735797      4.526874  \n",
       "min      148.000000     22.000000  \n",
       "25%      196.000000     28.000000  \n",
       "50%      217.000000     31.000000  \n",
       "75%      241.000000     35.000000  \n",
       "max      282.000000     41.000000  "
      ]
     },
     "execution_count": 35,
     "metadata": {},
     "output_type": "execute_result"
    }
   ],
   "source": [
    "train.describe()"
   ]
  },
  {
   "cell_type": "code",
   "execution_count": 36,
   "metadata": {
    "collapsed": false
   },
   "outputs": [
    {
     "data": {
      "text/html": [
       "<div>\n",
       "<table border=\"1\" class=\"dataframe\">\n",
       "  <thead>\n",
       "    <tr style=\"text-align: right;\">\n",
       "      <th></th>\n",
       "      <th>Latitude</th>\n",
       "      <th>Longitude</th>\n",
       "      <th>month</th>\n",
       "      <th>day</th>\n",
       "      <th>day_of_year</th>\n",
       "      <th>week</th>\n",
       "    </tr>\n",
       "  </thead>\n",
       "  <tbody>\n",
       "    <tr>\n",
       "      <th>count</th>\n",
       "      <td>116293.000000</td>\n",
       "      <td>116293.000000</td>\n",
       "      <td>116293.000000</td>\n",
       "      <td>116293.000000</td>\n",
       "      <td>116293.000000</td>\n",
       "      <td>116293.000000</td>\n",
       "    </tr>\n",
       "    <tr>\n",
       "      <th>mean</th>\n",
       "      <td>41.849389</td>\n",
       "      <td>-87.693658</td>\n",
       "      <td>7.620244</td>\n",
       "      <td>16.187681</td>\n",
       "      <td>217.057304</td>\n",
       "      <td>31.417833</td>\n",
       "    </tr>\n",
       "    <tr>\n",
       "      <th>std</th>\n",
       "      <td>0.106593</td>\n",
       "      <td>0.080699</td>\n",
       "      <td>1.065842</td>\n",
       "      <td>8.800007</td>\n",
       "      <td>32.536523</td>\n",
       "      <td>4.660725</td>\n",
       "    </tr>\n",
       "    <tr>\n",
       "      <th>min</th>\n",
       "      <td>41.644612</td>\n",
       "      <td>-87.930995</td>\n",
       "      <td>6.000000</td>\n",
       "      <td>1.000000</td>\n",
       "      <td>153.000000</td>\n",
       "      <td>22.000000</td>\n",
       "    </tr>\n",
       "    <tr>\n",
       "      <th>25%</th>\n",
       "      <td>41.753411</td>\n",
       "      <td>-87.750938</td>\n",
       "      <td>7.000000</td>\n",
       "      <td>10.000000</td>\n",
       "      <td>193.000000</td>\n",
       "      <td>28.000000</td>\n",
       "    </tr>\n",
       "    <tr>\n",
       "      <th>50%</th>\n",
       "      <td>41.862292</td>\n",
       "      <td>-87.694991</td>\n",
       "      <td>8.000000</td>\n",
       "      <td>17.000000</td>\n",
       "      <td>217.000000</td>\n",
       "      <td>31.000000</td>\n",
       "    </tr>\n",
       "    <tr>\n",
       "      <th>75%</th>\n",
       "      <td>41.951866</td>\n",
       "      <td>-87.648860</td>\n",
       "      <td>8.000000</td>\n",
       "      <td>24.000000</td>\n",
       "      <td>244.000000</td>\n",
       "      <td>35.000000</td>\n",
       "    </tr>\n",
       "    <tr>\n",
       "      <th>max</th>\n",
       "      <td>42.017430</td>\n",
       "      <td>-87.531635</td>\n",
       "      <td>10.000000</td>\n",
       "      <td>31.000000</td>\n",
       "      <td>275.000000</td>\n",
       "      <td>40.000000</td>\n",
       "    </tr>\n",
       "  </tbody>\n",
       "</table>\n",
       "</div>"
      ],
      "text/plain": [
       "            Latitude      Longitude          month            day  \\\n",
       "count  116293.000000  116293.000000  116293.000000  116293.000000   \n",
       "mean       41.849389     -87.693658       7.620244      16.187681   \n",
       "std         0.106593       0.080699       1.065842       8.800007   \n",
       "min        41.644612     -87.930995       6.000000       1.000000   \n",
       "25%        41.753411     -87.750938       7.000000      10.000000   \n",
       "50%        41.862292     -87.694991       8.000000      17.000000   \n",
       "75%        41.951866     -87.648860       8.000000      24.000000   \n",
       "max        42.017430     -87.531635      10.000000      31.000000   \n",
       "\n",
       "         day_of_year           week  \n",
       "count  116293.000000  116293.000000  \n",
       "mean      217.057304      31.417833  \n",
       "std        32.536523       4.660725  \n",
       "min       153.000000      22.000000  \n",
       "25%       193.000000      28.000000  \n",
       "50%       217.000000      31.000000  \n",
       "75%       244.000000      35.000000  \n",
       "max       275.000000      40.000000  "
      ]
     },
     "execution_count": 36,
     "metadata": {},
     "output_type": "execute_result"
    }
   ],
   "source": [
    "test.describe()"
   ]
  },
  {
   "cell_type": "code",
   "execution_count": 37,
   "metadata": {
    "collapsed": true
   },
   "outputs": [],
   "source": [
    "# remove sunrise and sunset since we have extracted critical information into other fields\n",
    "weather_blend = weather_blend.drop(['Sunrise', 'Sunset'], axis= 1)"
   ]
  },
  {
   "cell_type": "markdown",
   "metadata": {},
   "source": [
    "### Merge Data"
   ]
  },
  {
   "cell_type": "code",
   "execution_count": 38,
   "metadata": {
    "collapsed": true
   },
   "outputs": [],
   "source": [
    "train = train.merge(weather_blend, on='Date')\n",
    "test = test.merge(weather_blend, on='Date')"
   ]
  },
  {
   "cell_type": "markdown",
   "metadata": {},
   "source": [
    "### Inspect DFs"
   ]
  },
  {
   "cell_type": "code",
   "execution_count": 39,
   "metadata": {
    "collapsed": false
   },
   "outputs": [
    {
     "name": "stderr",
     "output_type": "stream",
     "text": [
      "C:\\Users\\Andrew\\Anaconda2\\lib\\site-packages\\numpy\\lib\\function_base.py:3834: RuntimeWarning: Invalid value encountered in percentile\n",
      "  RuntimeWarning)\n"
     ]
    },
    {
     "data": {
      "text/html": [
       "<div>\n",
       "<table border=\"1\" class=\"dataframe\">\n",
       "  <thead>\n",
       "    <tr style=\"text-align: right;\">\n",
       "      <th></th>\n",
       "      <th>Tmax</th>\n",
       "      <th>Tmin</th>\n",
       "      <th>Tavg</th>\n",
       "      <th>Depart</th>\n",
       "      <th>Heat</th>\n",
       "      <th>Cool</th>\n",
       "      <th>PrecipTotal</th>\n",
       "      <th>DayLength_MPrec</th>\n",
       "      <th>DayLength_NearH</th>\n",
       "      <th>NightLength_MPrec</th>\n",
       "    </tr>\n",
       "  </thead>\n",
       "  <tbody>\n",
       "    <tr>\n",
       "      <th>count</th>\n",
       "      <td>2944.000000</td>\n",
       "      <td>2944.000000</td>\n",
       "      <td>2933.000000</td>\n",
       "      <td>2944.000000</td>\n",
       "      <td>2944.000000</td>\n",
       "      <td>2944.000000</td>\n",
       "      <td>2944.000000</td>\n",
       "      <td>2944.000000</td>\n",
       "      <td>2944.000000</td>\n",
       "      <td>2944.000000</td>\n",
       "    </tr>\n",
       "    <tr>\n",
       "      <th>mean</th>\n",
       "      <td>76.166101</td>\n",
       "      <td>57.810462</td>\n",
       "      <td>67.240027</td>\n",
       "      <td>1.954484</td>\n",
       "      <td>3.417799</td>\n",
       "      <td>5.641304</td>\n",
       "      <td>0.131780</td>\n",
       "      <td>13.669384</td>\n",
       "      <td>13.646739</td>\n",
       "      <td>10.330616</td>\n",
       "    </tr>\n",
       "    <tr>\n",
       "      <th>std</th>\n",
       "      <td>11.461970</td>\n",
       "      <td>10.381939</td>\n",
       "      <td>10.545442</td>\n",
       "      <td>6.839947</td>\n",
       "      <td>5.955153</td>\n",
       "      <td>6.104849</td>\n",
       "      <td>0.393031</td>\n",
       "      <td>1.489822</td>\n",
       "      <td>1.485758</td>\n",
       "      <td>1.489822</td>\n",
       "    </tr>\n",
       "    <tr>\n",
       "      <th>min</th>\n",
       "      <td>41.000000</td>\n",
       "      <td>29.000000</td>\n",
       "      <td>36.000000</td>\n",
       "      <td>-17.000000</td>\n",
       "      <td>0.000000</td>\n",
       "      <td>0.000000</td>\n",
       "      <td>0.000000</td>\n",
       "      <td>10.400000</td>\n",
       "      <td>10.000000</td>\n",
       "      <td>8.766667</td>\n",
       "    </tr>\n",
       "    <tr>\n",
       "      <th>25%</th>\n",
       "      <td>69.000000</td>\n",
       "      <td>50.000000</td>\n",
       "      <td>NaN</td>\n",
       "      <td>-3.000000</td>\n",
       "      <td>0.000000</td>\n",
       "      <td>0.000000</td>\n",
       "      <td>0.000000</td>\n",
       "      <td>12.512500</td>\n",
       "      <td>12.750000</td>\n",
       "      <td>9.045833</td>\n",
       "    </tr>\n",
       "    <tr>\n",
       "      <th>50%</th>\n",
       "      <td>78.000000</td>\n",
       "      <td>59.000000</td>\n",
       "      <td>NaN</td>\n",
       "      <td>2.000000</td>\n",
       "      <td>0.000000</td>\n",
       "      <td>4.000000</td>\n",
       "      <td>0.000000</td>\n",
       "      <td>14.233333</td>\n",
       "      <td>14.000000</td>\n",
       "      <td>9.766667</td>\n",
       "    </tr>\n",
       "    <tr>\n",
       "      <th>75%</th>\n",
       "      <td>85.000000</td>\n",
       "      <td>66.000000</td>\n",
       "      <td>NaN</td>\n",
       "      <td>7.000000</td>\n",
       "      <td>5.000000</td>\n",
       "      <td>10.000000</td>\n",
       "      <td>0.060000</td>\n",
       "      <td>14.954167</td>\n",
       "      <td>15.000000</td>\n",
       "      <td>11.487500</td>\n",
       "    </tr>\n",
       "    <tr>\n",
       "      <th>max</th>\n",
       "      <td>104.000000</td>\n",
       "      <td>83.000000</td>\n",
       "      <td>94.000000</td>\n",
       "      <td>23.000000</td>\n",
       "      <td>29.000000</td>\n",
       "      <td>29.000000</td>\n",
       "      <td>6.860000</td>\n",
       "      <td>15.233333</td>\n",
       "      <td>15.000000</td>\n",
       "      <td>13.600000</td>\n",
       "    </tr>\n",
       "  </tbody>\n",
       "</table>\n",
       "</div>"
      ],
      "text/plain": [
       "              Tmax         Tmin         Tavg       Depart         Heat  \\\n",
       "count  2944.000000  2944.000000  2933.000000  2944.000000  2944.000000   \n",
       "mean     76.166101    57.810462    67.240027     1.954484     3.417799   \n",
       "std      11.461970    10.381939    10.545442     6.839947     5.955153   \n",
       "min      41.000000    29.000000    36.000000   -17.000000     0.000000   \n",
       "25%      69.000000    50.000000          NaN    -3.000000     0.000000   \n",
       "50%      78.000000    59.000000          NaN     2.000000     0.000000   \n",
       "75%      85.000000    66.000000          NaN     7.000000     5.000000   \n",
       "max     104.000000    83.000000    94.000000    23.000000    29.000000   \n",
       "\n",
       "              Cool  PrecipTotal  DayLength_MPrec  DayLength_NearH  \\\n",
       "count  2944.000000  2944.000000      2944.000000      2944.000000   \n",
       "mean      5.641304     0.131780        13.669384        13.646739   \n",
       "std       6.104849     0.393031         1.489822         1.485758   \n",
       "min       0.000000     0.000000        10.400000        10.000000   \n",
       "25%       0.000000     0.000000        12.512500        12.750000   \n",
       "50%       4.000000     0.000000        14.233333        14.000000   \n",
       "75%      10.000000     0.060000        14.954167        15.000000   \n",
       "max      29.000000     6.860000        15.233333        15.000000   \n",
       "\n",
       "       NightLength_MPrec  \n",
       "count        2944.000000  \n",
       "mean           10.330616  \n",
       "std             1.489822  \n",
       "min             8.766667  \n",
       "25%             9.045833  \n",
       "50%             9.766667  \n",
       "75%            11.487500  \n",
       "max            13.600000  "
      ]
     },
     "execution_count": 39,
     "metadata": {},
     "output_type": "execute_result"
    }
   ],
   "source": [
    "weather_blend.ix[:,:12].describe()"
   ]
  },
  {
   "cell_type": "code",
   "execution_count": 40,
   "metadata": {
    "collapsed": false
   },
   "outputs": [
    {
     "data": {
      "text/html": [
       "<div>\n",
       "<table border=\"1\" class=\"dataframe\">\n",
       "  <thead>\n",
       "    <tr style=\"text-align: right;\">\n",
       "      <th></th>\n",
       "      <th>NightLength_NearH</th>\n",
       "      <th>Sunrise_hours</th>\n",
       "      <th>Sunset_hours</th>\n",
       "      <th>blended_Tmax</th>\n",
       "      <th>blended_Tmin</th>\n",
       "      <th>blended_Depart</th>\n",
       "      <th>blended_Heat</th>\n",
       "      <th>blended_Cool</th>\n",
       "      <th>blended_PrecipTotal</th>\n",
       "    </tr>\n",
       "  </thead>\n",
       "  <tbody>\n",
       "    <tr>\n",
       "      <th>count</th>\n",
       "      <td>2944.000000</td>\n",
       "      <td>2944.000000</td>\n",
       "      <td>2944.000000</td>\n",
       "      <td>2944.000000</td>\n",
       "      <td>2944.000000</td>\n",
       "      <td>2944.000000</td>\n",
       "      <td>2944.000000</td>\n",
       "      <td>2944.000000</td>\n",
       "      <td>2944.00000</td>\n",
       "    </tr>\n",
       "    <tr>\n",
       "      <th>mean</th>\n",
       "      <td>10.353261</td>\n",
       "      <td>4.992663</td>\n",
       "      <td>18.662047</td>\n",
       "      <td>76.166101</td>\n",
       "      <td>57.810462</td>\n",
       "      <td>1.954484</td>\n",
       "      <td>3.417799</td>\n",
       "      <td>5.641304</td>\n",
       "      <td>0.13178</td>\n",
       "    </tr>\n",
       "    <tr>\n",
       "      <th>std</th>\n",
       "      <td>1.485758</td>\n",
       "      <td>0.651771</td>\n",
       "      <td>0.843787</td>\n",
       "      <td>11.422764</td>\n",
       "      <td>10.268370</td>\n",
       "      <td>6.839947</td>\n",
       "      <td>5.932802</td>\n",
       "      <td>6.061981</td>\n",
       "      <td>0.35829</td>\n",
       "    </tr>\n",
       "    <tr>\n",
       "      <th>min</th>\n",
       "      <td>9.000000</td>\n",
       "      <td>4.266667</td>\n",
       "      <td>16.783333</td>\n",
       "      <td>41.500000</td>\n",
       "      <td>29.000000</td>\n",
       "      <td>-17.000000</td>\n",
       "      <td>0.000000</td>\n",
       "      <td>0.000000</td>\n",
       "      <td>0.00000</td>\n",
       "    </tr>\n",
       "    <tr>\n",
       "      <th>25%</th>\n",
       "      <td>9.000000</td>\n",
       "      <td>4.412500</td>\n",
       "      <td>18.033333</td>\n",
       "      <td>68.500000</td>\n",
       "      <td>50.500000</td>\n",
       "      <td>-3.000000</td>\n",
       "      <td>0.000000</td>\n",
       "      <td>0.000000</td>\n",
       "      <td>0.00000</td>\n",
       "    </tr>\n",
       "    <tr>\n",
       "      <th>50%</th>\n",
       "      <td>10.000000</td>\n",
       "      <td>4.775000</td>\n",
       "      <td>18.983333</td>\n",
       "      <td>78.500000</td>\n",
       "      <td>59.500000</td>\n",
       "      <td>2.000000</td>\n",
       "      <td>0.000000</td>\n",
       "      <td>4.000000</td>\n",
       "      <td>0.00250</td>\n",
       "    </tr>\n",
       "    <tr>\n",
       "      <th>75%</th>\n",
       "      <td>11.250000</td>\n",
       "      <td>5.520833</td>\n",
       "      <td>19.370833</td>\n",
       "      <td>84.500000</td>\n",
       "      <td>65.500000</td>\n",
       "      <td>7.000000</td>\n",
       "      <td>4.500000</td>\n",
       "      <td>10.500000</td>\n",
       "      <td>0.08000</td>\n",
       "    </tr>\n",
       "    <tr>\n",
       "      <th>max</th>\n",
       "      <td>14.000000</td>\n",
       "      <td>6.383333</td>\n",
       "      <td>19.516667</td>\n",
       "      <td>103.500000</td>\n",
       "      <td>82.500000</td>\n",
       "      <td>23.000000</td>\n",
       "      <td>29.000000</td>\n",
       "      <td>28.500000</td>\n",
       "      <td>4.85500</td>\n",
       "    </tr>\n",
       "  </tbody>\n",
       "</table>\n",
       "</div>"
      ],
      "text/plain": [
       "       NightLength_NearH  Sunrise_hours  Sunset_hours  blended_Tmax  \\\n",
       "count        2944.000000    2944.000000   2944.000000   2944.000000   \n",
       "mean           10.353261       4.992663     18.662047     76.166101   \n",
       "std             1.485758       0.651771      0.843787     11.422764   \n",
       "min             9.000000       4.266667     16.783333     41.500000   \n",
       "25%             9.000000       4.412500     18.033333     68.500000   \n",
       "50%            10.000000       4.775000     18.983333     78.500000   \n",
       "75%            11.250000       5.520833     19.370833     84.500000   \n",
       "max            14.000000       6.383333     19.516667    103.500000   \n",
       "\n",
       "       blended_Tmin  blended_Depart  blended_Heat  blended_Cool  \\\n",
       "count   2944.000000     2944.000000   2944.000000   2944.000000   \n",
       "mean      57.810462        1.954484      3.417799      5.641304   \n",
       "std       10.268370        6.839947      5.932802      6.061981   \n",
       "min       29.000000      -17.000000      0.000000      0.000000   \n",
       "25%       50.500000       -3.000000      0.000000      0.000000   \n",
       "50%       59.500000        2.000000      0.000000      4.000000   \n",
       "75%       65.500000        7.000000      4.500000     10.500000   \n",
       "max       82.500000       23.000000     29.000000     28.500000   \n",
       "\n",
       "       blended_PrecipTotal  \n",
       "count           2944.00000  \n",
       "mean               0.13178  \n",
       "std                0.35829  \n",
       "min                0.00000  \n",
       "25%                0.00000  \n",
       "50%                0.00250  \n",
       "75%                0.08000  \n",
       "max                4.85500  "
      ]
     },
     "execution_count": 40,
     "metadata": {},
     "output_type": "execute_result"
    }
   ],
   "source": [
    "weather_blend.ix[:,12:].describe()"
   ]
  },
  {
   "cell_type": "code",
   "execution_count": 41,
   "metadata": {
    "collapsed": false
   },
   "outputs": [
    {
     "data": {
      "text/html": [
       "<div>\n",
       "<table border=\"1\" class=\"dataframe\">\n",
       "  <thead>\n",
       "    <tr style=\"text-align: right;\">\n",
       "      <th></th>\n",
       "      <th>Latitude</th>\n",
       "      <th>Longitude</th>\n",
       "      <th>WnvPresent</th>\n",
       "      <th>month</th>\n",
       "      <th>day</th>\n",
       "      <th>day_of_year</th>\n",
       "      <th>week</th>\n",
       "      <th>Tmax</th>\n",
       "      <th>Tmin</th>\n",
       "      <th>Tavg</th>\n",
       "      <th>...</th>\n",
       "      <th>NightLength_MPrec</th>\n",
       "      <th>NightLength_NearH</th>\n",
       "      <th>Sunrise_hours</th>\n",
       "      <th>Sunset_hours</th>\n",
       "      <th>blended_Tmax</th>\n",
       "      <th>blended_Tmin</th>\n",
       "      <th>blended_Depart</th>\n",
       "      <th>blended_Heat</th>\n",
       "      <th>blended_Cool</th>\n",
       "      <th>blended_PrecipTotal</th>\n",
       "    </tr>\n",
       "  </thead>\n",
       "  <tbody>\n",
       "    <tr>\n",
       "      <th>count</th>\n",
       "      <td>21012.000000</td>\n",
       "      <td>21012.000000</td>\n",
       "      <td>21012.000000</td>\n",
       "      <td>21012.000000</td>\n",
       "      <td>21012.000000</td>\n",
       "      <td>21012.000000</td>\n",
       "      <td>21012.000000</td>\n",
       "      <td>21012.000000</td>\n",
       "      <td>21012.000000</td>\n",
       "      <td>21012.000000</td>\n",
       "      <td>...</td>\n",
       "      <td>21012.000000</td>\n",
       "      <td>21012.000000</td>\n",
       "      <td>21012.000000</td>\n",
       "      <td>21012.000000</td>\n",
       "      <td>21012.000000</td>\n",
       "      <td>21012.000000</td>\n",
       "      <td>21012.000000</td>\n",
       "      <td>21012.000000</td>\n",
       "      <td>21012.000000</td>\n",
       "      <td>21012.000000</td>\n",
       "    </tr>\n",
       "    <tr>\n",
       "      <th>mean</th>\n",
       "      <td>41.841139</td>\n",
       "      <td>-87.699908</td>\n",
       "      <td>0.052446</td>\n",
       "      <td>7.692557</td>\n",
       "      <td>15.341424</td>\n",
       "      <td>217.941938</td>\n",
       "      <td>31.687131</td>\n",
       "      <td>81.917095</td>\n",
       "      <td>63.647202</td>\n",
       "      <td>73.022463</td>\n",
       "      <td>...</td>\n",
       "      <td>9.993359</td>\n",
       "      <td>10.031696</td>\n",
       "      <td>4.890621</td>\n",
       "      <td>18.897262</td>\n",
       "      <td>81.917095</td>\n",
       "      <td>63.647202</td>\n",
       "      <td>2.740244</td>\n",
       "      <td>0.886208</td>\n",
       "      <td>8.908671</td>\n",
       "      <td>0.146082</td>\n",
       "    </tr>\n",
       "    <tr>\n",
       "      <th>std</th>\n",
       "      <td>0.112739</td>\n",
       "      <td>0.096512</td>\n",
       "      <td>0.222930</td>\n",
       "      <td>1.067649</td>\n",
       "      <td>8.900993</td>\n",
       "      <td>31.735042</td>\n",
       "      <td>4.526766</td>\n",
       "      <td>8.290251</td>\n",
       "      <td>7.593949</td>\n",
       "      <td>7.501455</td>\n",
       "      <td>...</td>\n",
       "      <td>1.048358</td>\n",
       "      <td>1.047465</td>\n",
       "      <td>0.463813</td>\n",
       "      <td>0.589987</td>\n",
       "      <td>8.272521</td>\n",
       "      <td>7.486933</td>\n",
       "      <td>6.486313</td>\n",
       "      <td>2.697339</td>\n",
       "      <td>5.712594</td>\n",
       "      <td>0.323131</td>\n",
       "    </tr>\n",
       "    <tr>\n",
       "      <th>min</th>\n",
       "      <td>41.644612</td>\n",
       "      <td>-87.930995</td>\n",
       "      <td>0.000000</td>\n",
       "      <td>5.000000</td>\n",
       "      <td>1.000000</td>\n",
       "      <td>148.000000</td>\n",
       "      <td>22.000000</td>\n",
       "      <td>57.000000</td>\n",
       "      <td>41.000000</td>\n",
       "      <td>50.000000</td>\n",
       "      <td>...</td>\n",
       "      <td>8.766667</td>\n",
       "      <td>9.000000</td>\n",
       "      <td>4.266667</td>\n",
       "      <td>17.333333</td>\n",
       "      <td>57.500000</td>\n",
       "      <td>42.500000</td>\n",
       "      <td>-12.000000</td>\n",
       "      <td>0.000000</td>\n",
       "      <td>0.000000</td>\n",
       "      <td>0.000000</td>\n",
       "    </tr>\n",
       "    <tr>\n",
       "      <th>25%</th>\n",
       "      <td>41.732984</td>\n",
       "      <td>-87.760070</td>\n",
       "      <td>0.000000</td>\n",
       "      <td>7.000000</td>\n",
       "      <td>7.000000</td>\n",
       "      <td>196.000000</td>\n",
       "      <td>28.000000</td>\n",
       "      <td>78.000000</td>\n",
       "      <td>59.000000</td>\n",
       "      <td>70.000000</td>\n",
       "      <td>...</td>\n",
       "      <td>9.050000</td>\n",
       "      <td>9.000000</td>\n",
       "      <td>4.483333</td>\n",
       "      <td>18.533333</td>\n",
       "      <td>78.000000</td>\n",
       "      <td>59.500000</td>\n",
       "      <td>-2.000000</td>\n",
       "      <td>0.000000</td>\n",
       "      <td>5.000000</td>\n",
       "      <td>0.000000</td>\n",
       "    </tr>\n",
       "    <tr>\n",
       "      <th>50%</th>\n",
       "      <td>41.846283</td>\n",
       "      <td>-87.694991</td>\n",
       "      <td>0.000000</td>\n",
       "      <td>8.000000</td>\n",
       "      <td>15.000000</td>\n",
       "      <td>217.000000</td>\n",
       "      <td>31.000000</td>\n",
       "      <td>83.000000</td>\n",
       "      <td>65.000000</td>\n",
       "      <td>75.000000</td>\n",
       "      <td>...</td>\n",
       "      <td>9.700000</td>\n",
       "      <td>10.000000</td>\n",
       "      <td>4.816667</td>\n",
       "      <td>19.116667</td>\n",
       "      <td>83.000000</td>\n",
       "      <td>65.500000</td>\n",
       "      <td>4.000000</td>\n",
       "      <td>0.000000</td>\n",
       "      <td>9.500000</td>\n",
       "      <td>0.000000</td>\n",
       "    </tr>\n",
       "    <tr>\n",
       "      <th>75%</th>\n",
       "      <td>41.954690</td>\n",
       "      <td>-87.627796</td>\n",
       "      <td>0.000000</td>\n",
       "      <td>8.000000</td>\n",
       "      <td>24.000000</td>\n",
       "      <td>241.000000</td>\n",
       "      <td>35.000000</td>\n",
       "      <td>88.000000</td>\n",
       "      <td>69.000000</td>\n",
       "      <td>79.000000</td>\n",
       "      <td>...</td>\n",
       "      <td>10.700000</td>\n",
       "      <td>11.000000</td>\n",
       "      <td>5.233333</td>\n",
       "      <td>19.400000</td>\n",
       "      <td>88.000000</td>\n",
       "      <td>69.500000</td>\n",
       "      <td>8.000000</td>\n",
       "      <td>0.000000</td>\n",
       "      <td>13.500000</td>\n",
       "      <td>0.130000</td>\n",
       "    </tr>\n",
       "    <tr>\n",
       "      <th>max</th>\n",
       "      <td>42.017430</td>\n",
       "      <td>-87.531635</td>\n",
       "      <td>1.000000</td>\n",
       "      <td>10.000000</td>\n",
       "      <td>31.000000</td>\n",
       "      <td>282.000000</td>\n",
       "      <td>41.000000</td>\n",
       "      <td>97.000000</td>\n",
       "      <td>79.000000</td>\n",
       "      <td>87.000000</td>\n",
       "      <td>...</td>\n",
       "      <td>12.616667</td>\n",
       "      <td>13.000000</td>\n",
       "      <td>5.950000</td>\n",
       "      <td>19.516667</td>\n",
       "      <td>96.500000</td>\n",
       "      <td>77.500000</td>\n",
       "      <td>18.000000</td>\n",
       "      <td>14.000000</td>\n",
       "      <td>20.500000</td>\n",
       "      <td>2.420000</td>\n",
       "    </tr>\n",
       "  </tbody>\n",
       "</table>\n",
       "<p>8 rows × 26 columns</p>\n",
       "</div>"
      ],
      "text/plain": [
       "           Latitude     Longitude    WnvPresent         month           day  \\\n",
       "count  21012.000000  21012.000000  21012.000000  21012.000000  21012.000000   \n",
       "mean      41.841139    -87.699908      0.052446      7.692557     15.341424   \n",
       "std        0.112739      0.096512      0.222930      1.067649      8.900993   \n",
       "min       41.644612    -87.930995      0.000000      5.000000      1.000000   \n",
       "25%       41.732984    -87.760070      0.000000      7.000000      7.000000   \n",
       "50%       41.846283    -87.694991      0.000000      8.000000     15.000000   \n",
       "75%       41.954690    -87.627796      0.000000      8.000000     24.000000   \n",
       "max       42.017430    -87.531635      1.000000     10.000000     31.000000   \n",
       "\n",
       "        day_of_year          week          Tmax          Tmin          Tavg  \\\n",
       "count  21012.000000  21012.000000  21012.000000  21012.000000  21012.000000   \n",
       "mean     217.941938     31.687131     81.917095     63.647202     73.022463   \n",
       "std       31.735042      4.526766      8.290251      7.593949      7.501455   \n",
       "min      148.000000     22.000000     57.000000     41.000000     50.000000   \n",
       "25%      196.000000     28.000000     78.000000     59.000000     70.000000   \n",
       "50%      217.000000     31.000000     83.000000     65.000000     75.000000   \n",
       "75%      241.000000     35.000000     88.000000     69.000000     79.000000   \n",
       "max      282.000000     41.000000     97.000000     79.000000     87.000000   \n",
       "\n",
       "              ...           NightLength_MPrec  NightLength_NearH  \\\n",
       "count         ...                21012.000000       21012.000000   \n",
       "mean          ...                    9.993359          10.031696   \n",
       "std           ...                    1.048358           1.047465   \n",
       "min           ...                    8.766667           9.000000   \n",
       "25%           ...                    9.050000           9.000000   \n",
       "50%           ...                    9.700000          10.000000   \n",
       "75%           ...                   10.700000          11.000000   \n",
       "max           ...                   12.616667          13.000000   \n",
       "\n",
       "       Sunrise_hours  Sunset_hours  blended_Tmax  blended_Tmin  \\\n",
       "count   21012.000000  21012.000000  21012.000000  21012.000000   \n",
       "mean        4.890621     18.897262     81.917095     63.647202   \n",
       "std         0.463813      0.589987      8.272521      7.486933   \n",
       "min         4.266667     17.333333     57.500000     42.500000   \n",
       "25%         4.483333     18.533333     78.000000     59.500000   \n",
       "50%         4.816667     19.116667     83.000000     65.500000   \n",
       "75%         5.233333     19.400000     88.000000     69.500000   \n",
       "max         5.950000     19.516667     96.500000     77.500000   \n",
       "\n",
       "       blended_Depart  blended_Heat  blended_Cool  blended_PrecipTotal  \n",
       "count    21012.000000  21012.000000  21012.000000         21012.000000  \n",
       "mean         2.740244      0.886208      8.908671             0.146082  \n",
       "std          6.486313      2.697339      5.712594             0.323131  \n",
       "min        -12.000000      0.000000      0.000000             0.000000  \n",
       "25%         -2.000000      0.000000      5.000000             0.000000  \n",
       "50%          4.000000      0.000000      9.500000             0.000000  \n",
       "75%          8.000000      0.000000     13.500000             0.130000  \n",
       "max         18.000000     14.000000     20.500000             2.420000  \n",
       "\n",
       "[8 rows x 26 columns]"
      ]
     },
     "execution_count": 41,
     "metadata": {},
     "output_type": "execute_result"
    }
   ],
   "source": [
    "train.describe()"
   ]
  },
  {
   "cell_type": "markdown",
   "metadata": {},
   "source": [
    "### Handle Weather Stations 1"
   ]
  },
  {
   "cell_type": "code",
   "execution_count": 42,
   "metadata": {
    "collapsed": true
   },
   "outputs": [],
   "source": [
    "# columns to write\n",
    "cols_to_write = [col for col in train.columns if col != 'Date'] # exclude 'Date'\n",
    "\n",
    "# split the data into two dataframes by station\n",
    "\n",
    "train_station_1= train[train.Station == '1']\n",
    "train_station_2= train[train.Station == '2']\n",
    "\n",
    "test_station_1= test[test.Station == '1']\n",
    "test_station_2= test[test.Station == '2']\n",
    "\n",
    "# epxort to csv for external use\n",
    "train_station_1.to_csv('train_station_1.csv')\n",
    "train_station_2.to_csv('train_station_2.csv')\n",
    "train.to_csv('train.csv')"
   ]
  },
  {
   "cell_type": "markdown",
   "metadata": {},
   "source": [
    "# Prepare Data Set for Model Building"
   ]
  },
  {
   "cell_type": "code",
   "execution_count": 43,
   "metadata": {
    "collapsed": true
   },
   "outputs": [],
   "source": [
    "# set up a merge for stations 1 and 2\n",
    "# keep unique cols from station 2\n",
    "keep_cols = ['Date', u'Tmax', u'Tmin', u'Tavg',u'PrecipTotal']\n",
    "train_station_2 = train_station_2[keep_cols]\n",
    "test_station_2 = test_station_2[keep_cols]\n",
    "\n",
    "# rename cols with prefix\n",
    "prefix_s2 = 'stat_2_'\n",
    "rename_cols_s2 = [prefix_s2 + col for col in train_station_2.columns]\n",
    "train_station_2.columns = rename_cols_s2\n",
    "test_station_2.columns = rename_cols_s2\n",
    "\n",
    "# drop cols from station 1 that won't be used in model\n",
    "drop_cols = ['Heat', 'Cool', 'Depart', 'NightLength_MPrec', 'NightLength_NearH',\n",
    "            'blended_Depart', 'blended_Heat', 'blended_Cool']\n",
    "\n",
    "train_station_1 = train_station_1.drop(drop_cols, axis= 1)\n",
    "test_station_1 = test_station_1.drop(drop_cols, axis= 1)   \n",
    "\n",
    "# raname uniqe station 1 columns\n",
    "prefix_s1 = 'stat_1_'\n",
    "rename_cols_s1 = [prefix_s1 + col for col in keep_cols]\n",
    "cols_to_rename= [col for col in train_station_1.columns if col in keep_cols]\n",
    "\n",
    "# setup name mapping\n",
    "s1_name_map = dict(zip(cols_to_rename, rename_cols_s1))\n",
    "\n",
    "train_station_1 = train_station_1.rename(columns= s1_name_map)\n",
    "test_station_1 = test_station_1.rename(columns= s1_name_map)\n",
    "\n",
    "# concat (outer join)\n",
    "train_station_1 =  train_station_1.reset_index(drop= True)\n",
    "train_station_2 = train_station_2.reset_index(drop = True)\n",
    "train_merge = pd.concat([train_station_1, train_station_2], axis= 1)\n",
    "\n",
    "test_station_1 =  test_station_1.reset_index(drop= True)\n",
    "test_station_2 = test_station_2.reset_index(drop = True)\n",
    "test_merge = pd.concat([test_station_1, test_station_2], axis= 1)"
   ]
  },
  {
   "cell_type": "markdown",
   "metadata": {},
   "source": [
    "### Create Dummies from Categorical Variables"
   ]
  },
  {
   "cell_type": "code",
   "execution_count": 44,
   "metadata": {
    "collapsed": false
   },
   "outputs": [
    {
     "data": {
      "text/plain": [
       "Index([        u'stat_1_Date',             u'Species',               u'Block',\n",
       "                    u'Street',                u'Trap',            u'Latitude',\n",
       "                 u'Longitude',          u'WnvPresent',               u'month',\n",
       "                       u'day',         u'day_of_year',                u'week',\n",
       "                   u'Station',         u'stat_1_Tmax',         u'stat_1_Tmin',\n",
       "               u'stat_1_Tavg',  u'stat_1_PrecipTotal',     u'DayLength_MPrec',\n",
       "           u'DayLength_NearH',       u'Sunrise_hours',        u'Sunset_hours',\n",
       "              u'blended_Tmax',        u'blended_Tmin', u'blended_PrecipTotal',\n",
       "               u'stat_2_Date',         u'stat_2_Tmax',         u'stat_2_Tmin',\n",
       "               u'stat_2_Tavg',  u'stat_2_PrecipTotal'],\n",
       "      dtype='object')"
      ]
     },
     "execution_count": 44,
     "metadata": {},
     "output_type": "execute_result"
    }
   ],
   "source": [
    "train_merge.columns"
   ]
  },
  {
   "cell_type": "code",
   "execution_count": 45,
   "metadata": {
    "collapsed": false
   },
   "outputs": [
    {
     "data": {
      "text/plain": [
       "Index([        u'stat_1_Date',             u'Species',               u'Block',\n",
       "                    u'Street',                u'Trap',            u'Latitude',\n",
       "                 u'Longitude',               u'month',                 u'day',\n",
       "               u'day_of_year',                u'week',             u'Station',\n",
       "               u'stat_1_Tmax',         u'stat_1_Tmin',         u'stat_1_Tavg',\n",
       "        u'stat_1_PrecipTotal',     u'DayLength_MPrec',     u'DayLength_NearH',\n",
       "             u'Sunrise_hours',        u'Sunset_hours',        u'blended_Tmax',\n",
       "              u'blended_Tmin', u'blended_PrecipTotal',         u'stat_2_Date',\n",
       "               u'stat_2_Tmax',         u'stat_2_Tmin',         u'stat_2_Tavg',\n",
       "        u'stat_2_PrecipTotal'],\n",
       "      dtype='object')"
      ]
     },
     "execution_count": 45,
     "metadata": {},
     "output_type": "execute_result"
    }
   ],
   "source": [
    "test_merge.columns"
   ]
  },
  {
   "cell_type": "code",
   "execution_count": 46,
   "metadata": {
    "collapsed": true
   },
   "outputs": [],
   "source": [
    "# get label\n",
    "labels = train_merge.pop('WnvPresent').values\n",
    "\n",
    "# remove dates\n",
    "train_merge = train_merge.drop(['stat_1_Date', 'stat_2_Date'], axis = 1)\n",
    "\n",
    "test_merge = test_merge.drop(['stat_1_Date', 'stat_2_Date' ], axis = 1)\n",
    "\n",
    "# Create dummies from the categorical species, block, trap, and streetname\n",
    "train_merge = pd.get_dummies(train_merge, columns= ['Species'])\n",
    "train_merge = pd.get_dummies(train_merge, columns= ['Block'])\n",
    "train_merge = pd.get_dummies(train_merge, columns= ['Street'])\n",
    "train_merge = pd.get_dummies(train_merge, columns= ['Trap'])\n",
    "\n",
    "test_merge = pd.get_dummies(test_merge, columns= ['Species'])\n",
    "test_merge = pd.get_dummies(test_merge, columns= ['Block'])\n",
    "test_merge = pd.get_dummies(test_merge, columns= ['Street'])\n",
    "test_merge = pd.get_dummies(test_merge, columns= ['Trap'])\n",
    "\n",
    "#train_merge= train_merge.drop(['Street', 'Trap', 'Station'], axis= 1)\n",
    "#test_merge= test_merge.drop(['Street', 'Trap', 'Station'], axis= 1)\n",
    "\n",
    "train_merge= train_merge.drop('Station', axis= 1)\n",
    "test_merge= test_merge.drop('Station', axis= 1)"
   ]
  },
  {
   "cell_type": "code",
   "execution_count": 47,
   "metadata": {
    "collapsed": true
   },
   "outputs": [],
   "source": [
    "#drops= ['Block', 'Street', 'Trap', 'Latitude', 'Longitude']\n",
    "\n",
    "#train_merge= train_merge.drop(drops, axis= 1)\n",
    "#test_merge= test_merge.drop(drops, axis= 1)"
   ]
  },
  {
   "cell_type": "code",
   "execution_count": 48,
   "metadata": {
    "collapsed": false
   },
   "outputs": [
    {
     "data": {
      "text/plain": [
       "356"
      ]
     },
     "execution_count": 48,
     "metadata": {},
     "output_type": "execute_result"
    }
   ],
   "source": [
    "len(train_merge.columns)"
   ]
  },
  {
   "cell_type": "code",
   "execution_count": 49,
   "metadata": {
    "collapsed": false
   },
   "outputs": [
    {
     "data": {
      "text/plain": [
       "382"
      ]
     },
     "execution_count": 49,
     "metadata": {},
     "output_type": "execute_result"
    }
   ],
   "source": [
    "len(test_merge.columns)"
   ]
  },
  {
   "cell_type": "code",
   "execution_count": 50,
   "metadata": {
    "collapsed": true
   },
   "outputs": [],
   "source": [
    "# we have a discrepancy so let's remove columns in the test set we have not information for\n",
    "unique_test_cols = [col for col in test_merge.columns if col not in train_merge.columns]\n",
    "\n",
    "test_merge= test_merge.drop(unique_test_cols, axis= 1)"
   ]
  },
  {
   "cell_type": "markdown",
   "metadata": {},
   "source": [
    "### Build some initial Models"
   ]
  },
  {
   "cell_type": "code",
   "execution_count": 51,
   "metadata": {
    "collapsed": false
   },
   "outputs": [],
   "source": [
    "# build a random forest model similiar to that used to beat benchmark in competition\n",
    "clf = ensemble.RandomForestClassifier(n_estimators=1000, min_samples_split= 2, random_state= 42)\n",
    "clf.fit(train_merge, labels)\n",
    "\n",
    "# create predictions and submission file\n",
    "predictions_randfor = clf.predict_proba(test_merge)[:,1]"
   ]
  },
  {
   "cell_type": "markdown",
   "metadata": {},
   "source": [
    "#### Outcome\n",
    "- AUC for Random forest models on private test data (private leaderboard) tends to fall in the range of 0.655 and of 0.687"
   ]
  },
  {
   "cell_type": "code",
   "execution_count": 52,
   "metadata": {
    "collapsed": false,
    "scrolled": false
   },
   "outputs": [
    {
     "data": {
      "text/plain": [
       "<matplotlib.axes._subplots.AxesSubplot at 0xc3441d0>"
      ]
     },
     "execution_count": 52,
     "metadata": {},
     "output_type": "execute_result"
    },
    {
     "data": {
      "image/png": "[encoded data removed]",
      "text/plain": [
       "<matplotlib.figure.Figure at 0xc344828>"
      ]
     },
     "metadata": {},
     "output_type": "display_data"
    }
   ],
   "source": [
    "# fit model no training data\n",
    "xgbc = xgb.XGBClassifier(seed= 42)\n",
    "xgbc.fit(train_merge, labels)\n",
    "# feature importance\n",
    "#print(xgb.feature_importances_)\n",
    "\n",
    "# plot feature importance with xgb class method\n",
    "fig, ax = pyplot.subplots(figsize=(10, 15))\n",
    "xgb.plot_importance(xgbc, ax=ax)"
   ]
  },
  {
   "cell_type": "markdown",
   "metadata": {},
   "source": [
    "## Sandbox Setup validation set from training set"
   ]
  },
  {
   "cell_type": "code",
   "execution_count": 53,
   "metadata": {
    "collapsed": true
   },
   "outputs": [],
   "source": [
    "def calc_roc_auc(y, predict_probs):\n",
    "    \n",
    "    \"\"\"\n",
    "    Function accepts labels (matrix y) and predicted probabilities\n",
    "    Function calculates fpr (false positive rate), tpr (true postivies rate), thresholds and auc (area under\n",
    "    the roc curve)\n",
    "    Function returns auc\n",
    "    \"\"\"\n",
    "    fpr, tpr, thresholds = metrics.roc_curve(y, predict_probs)\n",
    "    roc_auc = metrics.auc(fpr, tpr)\n",
    "    \n",
    "    return roc_auc"
   ]
  },
  {
   "cell_type": "code",
   "execution_count": 54,
   "metadata": {
    "collapsed": true
   },
   "outputs": [],
   "source": [
    "\n",
    "train_split, val_split, label_train_split, label_val_split = model_selection.train_test_split(train_merge, \n",
    "                                      labels, test_size = 0.33, random_state = 42, stratify= labels)"
   ]
  },
  {
   "cell_type": "code",
   "execution_count": 55,
   "metadata": {
    "collapsed": false
   },
   "outputs": [],
   "source": [
    "def select_features_by_importance_threshold(model, X_train, y_train, selection_model, X_test, y_test,\n",
    "                                           minimum = False):\n",
    "    \n",
    "    \"\"\"\n",
    "    Function accepts model and data dn breaksdow performance (AUC) by threshold and n-features\n",
    "    \"\"\"\n",
    "\n",
    "    # Fit model using each importance as a threshold\n",
    "    if minimum:\n",
    "        thresholds= np.unique(model.feature_importances_[model.feature_importances_ > minimum])\n",
    "        # include 0 for all features\n",
    "        thresholds = np.insert(thresholds, 0, 0.)\n",
    "    else:\n",
    "        thresholds= np.unique(model.feature_importances_)\n",
    "        \n",
    "    \n",
    "    print(thresholds)\n",
    "    for thresh in thresholds:\n",
    "\t    # select features using threshold\n",
    "        selection = feature_selection.SelectFromModel(model, threshold=thresh, prefit=True)\n",
    "        select_X_train = selection.transform(X_train)\n",
    "        # train model\n",
    "        selection_model = selection_model\n",
    "        selection_model.fit(select_X_train, y_train)\n",
    "        # eval model\n",
    "        select_X_test = selection.transform(X_test)\n",
    "        y_pred = selection_model.predict_proba(select_X_test)[:,1]\n",
    "        predictions = y_pred\n",
    "        #predictions = [round(value) for value in y_pred]\n",
    "        auc = calc_roc_auc(y_test, predictions)\n",
    "        print(\"Thresh=%.3f, n=%d, AUC: %.2f%%\" % (thresh, select_X_train.shape[1], auc))"
   ]
  },
  {
   "cell_type": "code",
   "execution_count": 56,
   "metadata": {
    "collapsed": false
   },
   "outputs": [
    {
     "name": "stdout",
     "output_type": "stream",
     "text": [
      "[ 0.          0.00173913  0.00347826  0.00521739  0.00695652  0.00869565\n",
      "  0.01043478  0.01217391  0.01565217  0.0226087   0.02434783  0.02782609\n",
      "  0.03130435  0.03304348  0.03478261  0.04869565  0.05043478  0.0626087\n",
      "  0.1373913   0.19652174]\n",
      "Thresh=0.000, n=356, AUC: 0.83%\n",
      "Thresh=0.002, n=56, AUC: 0.83%\n",
      "Thresh=0.003, n=48, AUC: 0.83%\n",
      "Thresh=0.005, n=38, AUC: 0.83%\n",
      "Thresh=0.007, n=31, AUC: 0.83%\n",
      "Thresh=0.009, n=26, AUC: 0.83%\n",
      "Thresh=0.010, n=20, AUC: 0.83%\n",
      "Thresh=0.012, n=18, AUC: 0.83%\n",
      "Thresh=0.016, n=16, AUC: 0.83%\n",
      "Thresh=0.023, n=14, AUC: 0.83%\n",
      "Thresh=0.024, n=12, AUC: 0.83%\n",
      "Thresh=0.028, n=11, AUC: 0.83%\n",
      "Thresh=0.031, n=9, AUC: 0.82%\n",
      "Thresh=0.033, n=7, AUC: 0.82%\n",
      "Thresh=0.035, n=6, AUC: 0.82%\n",
      "Thresh=0.049, n=5, AUC: 0.82%\n",
      "Thresh=0.050, n=4, AUC: 0.82%\n",
      "Thresh=0.063, n=3, AUC: 0.81%\n",
      "Thresh=0.137, n=2, AUC: 0.80%\n",
      "Thresh=0.197, n=1, AUC: 0.78%\n"
     ]
    }
   ],
   "source": [
    "select_features_by_importance_threshold(xgbc, train_split, label_train_split,\n",
    "                                       xgb.XGBClassifier(seed= 42), val_split, label_val_split)"
   ]
  },
  {
   "cell_type": "markdown",
   "metadata": {},
   "source": [
    "It appears that most of the AUC is covered by the top 10 - 12 features.  "
   ]
  },
  {
   "cell_type": "code",
   "execution_count": 57,
   "metadata": {
    "collapsed": false
   },
   "outputs": [
    {
     "name": "stdout",
     "output_type": "stream",
     "text": [
      "[ 0.          0.00300846  0.00301136  0.00301776  0.00302547  0.00303388\n",
      "  0.0030579   0.00313569  0.00315084  0.00315972  0.00317738  0.0031777\n",
      "  0.00320936  0.00322403  0.00323428  0.00327353  0.00333787  0.00337582\n",
      "  0.00342431  0.00350448  0.00355606  0.00372441  0.00383991  0.00386383\n",
      "  0.00391088  0.00400462  0.00410406  0.00411903  0.00448199  0.00491754\n",
      "  0.00545869  0.00565519  0.00589606  0.00871788  0.0099078   0.01002871\n",
      "  0.01133463  0.01138912  0.01684412  0.0168731   0.01692397  0.01706072\n",
      "  0.01726514  0.01736102  0.01828223  0.01836379  0.01842711  0.01845862\n",
      "  0.02351926  0.02366896  0.02378099  0.02449534  0.03455466  0.0413841\n",
      "  0.04772961  0.06465314  0.07361844]\n",
      "Thresh=0.000, n=356, AUC: 0.72%\n",
      "Thresh=0.003, n=56, AUC: 0.71%\n",
      "Thresh=0.003, n=55, AUC: 0.71%\n",
      "Thresh=0.003, n=54, AUC: 0.72%\n",
      "Thresh=0.003, n=53, AUC: 0.71%\n",
      "Thresh=0.003, n=52, AUC: 0.71%\n",
      "Thresh=0.003, n=51, AUC: 0.72%\n",
      "Thresh=0.003, n=50, AUC: 0.72%\n",
      "Thresh=0.003, n=49, AUC: 0.73%\n",
      "Thresh=0.003, n=48, AUC: 0.72%\n",
      "Thresh=0.003, n=47, AUC: 0.72%\n",
      "Thresh=0.003, n=46, AUC: 0.70%\n",
      "Thresh=0.003, n=45, AUC: 0.70%\n",
      "Thresh=0.003, n=44, AUC: 0.70%\n",
      "Thresh=0.003, n=43, AUC: 0.73%\n",
      "Thresh=0.003, n=42, AUC: 0.71%\n",
      "Thresh=0.003, n=41, AUC: 0.70%\n",
      "Thresh=0.003, n=40, AUC: 0.70%\n",
      "Thresh=0.003, n=39, AUC: 0.71%\n",
      "Thresh=0.004, n=38, AUC: 0.71%\n",
      "Thresh=0.004, n=37, AUC: 0.70%\n",
      "Thresh=0.004, n=36, AUC: 0.71%\n",
      "Thresh=0.004, n=35, AUC: 0.71%\n",
      "Thresh=0.004, n=34, AUC: 0.71%\n",
      "Thresh=0.004, n=33, AUC: 0.71%\n",
      "Thresh=0.004, n=32, AUC: 0.71%\n",
      "Thresh=0.004, n=31, AUC: 0.72%\n",
      "Thresh=0.004, n=30, AUC: 0.72%\n",
      "Thresh=0.004, n=29, AUC: 0.70%\n",
      "Thresh=0.005, n=28, AUC: 0.70%\n",
      "Thresh=0.005, n=27, AUC: 0.71%\n",
      "Thresh=0.006, n=26, AUC: 0.73%\n",
      "Thresh=0.006, n=25, AUC: 0.72%\n",
      "Thresh=0.009, n=24, AUC: 0.71%\n",
      "Thresh=0.010, n=23, AUC: 0.73%\n",
      "Thresh=0.010, n=22, AUC: 0.72%\n",
      "Thresh=0.011, n=21, AUC: 0.71%\n",
      "Thresh=0.011, n=20, AUC: 0.71%\n",
      "Thresh=0.017, n=19, AUC: 0.70%\n",
      "Thresh=0.017, n=18, AUC: 0.72%\n",
      "Thresh=0.017, n=17, AUC: 0.72%\n",
      "Thresh=0.017, n=16, AUC: 0.73%\n",
      "Thresh=0.017, n=15, AUC: 0.73%\n",
      "Thresh=0.017, n=14, AUC: 0.73%\n",
      "Thresh=0.018, n=13, AUC: 0.72%\n",
      "Thresh=0.018, n=12, AUC: 0.73%\n",
      "Thresh=0.018, n=11, AUC: 0.72%\n",
      "Thresh=0.018, n=10, AUC: 0.71%\n",
      "Thresh=0.024, n=9, AUC: 0.68%\n",
      "Thresh=0.024, n=8, AUC: 0.68%\n",
      "Thresh=0.024, n=7, AUC: 0.69%\n",
      "Thresh=0.024, n=6, AUC: 0.65%\n",
      "Thresh=0.035, n=5, AUC: 0.60%\n",
      "Thresh=0.041, n=4, AUC: 0.60%\n",
      "Thresh=0.048, n=3, AUC: 0.60%\n",
      "Thresh=0.065, n=2, AUC: 0.64%\n",
      "Thresh=0.074, n=1, AUC: 0.51%\n"
     ]
    }
   ],
   "source": [
    "select_features_by_importance_threshold(clf, train_split, label_train_split,\n",
    "                                       ensemble.RandomForestClassifier(random_state= 42), val_split, \n",
    "                                        label_val_split, minimum= 3.0e-3 )"
   ]
  },
  {
   "cell_type": "markdown",
   "metadata": {},
   "source": [
    "It appears that most of the AUC is covered by he top 10ish features"
   ]
  },
  {
   "cell_type": "markdown",
   "metadata": {},
   "source": [
    "### Use Select From Model to transform data by threshold"
   ]
  },
  {
   "cell_type": "code",
   "execution_count": 58,
   "metadata": {
    "collapsed": false
   },
   "outputs": [
    {
     "name": "stdout",
     "output_type": "stream",
     "text": [
      "12\n"
     ]
    }
   ],
   "source": [
    "# Set a minimum threshold of 0.023\n",
    "sfm = feature_selection.SelectFromModel(xgbc, threshold=0.023, prefit= True)\n",
    "sfm_train= sfm.transform(train_merge)\n",
    "n_features = sfm_train.shape[1]\n",
    "print(n_features)"
   ]
  },
  {
   "cell_type": "code",
   "execution_count": 60,
   "metadata": {
    "collapsed": false
   },
   "outputs": [
    {
     "data": {
      "text/plain": [
       "XGBClassifier(base_score=0.5, colsample_bylevel=1, colsample_bytree=1,\n",
       "       gamma=0, learning_rate=0.1, max_delta_step=0, max_depth=3,\n",
       "       min_child_weight=1, missing=None, n_estimators=100, nthread=-1,\n",
       "       objective='binary:logistic', reg_alpha=0, reg_lambda=1,\n",
       "       scale_pos_weight=1, seed=42, silent=True, subsample=1)"
      ]
     },
     "execution_count": 60,
     "metadata": {},
     "output_type": "execute_result"
    }
   ],
   "source": [
    "# initialize and fit model\n",
    "xgb_clf= xgb.XGBClassifier(seed= 42)\n",
    "xgb_clf.fit(sfm_train, labels)"
   ]
  },
  {
   "cell_type": "code",
   "execution_count": 61,
   "metadata": {
    "collapsed": false
   },
   "outputs": [],
   "source": [
    "# transform test set and predict\n",
    "sfm_test = sfm.transform(test_merge)\n",
    "predictions_xgb = xgb_clf.predict_proba(sfm_test)[:,1]\n",
    "predictions_randfor= clf.predict_proba(test_merge)[:,1]"
   ]
  },
  {
   "cell_type": "code",
   "execution_count": 63,
   "metadata": {
    "collapsed": true
   },
   "outputs": [],
   "source": [
    "sample_sub['WnvPresent'] = predictions_randfor\n",
    "sample_sub.to_csv('sub_randfor.csv', index=False)"
   ]
  },
  {
   "cell_type": "raw",
   "metadata": {
    "collapsed": true
   },
   "source": [
    "# plot single tree\n",
    "xgb.plot_tree(xgb_clf, rankdir= 'LR')\n",
    "pyplot.show()"
   ]
  },
  {
   "cell_type": "markdown",
   "metadata": {},
   "source": [
    "### Address overfittting through early stopping"
   ]
  },
  {
   "cell_type": "code",
   "execution_count": 64,
   "metadata": {
    "collapsed": false
   },
   "outputs": [
    {
     "name": "stdout",
     "output_type": "stream",
     "text": [
      "[0]\tvalidation_0-auc:0.789671\tvalidation_1-auc:0.758943\n",
      "[1]\tvalidation_0-auc:0.797245\tvalidation_1-auc:0.773398\n",
      "[2]\tvalidation_0-auc:0.803481\tvalidation_1-auc:0.787082\n",
      "[3]\tvalidation_0-auc:0.803651\tvalidation_1-auc:0.785039\n",
      "[4]\tvalidation_0-auc:0.812916\tvalidation_1-auc:0.784324\n",
      "[5]\tvalidation_0-auc:0.813058\tvalidation_1-auc:0.785745\n",
      "[6]\tvalidation_0-auc:0.81538\tvalidation_1-auc:0.785033\n",
      "[7]\tvalidation_0-auc:0.817277\tvalidation_1-auc:0.789943\n",
      "[8]\tvalidation_0-auc:0.817461\tvalidation_1-auc:0.78944\n",
      "[9]\tvalidation_0-auc:0.813191\tvalidation_1-auc:0.790056\n",
      "[10]\tvalidation_0-auc:0.824453\tvalidation_1-auc:0.800585\n",
      "[11]\tvalidation_0-auc:0.827806\tvalidation_1-auc:0.805505\n",
      "[12]\tvalidation_0-auc:0.829073\tvalidation_1-auc:0.807693\n",
      "[13]\tvalidation_0-auc:0.828366\tvalidation_1-auc:0.807228\n",
      "[14]\tvalidation_0-auc:0.830464\tvalidation_1-auc:0.807532\n",
      "[15]\tvalidation_0-auc:0.834266\tvalidation_1-auc:0.803445\n",
      "[16]\tvalidation_0-auc:0.834383\tvalidation_1-auc:0.804325\n",
      "[17]\tvalidation_0-auc:0.83592\tvalidation_1-auc:0.808175\n",
      "[18]\tvalidation_0-auc:0.835585\tvalidation_1-auc:0.808041\n",
      "[19]\tvalidation_0-auc:0.836678\tvalidation_1-auc:0.809113\n",
      "[20]\tvalidation_0-auc:0.839191\tvalidation_1-auc:0.809288\n",
      "[21]\tvalidation_0-auc:0.83863\tvalidation_1-auc:0.808744\n",
      "[22]\tvalidation_0-auc:0.839805\tvalidation_1-auc:0.808577\n",
      "[23]\tvalidation_0-auc:0.840737\tvalidation_1-auc:0.806158\n",
      "[24]\tvalidation_0-auc:0.841894\tvalidation_1-auc:0.806352\n",
      "[25]\tvalidation_0-auc:0.843708\tvalidation_1-auc:0.810648\n",
      "[26]\tvalidation_0-auc:0.844023\tvalidation_1-auc:0.810738\n",
      "[27]\tvalidation_0-auc:0.844572\tvalidation_1-auc:0.810838\n",
      "[28]\tvalidation_0-auc:0.84607\tvalidation_1-auc:0.810707\n",
      "[29]\tvalidation_0-auc:0.847865\tvalidation_1-auc:0.811239\n",
      "[30]\tvalidation_0-auc:0.848903\tvalidation_1-auc:0.811513\n",
      "[31]\tvalidation_0-auc:0.849371\tvalidation_1-auc:0.81167\n",
      "[32]\tvalidation_0-auc:0.850502\tvalidation_1-auc:0.812171\n",
      "[33]\tvalidation_0-auc:0.851453\tvalidation_1-auc:0.815163\n",
      "[34]\tvalidation_0-auc:0.853043\tvalidation_1-auc:0.816637\n",
      "[35]\tvalidation_0-auc:0.853948\tvalidation_1-auc:0.816808\n",
      "[36]\tvalidation_0-auc:0.854659\tvalidation_1-auc:0.817269\n",
      "[37]\tvalidation_0-auc:0.855585\tvalidation_1-auc:0.817387\n",
      "[38]\tvalidation_0-auc:0.856101\tvalidation_1-auc:0.817704\n",
      "[39]\tvalidation_0-auc:0.856853\tvalidation_1-auc:0.818046\n",
      "[40]\tvalidation_0-auc:0.857345\tvalidation_1-auc:0.819141\n",
      "[41]\tvalidation_0-auc:0.858566\tvalidation_1-auc:0.820774\n",
      "[42]\tvalidation_0-auc:0.859132\tvalidation_1-auc:0.820522\n",
      "[43]\tvalidation_0-auc:0.859637\tvalidation_1-auc:0.820476\n",
      "[44]\tvalidation_0-auc:0.860686\tvalidation_1-auc:0.82078\n",
      "[45]\tvalidation_0-auc:0.861013\tvalidation_1-auc:0.821273\n",
      "[46]\tvalidation_0-auc:0.861449\tvalidation_1-auc:0.821465\n",
      "[47]\tvalidation_0-auc:0.86258\tvalidation_1-auc:0.820872\n",
      "[48]\tvalidation_0-auc:0.862834\tvalidation_1-auc:0.821756\n",
      "[49]\tvalidation_0-auc:0.863761\tvalidation_1-auc:0.821802\n",
      "[50]\tvalidation_0-auc:0.863977\tvalidation_1-auc:0.821577\n",
      "[51]\tvalidation_0-auc:0.864445\tvalidation_1-auc:0.821919\n",
      "[52]\tvalidation_0-auc:0.866438\tvalidation_1-auc:0.822638\n",
      "[53]\tvalidation_0-auc:0.867442\tvalidation_1-auc:0.822554\n",
      "[54]\tvalidation_0-auc:0.867721\tvalidation_1-auc:0.823051\n",
      "[55]\tvalidation_0-auc:0.869335\tvalidation_1-auc:0.824224\n",
      "[56]\tvalidation_0-auc:0.869902\tvalidation_1-auc:0.824106\n",
      "[57]\tvalidation_0-auc:0.870399\tvalidation_1-auc:0.824446\n",
      "[58]\tvalidation_0-auc:0.871128\tvalidation_1-auc:0.825221\n",
      "[59]\tvalidation_0-auc:0.871513\tvalidation_1-auc:0.825579\n",
      "[60]\tvalidation_0-auc:0.872173\tvalidation_1-auc:0.825662\n",
      "[61]\tvalidation_0-auc:0.873065\tvalidation_1-auc:0.825592\n",
      "[62]\tvalidation_0-auc:0.873654\tvalidation_1-auc:0.82522\n",
      "[63]\tvalidation_0-auc:0.874152\tvalidation_1-auc:0.825414\n",
      "[64]\tvalidation_0-auc:0.874886\tvalidation_1-auc:0.825241\n",
      "[65]\tvalidation_0-auc:0.875642\tvalidation_1-auc:0.825511\n",
      "[66]\tvalidation_0-auc:0.87592\tvalidation_1-auc:0.825677\n",
      "[67]\tvalidation_0-auc:0.876467\tvalidation_1-auc:0.825264\n",
      "[68]\tvalidation_0-auc:0.877112\tvalidation_1-auc:0.824756\n",
      "[69]\tvalidation_0-auc:0.877562\tvalidation_1-auc:0.824661\n",
      "[70]\tvalidation_0-auc:0.878196\tvalidation_1-auc:0.824709\n",
      "[71]\tvalidation_0-auc:0.879093\tvalidation_1-auc:0.824913\n",
      "[72]\tvalidation_0-auc:0.879957\tvalidation_1-auc:0.825545\n",
      "[73]\tvalidation_0-auc:0.881182\tvalidation_1-auc:0.825901\n",
      "[74]\tvalidation_0-auc:0.881353\tvalidation_1-auc:0.825578\n",
      "[75]\tvalidation_0-auc:0.881551\tvalidation_1-auc:0.825874\n",
      "[76]\tvalidation_0-auc:0.881714\tvalidation_1-auc:0.826048\n",
      "[77]\tvalidation_0-auc:0.882024\tvalidation_1-auc:0.82601\n",
      "[78]\tvalidation_0-auc:0.882527\tvalidation_1-auc:0.825779\n",
      "[79]\tvalidation_0-auc:0.883864\tvalidation_1-auc:0.82628\n",
      "[80]\tvalidation_0-auc:0.884445\tvalidation_1-auc:0.826482\n",
      "[81]\tvalidation_0-auc:0.885067\tvalidation_1-auc:0.826645\n",
      "[82]\tvalidation_0-auc:0.88571\tvalidation_1-auc:0.826946\n",
      "[83]\tvalidation_0-auc:0.885999\tvalidation_1-auc:0.827179\n",
      "[84]\tvalidation_0-auc:0.886553\tvalidation_1-auc:0.826562\n",
      "[85]\tvalidation_0-auc:0.887065\tvalidation_1-auc:0.826485\n",
      "[86]\tvalidation_0-auc:0.887129\tvalidation_1-auc:0.826662\n",
      "[87]\tvalidation_0-auc:0.887397\tvalidation_1-auc:0.826921\n",
      "[88]\tvalidation_0-auc:0.88806\tvalidation_1-auc:0.827258\n",
      "[89]\tvalidation_0-auc:0.888433\tvalidation_1-auc:0.826843\n",
      "[90]\tvalidation_0-auc:0.888869\tvalidation_1-auc:0.826983\n",
      "[91]\tvalidation_0-auc:0.889285\tvalidation_1-auc:0.827255\n",
      "[92]\tvalidation_0-auc:0.889631\tvalidation_1-auc:0.827135\n",
      "[93]\tvalidation_0-auc:0.889954\tvalidation_1-auc:0.827377\n",
      "[94]\tvalidation_0-auc:0.890426\tvalidation_1-auc:0.827314\n",
      "[95]\tvalidation_0-auc:0.890676\tvalidation_1-auc:0.827514\n",
      "[96]\tvalidation_0-auc:0.890919\tvalidation_1-auc:0.827507\n",
      "[97]\tvalidation_0-auc:0.891211\tvalidation_1-auc:0.827442\n",
      "[98]\tvalidation_0-auc:0.891483\tvalidation_1-auc:0.827678\n",
      "[99]\tvalidation_0-auc:0.891707\tvalidation_1-auc:0.827475\n"
     ]
    }
   ],
   "source": [
    "# split into training and validation sets\n",
    "X_train= train_split\n",
    "X_test= val_split\n",
    "y_train= label_train_split\n",
    "y_test= label_val_split\n",
    "\n",
    "# instantiate base model\n",
    "model= xgb.XGBClassifier(seed= 42)\n",
    "\n",
    "# setup eval\n",
    "eval_set = [(X_train, y_train), (X_test, y_test)]\n",
    "model.fit(X_train, y_train, eval_metric=\"auc\", eval_set=eval_set, verbose= True)\n",
    "\n",
    "results = model.evals_result()\n",
    "#pprint.pprint(results)"
   ]
  },
  {
   "cell_type": "code",
   "execution_count": 65,
   "metadata": {
    "collapsed": false
   },
   "outputs": [
    {
     "data": {
      "image/png": "[encoded data removed]",
      "text/plain": [
       "<matplotlib.figure.Figure at 0x23af1828>"
      ]
     },
     "metadata": {},
     "output_type": "display_data"
    },
    {
     "data": {
      "image/png": "[encoded data removed]",
      "text/plain": [
       "<matplotlib.figure.Figure at 0x2405cd30>"
      ]
     },
     "metadata": {},
     "output_type": "display_data"
    }
   ],
   "source": [
    "model.fit(X_train, y_train, eval_metric=[\"auc\", \"logloss\", \"error\"], eval_set=eval_set, verbose= False)\n",
    "# retrieve performance metrics\n",
    "results = model.evals_result()\n",
    "epochs = len(results['validation_0']['auc'])\n",
    "x_axis = range(0, epochs)\n",
    "\n",
    "# plot auc\n",
    "fig, ax = pyplot.subplots()\n",
    "ax.plot(x_axis, results['validation_0']['auc'], label='Train')\n",
    "ax.plot(x_axis, results['validation_1']['auc'], label='Test')\n",
    "ax.legend()\n",
    "pyplot.ylabel('AUC')\n",
    "pyplot.title('XGBoost AUC by Epoch')\n",
    "pyplot.show()\n",
    "\n",
    "# plot logloss\n",
    "fig, ax = pyplot.subplots()\n",
    "ax.plot(x_axis, results['validation_0']['logloss'], label='Train')\n",
    "ax.plot(x_axis, results['validation_1']['logloss'], label='Test')\n",
    "ax.legend()\n",
    "pyplot.ylabel('Logloss')\n",
    "pyplot.title('XGBoost Logloss by Epoch')\n",
    "pyplot.show()"
   ]
  },
  {
   "cell_type": "markdown",
   "metadata": {},
   "source": [
    "It looks like we get into overfiting within 20ish epochs"
   ]
  },
  {
   "cell_type": "code",
   "execution_count": 66,
   "metadata": {
    "collapsed": false
   },
   "outputs": [
    {
     "data": {
      "text/plain": [
       "XGBClassifier(base_score=0.5, colsample_bylevel=1, colsample_bytree=1,\n",
       "       gamma=0, learning_rate=0.1, max_delta_step=0, max_depth=3,\n",
       "       min_child_weight=1, missing=None, n_estimators=100, nthread=-1,\n",
       "       objective='binary:logistic', reg_alpha=0, reg_lambda=1,\n",
       "       scale_pos_weight=1, seed=42, silent=True, subsample=1)"
      ]
     },
     "execution_count": 66,
     "metadata": {},
     "output_type": "execute_result"
    }
   ],
   "source": [
    "# train a model with eartly stopping\n",
    "eval_set = [(X_test, y_test)]\n",
    "model.fit(X_train, y_train, eval_metric=[\"auc\"], eval_set=eval_set, early_stopping_rounds=10, verbose= False)\n",
    "\n",
    "#results = model.evals_result()\n",
    "#print(results)"
   ]
  },
  {
   "cell_type": "markdown",
   "metadata": {},
   "source": [
    "### Models in A minor (tuning...)"
   ]
  },
  {
   "cell_type": "code",
   "execution_count": 67,
   "metadata": {
    "collapsed": true
   },
   "outputs": [],
   "source": [
    "# Utility function to report best scores\n",
    "def report(results, n_top=10):\n",
    "    for i in range(1, n_top + 1):\n",
    "        candidates = np.flatnonzero(results['rank_test_score'] == i)\n",
    "        for candidate in candidates:\n",
    "            print(\"Model with rank: {0}\".format(i))\n",
    "            print(\"Mean validation score: {0:.3f} (std: {1:.3f})\".format(\n",
    "                  results['mean_test_score'][candidate],\n",
    "                  results['std_test_score'][candidate]))\n",
    "            print(\"Parameters: {0}\".format(results['params'][candidate]))\n",
    "            print(\"\")"
   ]
  },
  {
   "cell_type": "code",
   "execution_count": 68,
   "metadata": {
    "collapsed": false
   },
   "outputs": [
    {
     "name": "stdout",
     "output_type": "stream",
     "text": [
      "16\n"
     ]
    }
   ],
   "source": [
    "# Set a minimum threshold of 0.023\n",
    "sfm = feature_selection.SelectFromModel(xgbc, threshold=0.015, prefit= True)\n",
    "sfm_train= sfm.transform(train_split)\n",
    "n_features = sfm_train.shape[1]\n",
    "print(n_features)\n",
    "\n",
    "sfm_test= sfm.transform(val_split)\n",
    "\n",
    "sfm_test_merge= sfm.transform(test_merge)\n",
    "\n",
    "sfm_train_merge= sfm.transform(train_merge)"
   ]
  },
  {
   "cell_type": "code",
   "execution_count": 69,
   "metadata": {
    "collapsed": true
   },
   "outputs": [],
   "source": [
    "# instantiate base model\n",
    "model= xgb.XGBClassifier(seed= 42)"
   ]
  },
  {
   "cell_type": "code",
   "execution_count": 70,
   "metadata": {
    "collapsed": true
   },
   "outputs": [],
   "source": [
    "# setup distributions for random search, left some notes\n",
    "\n",
    "#n_estimators_dist= np.random.randint(1, 500)# number of trees, could use a discrete list or np.random.exponential(scale=0.1, size= 100)\n",
    "#colsample_bytree_dist= np.random.uniform(0.2,0.6) # should be 0.3 - 0.5\n",
    "#max_depth_dist = np.random.randint(2, 12) # typical values 3 - 10\n",
    "#learning_rate_dist= np.random.uniform(0.01, 0.3) # default 0.3, typical values 0.01 - 0.2\n",
    "\n",
    "#learning_rate_dist= scipy.stats.expon(scale=100)\n",
    "#learning_rate_dist= 10. ** np.arange(-3, -2)\n",
    "n_estimators_dist= sps.randint(1, 300)\n",
    "learning_rate_dist = [0.01, 0.02, 0.05, 0.1, .15, 0.2, .25, 0.3]\n",
    "max_depth_dist = sps.randint(2, 12)\n",
    "colsample_bytree_dist= np.arange(0.2, 0.6, .1)"
   ]
  },
  {
   "cell_type": "code",
   "execution_count": 71,
   "metadata": {
    "collapsed": true
   },
   "outputs": [],
   "source": [
    "X_train = sfm_train\n",
    "y_train = label_train_split"
   ]
  },
  {
   "cell_type": "code",
   "execution_count": 72,
   "metadata": {
    "collapsed": false,
    "scrolled": true
   },
   "outputs": [
    {
     "name": "stdout",
     "output_type": "stream",
     "text": [
      "RandomizedSearchCV took 87.32 seconds for 20 candidates parameter settings.\n",
      "Model with rank: 1\n",
      "Mean validation score: 0.847 (std: 0.025)\n",
      "Parameters: {'n_estimators': 255, 'learning_rate': 0.25, 'colsample_bytree': 0.30000000000000004, 'max_depth': 2}\n",
      "\n",
      "Model with rank: 2\n",
      "Mean validation score: 0.844 (std: 0.026)\n",
      "Parameters: {'n_estimators': 215, 'learning_rate': 0.25, 'colsample_bytree': 0.20000000000000001, 'max_depth': 3}\n",
      "\n",
      "Model with rank: 3\n",
      "Mean validation score: 0.840 (std: 0.026)\n",
      "Parameters: {'n_estimators': 247, 'learning_rate': 0.02, 'colsample_bytree': 0.40000000000000008, 'max_depth': 8}\n",
      "\n",
      "Model with rank: 4\n",
      "Mean validation score: 0.840 (std: 0.023)\n",
      "Parameters: {'n_estimators': 179, 'learning_rate': 0.2, 'colsample_bytree': 0.30000000000000004, 'max_depth': 4}\n",
      "\n",
      "Model with rank: 5\n",
      "Mean validation score: 0.840 (std: 0.026)\n",
      "Parameters: {'n_estimators': 145, 'learning_rate': 0.05, 'colsample_bytree': 0.40000000000000008, 'max_depth': 8}\n",
      "\n",
      "Model with rank: 6\n",
      "Mean validation score: 0.838 (std: 0.022)\n",
      "Parameters: {'n_estimators': 63, 'learning_rate': 0.2, 'colsample_bytree': 0.50000000000000011, 'max_depth': 6}\n",
      "\n",
      "Model with rank: 7\n",
      "Mean validation score: 0.838 (std: 0.027)\n",
      "Parameters: {'n_estimators': 59, 'learning_rate': 0.1, 'colsample_bytree': 0.20000000000000001, 'max_depth': 11}\n",
      "\n",
      "Model with rank: 8\n",
      "Mean validation score: 0.833 (std: 0.023)\n",
      "Parameters: {'n_estimators': 104, 'learning_rate': 0.1, 'colsample_bytree': 0.40000000000000008, 'max_depth': 10}\n",
      "\n",
      "Model with rank: 9\n",
      "Mean validation score: 0.830 (std: 0.031)\n",
      "Parameters: {'n_estimators': 212, 'learning_rate': 0.01, 'colsample_bytree': 0.30000000000000004, 'max_depth': 7}\n",
      "\n",
      "Model with rank: 10\n",
      "Mean validation score: 0.828 (std: 0.028)\n",
      "Parameters: {'n_estimators': 22, 'learning_rate': 0.25, 'colsample_bytree': 0.50000000000000011, 'max_depth': 10}\n",
      "\n"
     ]
    }
   ],
   "source": [
    "cv = model_selection.StratifiedShuffleSplit(n_splits = 10, random_state = 42)  \n",
    "\n",
    "param_dist = dict(learning_rate= learning_rate_dist, n_estimators= n_estimators_dist,\n",
    "                 colsample_bytree= colsample_bytree_dist, max_depth= max_depth_dist) \n",
    "\n",
    "# run randomized search\n",
    "n_iter_search = 20\n",
    "random_search_xgb = model_selection.RandomizedSearchCV(model, param_distributions=param_dist,\n",
    "                                   n_iter=n_iter_search, scoring= 'roc_auc', cv= cv)\n",
    "\n",
    "start = time()\n",
    "random_search_xgb.fit(X_train, y_train)\n",
    "print(\"RandomizedSearchCV took %.2f seconds for %d candidates\"\n",
    "      \" parameter settings.\" % ((time() - start), n_iter_search))\n",
    "report(random_search_xgb.cv_results_)"
   ]
  },
  {
   "cell_type": "code",
   "execution_count": 73,
   "metadata": {
    "collapsed": false
   },
   "outputs": [
    {
     "data": {
      "text/plain": [
       "XGBClassifier(base_score=0.5, colsample_bylevel=1,\n",
       "       colsample_bytree=0.30000000000000004, gamma=0, learning_rate=0.25,\n",
       "       max_delta_step=0, max_depth=2, min_child_weight=1, missing=None,\n",
       "       n_estimators=255, nthread=-1, objective='binary:logistic',\n",
       "       reg_alpha=0, reg_lambda=1, scale_pos_weight=1, seed=42, silent=True,\n",
       "       subsample=1)"
      ]
     },
     "execution_count": 73,
     "metadata": {},
     "output_type": "execute_result"
    }
   ],
   "source": [
    "# best estimator\n",
    "random_search_xgb.best_estimator_"
   ]
  },
  {
   "cell_type": "code",
   "execution_count": 74,
   "metadata": {
    "collapsed": false
   },
   "outputs": [],
   "source": [
    "# instantiate random forest mode\n",
    "clf = ensemble.RandomForestClassifier(random_state= 42)"
   ]
  },
  {
   "cell_type": "code",
   "execution_count": 75,
   "metadata": {
    "collapsed": true
   },
   "outputs": [],
   "source": [
    "# setup best estimators\n",
    "n_estimators_dist= sps.randint(1, 1000)"
   ]
  },
  {
   "cell_type": "code",
   "execution_count": 76,
   "metadata": {
    "collapsed": false
   },
   "outputs": [
    {
     "name": "stdout",
     "output_type": "stream",
     "text": [
      "RandomizedSearchCV took 201.47 seconds for 20 candidates parameter settings.\n"
     ]
    },
    {
     "data": {
      "text/plain": [
       "<function __main__.report>"
      ]
     },
     "execution_count": 76,
     "metadata": {},
     "output_type": "execute_result"
    }
   ],
   "source": [
    "cv = model_selection.StratifiedShuffleSplit(n_splits = 10, random_state = 42)  \n",
    "\n",
    "param_dist = {\"max_depth\": max_depth_dist,\n",
    "              \"max_features\": sps.randint(1, n_features),\n",
    "              \"min_samples_split\": sps.randint(2, 11),\n",
    "              \"bootstrap\": [True, False],\n",
    "              \"criterion\": [\"gini\", \"entropy\"],\n",
    "             \"n_estimators\": n_estimators_dist} \n",
    "\n",
    "# run randomized search\n",
    "n_iter_search = 20\n",
    "random_search_randfor = model_selection.RandomizedSearchCV(clf, param_distributions=param_dist,\n",
    "                                   n_iter=n_iter_search, scoring= 'roc_auc')\n",
    "\n",
    "start = time()\n",
    "random_search_randfor.fit(X_train, y_train)\n",
    "print(\"RandomizedSearchCV took %.2f seconds for %d candidates\"\n",
    "      \" parameter settings.\" % ((time() - start), n_iter_search))\n",
    "report"
   ]
  },
  {
   "cell_type": "code",
   "execution_count": 77,
   "metadata": {
    "collapsed": false
   },
   "outputs": [
    {
     "data": {
      "text/plain": [
       "{'mean_fit_time': array([ 1.46533338,  1.54833333,  6.55900002,  2.70666663,  3.16000001,\n",
       "         0.70533323,  1.91166663,  2.25433326,  0.43733335,  2.41066662,\n",
       "         0.80266666,  9.96033335,  5.0346667 ,  2.82566675,  0.92866667,\n",
       "         1.15666668,  0.84333332,  2.47899993,  0.67866675,  3.43666665]),\n",
       " 'mean_score_time': array([ 0.26399986,  0.18333332,  0.54733332,  0.42266679,  0.66566666,\n",
       "         0.06566668,  0.39099995,  0.62366668,  0.06133334,  0.39099995,\n",
       "         0.13033334,  0.79066666,  0.75933337,  0.35500002,  0.19833334,\n",
       "         0.10800004,  0.10166669,  0.42000008,  0.10066668,  0.37233345]),\n",
       " 'mean_test_score': array([ 0.82446215,  0.82939083,  0.80560513,  0.79062353,  0.81160264,\n",
       "         0.81875953,  0.83221499,  0.8332224 ,  0.81192206,  0.81754177,\n",
       "         0.83245018,  0.81976942,  0.80235298,  0.8100443 ,  0.83568336,\n",
       "         0.79183375,  0.82074812,  0.79527055,  0.82917682,  0.78650353]),\n",
       " 'mean_train_score': array([ 0.86792841,  0.96162126,  0.89276314,  0.80933725,  0.84310634,\n",
       "         0.97677389,  0.96759207,  0.89569402,  0.86103532,  0.85574985,\n",
       "         0.90467393,  0.96424397,  0.83758579,  0.83963154,  0.9403445 ,\n",
       "         0.84491604,  0.89334004,  0.81608152,  0.91138819,  0.81969312]),\n",
       " 'param_bootstrap': masked_array(data = [True True False False True False False True True False True False False\n",
       "  True False False True True False False],\n",
       "              mask = [False False False False False False False False False False False False\n",
       "  False False False False False False False False],\n",
       "        fill_value = ?),\n",
       " 'param_criterion': masked_array(data = ['entropy' 'gini' 'entropy' 'entropy' 'gini' 'gini' 'gini' 'gini' 'entropy'\n",
       "  'entropy' 'entropy' 'entropy' 'gini' 'entropy' 'entropy' 'gini' 'gini'\n",
       "  'gini' 'gini' 'gini'],\n",
       "              mask = [False False False False False False False False False False False False\n",
       "  False False False False False False False False],\n",
       "        fill_value = ?),\n",
       " 'param_max_depth': masked_array(data = [5 9 6 2 3 11 11 6 4 4 6 10 3 3 9 4 5 2 6 3],\n",
       "              mask = [False False False False False False False False False False False False\n",
       "  False False False False False False False False],\n",
       "        fill_value = ?),\n",
       " 'param_max_features': masked_array(data = [1 10 14 9 7 8 1 1 14 3 4 10 10 10 1 15 12 11 5 15],\n",
       "              mask = [False False False False False False False False False False False False\n",
       "  False False False False False False False False],\n",
       "        fill_value = ?),\n",
       " 'param_min_samples_split': masked_array(data = [8 10 2 2 6 8 6 5 8 8 5 3 3 5 6 5 8 2 6 2],\n",
       "              mask = [False False False False False False False False False False False False\n",
       "  False False False False False False False False],\n",
       "        fill_value = ?),\n",
       " 'param_n_estimators': masked_array(data = [355 213 617 582 512 73 410 405 59 519 157 825 612 409 245 148 139 596 131\n",
       "  520],\n",
       "              mask = [False False False False False False False False False False False False\n",
       "  False False False False False False False False],\n",
       "        fill_value = ?),\n",
       " 'params': ({'bootstrap': True,\n",
       "   'criterion': 'entropy',\n",
       "   'max_depth': 5,\n",
       "   'max_features': 1,\n",
       "   'min_samples_split': 8,\n",
       "   'n_estimators': 355},\n",
       "  {'bootstrap': True,\n",
       "   'criterion': 'gini',\n",
       "   'max_depth': 9,\n",
       "   'max_features': 10,\n",
       "   'min_samples_split': 10,\n",
       "   'n_estimators': 213},\n",
       "  {'bootstrap': False,\n",
       "   'criterion': 'entropy',\n",
       "   'max_depth': 6,\n",
       "   'max_features': 14,\n",
       "   'min_samples_split': 2,\n",
       "   'n_estimators': 617},\n",
       "  {'bootstrap': False,\n",
       "   'criterion': 'entropy',\n",
       "   'max_depth': 2,\n",
       "   'max_features': 9,\n",
       "   'min_samples_split': 2,\n",
       "   'n_estimators': 582},\n",
       "  {'bootstrap': True,\n",
       "   'criterion': 'gini',\n",
       "   'max_depth': 3,\n",
       "   'max_features': 7,\n",
       "   'min_samples_split': 6,\n",
       "   'n_estimators': 512},\n",
       "  {'bootstrap': False,\n",
       "   'criterion': 'gini',\n",
       "   'max_depth': 11,\n",
       "   'max_features': 8,\n",
       "   'min_samples_split': 8,\n",
       "   'n_estimators': 73},\n",
       "  {'bootstrap': False,\n",
       "   'criterion': 'gini',\n",
       "   'max_depth': 11,\n",
       "   'max_features': 1,\n",
       "   'min_samples_split': 6,\n",
       "   'n_estimators': 410},\n",
       "  {'bootstrap': True,\n",
       "   'criterion': 'gini',\n",
       "   'max_depth': 6,\n",
       "   'max_features': 1,\n",
       "   'min_samples_split': 5,\n",
       "   'n_estimators': 405},\n",
       "  {'bootstrap': True,\n",
       "   'criterion': 'entropy',\n",
       "   'max_depth': 4,\n",
       "   'max_features': 14,\n",
       "   'min_samples_split': 8,\n",
       "   'n_estimators': 59},\n",
       "  {'bootstrap': False,\n",
       "   'criterion': 'entropy',\n",
       "   'max_depth': 4,\n",
       "   'max_features': 3,\n",
       "   'min_samples_split': 8,\n",
       "   'n_estimators': 519},\n",
       "  {'bootstrap': True,\n",
       "   'criterion': 'entropy',\n",
       "   'max_depth': 6,\n",
       "   'max_features': 4,\n",
       "   'min_samples_split': 5,\n",
       "   'n_estimators': 157},\n",
       "  {'bootstrap': False,\n",
       "   'criterion': 'entropy',\n",
       "   'max_depth': 10,\n",
       "   'max_features': 10,\n",
       "   'min_samples_split': 3,\n",
       "   'n_estimators': 825},\n",
       "  {'bootstrap': False,\n",
       "   'criterion': 'gini',\n",
       "   'max_depth': 3,\n",
       "   'max_features': 10,\n",
       "   'min_samples_split': 3,\n",
       "   'n_estimators': 612},\n",
       "  {'bootstrap': True,\n",
       "   'criterion': 'entropy',\n",
       "   'max_depth': 3,\n",
       "   'max_features': 10,\n",
       "   'min_samples_split': 5,\n",
       "   'n_estimators': 409},\n",
       "  {'bootstrap': False,\n",
       "   'criterion': 'entropy',\n",
       "   'max_depth': 9,\n",
       "   'max_features': 1,\n",
       "   'min_samples_split': 6,\n",
       "   'n_estimators': 245},\n",
       "  {'bootstrap': False,\n",
       "   'criterion': 'gini',\n",
       "   'max_depth': 4,\n",
       "   'max_features': 15,\n",
       "   'min_samples_split': 5,\n",
       "   'n_estimators': 148},\n",
       "  {'bootstrap': True,\n",
       "   'criterion': 'gini',\n",
       "   'max_depth': 5,\n",
       "   'max_features': 12,\n",
       "   'min_samples_split': 8,\n",
       "   'n_estimators': 139},\n",
       "  {'bootstrap': True,\n",
       "   'criterion': 'gini',\n",
       "   'max_depth': 2,\n",
       "   'max_features': 11,\n",
       "   'min_samples_split': 2,\n",
       "   'n_estimators': 596},\n",
       "  {'bootstrap': False,\n",
       "   'criterion': 'gini',\n",
       "   'max_depth': 6,\n",
       "   'max_features': 5,\n",
       "   'min_samples_split': 6,\n",
       "   'n_estimators': 131},\n",
       "  {'bootstrap': False,\n",
       "   'criterion': 'gini',\n",
       "   'max_depth': 3,\n",
       "   'max_features': 15,\n",
       "   'min_samples_split': 2,\n",
       "   'n_estimators': 520}),\n",
       " 'rank_test_score': array([ 7,  5, 15, 19, 13, 10,  4,  2, 12, 11,  3,  9, 16, 14,  1, 18,  8,\n",
       "        17,  6, 20]),\n",
       " 'split0_test_score': array([ 0.82624876,  0.82440816,  0.80424563,  0.79861964,  0.82330782,\n",
       "         0.81799621,  0.83205387,  0.83428196,  0.8158394 ,  0.82581739,\n",
       "         0.83976721,  0.81541718,  0.81602218,  0.81918246,  0.83855355,\n",
       "         0.81820824,  0.82628897,  0.80897599,  0.83669284,  0.80789941]),\n",
       " 'split0_train_score': array([ 0.86828071,  0.96286605,  0.88764862,  0.80931384,  0.84300221,\n",
       "         0.97782285,  0.9710103 ,  0.89500885,  0.86281859,  0.85552831,\n",
       "         0.905315  ,  0.96663211,  0.83776639,  0.83941901,  0.9408457 ,\n",
       "         0.84404224,  0.89501251,  0.81515403,  0.91115427,  0.81654287]),\n",
       " 'split1_test_score': array([ 0.83141876,  0.83226359,  0.80924298,  0.80586734,  0.81243028,\n",
       "         0.82433831,  0.83376123,  0.83778239,  0.81820326,  0.81824898,\n",
       "         0.83316876,  0.82586887,  0.80542664,  0.81436314,  0.83535031,\n",
       "         0.78297108,  0.82372572,  0.80060637,  0.82844541,  0.7780667 ]),\n",
       " 'split1_train_score': array([ 0.86583949,  0.95934868,  0.88970229,  0.80628715,  0.84162658,\n",
       "         0.97579075,  0.96435891,  0.89368552,  0.85652884,  0.85324993,\n",
       "         0.90061035,  0.96003289,  0.83927824,  0.8377695 ,  0.93714864,\n",
       "         0.84186242,  0.89188198,  0.81734558,  0.90949868,  0.81854443]),\n",
       " 'split2_test_score': array([ 0.81571816,  0.83150288,  0.80332737,  0.7673802 ,  0.79906484,\n",
       "         0.81394439,  0.83082994,  0.82760241,  0.80172184,  0.80855542,\n",
       "         0.82441146,  0.81802406,  0.78560431,  0.79658339,  0.83314498,\n",
       "         0.7743107 ,  0.81222731,  0.77622344,  0.82238899,  0.77353536]),\n",
       " 'split2_train_score': array([ 0.86966503,  0.96264907,  0.90093852,  0.81241076,  0.84469022,\n",
       "         0.97670806,  0.967407  ,  0.8983877 ,  0.86375852,  0.85847132,\n",
       "         0.90809644,  0.96606692,  0.83571276,  0.84170611,  0.94303915,\n",
       "         0.84884347,  0.89312563,  0.81574497,  0.91351162,  0.82399206]),\n",
       " 'std_fit_time': array([ 0.35483546,  0.03993598,  0.21976969,  0.07731464,  0.70722122,\n",
       "         0.06668492,  0.05443243,  0.48570589,  0.08965993,  0.3527807 ,\n",
       "         0.03132976,  1.22088322,  0.06057689,  0.32692539,  0.0059067 ,\n",
       "         0.00849837,  0.00235708,  0.03073534,  0.00124723,  0.02347094]),\n",
       " 'std_score_time': array([ 0.00454603,  0.01184156,  0.10091035,  0.00634215,  0.04010266,\n",
       "         0.01932753,  0.01756891,  0.03564968,  0.02301203,  0.00989956,\n",
       "         0.01357284,  0.12119495,  0.07520784,  0.04454957,  0.00368182,\n",
       "         0.        ,  0.00047137,  0.00163307,  0.0009428 ,  0.00555778]),\n",
       " 'std_test_score': array([ 0.00653266,  0.00353769,  0.00259925,  0.01669803,  0.00991479,\n",
       "         0.00427721,  0.00120202,  0.00422269,  0.00727616,  0.00706514,\n",
       "         0.00628974,  0.00444189,  0.0126072 ,  0.00971853,  0.00222063,\n",
       "         0.01898561,  0.0061147 ,  0.01389365,  0.00586258,  0.01524504]),\n",
       " 'std_train_score': array([ 0.00158151,  0.0016094 ,  0.00584134,  0.00250001,  0.00125289,\n",
       "         0.00083091,  0.00271857,  0.00197985,  0.00320958,  0.00213737,\n",
       "         0.00308962,  0.00298661,  0.00146119,  0.00161412,  0.00243077,\n",
       "         0.00291621,  0.00128699,  0.00092581,  0.0016466 ,  0.00314772])}"
      ]
     },
     "execution_count": 77,
     "metadata": {},
     "output_type": "execute_result"
    }
   ],
   "source": [
    "(random_search_randfor.cv_results_)"
   ]
  },
  {
   "cell_type": "code",
   "execution_count": 78,
   "metadata": {
    "collapsed": false
   },
   "outputs": [
    {
     "data": {
      "text/plain": [
       "RandomForestClassifier(bootstrap=False, class_weight=None,\n",
       "            criterion='entropy', max_depth=9, max_features=1,\n",
       "            max_leaf_nodes=None, min_impurity_split=1e-07,\n",
       "            min_samples_leaf=1, min_samples_split=6,\n",
       "            min_weight_fraction_leaf=0.0, n_estimators=245, n_jobs=1,\n",
       "            oob_score=False, random_state=42, verbose=0, warm_start=False)"
      ]
     },
     "execution_count": 78,
     "metadata": {},
     "output_type": "execute_result"
    }
   ],
   "source": [
    "# best estimator for randomforest\n",
    "random_search_randfor.best_estimator_"
   ]
  },
  {
   "cell_type": "code",
   "execution_count": 79,
   "metadata": {
    "collapsed": false
   },
   "outputs": [],
   "source": [
    "# dump model\n",
    "dump_pkl(random_search_randfor.best_estimator_, 'randfor_best_est.pkl')"
   ]
  },
  {
   "cell_type": "code",
   "execution_count": 80,
   "metadata": {
    "collapsed": false
   },
   "outputs": [
    {
     "data": {
      "text/plain": [
       "0.82339973572850289"
      ]
     },
     "execution_count": 80,
     "metadata": {},
     "output_type": "execute_result"
    }
   ],
   "source": [
    "# load serialized model\n",
    "best_randfor= load_pkl('randfor_best_est.pkl')\n",
    "predictions_randfor = best_randfor.predict_proba(sfm_test)[:,1]\n",
    "calc_roc_auc(label_val_split, predictions_randfor)"
   ]
  },
  {
   "cell_type": "code",
   "execution_count": 81,
   "metadata": {
    "collapsed": false
   },
   "outputs": [
    {
     "data": {
      "text/plain": [
       "RandomForestClassifier(bootstrap=False, class_weight=None,\n",
       "            criterion='entropy', max_depth=9, max_features=1,\n",
       "            max_leaf_nodes=None, min_impurity_split=1e-07,\n",
       "            min_samples_leaf=1, min_samples_split=6,\n",
       "            min_weight_fraction_leaf=0.0, n_estimators=245, n_jobs=1,\n",
       "            oob_score=False, random_state=42, verbose=0, warm_start=False)"
      ]
     },
     "execution_count": 81,
     "metadata": {},
     "output_type": "execute_result"
    }
   ],
   "source": [
    "# fit model on training data\n",
    "best_randfor.fit(sfm_train_merge, labels)"
   ]
  },
  {
   "cell_type": "code",
   "execution_count": 82,
   "metadata": {
    "collapsed": true
   },
   "outputs": [],
   "source": [
    "# make predictions with random forest model\n",
    "preds_randfor= best_randfor.predict_proba(sfm_test_merge)[:,1]"
   ]
  },
  {
   "cell_type": "code",
   "execution_count": 83,
   "metadata": {
    "collapsed": false
   },
   "outputs": [
    {
     "data": {
      "text/plain": [
       "0.83049241473899005"
      ]
     },
     "execution_count": 83,
     "metadata": {},
     "output_type": "execute_result"
    }
   ],
   "source": [
    "# calculate AUC on validation set\n",
    "best_xgb= random_search_xgb.best_estimator_\n",
    "\n",
    "predictions_xgb= best_xgb.predict_proba(sfm_test)[:,1]\n",
    "calc_roc_auc(label_val_split, predictions_xgb)"
   ]
  },
  {
   "cell_type": "code",
   "execution_count": 84,
   "metadata": {
    "collapsed": true
   },
   "outputs": [],
   "source": [
    "predictions_xgb= best_xgb.predict_proba(sfm_test_merge)[:,1]"
   ]
  },
  {
   "cell_type": "code",
   "execution_count": 86,
   "metadata": {
    "collapsed": false
   },
   "outputs": [],
   "source": [
    "sample_sub['WnvPresent'] = predictions_xgb\n",
    "sample_sub.to_csv('sub_xgb.csv', index=False)"
   ]
  },
  {
   "cell_type": "code",
   "execution_count": 85,
   "metadata": {
    "collapsed": true
   },
   "outputs": [],
   "source": [
    "# convert training data to xgb native format\n",
    "xgdmat = xgb.DMatrix(sfm_train_merge, labels)"
   ]
  },
  {
   "cell_type": "code",
   "execution_count": 86,
   "metadata": {
    "collapsed": false
   },
   "outputs": [],
   "source": [
    "# train xgb classifier on all dat with built-in cv method and early stopping\n",
    "cv_xgb = xgb.cv(params = best_xgb.get_params(), dtrain = xgdmat, num_boost_round = 3000, nfold = 5,\n",
    "                metrics = ['auc'], early_stopping_rounds = 10,)"
   ]
  },
  {
   "cell_type": "code",
   "execution_count": 87,
   "metadata": {
    "collapsed": false
   },
   "outputs": [
    {
     "data": {
      "text/plain": [
       "88"
      ]
     },
     "execution_count": 87,
     "metadata": {},
     "output_type": "execute_result"
    }
   ],
   "source": [
    "# how many rounds\n",
    "len(cv_xgb)"
   ]
  },
  {
   "cell_type": "code",
   "execution_count": 88,
   "metadata": {
    "collapsed": false
   },
   "outputs": [],
   "source": [
    "# train with best params over established rounds\n",
    "final_xgb= xgb.train(best_xgb.get_params(), xgdmat, num_boost_round = len(cv_xgb))"
   ]
  },
  {
   "cell_type": "code",
   "execution_count": 89,
   "metadata": {
    "collapsed": false
   },
   "outputs": [],
   "source": [
    "# dump xgb model\n",
    "final_xgb.dump_model('final_xgb')"
   ]
  },
  {
   "cell_type": "code",
   "execution_count": 90,
   "metadata": {
    "collapsed": false
   },
   "outputs": [],
   "source": [
    "# transform test data to feature set\n",
    "final_test= xgb.DMatrix(sfm_test_merge)"
   ]
  },
  {
   "cell_type": "code",
   "execution_count": 91,
   "metadata": {
    "collapsed": false
   },
   "outputs": [],
   "source": [
    "# make predicions\n",
    "preds_xgb= final_xgb.predict(final_test) # logistic regression probs"
   ]
  },
  {
   "cell_type": "code",
   "execution_count": null,
   "metadata": {
    "collapsed": true
   },
   "outputs": [],
   "source": [
    "# create submissions\n",
    "# Kaggle private leaderboard 0.74946\n",
    "sample_sub['WnvPresent'] = preds_xgb\n",
    "sample_sub.to_csv('sub_xgb.csv', index=False)\n",
    "\n",
    "#sample_sub['WnvPresent'] = predictions_randfor\n",
    "#sample_sub.to_csv('sub_randfor.csv', index=False)\n",
    "\n",
    "# predictions.to_csv('predictions.csv', header= True, index_label= 'id')\n",
    "# Kaggle Private Leaderboard 0.72141\n",
    "sample_sub['WnvPresent'] = preds_randfor\n",
    "sample_sub.to_csv('sub_randfor.csv', index=False)"
   ]
  }
 ],
 "metadata": {
  "anaconda-cloud": {},
  "kernelspec": {
   "display_name": "Python [default]",
   "language": "python",
   "name": "python2"
  },
  "language_info": {
   "codemirror_mode": {
    "name": "ipython",
    "version": 2
   },
   "file_extension": ".py",
   "mimetype": "text/x-python",
   "name": "python",
   "nbconvert_exporter": "python",
   "pygments_lexer": "ipython2",
   "version": "2.7.12"
  }
 },
 "nbformat": 4,
 "nbformat_minor": 0
}
