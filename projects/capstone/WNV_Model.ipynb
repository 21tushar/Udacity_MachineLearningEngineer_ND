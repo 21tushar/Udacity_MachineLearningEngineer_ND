{
 "cells": [
  {
   "cell_type": "code",
   "execution_count": 1,
   "metadata": {
    "collapsed": false
   },
   "outputs": [],
   "source": [
    "import pandas as pd\n",
    "import numpy as np\n",
    "from sklearn import preprocessing, ensemble\n",
    "from IPython.display import display"
   ]
  },
  {
   "cell_type": "markdown",
   "metadata": {},
   "source": [
    "### Load Data"
   ]
  },
  {
   "cell_type": "code",
   "execution_count": 2,
   "metadata": {
    "collapsed": false
   },
   "outputs": [],
   "source": [
    "# create date parser\n",
    "dateparse = lambda x: pd.datetime.strptime(x, '%Y-%m-%d')\n",
    "\n",
    "# create data type converters\n",
    "dtype_map_weather = dict(Station = 'str')\n",
    "dtype_map_test_train = dict(Block = 'str', Street = 'str')\n",
    "\n",
    "# read data into PANDAS DataFrames with date parsing\n",
    "test = pd.read_csv('input/test.csv', parse_dates=['Date'], date_parser=dateparse, dtype= dtype_map_test_train)\n",
    "train = pd.read_csv('input/train.csv', parse_dates=['Date'], date_parser=dateparse, dtype= dtype_map_test_train)\n",
    "weather = pd.read_csv('input/weather.csv', parse_dates=['Date'], date_parser=dateparse, dtype= dtype_map_weather)\n",
    "sample_sub = pd.read_csv('input/sampleSubmission.csv')"
   ]
  },
  {
   "cell_type": "code",
   "execution_count": 3,
   "metadata": {
    "collapsed": false,
    "scrolled": true
   },
   "outputs": [
    {
     "name": "stdout",
     "output_type": "stream",
     "text": [
      "Train\n",
      "<class 'pandas.core.frame.DataFrame'>\n",
      "RangeIndex: 10506 entries, 0 to 10505\n",
      "Data columns (total 12 columns):\n",
      "Date                      10506 non-null datetime64[ns]\n",
      "Address                   10506 non-null object\n",
      "Species                   10506 non-null object\n",
      "Block                     10506 non-null object\n",
      "Street                    10506 non-null object\n",
      "Trap                      10506 non-null object\n",
      "AddressNumberAndStreet    10506 non-null object\n",
      "Latitude                  10506 non-null float64\n",
      "Longitude                 10506 non-null float64\n",
      "AddressAccuracy           10506 non-null int64\n",
      "NumMosquitos              10506 non-null int64\n",
      "WnvPresent                10506 non-null int64\n",
      "dtypes: datetime64[ns](1), float64(2), int64(3), object(6)\n",
      "memory usage: 738.7+ KB\n"
     ]
    },
    {
     "data": {
      "text/plain": [
       "None"
      ]
     },
     "metadata": {},
     "output_type": "display_data"
    },
    {
     "name": "stdout",
     "output_type": "stream",
     "text": [
      "Test\n",
      "<class 'pandas.core.frame.DataFrame'>\n",
      "RangeIndex: 116293 entries, 0 to 116292\n",
      "Data columns (total 11 columns):\n",
      "Id                        116293 non-null int64\n",
      "Date                      116293 non-null datetime64[ns]\n",
      "Address                   116293 non-null object\n",
      "Species                   116293 non-null object\n",
      "Block                     116293 non-null object\n",
      "Street                    116293 non-null object\n",
      "Trap                      116293 non-null object\n",
      "AddressNumberAndStreet    116293 non-null object\n",
      "Latitude                  116293 non-null float64\n",
      "Longitude                 116293 non-null float64\n",
      "AddressAccuracy           116293 non-null int64\n",
      "dtypes: datetime64[ns](1), float64(2), int64(2), object(6)\n",
      "memory usage: 7.1+ MB\n"
     ]
    },
    {
     "data": {
      "text/plain": [
       "None"
      ]
     },
     "metadata": {},
     "output_type": "display_data"
    }
   ],
   "source": [
    "print('Train')\n",
    "display(train.info())\n",
    "\n",
    "print('Test')\n",
    "display(test.info())"
   ]
  },
  {
   "cell_type": "code",
   "execution_count": 4,
   "metadata": {
    "collapsed": false,
    "scrolled": true
   },
   "outputs": [
    {
     "name": "stdout",
     "output_type": "stream",
     "text": [
      "Weather\n",
      "<class 'pandas.core.frame.DataFrame'>\n",
      "RangeIndex: 2944 entries, 0 to 2943\n",
      "Data columns (total 22 columns):\n",
      "Station        2944 non-null object\n",
      "Date           2944 non-null datetime64[ns]\n",
      "Tmax           2944 non-null int64\n",
      "Tmin           2944 non-null int64\n",
      "Tavg           2944 non-null object\n",
      "Depart         2944 non-null object\n",
      "DewPoint       2944 non-null int64\n",
      "WetBulb        2944 non-null object\n",
      "Heat           2944 non-null object\n",
      "Cool           2944 non-null object\n",
      "Sunrise        2944 non-null object\n",
      "Sunset         2944 non-null object\n",
      "CodeSum        2944 non-null object\n",
      "Depth          2944 non-null object\n",
      "Water1         2944 non-null object\n",
      "SnowFall       2944 non-null object\n",
      "PrecipTotal    2944 non-null object\n",
      "StnPressure    2944 non-null object\n",
      "SeaLevel       2944 non-null object\n",
      "ResultSpeed    2944 non-null float64\n",
      "ResultDir      2944 non-null int64\n",
      "AvgSpeed       2944 non-null object\n",
      "dtypes: datetime64[ns](1), float64(1), int64(4), object(16)\n",
      "memory usage: 322.0+ KB\n"
     ]
    },
    {
     "data": {
      "text/plain": [
       "None"
      ]
     },
     "metadata": {},
     "output_type": "display_data"
    }
   ],
   "source": [
    "print('Weather')\n",
    "display(weather.info())"
   ]
  },
  {
   "cell_type": "markdown",
   "metadata": {},
   "source": [
    "### Select Columns"
   ]
  },
  {
   "cell_type": "code",
   "execution_count": 5,
   "metadata": {
    "collapsed": false
   },
   "outputs": [],
   "source": [
    "# weather\n",
    "weather_exclude = ['Dewpoint', 'WetBulb', 'CodeSum', 'Depth', 'Water1', 'SnowFall', 'StnPressure',\n",
    "                 'SeaLevel', 'ResultSpeed', 'ResultDir', 'AvgSpeed','DewPoint']\n",
    "weather_cols = [col for col in weather.columns if col not in weather_exclude]\n",
    "weather = weather[weather_cols]\n",
    "\n",
    "\n",
    "# train\n",
    "train_exclude = ['Address', 'AddressNumberAndStreet', 'AddressAccuracy', 'NumMosquitos']\n",
    "train_cols = [col for col in train.columns if col not in train_exclude]\n",
    "train = train[train_cols]\n",
    "\n",
    "# test\n",
    "test_exclude = ['Address', 'AddressNumberAndStreet', 'AddressAccuracy', 'Id']\n",
    "test_cols = [col for col in test.columns if col not in test_exclude]\n",
    "test = test[test_cols]"
   ]
  },
  {
   "cell_type": "code",
   "execution_count": 6,
   "metadata": {
    "collapsed": false
   },
   "outputs": [
    {
     "name": "stdout",
     "output_type": "stream",
     "text": [
      "<class 'pandas.core.frame.DataFrame'>\n",
      "RangeIndex: 2944 entries, 0 to 2943\n",
      "Data columns (total 11 columns):\n",
      "Station        2944 non-null object\n",
      "Date           2944 non-null datetime64[ns]\n",
      "Tmax           2944 non-null int64\n",
      "Tmin           2944 non-null int64\n",
      "Tavg           2944 non-null object\n",
      "Depart         2944 non-null object\n",
      "Heat           2944 non-null object\n",
      "Cool           2944 non-null object\n",
      "Sunrise        2944 non-null object\n",
      "Sunset         2944 non-null object\n",
      "PrecipTotal    2944 non-null object\n",
      "dtypes: datetime64[ns](1), int64(2), object(8)\n",
      "memory usage: 161.0+ KB\n"
     ]
    }
   ],
   "source": [
    "weather.info()"
   ]
  },
  {
   "cell_type": "code",
   "execution_count": 7,
   "metadata": {
    "collapsed": false
   },
   "outputs": [
    {
     "name": "stdout",
     "output_type": "stream",
     "text": [
      "Weather\n"
     ]
    },
    {
     "data": {
      "text/html": [
       "<div>\n",
       "<table border=\"1\" class=\"dataframe\">\n",
       "  <thead>\n",
       "    <tr style=\"text-align: right;\">\n",
       "      <th></th>\n",
       "      <th>Station</th>\n",
       "      <th>Date</th>\n",
       "      <th>Tmax</th>\n",
       "      <th>Tmin</th>\n",
       "      <th>Tavg</th>\n",
       "      <th>Depart</th>\n",
       "      <th>Heat</th>\n",
       "      <th>Cool</th>\n",
       "      <th>Sunrise</th>\n",
       "      <th>Sunset</th>\n",
       "      <th>PrecipTotal</th>\n",
       "    </tr>\n",
       "  </thead>\n",
       "  <tbody>\n",
       "    <tr>\n",
       "      <th>0</th>\n",
       "      <td>1</td>\n",
       "      <td>2007-05-01</td>\n",
       "      <td>83</td>\n",
       "      <td>50</td>\n",
       "      <td>67</td>\n",
       "      <td>14</td>\n",
       "      <td>0</td>\n",
       "      <td>2</td>\n",
       "      <td>0448</td>\n",
       "      <td>1849</td>\n",
       "      <td>0.00</td>\n",
       "    </tr>\n",
       "    <tr>\n",
       "      <th>1</th>\n",
       "      <td>2</td>\n",
       "      <td>2007-05-01</td>\n",
       "      <td>84</td>\n",
       "      <td>52</td>\n",
       "      <td>68</td>\n",
       "      <td>M</td>\n",
       "      <td>0</td>\n",
       "      <td>3</td>\n",
       "      <td>-</td>\n",
       "      <td>-</td>\n",
       "      <td>0.00</td>\n",
       "    </tr>\n",
       "    <tr>\n",
       "      <th>2</th>\n",
       "      <td>1</td>\n",
       "      <td>2007-05-02</td>\n",
       "      <td>59</td>\n",
       "      <td>42</td>\n",
       "      <td>51</td>\n",
       "      <td>-3</td>\n",
       "      <td>14</td>\n",
       "      <td>0</td>\n",
       "      <td>0447</td>\n",
       "      <td>1850</td>\n",
       "      <td>0.00</td>\n",
       "    </tr>\n",
       "    <tr>\n",
       "      <th>3</th>\n",
       "      <td>2</td>\n",
       "      <td>2007-05-02</td>\n",
       "      <td>60</td>\n",
       "      <td>43</td>\n",
       "      <td>52</td>\n",
       "      <td>M</td>\n",
       "      <td>13</td>\n",
       "      <td>0</td>\n",
       "      <td>-</td>\n",
       "      <td>-</td>\n",
       "      <td>0.00</td>\n",
       "    </tr>\n",
       "    <tr>\n",
       "      <th>4</th>\n",
       "      <td>1</td>\n",
       "      <td>2007-05-03</td>\n",
       "      <td>66</td>\n",
       "      <td>46</td>\n",
       "      <td>56</td>\n",
       "      <td>2</td>\n",
       "      <td>9</td>\n",
       "      <td>0</td>\n",
       "      <td>0446</td>\n",
       "      <td>1851</td>\n",
       "      <td>0.00</td>\n",
       "    </tr>\n",
       "  </tbody>\n",
       "</table>\n",
       "</div>"
      ],
      "text/plain": [
       "  Station       Date  Tmax  Tmin Tavg Depart Heat Cool Sunrise Sunset  \\\n",
       "0       1 2007-05-01    83    50   67     14    0    2    0448   1849   \n",
       "1       2 2007-05-01    84    52   68      M    0    3       -      -   \n",
       "2       1 2007-05-02    59    42   51     -3   14    0    0447   1850   \n",
       "3       2 2007-05-02    60    43   52      M   13    0       -      -   \n",
       "4       1 2007-05-03    66    46   56      2    9    0    0446   1851   \n",
       "\n",
       "  PrecipTotal  \n",
       "0        0.00  \n",
       "1        0.00  \n",
       "2        0.00  \n",
       "3        0.00  \n",
       "4        0.00  "
      ]
     },
     "metadata": {},
     "output_type": "display_data"
    },
    {
     "name": "stdout",
     "output_type": "stream",
     "text": [
      "Train\n"
     ]
    },
    {
     "data": {
      "text/html": [
       "<div>\n",
       "<table border=\"1\" class=\"dataframe\">\n",
       "  <thead>\n",
       "    <tr style=\"text-align: right;\">\n",
       "      <th></th>\n",
       "      <th>Date</th>\n",
       "      <th>Species</th>\n",
       "      <th>Block</th>\n",
       "      <th>Street</th>\n",
       "      <th>Trap</th>\n",
       "      <th>Latitude</th>\n",
       "      <th>Longitude</th>\n",
       "      <th>WnvPresent</th>\n",
       "    </tr>\n",
       "  </thead>\n",
       "  <tbody>\n",
       "    <tr>\n",
       "      <th>0</th>\n",
       "      <td>2007-05-29</td>\n",
       "      <td>CULEX PIPIENS/RESTUANS</td>\n",
       "      <td>41</td>\n",
       "      <td>N OAK PARK AVE</td>\n",
       "      <td>T002</td>\n",
       "      <td>41.954690</td>\n",
       "      <td>-87.800991</td>\n",
       "      <td>0</td>\n",
       "    </tr>\n",
       "    <tr>\n",
       "      <th>1</th>\n",
       "      <td>2007-05-29</td>\n",
       "      <td>CULEX RESTUANS</td>\n",
       "      <td>41</td>\n",
       "      <td>N OAK PARK AVE</td>\n",
       "      <td>T002</td>\n",
       "      <td>41.954690</td>\n",
       "      <td>-87.800991</td>\n",
       "      <td>0</td>\n",
       "    </tr>\n",
       "    <tr>\n",
       "      <th>2</th>\n",
       "      <td>2007-05-29</td>\n",
       "      <td>CULEX RESTUANS</td>\n",
       "      <td>62</td>\n",
       "      <td>N MANDELL AVE</td>\n",
       "      <td>T007</td>\n",
       "      <td>41.994991</td>\n",
       "      <td>-87.769279</td>\n",
       "      <td>0</td>\n",
       "    </tr>\n",
       "    <tr>\n",
       "      <th>3</th>\n",
       "      <td>2007-05-29</td>\n",
       "      <td>CULEX PIPIENS/RESTUANS</td>\n",
       "      <td>79</td>\n",
       "      <td>W FOSTER AVE</td>\n",
       "      <td>T015</td>\n",
       "      <td>41.974089</td>\n",
       "      <td>-87.824812</td>\n",
       "      <td>0</td>\n",
       "    </tr>\n",
       "    <tr>\n",
       "      <th>4</th>\n",
       "      <td>2007-05-29</td>\n",
       "      <td>CULEX RESTUANS</td>\n",
       "      <td>79</td>\n",
       "      <td>W FOSTER AVE</td>\n",
       "      <td>T015</td>\n",
       "      <td>41.974089</td>\n",
       "      <td>-87.824812</td>\n",
       "      <td>0</td>\n",
       "    </tr>\n",
       "  </tbody>\n",
       "</table>\n",
       "</div>"
      ],
      "text/plain": [
       "        Date                 Species Block           Street  Trap   Latitude  \\\n",
       "0 2007-05-29  CULEX PIPIENS/RESTUANS    41   N OAK PARK AVE  T002  41.954690   \n",
       "1 2007-05-29          CULEX RESTUANS    41   N OAK PARK AVE  T002  41.954690   \n",
       "2 2007-05-29          CULEX RESTUANS    62    N MANDELL AVE  T007  41.994991   \n",
       "3 2007-05-29  CULEX PIPIENS/RESTUANS    79     W FOSTER AVE  T015  41.974089   \n",
       "4 2007-05-29          CULEX RESTUANS    79     W FOSTER AVE  T015  41.974089   \n",
       "\n",
       "   Longitude  WnvPresent  \n",
       "0 -87.800991           0  \n",
       "1 -87.800991           0  \n",
       "2 -87.769279           0  \n",
       "3 -87.824812           0  \n",
       "4 -87.824812           0  "
      ]
     },
     "metadata": {},
     "output_type": "display_data"
    }
   ],
   "source": [
    "print('Weather')\n",
    "display(weather.head())\n",
    "\n",
    "print('Train')\n",
    "display(train.head())"
   ]
  },
  {
   "cell_type": "code",
   "execution_count": 8,
   "metadata": {
    "collapsed": false
   },
   "outputs": [
    {
     "data": {
      "text/plain": [
       "{'CULEX ERRATICUS',\n",
       " 'CULEX PIPIENS',\n",
       " 'CULEX PIPIENS/RESTUANS',\n",
       " 'CULEX RESTUANS',\n",
       " 'CULEX SALINARIUS',\n",
       " 'CULEX TARSALIS',\n",
       " 'CULEX TERRITANS'}"
      ]
     },
     "execution_count": 8,
     "metadata": {},
     "output_type": "execute_result"
    }
   ],
   "source": [
    "# what species have been detected (note that according to the CDC each\n",
    "# of these species can carry WNV)\n",
    "set(train.Species)"
   ]
  },
  {
   "cell_type": "code",
   "execution_count": 9,
   "metadata": {
    "collapsed": false
   },
   "outputs": [
    {
     "data": {
      "text/plain": [
       "{'CULEX ERRATICUS',\n",
       " 'CULEX PIPIENS',\n",
       " 'CULEX PIPIENS/RESTUANS',\n",
       " 'CULEX RESTUANS',\n",
       " 'CULEX SALINARIUS',\n",
       " 'CULEX TARSALIS',\n",
       " 'CULEX TERRITANS',\n",
       " 'UNSPECIFIED CULEX'}"
      ]
     },
     "execution_count": 9,
     "metadata": {},
     "output_type": "execute_result"
    }
   ],
   "source": [
    "# does this correspond to the test set\n",
    "set(test.Species)\n",
    "# it looks like there is another category"
   ]
  },
  {
   "cell_type": "code",
   "execution_count": 10,
   "metadata": {
    "collapsed": false
   },
   "outputs": [
    {
     "data": {
      "text/plain": [
       "Species\n",
       "CULEX ERRATICUS             0\n",
       "CULEX PIPIENS             240\n",
       "CULEX PIPIENS/RESTUANS    262\n",
       "CULEX RESTUANS             49\n",
       "CULEX SALINARIUS            0\n",
       "CULEX TARSALIS              0\n",
       "CULEX TERRITANS             0\n",
       "Name: WnvPresent, dtype: int64"
      ]
     },
     "execution_count": 10,
     "metadata": {},
     "output_type": "execute_result"
    }
   ],
   "source": [
    "train.groupby('Species').sum().WnvPresent"
   ]
  },
  {
   "cell_type": "markdown",
   "metadata": {},
   "source": [
    "### Examine and Handle missing Data"
   ]
  },
  {
   "cell_type": "markdown",
   "metadata": {},
   "source": [
    "**What is 'T' and 'M'?**\n",
    "- From http://www.nws.noaa.gov/om/csd/info/NOWdata/FAQ.php\n",
    "\n",
    "> \"M\" stands for \"Missing\". Data for an element will be missing if the primary sensor for that weather element is inoperable (e.g., has an outage) or malfunctioning (e.g., producing errant data) AND any collocated backup sensor is also inoperable or malfunctioning. \"T\" stand for \"Trace\". This is a small amount of precipitation that will wet a raingage but is less than the 0.01 inch measuring limit.\n",
    "\n",
    "The Precipitation Total column is the only column in the retained data that can contain this value. The value has leading whitespace so we should strip prior to counting."
   ]
  },
  {
   "cell_type": "code",
   "execution_count": 11,
   "metadata": {
    "collapsed": true
   },
   "outputs": [],
   "source": [
    "# strip whitespace\n",
    "weather.PrecipTotal = weather.PrecipTotal.str.strip()"
   ]
  },
  {
   "cell_type": "code",
   "execution_count": 12,
   "metadata": {
    "collapsed": true
   },
   "outputs": [],
   "source": [
    "miss_weather = ['M', '-']\n",
    "trace_weather = ['T']"
   ]
  },
  {
   "cell_type": "code",
   "execution_count": 13,
   "metadata": {
    "collapsed": false
   },
   "outputs": [],
   "source": [
    "cols_not_date = [col for col in weather.columns if col != 'Date']"
   ]
  },
  {
   "cell_type": "code",
   "execution_count": 14,
   "metadata": {
    "collapsed": false
   },
   "outputs": [
    {
     "data": {
      "text/plain": [
       "M    1507.0\n",
       "-    2944.0\n",
       "T     318.0\n",
       "dtype: float64"
      ]
     },
     "execution_count": 14,
     "metadata": {},
     "output_type": "execute_result"
    }
   ],
   "source": [
    "weather[cols_not_date].apply(pd.value_counts, axis=1)[miss_weather + trace_weather].fillna(0).sum()"
   ]
  },
  {
   "cell_type": "code",
   "execution_count": 15,
   "metadata": {
    "collapsed": false
   },
   "outputs": [
    {
     "data": {
      "text/html": [
       "<div>\n",
       "<table border=\"1\" class=\"dataframe\">\n",
       "  <thead>\n",
       "    <tr style=\"text-align: right;\">\n",
       "      <th></th>\n",
       "      <th>Station</th>\n",
       "      <th>Tmax</th>\n",
       "      <th>Tmin</th>\n",
       "      <th>Tavg</th>\n",
       "      <th>Depart</th>\n",
       "      <th>Heat</th>\n",
       "      <th>Cool</th>\n",
       "      <th>Sunrise</th>\n",
       "      <th>Sunset</th>\n",
       "      <th>PrecipTotal</th>\n",
       "    </tr>\n",
       "  </thead>\n",
       "  <tbody>\n",
       "    <tr>\n",
       "      <th>M</th>\n",
       "      <td>0.0</td>\n",
       "      <td>0.0</td>\n",
       "      <td>0.0</td>\n",
       "      <td>11.0</td>\n",
       "      <td>1472.0</td>\n",
       "      <td>11.0</td>\n",
       "      <td>11.0</td>\n",
       "      <td>0.0</td>\n",
       "      <td>0.0</td>\n",
       "      <td>2.0</td>\n",
       "    </tr>\n",
       "    <tr>\n",
       "      <th>-</th>\n",
       "      <td>0.0</td>\n",
       "      <td>0.0</td>\n",
       "      <td>0.0</td>\n",
       "      <td>0.0</td>\n",
       "      <td>0.0</td>\n",
       "      <td>0.0</td>\n",
       "      <td>0.0</td>\n",
       "      <td>1472.0</td>\n",
       "      <td>1472.0</td>\n",
       "      <td>0.0</td>\n",
       "    </tr>\n",
       "    <tr>\n",
       "      <th>T</th>\n",
       "      <td>0.0</td>\n",
       "      <td>0.0</td>\n",
       "      <td>0.0</td>\n",
       "      <td>0.0</td>\n",
       "      <td>0.0</td>\n",
       "      <td>0.0</td>\n",
       "      <td>0.0</td>\n",
       "      <td>0.0</td>\n",
       "      <td>0.0</td>\n",
       "      <td>318.0</td>\n",
       "    </tr>\n",
       "  </tbody>\n",
       "</table>\n",
       "</div>"
      ],
      "text/plain": [
       "   Station  Tmax  Tmin  Tavg  Depart  Heat  Cool  Sunrise  Sunset  PrecipTotal\n",
       "M      0.0   0.0   0.0  11.0  1472.0  11.0  11.0      0.0     0.0          2.0\n",
       "-      0.0   0.0   0.0   0.0     0.0   0.0   0.0   1472.0  1472.0          0.0\n",
       "T      0.0   0.0   0.0   0.0     0.0   0.0   0.0      0.0     0.0        318.0"
      ]
     },
     "execution_count": 15,
     "metadata": {},
     "output_type": "execute_result"
    }
   ],
   "source": [
    "# Both stations\n",
    "check = weather[cols_not_date].apply(pd.value_counts, axis=0).fillna(0)\n",
    "check.loc[['M', '-', 'T']]"
   ]
  },
  {
   "cell_type": "code",
   "execution_count": 16,
   "metadata": {
    "collapsed": false
   },
   "outputs": [
    {
     "data": {
      "text/html": [
       "<div>\n",
       "<table border=\"1\" class=\"dataframe\">\n",
       "  <thead>\n",
       "    <tr style=\"text-align: right;\">\n",
       "      <th></th>\n",
       "      <th>Station</th>\n",
       "      <th>Tmax</th>\n",
       "      <th>Tmin</th>\n",
       "      <th>Tavg</th>\n",
       "      <th>Depart</th>\n",
       "      <th>Heat</th>\n",
       "      <th>Cool</th>\n",
       "      <th>Sunrise</th>\n",
       "      <th>Sunset</th>\n",
       "      <th>PrecipTotal</th>\n",
       "    </tr>\n",
       "  </thead>\n",
       "  <tbody>\n",
       "    <tr>\n",
       "      <th>M</th>\n",
       "      <td>NaN</td>\n",
       "      <td>NaN</td>\n",
       "      <td>NaN</td>\n",
       "      <td>NaN</td>\n",
       "      <td>NaN</td>\n",
       "      <td>NaN</td>\n",
       "      <td>NaN</td>\n",
       "      <td>NaN</td>\n",
       "      <td>NaN</td>\n",
       "      <td>NaN</td>\n",
       "    </tr>\n",
       "    <tr>\n",
       "      <th>-</th>\n",
       "      <td>NaN</td>\n",
       "      <td>NaN</td>\n",
       "      <td>NaN</td>\n",
       "      <td>NaN</td>\n",
       "      <td>NaN</td>\n",
       "      <td>NaN</td>\n",
       "      <td>NaN</td>\n",
       "      <td>NaN</td>\n",
       "      <td>NaN</td>\n",
       "      <td>NaN</td>\n",
       "    </tr>\n",
       "    <tr>\n",
       "      <th>T</th>\n",
       "      <td>0.0</td>\n",
       "      <td>0.0</td>\n",
       "      <td>0.0</td>\n",
       "      <td>0.0</td>\n",
       "      <td>0.0</td>\n",
       "      <td>0.0</td>\n",
       "      <td>0.0</td>\n",
       "      <td>0.0</td>\n",
       "      <td>0.0</td>\n",
       "      <td>163.0</td>\n",
       "    </tr>\n",
       "  </tbody>\n",
       "</table>\n",
       "</div>"
      ],
      "text/plain": [
       "   Station  Tmax  Tmin  Tavg  Depart  Heat  Cool  Sunrise  Sunset  PrecipTotal\n",
       "M      NaN   NaN   NaN   NaN     NaN   NaN   NaN      NaN     NaN          NaN\n",
       "-      NaN   NaN   NaN   NaN     NaN   NaN   NaN      NaN     NaN          NaN\n",
       "T      0.0   0.0   0.0   0.0     0.0   0.0   0.0      0.0     0.0        163.0"
      ]
     },
     "execution_count": 16,
     "metadata": {},
     "output_type": "execute_result"
    }
   ],
   "source": [
    "# Station 1\n",
    "check_stat1 = weather[cols_not_date][weather.Station == '1'].apply(pd.value_counts, axis=0).fillna(0)\n",
    "check_stat1.loc[['M', '-', 'T']]"
   ]
  },
  {
   "cell_type": "code",
   "execution_count": 17,
   "metadata": {
    "collapsed": false,
    "scrolled": false
   },
   "outputs": [
    {
     "data": {
      "text/html": [
       "<div>\n",
       "<table border=\"1\" class=\"dataframe\">\n",
       "  <thead>\n",
       "    <tr style=\"text-align: right;\">\n",
       "      <th></th>\n",
       "      <th>Station</th>\n",
       "      <th>Tmax</th>\n",
       "      <th>Tmin</th>\n",
       "      <th>Tavg</th>\n",
       "      <th>Depart</th>\n",
       "      <th>Heat</th>\n",
       "      <th>Cool</th>\n",
       "      <th>Sunrise</th>\n",
       "      <th>Sunset</th>\n",
       "      <th>PrecipTotal</th>\n",
       "    </tr>\n",
       "  </thead>\n",
       "  <tbody>\n",
       "    <tr>\n",
       "      <th>M</th>\n",
       "      <td>0.0</td>\n",
       "      <td>0.0</td>\n",
       "      <td>0.0</td>\n",
       "      <td>11.0</td>\n",
       "      <td>1472.0</td>\n",
       "      <td>11.0</td>\n",
       "      <td>11.0</td>\n",
       "      <td>0.0</td>\n",
       "      <td>0.0</td>\n",
       "      <td>2.0</td>\n",
       "    </tr>\n",
       "    <tr>\n",
       "      <th>-</th>\n",
       "      <td>0.0</td>\n",
       "      <td>0.0</td>\n",
       "      <td>0.0</td>\n",
       "      <td>0.0</td>\n",
       "      <td>0.0</td>\n",
       "      <td>0.0</td>\n",
       "      <td>0.0</td>\n",
       "      <td>1472.0</td>\n",
       "      <td>1472.0</td>\n",
       "      <td>0.0</td>\n",
       "    </tr>\n",
       "    <tr>\n",
       "      <th>T</th>\n",
       "      <td>0.0</td>\n",
       "      <td>0.0</td>\n",
       "      <td>0.0</td>\n",
       "      <td>0.0</td>\n",
       "      <td>0.0</td>\n",
       "      <td>0.0</td>\n",
       "      <td>0.0</td>\n",
       "      <td>0.0</td>\n",
       "      <td>0.0</td>\n",
       "      <td>155.0</td>\n",
       "    </tr>\n",
       "  </tbody>\n",
       "</table>\n",
       "</div>"
      ],
      "text/plain": [
       "   Station  Tmax  Tmin  Tavg  Depart  Heat  Cool  Sunrise  Sunset  PrecipTotal\n",
       "M      0.0   0.0   0.0  11.0  1472.0  11.0  11.0      0.0     0.0          2.0\n",
       "-      0.0   0.0   0.0   0.0     0.0   0.0   0.0   1472.0  1472.0          0.0\n",
       "T      0.0   0.0   0.0   0.0     0.0   0.0   0.0      0.0     0.0        155.0"
      ]
     },
     "execution_count": 17,
     "metadata": {},
     "output_type": "execute_result"
    }
   ],
   "source": [
    "# Station 2\n",
    "check_stat2 = weather[cols_not_date][weather.Station == '2'].apply(pd.value_counts, axis=0).fillna(0)\n",
    "check_stat2.loc[['M', '-', 'T']]"
   ]
  },
  {
   "cell_type": "code",
   "execution_count": 18,
   "metadata": {
    "collapsed": false,
    "scrolled": true
   },
   "outputs": [
    {
     "data": {
      "text/html": [
       "<div>\n",
       "<table border=\"1\" class=\"dataframe\">\n",
       "  <thead>\n",
       "    <tr style=\"text-align: right;\">\n",
       "      <th></th>\n",
       "      <th>Station</th>\n",
       "      <th>Tmax</th>\n",
       "      <th>Tmin</th>\n",
       "      <th>Tavg</th>\n",
       "      <th>Depart</th>\n",
       "      <th>Heat</th>\n",
       "      <th>Cool</th>\n",
       "      <th>Sunrise</th>\n",
       "      <th>Sunset</th>\n",
       "      <th>PrecipTotal</th>\n",
       "    </tr>\n",
       "  </thead>\n",
       "  <tbody>\n",
       "    <tr>\n",
       "      <th>M</th>\n",
       "      <td>0.0</td>\n",
       "      <td>0.0</td>\n",
       "      <td>0.0</td>\n",
       "      <td>0.373641</td>\n",
       "      <td>50.0</td>\n",
       "      <td>0.373641</td>\n",
       "      <td>0.373641</td>\n",
       "      <td>0.0</td>\n",
       "      <td>0.0</td>\n",
       "      <td>0.067935</td>\n",
       "    </tr>\n",
       "    <tr>\n",
       "      <th>-</th>\n",
       "      <td>0.0</td>\n",
       "      <td>0.0</td>\n",
       "      <td>0.0</td>\n",
       "      <td>0.000000</td>\n",
       "      <td>0.0</td>\n",
       "      <td>0.000000</td>\n",
       "      <td>0.000000</td>\n",
       "      <td>50.0</td>\n",
       "      <td>50.0</td>\n",
       "      <td>0.000000</td>\n",
       "    </tr>\n",
       "    <tr>\n",
       "      <th>T</th>\n",
       "      <td>0.0</td>\n",
       "      <td>0.0</td>\n",
       "      <td>0.0</td>\n",
       "      <td>0.000000</td>\n",
       "      <td>0.0</td>\n",
       "      <td>0.000000</td>\n",
       "      <td>0.000000</td>\n",
       "      <td>0.0</td>\n",
       "      <td>0.0</td>\n",
       "      <td>10.801630</td>\n",
       "    </tr>\n",
       "  </tbody>\n",
       "</table>\n",
       "</div>"
      ],
      "text/plain": [
       "   Station  Tmax  Tmin      Tavg  Depart      Heat      Cool  Sunrise  Sunset  \\\n",
       "M      0.0   0.0   0.0  0.373641    50.0  0.373641  0.373641      0.0     0.0   \n",
       "-      0.0   0.0   0.0  0.000000     0.0  0.000000  0.000000     50.0    50.0   \n",
       "T      0.0   0.0   0.0  0.000000     0.0  0.000000  0.000000      0.0     0.0   \n",
       "\n",
       "   PrecipTotal  \n",
       "M     0.067935  \n",
       "-     0.000000  \n",
       "T    10.801630  "
      ]
     },
     "execution_count": 18,
     "metadata": {},
     "output_type": "execute_result"
    }
   ],
   "source": [
    "# Both stations\n",
    "check.loc[['M', '-', 'T']]/(len(weather)) * 100"
   ]
  },
  {
   "cell_type": "code",
   "execution_count": 19,
   "metadata": {
    "collapsed": false
   },
   "outputs": [
    {
     "data": {
      "text/html": [
       "<div>\n",
       "<table border=\"1\" class=\"dataframe\">\n",
       "  <thead>\n",
       "    <tr style=\"text-align: right;\">\n",
       "      <th></th>\n",
       "      <th>Station</th>\n",
       "      <th>Tmax</th>\n",
       "      <th>Tmin</th>\n",
       "      <th>Tavg</th>\n",
       "      <th>Depart</th>\n",
       "      <th>Heat</th>\n",
       "      <th>Cool</th>\n",
       "      <th>Sunrise</th>\n",
       "      <th>Sunset</th>\n",
       "      <th>PrecipTotal</th>\n",
       "    </tr>\n",
       "  </thead>\n",
       "  <tbody>\n",
       "    <tr>\n",
       "      <th>M</th>\n",
       "      <td>NaN</td>\n",
       "      <td>NaN</td>\n",
       "      <td>NaN</td>\n",
       "      <td>NaN</td>\n",
       "      <td>NaN</td>\n",
       "      <td>NaN</td>\n",
       "      <td>NaN</td>\n",
       "      <td>NaN</td>\n",
       "      <td>NaN</td>\n",
       "      <td>NaN</td>\n",
       "    </tr>\n",
       "    <tr>\n",
       "      <th>-</th>\n",
       "      <td>NaN</td>\n",
       "      <td>NaN</td>\n",
       "      <td>NaN</td>\n",
       "      <td>NaN</td>\n",
       "      <td>NaN</td>\n",
       "      <td>NaN</td>\n",
       "      <td>NaN</td>\n",
       "      <td>NaN</td>\n",
       "      <td>NaN</td>\n",
       "      <td>NaN</td>\n",
       "    </tr>\n",
       "    <tr>\n",
       "      <th>T</th>\n",
       "      <td>0.0</td>\n",
       "      <td>0.0</td>\n",
       "      <td>0.0</td>\n",
       "      <td>0.0</td>\n",
       "      <td>0.0</td>\n",
       "      <td>0.0</td>\n",
       "      <td>0.0</td>\n",
       "      <td>0.0</td>\n",
       "      <td>0.0</td>\n",
       "      <td>5.536685</td>\n",
       "    </tr>\n",
       "  </tbody>\n",
       "</table>\n",
       "</div>"
      ],
      "text/plain": [
       "   Station  Tmax  Tmin  Tavg  Depart  Heat  Cool  Sunrise  Sunset  PrecipTotal\n",
       "M      NaN   NaN   NaN   NaN     NaN   NaN   NaN      NaN     NaN          NaN\n",
       "-      NaN   NaN   NaN   NaN     NaN   NaN   NaN      NaN     NaN          NaN\n",
       "T      0.0   0.0   0.0   0.0     0.0   0.0   0.0      0.0     0.0     5.536685"
      ]
     },
     "execution_count": 19,
     "metadata": {},
     "output_type": "execute_result"
    }
   ],
   "source": [
    "# Station 1\n",
    "check_stat1.loc[['M', '-', 'T']]/(len(weather)) * 100"
   ]
  },
  {
   "cell_type": "code",
   "execution_count": 20,
   "metadata": {
    "collapsed": false
   },
   "outputs": [
    {
     "data": {
      "text/html": [
       "<div>\n",
       "<table border=\"1\" class=\"dataframe\">\n",
       "  <thead>\n",
       "    <tr style=\"text-align: right;\">\n",
       "      <th></th>\n",
       "      <th>Station</th>\n",
       "      <th>Tmax</th>\n",
       "      <th>Tmin</th>\n",
       "      <th>Tavg</th>\n",
       "      <th>Depart</th>\n",
       "      <th>Heat</th>\n",
       "      <th>Cool</th>\n",
       "      <th>Sunrise</th>\n",
       "      <th>Sunset</th>\n",
       "      <th>PrecipTotal</th>\n",
       "    </tr>\n",
       "  </thead>\n",
       "  <tbody>\n",
       "    <tr>\n",
       "      <th>M</th>\n",
       "      <td>0.0</td>\n",
       "      <td>0.0</td>\n",
       "      <td>0.0</td>\n",
       "      <td>0.373641</td>\n",
       "      <td>50.0</td>\n",
       "      <td>0.373641</td>\n",
       "      <td>0.373641</td>\n",
       "      <td>0.0</td>\n",
       "      <td>0.0</td>\n",
       "      <td>0.067935</td>\n",
       "    </tr>\n",
       "    <tr>\n",
       "      <th>-</th>\n",
       "      <td>0.0</td>\n",
       "      <td>0.0</td>\n",
       "      <td>0.0</td>\n",
       "      <td>0.000000</td>\n",
       "      <td>0.0</td>\n",
       "      <td>0.000000</td>\n",
       "      <td>0.000000</td>\n",
       "      <td>50.0</td>\n",
       "      <td>50.0</td>\n",
       "      <td>0.000000</td>\n",
       "    </tr>\n",
       "    <tr>\n",
       "      <th>T</th>\n",
       "      <td>0.0</td>\n",
       "      <td>0.0</td>\n",
       "      <td>0.0</td>\n",
       "      <td>0.000000</td>\n",
       "      <td>0.0</td>\n",
       "      <td>0.000000</td>\n",
       "      <td>0.000000</td>\n",
       "      <td>0.0</td>\n",
       "      <td>0.0</td>\n",
       "      <td>5.264946</td>\n",
       "    </tr>\n",
       "  </tbody>\n",
       "</table>\n",
       "</div>"
      ],
      "text/plain": [
       "   Station  Tmax  Tmin      Tavg  Depart      Heat      Cool  Sunrise  Sunset  \\\n",
       "M      0.0   0.0   0.0  0.373641    50.0  0.373641  0.373641      0.0     0.0   \n",
       "-      0.0   0.0   0.0  0.000000     0.0  0.000000  0.000000     50.0    50.0   \n",
       "T      0.0   0.0   0.0  0.000000     0.0  0.000000  0.000000      0.0     0.0   \n",
       "\n",
       "   PrecipTotal  \n",
       "M     0.067935  \n",
       "-     0.000000  \n",
       "T     5.264946  "
      ]
     },
     "execution_count": 20,
     "metadata": {},
     "output_type": "execute_result"
    }
   ],
   "source": [
    "# Station 2()\n",
    "check_stat2.loc[['M', '-', 'T']]/(len(weather)) * 100"
   ]
  },
  {
   "cell_type": "code",
   "execution_count": 21,
   "metadata": {
    "collapsed": true
   },
   "outputs": [],
   "source": [
    "weather = weather.replace('M', np.NaN)\n",
    "weather = weather.replace('-', np.NaN)\n",
    "weather = weather.replace('T', 0.005) # very small amounts of rain can impact mosquito hatches\n",
    "weather.Tmax = weather.Tmax.fillna(method = 'ffill')\n",
    "weather.Tmin = weather.Tmin.fillna(method = 'ffill')\n",
    "weather.Depart = weather.Depart.fillna(method = 'ffill')\n",
    "weather.Heat = weather.Heat.fillna(method = 'ffill')\n",
    "weather.Cool = weather.Cool.fillna(method = 'ffill')\n",
    "weather.PrecipTotal = weather.PrecipTotal.fillna(method = 'ffill')"
   ]
  },
  {
   "cell_type": "code",
   "execution_count": 22,
   "metadata": {
    "collapsed": false
   },
   "outputs": [],
   "source": [
    "# convert datatpypes\n",
    "\n",
    "to_numeric = ['Tmax','Tmin','Tavg', 'Depart', 'Heat', 'Cool', 'PrecipTotal']\n",
    "\n",
    "for col in to_numeric:\n",
    "    weather[col]= pd.to_numeric(weather[col])"
   ]
  },
  {
   "cell_type": "code",
   "execution_count": 23,
   "metadata": {
    "collapsed": false
   },
   "outputs": [],
   "source": [
    "weather.Sunrise = weather.Sunrise.fillna(method = 'ffill')\n",
    "weather.Sunset = weather.Sunset.fillna(method = 'ffill')"
   ]
  },
  {
   "cell_type": "code",
   "execution_count": 24,
   "metadata": {
    "collapsed": false,
    "scrolled": true
   },
   "outputs": [
    {
     "name": "stdout",
     "output_type": "stream",
     "text": [
      "(2925, '1660', '60', 48)\n"
     ]
    }
   ],
   "source": [
    "# sunset has entries where instead of incrementing to the next hour after xx59 it incremented to xx60\n",
    "# This causes an exception, let's take a look\n",
    "counter = 0\n",
    "tracker = []\n",
    "for index, val in enumerate(weather.Sunset):\n",
    "    try:\n",
    "        pd.to_datetime(val, format = '%H%M').time()\n",
    "    except:\n",
    "        counter += 1\n",
    "        tracker.append((index, val, val[2:], counter))\n",
    "\n",
    "print(tracker[-1])\n",
    "\n",
    "# there are 48 exceptions"
   ]
  },
  {
   "cell_type": "code",
   "execution_count": 25,
   "metadata": {
    "collapsed": false
   },
   "outputs": [],
   "source": [
    "# let's deal with this by decrmenting by 1 for each invalid instance\n",
    "weather.Sunset = weather.Sunset.replace('\\+?60', '59', regex = True)"
   ]
  },
  {
   "cell_type": "code",
   "execution_count": 26,
   "metadata": {
    "collapsed": false
   },
   "outputs": [],
   "source": [
    "# time conversion lambda function\n",
    "time_func = lambda x: pd.Timestamp(pd.to_datetime(x, format = '%H%M'))"
   ]
  },
  {
   "cell_type": "code",
   "execution_count": 27,
   "metadata": {
    "collapsed": false
   },
   "outputs": [],
   "source": [
    "weather.Sunrise = weather.Sunrise.apply(time_func)"
   ]
  },
  {
   "cell_type": "code",
   "execution_count": 28,
   "metadata": {
    "collapsed": false
   },
   "outputs": [],
   "source": [
    "weather.Sunset = weather.Sunset.apply(time_func)"
   ]
  },
  {
   "cell_type": "code",
   "execution_count": 29,
   "metadata": {
    "collapsed": false
   },
   "outputs": [],
   "source": [
    "# what is the range of values for sunrise and sunset (in hours)\n",
    "minutes= (weather.Sunset - weather.Sunrise).astype('timedelta64[m]')"
   ]
  },
  {
   "cell_type": "code",
   "execution_count": 30,
   "metadata": {
    "collapsed": false
   },
   "outputs": [],
   "source": [
    "hours = minutes/60"
   ]
  },
  {
   "cell_type": "code",
   "execution_count": 31,
   "metadata": {
    "collapsed": false
   },
   "outputs": [
    {
     "data": {
      "text/plain": [
       "{10.0, 11.0, 12.0, 13.0, 14.0, 15.0}"
      ]
     },
     "execution_count": 31,
     "metadata": {},
     "output_type": "execute_result"
    }
   ],
   "source": [
    "set(np.round(hours.values))"
   ]
  },
  {
   "cell_type": "code",
   "execution_count": 32,
   "metadata": {
    "collapsed": true
   },
   "outputs": [],
   "source": [
    "#create a DayLength column with minute level precsion\n",
    "weather['DayLength_MPrec'] = (weather.Sunset - weather.Sunrise).astype('timedelta64[m]')/60"
   ]
  },
  {
   "cell_type": "code",
   "execution_count": 33,
   "metadata": {
    "collapsed": false
   },
   "outputs": [],
   "source": [
    "#create a DayLength column with rounded to the nearest hour\n",
    "weather['DayLength_NearH'] = np.round(((weather.Sunset - weather.Sunrise).astype('timedelta64[m]')/60).values)"
   ]
  },
  {
   "cell_type": "code",
   "execution_count": 34,
   "metadata": {
    "collapsed": false
   },
   "outputs": [],
   "source": [
    "# length of night with minute level precision\n",
    "weather['NightLength_MPrec']= 24.0 - weather.DayLength_MPrec"
   ]
  },
  {
   "cell_type": "code",
   "execution_count": 35,
   "metadata": {
    "collapsed": true
   },
   "outputs": [],
   "source": [
    "# lenght of night rounded to nearest hour\n",
    "weather['NightLength_NearH']= 24.0 - weather.DayLength_NearH"
   ]
  },
  {
   "cell_type": "code",
   "execution_count": 36,
   "metadata": {
    "collapsed": false
   },
   "outputs": [],
   "source": [
    "# function to calculate sunset and sunrise times in hours\n",
    "hours_RiseSet_func = lambda x: x.minute/60.0 + float(x.hour)"
   ]
  },
  {
   "cell_type": "code",
   "execution_count": 37,
   "metadata": {
    "collapsed": false
   },
   "outputs": [],
   "source": [
    "# sunrise in hours\n",
    "weather['Sunrise_hours'] = weather.Sunrise.apply(hours_RiseSet_func)"
   ]
  },
  {
   "cell_type": "code",
   "execution_count": 38,
   "metadata": {
    "collapsed": true
   },
   "outputs": [],
   "source": [
    "# sunset in hours\n",
    "weather['Sunset_hours'] = weather.Sunset.apply(hours_RiseSet_func)"
   ]
  },
  {
   "cell_type": "code",
   "execution_count": 39,
   "metadata": {
    "collapsed": true
   },
   "outputs": [],
   "source": [
    "mean_func = lambda x: x.mean()\n",
    "\n",
    "blend_cols = ['Tmax', 'Tmin', 'Depart' ,'Heat', 'Cool', 'PrecipTotal']"
   ]
  },
  {
   "cell_type": "code",
   "execution_count": 40,
   "metadata": {
    "collapsed": false
   },
   "outputs": [],
   "source": [
    "blended_cols= ['blended_' + col for col in blend_cols]"
   ]
  },
  {
   "cell_type": "code",
   "execution_count": 41,
   "metadata": {
    "collapsed": false,
    "scrolled": true
   },
   "outputs": [],
   "source": [
    "station_1 = weather[blend_cols][weather.Station == '1']\n",
    "station_2 = weather[blend_cols][weather.Station == '2']"
   ]
  },
  {
   "cell_type": "code",
   "execution_count": 42,
   "metadata": {
    "collapsed": false
   },
   "outputs": [],
   "source": [
    "station_blend = pd.DataFrame((station_1.values + station_2.values)/2, columns= blended_cols)"
   ]
  },
  {
   "cell_type": "code",
   "execution_count": 43,
   "metadata": {
    "collapsed": false
   },
   "outputs": [
    {
     "data": {
      "text/html": [
       "<div>\n",
       "<table border=\"1\" class=\"dataframe\">\n",
       "  <thead>\n",
       "    <tr style=\"text-align: right;\">\n",
       "      <th></th>\n",
       "      <th>Station</th>\n",
       "      <th>Date</th>\n",
       "      <th>Tmax</th>\n",
       "      <th>Tmin</th>\n",
       "      <th>Tavg</th>\n",
       "      <th>Depart</th>\n",
       "      <th>Heat</th>\n",
       "      <th>Cool</th>\n",
       "      <th>Sunrise</th>\n",
       "      <th>Sunset</th>\n",
       "      <th>PrecipTotal</th>\n",
       "      <th>DayLength_MPrec</th>\n",
       "      <th>DayLength_NearH</th>\n",
       "      <th>NightLength_MPrec</th>\n",
       "      <th>NightLength_NearH</th>\n",
       "      <th>Sunrise_hours</th>\n",
       "      <th>Sunset_hours</th>\n",
       "    </tr>\n",
       "  </thead>\n",
       "  <tbody>\n",
       "    <tr>\n",
       "      <th>0</th>\n",
       "      <td>2</td>\n",
       "      <td>2007-05-01</td>\n",
       "      <td>84</td>\n",
       "      <td>52</td>\n",
       "      <td>68.0</td>\n",
       "      <td>14</td>\n",
       "      <td>0</td>\n",
       "      <td>3</td>\n",
       "      <td>1900-01-01 04:48:00</td>\n",
       "      <td>1900-01-01 18:49:00</td>\n",
       "      <td>0.000</td>\n",
       "      <td>14.016667</td>\n",
       "      <td>14.0</td>\n",
       "      <td>9.983333</td>\n",
       "      <td>10.0</td>\n",
       "      <td>4.800000</td>\n",
       "      <td>18.816667</td>\n",
       "    </tr>\n",
       "    <tr>\n",
       "      <th>1</th>\n",
       "      <td>2</td>\n",
       "      <td>2007-05-02</td>\n",
       "      <td>60</td>\n",
       "      <td>43</td>\n",
       "      <td>52.0</td>\n",
       "      <td>-3</td>\n",
       "      <td>13</td>\n",
       "      <td>0</td>\n",
       "      <td>1900-01-01 04:47:00</td>\n",
       "      <td>1900-01-01 18:50:00</td>\n",
       "      <td>0.000</td>\n",
       "      <td>14.050000</td>\n",
       "      <td>14.0</td>\n",
       "      <td>9.950000</td>\n",
       "      <td>10.0</td>\n",
       "      <td>4.783333</td>\n",
       "      <td>18.833333</td>\n",
       "    </tr>\n",
       "    <tr>\n",
       "      <th>2</th>\n",
       "      <td>2</td>\n",
       "      <td>2007-05-03</td>\n",
       "      <td>67</td>\n",
       "      <td>48</td>\n",
       "      <td>58.0</td>\n",
       "      <td>2</td>\n",
       "      <td>7</td>\n",
       "      <td>0</td>\n",
       "      <td>1900-01-01 04:46:00</td>\n",
       "      <td>1900-01-01 18:51:00</td>\n",
       "      <td>0.000</td>\n",
       "      <td>14.083333</td>\n",
       "      <td>14.0</td>\n",
       "      <td>9.916667</td>\n",
       "      <td>10.0</td>\n",
       "      <td>4.766667</td>\n",
       "      <td>18.850000</td>\n",
       "    </tr>\n",
       "    <tr>\n",
       "      <th>3</th>\n",
       "      <td>2</td>\n",
       "      <td>2007-05-04</td>\n",
       "      <td>78</td>\n",
       "      <td>51</td>\n",
       "      <td>NaN</td>\n",
       "      <td>4</td>\n",
       "      <td>7</td>\n",
       "      <td>0</td>\n",
       "      <td>1900-01-01 04:44:00</td>\n",
       "      <td>1900-01-01 18:52:00</td>\n",
       "      <td>0.000</td>\n",
       "      <td>14.133333</td>\n",
       "      <td>14.0</td>\n",
       "      <td>9.866667</td>\n",
       "      <td>10.0</td>\n",
       "      <td>4.733333</td>\n",
       "      <td>18.866667</td>\n",
       "    </tr>\n",
       "    <tr>\n",
       "      <th>4</th>\n",
       "      <td>2</td>\n",
       "      <td>2007-05-05</td>\n",
       "      <td>66</td>\n",
       "      <td>54</td>\n",
       "      <td>60.0</td>\n",
       "      <td>5</td>\n",
       "      <td>5</td>\n",
       "      <td>0</td>\n",
       "      <td>1900-01-01 04:43:00</td>\n",
       "      <td>1900-01-01 18:53:00</td>\n",
       "      <td>0.005</td>\n",
       "      <td>14.166667</td>\n",
       "      <td>14.0</td>\n",
       "      <td>9.833333</td>\n",
       "      <td>10.0</td>\n",
       "      <td>4.716667</td>\n",
       "      <td>18.883333</td>\n",
       "    </tr>\n",
       "  </tbody>\n",
       "</table>\n",
       "</div>"
      ],
      "text/plain": [
       "  Station       Date  Tmax  Tmin  Tavg  Depart  Heat  Cool  \\\n",
       "0       2 2007-05-01    84    52  68.0      14     0     3   \n",
       "1       2 2007-05-02    60    43  52.0      -3    13     0   \n",
       "2       2 2007-05-03    67    48  58.0       2     7     0   \n",
       "3       2 2007-05-04    78    51   NaN       4     7     0   \n",
       "4       2 2007-05-05    66    54  60.0       5     5     0   \n",
       "\n",
       "              Sunrise              Sunset  PrecipTotal  DayLength_MPrec  \\\n",
       "0 1900-01-01 04:48:00 1900-01-01 18:49:00        0.000        14.016667   \n",
       "1 1900-01-01 04:47:00 1900-01-01 18:50:00        0.000        14.050000   \n",
       "2 1900-01-01 04:46:00 1900-01-01 18:51:00        0.000        14.083333   \n",
       "3 1900-01-01 04:44:00 1900-01-01 18:52:00        0.000        14.133333   \n",
       "4 1900-01-01 04:43:00 1900-01-01 18:53:00        0.005        14.166667   \n",
       "\n",
       "   DayLength_NearH  NightLength_MPrec  NightLength_NearH  Sunrise_hours  \\\n",
       "0             14.0           9.983333               10.0       4.800000   \n",
       "1             14.0           9.950000               10.0       4.783333   \n",
       "2             14.0           9.916667               10.0       4.766667   \n",
       "3             14.0           9.866667               10.0       4.733333   \n",
       "4             14.0           9.833333               10.0       4.716667   \n",
       "\n",
       "   Sunset_hours  \n",
       "0     18.816667  \n",
       "1     18.833333  \n",
       "2     18.850000  \n",
       "3     18.866667  \n",
       "4     18.883333  "
      ]
     },
     "execution_count": 43,
     "metadata": {},
     "output_type": "execute_result"
    }
   ],
   "source": [
    "extract_2 = weather[weather.Station == '2'].reset_index(drop = True)\n",
    "extract_2.head()"
   ]
  },
  {
   "cell_type": "code",
   "execution_count": 44,
   "metadata": {
    "collapsed": false
   },
   "outputs": [
    {
     "data": {
      "text/html": [
       "<div>\n",
       "<table border=\"1\" class=\"dataframe\">\n",
       "  <thead>\n",
       "    <tr style=\"text-align: right;\">\n",
       "      <th></th>\n",
       "      <th>Station</th>\n",
       "      <th>Date</th>\n",
       "      <th>Tmax</th>\n",
       "      <th>Tmin</th>\n",
       "      <th>Tavg</th>\n",
       "      <th>Depart</th>\n",
       "      <th>Heat</th>\n",
       "      <th>Cool</th>\n",
       "      <th>Sunrise</th>\n",
       "      <th>Sunset</th>\n",
       "      <th>PrecipTotal</th>\n",
       "      <th>DayLength_MPrec</th>\n",
       "      <th>DayLength_NearH</th>\n",
       "      <th>NightLength_MPrec</th>\n",
       "      <th>NightLength_NearH</th>\n",
       "      <th>Sunrise_hours</th>\n",
       "      <th>Sunset_hours</th>\n",
       "    </tr>\n",
       "  </thead>\n",
       "  <tbody>\n",
       "    <tr>\n",
       "      <th>0</th>\n",
       "      <td>1</td>\n",
       "      <td>2007-05-01</td>\n",
       "      <td>83</td>\n",
       "      <td>50</td>\n",
       "      <td>67.0</td>\n",
       "      <td>14</td>\n",
       "      <td>0</td>\n",
       "      <td>2</td>\n",
       "      <td>1900-01-01 04:48:00</td>\n",
       "      <td>1900-01-01 18:49:00</td>\n",
       "      <td>0.000</td>\n",
       "      <td>14.016667</td>\n",
       "      <td>14.0</td>\n",
       "      <td>9.983333</td>\n",
       "      <td>10.0</td>\n",
       "      <td>4.800000</td>\n",
       "      <td>18.816667</td>\n",
       "    </tr>\n",
       "    <tr>\n",
       "      <th>1</th>\n",
       "      <td>1</td>\n",
       "      <td>2007-05-02</td>\n",
       "      <td>59</td>\n",
       "      <td>42</td>\n",
       "      <td>51.0</td>\n",
       "      <td>-3</td>\n",
       "      <td>14</td>\n",
       "      <td>0</td>\n",
       "      <td>1900-01-01 04:47:00</td>\n",
       "      <td>1900-01-01 18:50:00</td>\n",
       "      <td>0.000</td>\n",
       "      <td>14.050000</td>\n",
       "      <td>14.0</td>\n",
       "      <td>9.950000</td>\n",
       "      <td>10.0</td>\n",
       "      <td>4.783333</td>\n",
       "      <td>18.833333</td>\n",
       "    </tr>\n",
       "    <tr>\n",
       "      <th>2</th>\n",
       "      <td>1</td>\n",
       "      <td>2007-05-03</td>\n",
       "      <td>66</td>\n",
       "      <td>46</td>\n",
       "      <td>56.0</td>\n",
       "      <td>2</td>\n",
       "      <td>9</td>\n",
       "      <td>0</td>\n",
       "      <td>1900-01-01 04:46:00</td>\n",
       "      <td>1900-01-01 18:51:00</td>\n",
       "      <td>0.000</td>\n",
       "      <td>14.083333</td>\n",
       "      <td>14.0</td>\n",
       "      <td>9.916667</td>\n",
       "      <td>10.0</td>\n",
       "      <td>4.766667</td>\n",
       "      <td>18.850000</td>\n",
       "    </tr>\n",
       "    <tr>\n",
       "      <th>3</th>\n",
       "      <td>1</td>\n",
       "      <td>2007-05-04</td>\n",
       "      <td>66</td>\n",
       "      <td>49</td>\n",
       "      <td>58.0</td>\n",
       "      <td>4</td>\n",
       "      <td>7</td>\n",
       "      <td>0</td>\n",
       "      <td>1900-01-01 04:44:00</td>\n",
       "      <td>1900-01-01 18:52:00</td>\n",
       "      <td>0.005</td>\n",
       "      <td>14.133333</td>\n",
       "      <td>14.0</td>\n",
       "      <td>9.866667</td>\n",
       "      <td>10.0</td>\n",
       "      <td>4.733333</td>\n",
       "      <td>18.866667</td>\n",
       "    </tr>\n",
       "    <tr>\n",
       "      <th>4</th>\n",
       "      <td>1</td>\n",
       "      <td>2007-05-05</td>\n",
       "      <td>66</td>\n",
       "      <td>53</td>\n",
       "      <td>60.0</td>\n",
       "      <td>5</td>\n",
       "      <td>5</td>\n",
       "      <td>0</td>\n",
       "      <td>1900-01-01 04:43:00</td>\n",
       "      <td>1900-01-01 18:53:00</td>\n",
       "      <td>0.005</td>\n",
       "      <td>14.166667</td>\n",
       "      <td>14.0</td>\n",
       "      <td>9.833333</td>\n",
       "      <td>10.0</td>\n",
       "      <td>4.716667</td>\n",
       "      <td>18.883333</td>\n",
       "    </tr>\n",
       "  </tbody>\n",
       "</table>\n",
       "</div>"
      ],
      "text/plain": [
       "  Station       Date  Tmax  Tmin  Tavg  Depart  Heat  Cool  \\\n",
       "0       1 2007-05-01    83    50  67.0      14     0     2   \n",
       "1       1 2007-05-02    59    42  51.0      -3    14     0   \n",
       "2       1 2007-05-03    66    46  56.0       2     9     0   \n",
       "3       1 2007-05-04    66    49  58.0       4     7     0   \n",
       "4       1 2007-05-05    66    53  60.0       5     5     0   \n",
       "\n",
       "              Sunrise              Sunset  PrecipTotal  DayLength_MPrec  \\\n",
       "0 1900-01-01 04:48:00 1900-01-01 18:49:00        0.000        14.016667   \n",
       "1 1900-01-01 04:47:00 1900-01-01 18:50:00        0.000        14.050000   \n",
       "2 1900-01-01 04:46:00 1900-01-01 18:51:00        0.000        14.083333   \n",
       "3 1900-01-01 04:44:00 1900-01-01 18:52:00        0.005        14.133333   \n",
       "4 1900-01-01 04:43:00 1900-01-01 18:53:00        0.005        14.166667   \n",
       "\n",
       "   DayLength_NearH  NightLength_MPrec  NightLength_NearH  Sunrise_hours  \\\n",
       "0             14.0           9.983333               10.0       4.800000   \n",
       "1             14.0           9.950000               10.0       4.783333   \n",
       "2             14.0           9.916667               10.0       4.766667   \n",
       "3             14.0           9.866667               10.0       4.733333   \n",
       "4             14.0           9.833333               10.0       4.716667   \n",
       "\n",
       "   Sunset_hours  \n",
       "0     18.816667  \n",
       "1     18.833333  \n",
       "2     18.850000  \n",
       "3     18.866667  \n",
       "4     18.883333  "
      ]
     },
     "execution_count": 44,
     "metadata": {},
     "output_type": "execute_result"
    }
   ],
   "source": [
    "extract_1 = weather[weather.Station == '1'].reset_index(drop = True)\n",
    "extract_1.head()"
   ]
  },
  {
   "cell_type": "code",
   "execution_count": 45,
   "metadata": {
    "collapsed": false
   },
   "outputs": [],
   "source": [
    "joined_1 = extract_1.join(station_blend)\n",
    "joined_2 = extract_2.join(station_blend)"
   ]
  },
  {
   "cell_type": "code",
   "execution_count": 46,
   "metadata": {
    "collapsed": false
   },
   "outputs": [],
   "source": [
    "weather_blend = pd.concat([joined_1, joined_2])"
   ]
  },
  {
   "cell_type": "code",
   "execution_count": 47,
   "metadata": {
    "collapsed": false
   },
   "outputs": [
    {
     "name": "stdout",
     "output_type": "stream",
     "text": [
      "<class 'pandas.core.frame.DataFrame'>\n",
      "Int64Index: 2944 entries, 0 to 1471\n",
      "Data columns (total 23 columns):\n",
      "Station                2944 non-null object\n",
      "Date                   2944 non-null datetime64[ns]\n",
      "Tmax                   2944 non-null int64\n",
      "Tmin                   2944 non-null int64\n",
      "Tavg                   2933 non-null float64\n",
      "Depart                 2944 non-null int64\n",
      "Heat                   2944 non-null int64\n",
      "Cool                   2944 non-null int64\n",
      "Sunrise                2944 non-null datetime64[ns]\n",
      "Sunset                 2944 non-null datetime64[ns]\n",
      "PrecipTotal            2944 non-null float64\n",
      "DayLength_MPrec        2944 non-null float64\n",
      "DayLength_NearH        2944 non-null float64\n",
      "NightLength_MPrec      2944 non-null float64\n",
      "NightLength_NearH      2944 non-null float64\n",
      "Sunrise_hours          2944 non-null float64\n",
      "Sunset_hours           2944 non-null float64\n",
      "blended_Tmax           2944 non-null float64\n",
      "blended_Tmin           2944 non-null float64\n",
      "blended_Depart         2944 non-null float64\n",
      "blended_Heat           2944 non-null float64\n",
      "blended_Cool           2944 non-null float64\n",
      "blended_PrecipTotal    2944 non-null float64\n",
      "dtypes: datetime64[ns](3), float64(14), int64(5), object(1)\n",
      "memory usage: 540.5+ KB\n"
     ]
    }
   ],
   "source": [
    "weather_blend.info()"
   ]
  },
  {
   "cell_type": "markdown",
   "metadata": {},
   "source": [
    "### Create Month and Day columns"
   ]
  },
  {
   "cell_type": "code",
   "execution_count": 48,
   "metadata": {
    "collapsed": false
   },
   "outputs": [],
   "source": [
    "month_func = lambda x: x.month\n",
    "day_func= lambda x: x.day\n",
    "day_of_year_func = lambda x: x.dayofyear\n",
    "week_of_year_func = lambda x: x.week\n",
    "\n",
    "# train\n",
    "train['month'] = train.Date.apply(month_func)\n",
    "train['day'] = train.Date.apply(day_func)\n",
    "train['day_of_year'] = train.Date.apply(day_of_year_func)\n",
    "train['week'] = train.Date.apply(week_of_year_func)\n",
    "\n",
    "# test\n",
    "test['month'] = test.Date.apply(month_func)\n",
    "test['day'] = test.Date.apply(day_func)\n",
    "test['day_of_year'] = test.Date.apply(day_of_year_func)\n",
    "test['week'] = test.Date.apply(week_of_year_func)"
   ]
  },
  {
   "cell_type": "raw",
   "metadata": {},
   "source": [
    "### Create integer latitude and longitude columns\n",
    "\n",
    "train['Lat_int'] = train.Latitude.apply(int)\n",
    "train['Long_int'] = train.Longitude.apply(int)\n",
    "test['Lat_int'] = test.Latitude.apply(int)\n",
    "test['Long_int'] = test.Longitude.apply(int)"
   ]
  },
  {
   "cell_type": "code",
   "execution_count": 49,
   "metadata": {
    "collapsed": false
   },
   "outputs": [
    {
     "data": {
      "text/html": [
       "<div>\n",
       "<table border=\"1\" class=\"dataframe\">\n",
       "  <thead>\n",
       "    <tr style=\"text-align: right;\">\n",
       "      <th></th>\n",
       "      <th>Latitude</th>\n",
       "      <th>Longitude</th>\n",
       "      <th>WnvPresent</th>\n",
       "      <th>month</th>\n",
       "      <th>day</th>\n",
       "      <th>day_of_year</th>\n",
       "      <th>week</th>\n",
       "    </tr>\n",
       "  </thead>\n",
       "  <tbody>\n",
       "    <tr>\n",
       "      <th>count</th>\n",
       "      <td>10506.000000</td>\n",
       "      <td>10506.000000</td>\n",
       "      <td>10506.000000</td>\n",
       "      <td>10506.000000</td>\n",
       "      <td>10506.000000</td>\n",
       "      <td>10506.000000</td>\n",
       "      <td>10506.000000</td>\n",
       "    </tr>\n",
       "    <tr>\n",
       "      <th>mean</th>\n",
       "      <td>41.841139</td>\n",
       "      <td>-87.699908</td>\n",
       "      <td>0.052446</td>\n",
       "      <td>7.692557</td>\n",
       "      <td>15.341424</td>\n",
       "      <td>217.941938</td>\n",
       "      <td>31.687131</td>\n",
       "    </tr>\n",
       "    <tr>\n",
       "      <th>std</th>\n",
       "      <td>0.112742</td>\n",
       "      <td>0.096514</td>\n",
       "      <td>0.222936</td>\n",
       "      <td>1.067675</td>\n",
       "      <td>8.901205</td>\n",
       "      <td>31.735797</td>\n",
       "      <td>4.526874</td>\n",
       "    </tr>\n",
       "    <tr>\n",
       "      <th>min</th>\n",
       "      <td>41.644612</td>\n",
       "      <td>-87.930995</td>\n",
       "      <td>0.000000</td>\n",
       "      <td>5.000000</td>\n",
       "      <td>1.000000</td>\n",
       "      <td>148.000000</td>\n",
       "      <td>22.000000</td>\n",
       "    </tr>\n",
       "    <tr>\n",
       "      <th>25%</th>\n",
       "      <td>41.732984</td>\n",
       "      <td>-87.760070</td>\n",
       "      <td>0.000000</td>\n",
       "      <td>7.000000</td>\n",
       "      <td>7.000000</td>\n",
       "      <td>196.000000</td>\n",
       "      <td>28.000000</td>\n",
       "    </tr>\n",
       "    <tr>\n",
       "      <th>50%</th>\n",
       "      <td>41.846283</td>\n",
       "      <td>-87.694991</td>\n",
       "      <td>0.000000</td>\n",
       "      <td>8.000000</td>\n",
       "      <td>15.000000</td>\n",
       "      <td>217.000000</td>\n",
       "      <td>31.000000</td>\n",
       "    </tr>\n",
       "    <tr>\n",
       "      <th>75%</th>\n",
       "      <td>41.954690</td>\n",
       "      <td>-87.627796</td>\n",
       "      <td>0.000000</td>\n",
       "      <td>8.000000</td>\n",
       "      <td>24.000000</td>\n",
       "      <td>241.000000</td>\n",
       "      <td>35.000000</td>\n",
       "    </tr>\n",
       "    <tr>\n",
       "      <th>max</th>\n",
       "      <td>42.017430</td>\n",
       "      <td>-87.531635</td>\n",
       "      <td>1.000000</td>\n",
       "      <td>10.000000</td>\n",
       "      <td>31.000000</td>\n",
       "      <td>282.000000</td>\n",
       "      <td>41.000000</td>\n",
       "    </tr>\n",
       "  </tbody>\n",
       "</table>\n",
       "</div>"
      ],
      "text/plain": [
       "           Latitude     Longitude    WnvPresent         month           day  \\\n",
       "count  10506.000000  10506.000000  10506.000000  10506.000000  10506.000000   \n",
       "mean      41.841139    -87.699908      0.052446      7.692557     15.341424   \n",
       "std        0.112742      0.096514      0.222936      1.067675      8.901205   \n",
       "min       41.644612    -87.930995      0.000000      5.000000      1.000000   \n",
       "25%       41.732984    -87.760070      0.000000      7.000000      7.000000   \n",
       "50%       41.846283    -87.694991      0.000000      8.000000     15.000000   \n",
       "75%       41.954690    -87.627796      0.000000      8.000000     24.000000   \n",
       "max       42.017430    -87.531635      1.000000     10.000000     31.000000   \n",
       "\n",
       "        day_of_year          week  \n",
       "count  10506.000000  10506.000000  \n",
       "mean     217.941938     31.687131  \n",
       "std       31.735797      4.526874  \n",
       "min      148.000000     22.000000  \n",
       "25%      196.000000     28.000000  \n",
       "50%      217.000000     31.000000  \n",
       "75%      241.000000     35.000000  \n",
       "max      282.000000     41.000000  "
      ]
     },
     "execution_count": 49,
     "metadata": {},
     "output_type": "execute_result"
    }
   ],
   "source": [
    "train.describe()"
   ]
  },
  {
   "cell_type": "code",
   "execution_count": 50,
   "metadata": {
    "collapsed": false
   },
   "outputs": [
    {
     "data": {
      "text/html": [
       "<div>\n",
       "<table border=\"1\" class=\"dataframe\">\n",
       "  <thead>\n",
       "    <tr style=\"text-align: right;\">\n",
       "      <th></th>\n",
       "      <th>Latitude</th>\n",
       "      <th>Longitude</th>\n",
       "      <th>month</th>\n",
       "      <th>day</th>\n",
       "      <th>day_of_year</th>\n",
       "      <th>week</th>\n",
       "    </tr>\n",
       "  </thead>\n",
       "  <tbody>\n",
       "    <tr>\n",
       "      <th>count</th>\n",
       "      <td>116293.000000</td>\n",
       "      <td>116293.000000</td>\n",
       "      <td>116293.000000</td>\n",
       "      <td>116293.000000</td>\n",
       "      <td>116293.000000</td>\n",
       "      <td>116293.000000</td>\n",
       "    </tr>\n",
       "    <tr>\n",
       "      <th>mean</th>\n",
       "      <td>41.849389</td>\n",
       "      <td>-87.693658</td>\n",
       "      <td>7.620244</td>\n",
       "      <td>16.187681</td>\n",
       "      <td>217.057304</td>\n",
       "      <td>31.417833</td>\n",
       "    </tr>\n",
       "    <tr>\n",
       "      <th>std</th>\n",
       "      <td>0.106593</td>\n",
       "      <td>0.080699</td>\n",
       "      <td>1.065842</td>\n",
       "      <td>8.800007</td>\n",
       "      <td>32.536523</td>\n",
       "      <td>4.660725</td>\n",
       "    </tr>\n",
       "    <tr>\n",
       "      <th>min</th>\n",
       "      <td>41.644612</td>\n",
       "      <td>-87.930995</td>\n",
       "      <td>6.000000</td>\n",
       "      <td>1.000000</td>\n",
       "      <td>153.000000</td>\n",
       "      <td>22.000000</td>\n",
       "    </tr>\n",
       "    <tr>\n",
       "      <th>25%</th>\n",
       "      <td>41.753411</td>\n",
       "      <td>-87.750938</td>\n",
       "      <td>7.000000</td>\n",
       "      <td>10.000000</td>\n",
       "      <td>193.000000</td>\n",
       "      <td>28.000000</td>\n",
       "    </tr>\n",
       "    <tr>\n",
       "      <th>50%</th>\n",
       "      <td>41.862292</td>\n",
       "      <td>-87.694991</td>\n",
       "      <td>8.000000</td>\n",
       "      <td>17.000000</td>\n",
       "      <td>217.000000</td>\n",
       "      <td>31.000000</td>\n",
       "    </tr>\n",
       "    <tr>\n",
       "      <th>75%</th>\n",
       "      <td>41.951866</td>\n",
       "      <td>-87.648860</td>\n",
       "      <td>8.000000</td>\n",
       "      <td>24.000000</td>\n",
       "      <td>244.000000</td>\n",
       "      <td>35.000000</td>\n",
       "    </tr>\n",
       "    <tr>\n",
       "      <th>max</th>\n",
       "      <td>42.017430</td>\n",
       "      <td>-87.531635</td>\n",
       "      <td>10.000000</td>\n",
       "      <td>31.000000</td>\n",
       "      <td>275.000000</td>\n",
       "      <td>40.000000</td>\n",
       "    </tr>\n",
       "  </tbody>\n",
       "</table>\n",
       "</div>"
      ],
      "text/plain": [
       "            Latitude      Longitude          month            day  \\\n",
       "count  116293.000000  116293.000000  116293.000000  116293.000000   \n",
       "mean       41.849389     -87.693658       7.620244      16.187681   \n",
       "std         0.106593       0.080699       1.065842       8.800007   \n",
       "min        41.644612     -87.930995       6.000000       1.000000   \n",
       "25%        41.753411     -87.750938       7.000000      10.000000   \n",
       "50%        41.862292     -87.694991       8.000000      17.000000   \n",
       "75%        41.951866     -87.648860       8.000000      24.000000   \n",
       "max        42.017430     -87.531635      10.000000      31.000000   \n",
       "\n",
       "         day_of_year           week  \n",
       "count  116293.000000  116293.000000  \n",
       "mean      217.057304      31.417833  \n",
       "std        32.536523       4.660725  \n",
       "min       153.000000      22.000000  \n",
       "25%       193.000000      28.000000  \n",
       "50%       217.000000      31.000000  \n",
       "75%       244.000000      35.000000  \n",
       "max       275.000000      40.000000  "
      ]
     },
     "execution_count": 50,
     "metadata": {},
     "output_type": "execute_result"
    }
   ],
   "source": [
    "test.describe()"
   ]
  },
  {
   "cell_type": "code",
   "execution_count": 51,
   "metadata": {
    "collapsed": true
   },
   "outputs": [],
   "source": [
    "# remove sunrise and sunset since we have extracted critical information into other fields\n",
    "sunrise= weather_blend.pop('Sunrise')\n",
    "sunset= weather_blend.pop('Sunset')"
   ]
  },
  {
   "cell_type": "markdown",
   "metadata": {},
   "source": [
    "### Merge Data"
   ]
  },
  {
   "cell_type": "code",
   "execution_count": 52,
   "metadata": {
    "collapsed": false
   },
   "outputs": [],
   "source": [
    "train = train.merge(weather_blend, on='Date')\n",
    "test = test.merge(weather_blend, on='Date')"
   ]
  },
  {
   "cell_type": "markdown",
   "metadata": {},
   "source": [
    "### Inspect DFs"
   ]
  },
  {
   "cell_type": "code",
   "execution_count": 53,
   "metadata": {
    "collapsed": false
   },
   "outputs": [
    {
     "data": {
      "text/html": [
       "<div>\n",
       "<table border=\"1\" class=\"dataframe\">\n",
       "  <thead>\n",
       "    <tr style=\"text-align: right;\">\n",
       "      <th></th>\n",
       "      <th>Tmax</th>\n",
       "      <th>Tmin</th>\n",
       "      <th>Tavg</th>\n",
       "      <th>Depart</th>\n",
       "      <th>Heat</th>\n",
       "      <th>Cool</th>\n",
       "      <th>PrecipTotal</th>\n",
       "      <th>DayLength_MPrec</th>\n",
       "      <th>DayLength_NearH</th>\n",
       "      <th>NightLength_MPrec</th>\n",
       "    </tr>\n",
       "  </thead>\n",
       "  <tbody>\n",
       "    <tr>\n",
       "      <th>count</th>\n",
       "      <td>2944.000000</td>\n",
       "      <td>2944.000000</td>\n",
       "      <td>2933.000000</td>\n",
       "      <td>2944.000000</td>\n",
       "      <td>2944.000000</td>\n",
       "      <td>2944.000000</td>\n",
       "      <td>2944.000000</td>\n",
       "      <td>2944.000000</td>\n",
       "      <td>2944.000000</td>\n",
       "      <td>2944.000000</td>\n",
       "    </tr>\n",
       "    <tr>\n",
       "      <th>mean</th>\n",
       "      <td>76.166101</td>\n",
       "      <td>57.810462</td>\n",
       "      <td>67.240027</td>\n",
       "      <td>1.954484</td>\n",
       "      <td>3.417799</td>\n",
       "      <td>5.641304</td>\n",
       "      <td>0.131780</td>\n",
       "      <td>13.669384</td>\n",
       "      <td>13.646739</td>\n",
       "      <td>10.330616</td>\n",
       "    </tr>\n",
       "    <tr>\n",
       "      <th>std</th>\n",
       "      <td>11.461970</td>\n",
       "      <td>10.381939</td>\n",
       "      <td>10.545442</td>\n",
       "      <td>6.839947</td>\n",
       "      <td>5.955153</td>\n",
       "      <td>6.104849</td>\n",
       "      <td>0.393031</td>\n",
       "      <td>1.489822</td>\n",
       "      <td>1.485758</td>\n",
       "      <td>1.489822</td>\n",
       "    </tr>\n",
       "    <tr>\n",
       "      <th>min</th>\n",
       "      <td>41.000000</td>\n",
       "      <td>29.000000</td>\n",
       "      <td>36.000000</td>\n",
       "      <td>-17.000000</td>\n",
       "      <td>0.000000</td>\n",
       "      <td>0.000000</td>\n",
       "      <td>0.000000</td>\n",
       "      <td>10.400000</td>\n",
       "      <td>10.000000</td>\n",
       "      <td>8.766667</td>\n",
       "    </tr>\n",
       "    <tr>\n",
       "      <th>25%</th>\n",
       "      <td>69.000000</td>\n",
       "      <td>50.000000</td>\n",
       "      <td>60.000000</td>\n",
       "      <td>-3.000000</td>\n",
       "      <td>0.000000</td>\n",
       "      <td>0.000000</td>\n",
       "      <td>0.000000</td>\n",
       "      <td>12.512500</td>\n",
       "      <td>12.750000</td>\n",
       "      <td>9.045833</td>\n",
       "    </tr>\n",
       "    <tr>\n",
       "      <th>50%</th>\n",
       "      <td>78.000000</td>\n",
       "      <td>59.000000</td>\n",
       "      <td>69.000000</td>\n",
       "      <td>2.000000</td>\n",
       "      <td>0.000000</td>\n",
       "      <td>4.000000</td>\n",
       "      <td>0.000000</td>\n",
       "      <td>14.233333</td>\n",
       "      <td>14.000000</td>\n",
       "      <td>9.766667</td>\n",
       "    </tr>\n",
       "    <tr>\n",
       "      <th>75%</th>\n",
       "      <td>85.000000</td>\n",
       "      <td>66.000000</td>\n",
       "      <td>75.000000</td>\n",
       "      <td>7.000000</td>\n",
       "      <td>5.000000</td>\n",
       "      <td>10.000000</td>\n",
       "      <td>0.060000</td>\n",
       "      <td>14.954167</td>\n",
       "      <td>15.000000</td>\n",
       "      <td>11.487500</td>\n",
       "    </tr>\n",
       "    <tr>\n",
       "      <th>max</th>\n",
       "      <td>104.000000</td>\n",
       "      <td>83.000000</td>\n",
       "      <td>94.000000</td>\n",
       "      <td>23.000000</td>\n",
       "      <td>29.000000</td>\n",
       "      <td>29.000000</td>\n",
       "      <td>6.860000</td>\n",
       "      <td>15.233333</td>\n",
       "      <td>15.000000</td>\n",
       "      <td>13.600000</td>\n",
       "    </tr>\n",
       "  </tbody>\n",
       "</table>\n",
       "</div>"
      ],
      "text/plain": [
       "              Tmax         Tmin         Tavg       Depart         Heat  \\\n",
       "count  2944.000000  2944.000000  2933.000000  2944.000000  2944.000000   \n",
       "mean     76.166101    57.810462    67.240027     1.954484     3.417799   \n",
       "std      11.461970    10.381939    10.545442     6.839947     5.955153   \n",
       "min      41.000000    29.000000    36.000000   -17.000000     0.000000   \n",
       "25%      69.000000    50.000000    60.000000    -3.000000     0.000000   \n",
       "50%      78.000000    59.000000    69.000000     2.000000     0.000000   \n",
       "75%      85.000000    66.000000    75.000000     7.000000     5.000000   \n",
       "max     104.000000    83.000000    94.000000    23.000000    29.000000   \n",
       "\n",
       "              Cool  PrecipTotal  DayLength_MPrec  DayLength_NearH  \\\n",
       "count  2944.000000  2944.000000      2944.000000      2944.000000   \n",
       "mean      5.641304     0.131780        13.669384        13.646739   \n",
       "std       6.104849     0.393031         1.489822         1.485758   \n",
       "min       0.000000     0.000000        10.400000        10.000000   \n",
       "25%       0.000000     0.000000        12.512500        12.750000   \n",
       "50%       4.000000     0.000000        14.233333        14.000000   \n",
       "75%      10.000000     0.060000        14.954167        15.000000   \n",
       "max      29.000000     6.860000        15.233333        15.000000   \n",
       "\n",
       "       NightLength_MPrec  \n",
       "count        2944.000000  \n",
       "mean           10.330616  \n",
       "std             1.489822  \n",
       "min             8.766667  \n",
       "25%             9.045833  \n",
       "50%             9.766667  \n",
       "75%            11.487500  \n",
       "max            13.600000  "
      ]
     },
     "execution_count": 53,
     "metadata": {},
     "output_type": "execute_result"
    }
   ],
   "source": [
    "weather_blend.ix[:,:12].describe()"
   ]
  },
  {
   "cell_type": "code",
   "execution_count": 54,
   "metadata": {
    "collapsed": false
   },
   "outputs": [
    {
     "data": {
      "text/html": [
       "<div>\n",
       "<table border=\"1\" class=\"dataframe\">\n",
       "  <thead>\n",
       "    <tr style=\"text-align: right;\">\n",
       "      <th></th>\n",
       "      <th>NightLength_NearH</th>\n",
       "      <th>Sunrise_hours</th>\n",
       "      <th>Sunset_hours</th>\n",
       "      <th>blended_Tmax</th>\n",
       "      <th>blended_Tmin</th>\n",
       "      <th>blended_Depart</th>\n",
       "      <th>blended_Heat</th>\n",
       "      <th>blended_Cool</th>\n",
       "      <th>blended_PrecipTotal</th>\n",
       "    </tr>\n",
       "  </thead>\n",
       "  <tbody>\n",
       "    <tr>\n",
       "      <th>count</th>\n",
       "      <td>2944.000000</td>\n",
       "      <td>2944.000000</td>\n",
       "      <td>2944.000000</td>\n",
       "      <td>2944.000000</td>\n",
       "      <td>2944.000000</td>\n",
       "      <td>2944.000000</td>\n",
       "      <td>2944.000000</td>\n",
       "      <td>2944.000000</td>\n",
       "      <td>2944.00000</td>\n",
       "    </tr>\n",
       "    <tr>\n",
       "      <th>mean</th>\n",
       "      <td>10.353261</td>\n",
       "      <td>4.992663</td>\n",
       "      <td>18.662047</td>\n",
       "      <td>76.166101</td>\n",
       "      <td>57.810462</td>\n",
       "      <td>1.954484</td>\n",
       "      <td>3.417799</td>\n",
       "      <td>5.641304</td>\n",
       "      <td>0.13178</td>\n",
       "    </tr>\n",
       "    <tr>\n",
       "      <th>std</th>\n",
       "      <td>1.485758</td>\n",
       "      <td>0.651771</td>\n",
       "      <td>0.843787</td>\n",
       "      <td>11.422764</td>\n",
       "      <td>10.268370</td>\n",
       "      <td>6.839947</td>\n",
       "      <td>5.932802</td>\n",
       "      <td>6.061981</td>\n",
       "      <td>0.35829</td>\n",
       "    </tr>\n",
       "    <tr>\n",
       "      <th>min</th>\n",
       "      <td>9.000000</td>\n",
       "      <td>4.266667</td>\n",
       "      <td>16.783333</td>\n",
       "      <td>41.500000</td>\n",
       "      <td>29.000000</td>\n",
       "      <td>-17.000000</td>\n",
       "      <td>0.000000</td>\n",
       "      <td>0.000000</td>\n",
       "      <td>0.00000</td>\n",
       "    </tr>\n",
       "    <tr>\n",
       "      <th>25%</th>\n",
       "      <td>9.000000</td>\n",
       "      <td>4.412500</td>\n",
       "      <td>18.033333</td>\n",
       "      <td>68.500000</td>\n",
       "      <td>50.500000</td>\n",
       "      <td>-3.000000</td>\n",
       "      <td>0.000000</td>\n",
       "      <td>0.000000</td>\n",
       "      <td>0.00000</td>\n",
       "    </tr>\n",
       "    <tr>\n",
       "      <th>50%</th>\n",
       "      <td>10.000000</td>\n",
       "      <td>4.775000</td>\n",
       "      <td>18.983333</td>\n",
       "      <td>78.500000</td>\n",
       "      <td>59.500000</td>\n",
       "      <td>2.000000</td>\n",
       "      <td>0.000000</td>\n",
       "      <td>4.000000</td>\n",
       "      <td>0.00250</td>\n",
       "    </tr>\n",
       "    <tr>\n",
       "      <th>75%</th>\n",
       "      <td>11.250000</td>\n",
       "      <td>5.520833</td>\n",
       "      <td>19.370833</td>\n",
       "      <td>84.500000</td>\n",
       "      <td>65.500000</td>\n",
       "      <td>7.000000</td>\n",
       "      <td>4.500000</td>\n",
       "      <td>10.500000</td>\n",
       "      <td>0.08000</td>\n",
       "    </tr>\n",
       "    <tr>\n",
       "      <th>max</th>\n",
       "      <td>14.000000</td>\n",
       "      <td>6.383333</td>\n",
       "      <td>19.516667</td>\n",
       "      <td>103.500000</td>\n",
       "      <td>82.500000</td>\n",
       "      <td>23.000000</td>\n",
       "      <td>29.000000</td>\n",
       "      <td>28.500000</td>\n",
       "      <td>4.85500</td>\n",
       "    </tr>\n",
       "  </tbody>\n",
       "</table>\n",
       "</div>"
      ],
      "text/plain": [
       "       NightLength_NearH  Sunrise_hours  Sunset_hours  blended_Tmax  \\\n",
       "count        2944.000000    2944.000000   2944.000000   2944.000000   \n",
       "mean           10.353261       4.992663     18.662047     76.166101   \n",
       "std             1.485758       0.651771      0.843787     11.422764   \n",
       "min             9.000000       4.266667     16.783333     41.500000   \n",
       "25%             9.000000       4.412500     18.033333     68.500000   \n",
       "50%            10.000000       4.775000     18.983333     78.500000   \n",
       "75%            11.250000       5.520833     19.370833     84.500000   \n",
       "max            14.000000       6.383333     19.516667    103.500000   \n",
       "\n",
       "       blended_Tmin  blended_Depart  blended_Heat  blended_Cool  \\\n",
       "count   2944.000000     2944.000000   2944.000000   2944.000000   \n",
       "mean      57.810462        1.954484      3.417799      5.641304   \n",
       "std       10.268370        6.839947      5.932802      6.061981   \n",
       "min       29.000000      -17.000000      0.000000      0.000000   \n",
       "25%       50.500000       -3.000000      0.000000      0.000000   \n",
       "50%       59.500000        2.000000      0.000000      4.000000   \n",
       "75%       65.500000        7.000000      4.500000     10.500000   \n",
       "max       82.500000       23.000000     29.000000     28.500000   \n",
       "\n",
       "       blended_PrecipTotal  \n",
       "count           2944.00000  \n",
       "mean               0.13178  \n",
       "std                0.35829  \n",
       "min                0.00000  \n",
       "25%                0.00000  \n",
       "50%                0.00250  \n",
       "75%                0.08000  \n",
       "max                4.85500  "
      ]
     },
     "execution_count": 54,
     "metadata": {},
     "output_type": "execute_result"
    }
   ],
   "source": [
    "weather_blend.ix[:,12:].describe()"
   ]
  },
  {
   "cell_type": "code",
   "execution_count": 55,
   "metadata": {
    "collapsed": false,
    "scrolled": true
   },
   "outputs": [
    {
     "data": {
      "text/html": [
       "<div>\n",
       "<table border=\"1\" class=\"dataframe\">\n",
       "  <thead>\n",
       "    <tr style=\"text-align: right;\">\n",
       "      <th></th>\n",
       "      <th>Latitude</th>\n",
       "      <th>Longitude</th>\n",
       "      <th>WnvPresent</th>\n",
       "      <th>month</th>\n",
       "      <th>day</th>\n",
       "      <th>day_of_year</th>\n",
       "      <th>week</th>\n",
       "      <th>Tmax</th>\n",
       "      <th>Tmin</th>\n",
       "      <th>Tavg</th>\n",
       "      <th>...</th>\n",
       "      <th>NightLength_MPrec</th>\n",
       "      <th>NightLength_NearH</th>\n",
       "      <th>Sunrise_hours</th>\n",
       "      <th>Sunset_hours</th>\n",
       "      <th>blended_Tmax</th>\n",
       "      <th>blended_Tmin</th>\n",
       "      <th>blended_Depart</th>\n",
       "      <th>blended_Heat</th>\n",
       "      <th>blended_Cool</th>\n",
       "      <th>blended_PrecipTotal</th>\n",
       "    </tr>\n",
       "  </thead>\n",
       "  <tbody>\n",
       "    <tr>\n",
       "      <th>count</th>\n",
       "      <td>21012.000000</td>\n",
       "      <td>21012.000000</td>\n",
       "      <td>21012.000000</td>\n",
       "      <td>21012.000000</td>\n",
       "      <td>21012.000000</td>\n",
       "      <td>21012.000000</td>\n",
       "      <td>21012.000000</td>\n",
       "      <td>21012.000000</td>\n",
       "      <td>21012.000000</td>\n",
       "      <td>21012.000000</td>\n",
       "      <td>...</td>\n",
       "      <td>21012.000000</td>\n",
       "      <td>21012.000000</td>\n",
       "      <td>21012.000000</td>\n",
       "      <td>21012.000000</td>\n",
       "      <td>21012.000000</td>\n",
       "      <td>21012.000000</td>\n",
       "      <td>21012.000000</td>\n",
       "      <td>21012.000000</td>\n",
       "      <td>21012.000000</td>\n",
       "      <td>21012.000000</td>\n",
       "    </tr>\n",
       "    <tr>\n",
       "      <th>mean</th>\n",
       "      <td>41.841139</td>\n",
       "      <td>-87.699908</td>\n",
       "      <td>0.052446</td>\n",
       "      <td>7.692557</td>\n",
       "      <td>15.341424</td>\n",
       "      <td>217.941938</td>\n",
       "      <td>31.687131</td>\n",
       "      <td>81.917095</td>\n",
       "      <td>63.647202</td>\n",
       "      <td>73.022463</td>\n",
       "      <td>...</td>\n",
       "      <td>9.993359</td>\n",
       "      <td>10.031696</td>\n",
       "      <td>4.890621</td>\n",
       "      <td>18.897262</td>\n",
       "      <td>81.917095</td>\n",
       "      <td>63.647202</td>\n",
       "      <td>2.740244</td>\n",
       "      <td>0.886208</td>\n",
       "      <td>8.908671</td>\n",
       "      <td>0.146082</td>\n",
       "    </tr>\n",
       "    <tr>\n",
       "      <th>std</th>\n",
       "      <td>0.112739</td>\n",
       "      <td>0.096512</td>\n",
       "      <td>0.222930</td>\n",
       "      <td>1.067649</td>\n",
       "      <td>8.900993</td>\n",
       "      <td>31.735042</td>\n",
       "      <td>4.526766</td>\n",
       "      <td>8.290251</td>\n",
       "      <td>7.593949</td>\n",
       "      <td>7.501455</td>\n",
       "      <td>...</td>\n",
       "      <td>1.048358</td>\n",
       "      <td>1.047465</td>\n",
       "      <td>0.463813</td>\n",
       "      <td>0.589987</td>\n",
       "      <td>8.272521</td>\n",
       "      <td>7.486933</td>\n",
       "      <td>6.486313</td>\n",
       "      <td>2.697339</td>\n",
       "      <td>5.712594</td>\n",
       "      <td>0.323131</td>\n",
       "    </tr>\n",
       "    <tr>\n",
       "      <th>min</th>\n",
       "      <td>41.644612</td>\n",
       "      <td>-87.930995</td>\n",
       "      <td>0.000000</td>\n",
       "      <td>5.000000</td>\n",
       "      <td>1.000000</td>\n",
       "      <td>148.000000</td>\n",
       "      <td>22.000000</td>\n",
       "      <td>57.000000</td>\n",
       "      <td>41.000000</td>\n",
       "      <td>50.000000</td>\n",
       "      <td>...</td>\n",
       "      <td>8.766667</td>\n",
       "      <td>9.000000</td>\n",
       "      <td>4.266667</td>\n",
       "      <td>17.333333</td>\n",
       "      <td>57.500000</td>\n",
       "      <td>42.500000</td>\n",
       "      <td>-12.000000</td>\n",
       "      <td>0.000000</td>\n",
       "      <td>0.000000</td>\n",
       "      <td>0.000000</td>\n",
       "    </tr>\n",
       "    <tr>\n",
       "      <th>25%</th>\n",
       "      <td>41.732984</td>\n",
       "      <td>-87.760070</td>\n",
       "      <td>0.000000</td>\n",
       "      <td>7.000000</td>\n",
       "      <td>7.000000</td>\n",
       "      <td>196.000000</td>\n",
       "      <td>28.000000</td>\n",
       "      <td>78.000000</td>\n",
       "      <td>59.000000</td>\n",
       "      <td>70.000000</td>\n",
       "      <td>...</td>\n",
       "      <td>9.050000</td>\n",
       "      <td>9.000000</td>\n",
       "      <td>4.483333</td>\n",
       "      <td>18.533333</td>\n",
       "      <td>78.000000</td>\n",
       "      <td>59.500000</td>\n",
       "      <td>-2.000000</td>\n",
       "      <td>0.000000</td>\n",
       "      <td>5.000000</td>\n",
       "      <td>0.000000</td>\n",
       "    </tr>\n",
       "    <tr>\n",
       "      <th>50%</th>\n",
       "      <td>41.846283</td>\n",
       "      <td>-87.694991</td>\n",
       "      <td>0.000000</td>\n",
       "      <td>8.000000</td>\n",
       "      <td>15.000000</td>\n",
       "      <td>217.000000</td>\n",
       "      <td>31.000000</td>\n",
       "      <td>83.000000</td>\n",
       "      <td>65.000000</td>\n",
       "      <td>75.000000</td>\n",
       "      <td>...</td>\n",
       "      <td>9.700000</td>\n",
       "      <td>10.000000</td>\n",
       "      <td>4.816667</td>\n",
       "      <td>19.116667</td>\n",
       "      <td>83.000000</td>\n",
       "      <td>65.500000</td>\n",
       "      <td>4.000000</td>\n",
       "      <td>0.000000</td>\n",
       "      <td>9.500000</td>\n",
       "      <td>0.000000</td>\n",
       "    </tr>\n",
       "    <tr>\n",
       "      <th>75%</th>\n",
       "      <td>41.954690</td>\n",
       "      <td>-87.627796</td>\n",
       "      <td>0.000000</td>\n",
       "      <td>8.000000</td>\n",
       "      <td>24.000000</td>\n",
       "      <td>241.000000</td>\n",
       "      <td>35.000000</td>\n",
       "      <td>88.000000</td>\n",
       "      <td>69.000000</td>\n",
       "      <td>79.000000</td>\n",
       "      <td>...</td>\n",
       "      <td>10.700000</td>\n",
       "      <td>11.000000</td>\n",
       "      <td>5.233333</td>\n",
       "      <td>19.400000</td>\n",
       "      <td>88.000000</td>\n",
       "      <td>69.500000</td>\n",
       "      <td>8.000000</td>\n",
       "      <td>0.000000</td>\n",
       "      <td>13.500000</td>\n",
       "      <td>0.130000</td>\n",
       "    </tr>\n",
       "    <tr>\n",
       "      <th>max</th>\n",
       "      <td>42.017430</td>\n",
       "      <td>-87.531635</td>\n",
       "      <td>1.000000</td>\n",
       "      <td>10.000000</td>\n",
       "      <td>31.000000</td>\n",
       "      <td>282.000000</td>\n",
       "      <td>41.000000</td>\n",
       "      <td>97.000000</td>\n",
       "      <td>79.000000</td>\n",
       "      <td>87.000000</td>\n",
       "      <td>...</td>\n",
       "      <td>12.616667</td>\n",
       "      <td>13.000000</td>\n",
       "      <td>5.950000</td>\n",
       "      <td>19.516667</td>\n",
       "      <td>96.500000</td>\n",
       "      <td>77.500000</td>\n",
       "      <td>18.000000</td>\n",
       "      <td>14.000000</td>\n",
       "      <td>20.500000</td>\n",
       "      <td>2.420000</td>\n",
       "    </tr>\n",
       "  </tbody>\n",
       "</table>\n",
       "<p>8 rows × 26 columns</p>\n",
       "</div>"
      ],
      "text/plain": [
       "           Latitude     Longitude    WnvPresent         month           day  \\\n",
       "count  21012.000000  21012.000000  21012.000000  21012.000000  21012.000000   \n",
       "mean      41.841139    -87.699908      0.052446      7.692557     15.341424   \n",
       "std        0.112739      0.096512      0.222930      1.067649      8.900993   \n",
       "min       41.644612    -87.930995      0.000000      5.000000      1.000000   \n",
       "25%       41.732984    -87.760070      0.000000      7.000000      7.000000   \n",
       "50%       41.846283    -87.694991      0.000000      8.000000     15.000000   \n",
       "75%       41.954690    -87.627796      0.000000      8.000000     24.000000   \n",
       "max       42.017430    -87.531635      1.000000     10.000000     31.000000   \n",
       "\n",
       "        day_of_year          week          Tmax          Tmin          Tavg  \\\n",
       "count  21012.000000  21012.000000  21012.000000  21012.000000  21012.000000   \n",
       "mean     217.941938     31.687131     81.917095     63.647202     73.022463   \n",
       "std       31.735042      4.526766      8.290251      7.593949      7.501455   \n",
       "min      148.000000     22.000000     57.000000     41.000000     50.000000   \n",
       "25%      196.000000     28.000000     78.000000     59.000000     70.000000   \n",
       "50%      217.000000     31.000000     83.000000     65.000000     75.000000   \n",
       "75%      241.000000     35.000000     88.000000     69.000000     79.000000   \n",
       "max      282.000000     41.000000     97.000000     79.000000     87.000000   \n",
       "\n",
       "              ...           NightLength_MPrec  NightLength_NearH  \\\n",
       "count         ...                21012.000000       21012.000000   \n",
       "mean          ...                    9.993359          10.031696   \n",
       "std           ...                    1.048358           1.047465   \n",
       "min           ...                    8.766667           9.000000   \n",
       "25%           ...                    9.050000           9.000000   \n",
       "50%           ...                    9.700000          10.000000   \n",
       "75%           ...                   10.700000          11.000000   \n",
       "max           ...                   12.616667          13.000000   \n",
       "\n",
       "       Sunrise_hours  Sunset_hours  blended_Tmax  blended_Tmin  \\\n",
       "count   21012.000000  21012.000000  21012.000000  21012.000000   \n",
       "mean        4.890621     18.897262     81.917095     63.647202   \n",
       "std         0.463813      0.589987      8.272521      7.486933   \n",
       "min         4.266667     17.333333     57.500000     42.500000   \n",
       "25%         4.483333     18.533333     78.000000     59.500000   \n",
       "50%         4.816667     19.116667     83.000000     65.500000   \n",
       "75%         5.233333     19.400000     88.000000     69.500000   \n",
       "max         5.950000     19.516667     96.500000     77.500000   \n",
       "\n",
       "       blended_Depart  blended_Heat  blended_Cool  blended_PrecipTotal  \n",
       "count    21012.000000  21012.000000  21012.000000         21012.000000  \n",
       "mean         2.740244      0.886208      8.908671             0.146082  \n",
       "std          6.486313      2.697339      5.712594             0.323131  \n",
       "min        -12.000000      0.000000      0.000000             0.000000  \n",
       "25%         -2.000000      0.000000      5.000000             0.000000  \n",
       "50%          4.000000      0.000000      9.500000             0.000000  \n",
       "75%          8.000000      0.000000     13.500000             0.130000  \n",
       "max         18.000000     14.000000     20.500000             2.420000  \n",
       "\n",
       "[8 rows x 26 columns]"
      ]
     },
     "execution_count": 55,
     "metadata": {},
     "output_type": "execute_result"
    }
   ],
   "source": [
    "train.describe()"
   ]
  },
  {
   "cell_type": "markdown",
   "metadata": {},
   "source": [
    "### Handle Weather Stations 1"
   ]
  },
  {
   "cell_type": "code",
   "execution_count": 56,
   "metadata": {
    "collapsed": false
   },
   "outputs": [],
   "source": [
    "# columns to write\n",
    "cols_to_write = [col for col in train.columns if col != 'Date'] # exclude 'Date'"
   ]
  },
  {
   "cell_type": "code",
   "execution_count": 57,
   "metadata": {
    "collapsed": false
   },
   "outputs": [],
   "source": [
    "# split the data into two dataframes by station\n",
    "\n",
    "train_station_1= train[train.Station == '1']\n",
    "train_station_2= train[train.Station == '2']"
   ]
  },
  {
   "cell_type": "code",
   "execution_count": 58,
   "metadata": {
    "collapsed": false
   },
   "outputs": [],
   "source": [
    "# export to JSON for external use\n",
    "train_station_1.to_json('train_station_1.json')\n",
    "train_station_2.to_json('train_station_2.json')\n",
    "train.to_json('train.json')\n",
    "\n",
    "# epxort to csv for external use\n",
    "train_station_1.to_csv('train_station_1.csv')\n",
    "train_station_2.to_csv('train_station_2.csv')\n",
    "train.to_csv('train.csv')\n"
   ]
  },
  {
   "cell_type": "markdown",
   "metadata": {},
   "source": [
    "# Prepare Data Set for Model Building"
   ]
  },
  {
   "cell_type": "code",
   "execution_count": 59,
   "metadata": {
    "collapsed": true
   },
   "outputs": [],
   "source": [
    "# set up a merge for stations 1 and 2\n",
    "# keep unique cols from station 2\n",
    "keep_cols = ['Date', u'Tmax', u'Tmin', u'Tavg',u'PrecipTotal']\n",
    "train_station_2 = train_station_2[keep_cols]\n",
    "\n",
    "# rename cols with prefix\n",
    "prefix_s2 = 'stat_2_'\n",
    "rename_cols_s2 = [prefix_s2 + col for col in train_station_2.columns]\n",
    "train_station_2.columns = rename_cols_s2"
   ]
  },
  {
   "cell_type": "code",
   "execution_count": 60,
   "metadata": {
    "collapsed": true
   },
   "outputs": [],
   "source": [
    "# drop cols from station 1 that won't be used in model\n",
    "drop_cols = ['Latitude', 'Longitude', 'Heat', 'Cool', 'Depart', 'NightLength_MPrec', 'NightLength_NearH',\n",
    "            'blended_Depart', 'blended_Heat', 'blended_Cool']\n",
    "\n",
    "for col in drop_cols:\n",
    "    train_station_1.pop(col)\n",
    "   "
   ]
  },
  {
   "cell_type": "code",
   "execution_count": 61,
   "metadata": {
    "collapsed": false
   },
   "outputs": [],
   "source": [
    "# raname uniqe station 1 columns\n",
    "prefix_s1 = 'stat_1_'\n",
    "rename_cols_s1 = [prefix_s1 + col for col in keep_cols]\n",
    "cols_to_rename= [col for col in train_station_1.columns if col in keep_cols]\n",
    "\n",
    "# setup name mapping\n",
    "s1_name_map = dict(zip(cols_to_rename, rename_cols_s1))\n",
    "\n",
    "train_station_1 = train_station_1.rename(columns= s1_name_map)"
   ]
  },
  {
   "cell_type": "code",
   "execution_count": 62,
   "metadata": {
    "collapsed": false
   },
   "outputs": [],
   "source": [
    "# concat (outer join)\n",
    "train_station_1 =  train_station_1.reset_index(drop= True)\n",
    "train_station_2 = train_station_2.reset_index(drop = True)\n",
    "train_merge = pd.concat([train_station_1, train_station_2], axis= 1)"
   ]
  },
  {
   "cell_type": "markdown",
   "metadata": {},
   "source": [
    "### Create Dummmies from Categorical Variables"
   ]
  },
  {
   "cell_type": "code",
   "execution_count": 66,
   "metadata": {
    "collapsed": false
   },
   "outputs": [
    {
     "data": {
      "text/plain": [
       "Index([        u'stat_1_Date',             u'Species',               u'Block',\n",
       "                    u'Street',                u'Trap',               u'month',\n",
       "                       u'day',         u'day_of_year',                u'week',\n",
       "                   u'Station',         u'stat_1_Tmax',         u'stat_1_Tmin',\n",
       "               u'stat_1_Tavg',  u'stat_1_PrecipTotal',     u'DayLength_MPrec',\n",
       "           u'DayLength_NearH',       u'Sunrise_hours',        u'Sunset_hours',\n",
       "              u'blended_Tmax',        u'blended_Tmin', u'blended_PrecipTotal',\n",
       "               u'stat_2_Date',         u'stat_2_Tmax',         u'stat_2_Tmin',\n",
       "               u'stat_2_Tavg',  u'stat_2_PrecipTotal'],\n",
       "      dtype='object')"
      ]
     },
     "execution_count": 66,
     "metadata": {},
     "output_type": "execute_result"
    }
   ],
   "source": [
    "train_merge.columns"
   ]
  },
  {
   "cell_type": "code",
   "execution_count": 64,
   "metadata": {
    "collapsed": true
   },
   "outputs": [],
   "source": [
    "# get label\n",
    "labels = train_merge.pop('WnvPresent')"
   ]
  },
  {
   "cell_type": "code",
   "execution_count": 68,
   "metadata": {
    "collapsed": false
   },
   "outputs": [],
   "source": [
    "# remove dates\n",
    "train_merge = train_merge.drop(['stat_1_Date'], axis = 1)\n",
    "train_merge = train_merge.drop(['stat_2_Date'], axis = 1)"
   ]
  },
  {
   "cell_type": "code",
   "execution_count": 69,
   "metadata": {
    "collapsed": true
   },
   "outputs": [],
   "source": [
    "# Create dummies from the categorical species, block, and streetname\n",
    "train_merge = pd.get_dummies(train_merge, columns= ['Species'])\n",
    "\n",
    "train_merge = pd.get_dummies(train_merge, columns= ['Block'])\n",
    "\n",
    "train_merge = pd.get_dummies(train_merge, columns= ['Street'])"
   ]
  },
  {
   "cell_type": "code",
   "execution_count": 71,
   "metadata": {
    "collapsed": false
   },
   "outputs": [
    {
     "data": {
      "text/plain": [
       "220"
      ]
     },
     "execution_count": 71,
     "metadata": {},
     "output_type": "execute_result"
    }
   ],
   "source": [
    "len(train_merge.columns)"
   ]
  },
  {
   "cell_type": "code",
   "execution_count": 70,
   "metadata": {
    "collapsed": false
   },
   "outputs": [
    {
     "data": {
      "text/plain": [
       "['Trap',\n",
       " 'month',\n",
       " 'day',\n",
       " 'day_of_year',\n",
       " 'week',\n",
       " 'Station',\n",
       " u'stat_1_Tmax',\n",
       " u'stat_1_Tmin',\n",
       " u'stat_1_Tavg',\n",
       " u'stat_1_PrecipTotal',\n",
       " 'DayLength_MPrec',\n",
       " 'DayLength_NearH',\n",
       " 'Sunrise_hours',\n",
       " 'Sunset_hours',\n",
       " 'blended_Tmax',\n",
       " 'blended_Tmin',\n",
       " 'blended_PrecipTotal',\n",
       " 'stat_2_Tmax',\n",
       " 'stat_2_Tmin',\n",
       " 'stat_2_Tavg',\n",
       " 'stat_2_PrecipTotal',\n",
       " 'Species_CULEX ERRATICUS',\n",
       " 'Species_CULEX PIPIENS',\n",
       " 'Species_CULEX PIPIENS/RESTUANS',\n",
       " 'Species_CULEX RESTUANS',\n",
       " 'Species_CULEX SALINARIUS',\n",
       " 'Species_CULEX TARSALIS',\n",
       " 'Species_CULEX TERRITANS',\n",
       " 'Block_10',\n",
       " 'Block_11',\n",
       " 'Block_12',\n",
       " 'Block_13',\n",
       " 'Block_14',\n",
       " 'Block_15',\n",
       " 'Block_17',\n",
       " 'Block_18',\n",
       " 'Block_20',\n",
       " 'Block_21',\n",
       " 'Block_22',\n",
       " 'Block_24',\n",
       " 'Block_25',\n",
       " 'Block_27',\n",
       " 'Block_28',\n",
       " 'Block_29',\n",
       " 'Block_30',\n",
       " 'Block_33',\n",
       " 'Block_34',\n",
       " 'Block_35',\n",
       " 'Block_36',\n",
       " 'Block_37',\n",
       " 'Block_38',\n",
       " 'Block_39',\n",
       " 'Block_40',\n",
       " 'Block_41',\n",
       " 'Block_42',\n",
       " 'Block_43',\n",
       " 'Block_45',\n",
       " 'Block_46',\n",
       " 'Block_47',\n",
       " 'Block_48',\n",
       " 'Block_49',\n",
       " 'Block_50',\n",
       " 'Block_51',\n",
       " 'Block_52',\n",
       " 'Block_53',\n",
       " 'Block_55',\n",
       " 'Block_58',\n",
       " 'Block_60',\n",
       " 'Block_61',\n",
       " 'Block_62',\n",
       " 'Block_63',\n",
       " 'Block_64',\n",
       " 'Block_65',\n",
       " 'Block_66',\n",
       " 'Block_67',\n",
       " 'Block_68',\n",
       " 'Block_70',\n",
       " 'Block_71',\n",
       " 'Block_72',\n",
       " 'Block_73',\n",
       " 'Block_75',\n",
       " 'Block_77',\n",
       " 'Block_79',\n",
       " 'Block_80',\n",
       " 'Block_81',\n",
       " 'Block_82',\n",
       " 'Block_89',\n",
       " 'Block_90',\n",
       " 'Block_91',\n",
       " 'Block_93',\n",
       " 'Block_96',\n",
       " 'Block_98',\n",
       " 'Street_  W ARMITAGE AVENUE',\n",
       " 'Street_ E 105TH ST',\n",
       " 'Street_ E 111TH ST',\n",
       " 'Street_ E 115TH ST',\n",
       " 'Street_ E 118TH ST',\n",
       " 'Street_ E 130TH ST',\n",
       " 'Street_ E 138TH ST',\n",
       " 'Street_ E 67TH ST',\n",
       " 'Street_ E 91ST PL',\n",
       " 'Street_ E 91ST ST',\n",
       " 'Street_ E RANDOLPH ST',\n",
       " 'Street_ N ASHLAND AVE',\n",
       " 'Street_ N ASHLAND AVE OVERPASS',\n",
       " 'Street_ N AUSTIN AVE',\n",
       " 'Street_ N AVONDALE AVE',\n",
       " 'Street_ N CALIFORNIA AVE',\n",
       " 'Street_ N CAMPBELL AVE',\n",
       " 'Street_ N CANNON DR',\n",
       " 'Street_ N CENTRAL PARK DR',\n",
       " 'Street_ N FRANCISCO AVE',\n",
       " 'Street_ N HARLEM AVE',\n",
       " 'Street_ N HUMBOLDT DR',\n",
       " 'Street_ N KEDVALE AVE',\n",
       " 'Street_ N LARAMIE AVE',\n",
       " 'Street_ N LAWLER AVE',\n",
       " 'Street_ N LEMONT AVE',\n",
       " 'Street_ N LONG AVE',\n",
       " 'Street_ N MANDELL AVE',\n",
       " 'Street_ N MCCLELLAN AVE',\n",
       " 'Street_ N MILWAUKEE AVE',\n",
       " 'Street_ N MONT CLARE AVE',\n",
       " 'Street_ N MOSELL AVE',\n",
       " 'Street_ N OAK PARK AVE',\n",
       " 'Street_ N OAKLEY AVE',\n",
       " 'Street_ N OKETO AVE',\n",
       " 'Street_ N PITTSBURGH AVE',\n",
       " 'Street_ N PULASKI RD',\n",
       " 'Street_ N RICHMOND ST',\n",
       " 'Street_ N RIDGE AVE',\n",
       " 'Street_ N RUTHERFORD AVE',\n",
       " 'Street_ N SPRINGFIELD AVE',\n",
       " 'Street_ N STAVE ST',\n",
       " 'Street_ N STREETER DR',\n",
       " 'Street_ N TRIPP AVE',\n",
       " 'Street_ N WESTERN AVE',\n",
       " 'Street_ S ARTESIAN AVE',\n",
       " 'Street_ S ASHLAND AVE',\n",
       " 'Street_ S AVENUE G',\n",
       " 'Street_ S AVENUE L',\n",
       " 'Street_ S BRANDON',\n",
       " 'Street_ S CALIFORNIA',\n",
       " 'Street_ S CALIFORNIA AVE',\n",
       " 'Street_ S CARPENTER ST',\n",
       " 'Street_ S CENTRAL AVE',\n",
       " 'Street_ S CHICAGO AVE',\n",
       " 'Street_ S CICERO AVE',\n",
       " 'Street_ S CORNELL AVE',\n",
       " 'Street_ S COTTAGE GROVE',\n",
       " 'Street_ S DEARBORN ST',\n",
       " 'Street_ S DOTY AVE',\n",
       " 'Street_ S DR MARTIN LUTHER KING JR DR',\n",
       " 'Street_ S EBERHART AVE',\n",
       " 'Street_ S HAMLIN AVE',\n",
       " 'Street_ S HOYNE AVE',\n",
       " 'Street_ S KEDZIE AVE',\n",
       " 'Street_ S KILPATRICK AVE',\n",
       " 'Street_ S KOLMAR',\n",
       " 'Street_ S KOSTNER AVE',\n",
       " 'Street_ S LONGWOOD DR',\n",
       " 'Street_ S MACKINAW',\n",
       " 'Street_ S MELVINA AVE',\n",
       " 'Street_ S MILLARD AVE',\n",
       " 'Street_ S MUSKEGON AVE',\n",
       " 'Street_ S NORDICA',\n",
       " 'Street_ S PEORIA ST',\n",
       " 'Street_ S PULASKI RD',\n",
       " 'Street_ S RACINE AVE',\n",
       " 'Street_ S SOUTH SHORE DR',\n",
       " 'Street_ S STATE ST',\n",
       " 'Street_ S STONY ISLAND AVE',\n",
       " 'Street_ S THROOP',\n",
       " 'Street_ S TORRENCE AVE',\n",
       " 'Street_ S UNION AVE',\n",
       " 'Street_ S VINCENNES',\n",
       " 'Street_ S WALLACE ST',\n",
       " 'Street_ S WESTERN AVE',\n",
       " 'Street_ W 104TH ST',\n",
       " 'Street_ W 113TH ST',\n",
       " 'Street_ W 116TH ST',\n",
       " 'Street_ W 127TH PL',\n",
       " 'Street_ W 18TH ST',\n",
       " 'Street_ W 31ST ST',\n",
       " 'Street_ W 37TH PL.',\n",
       " 'Street_ W 51ST ST',\n",
       " 'Street_ W 63RD ST',\n",
       " 'Street_ W 64TH ST',\n",
       " 'Street_ W 65TH ST',\n",
       " 'Street_ W 69TH ST',\n",
       " 'Street_ W 72ND ST',\n",
       " 'Street_ W 77TH ST',\n",
       " 'Street_ W 85TH ST',\n",
       " 'Street_ W 89TH ST',\n",
       " 'Street_ W 95TH ST',\n",
       " 'Street_ W ADDISON ST',\n",
       " 'Street_ W AGATITE AVE',\n",
       " 'Street_ W BALMORAL AVE',\n",
       " 'Street_ W BELDEN AVE',\n",
       " 'Street_ W CHICAGO',\n",
       " 'Street_ W FARWELL AVE',\n",
       " 'Street_ W FOSTER AVE',\n",
       " 'Street_ W FULLERTON AVE',\n",
       " 'Street_ W GARFIELD BLVD',\n",
       " 'Street_ W GRAND AVE',\n",
       " 'Street_ W GRANVILLE AVE',\n",
       " 'Street_ W GREENLEAF AVE',\n",
       " 'Street_ W HIGGINS AVE',\n",
       " 'Street_ W HIGGINS RD',\n",
       " 'Street_ W LELAND AVE',\n",
       " 'Street_ W MONTANA ST',\n",
       " 'Street_ W MONTROSE DR',\n",
       " 'Street_ W OHARE',\n",
       " 'Street_ W OHARE AIRPORT',\n",
       " 'Street_ W PERSHING RD',\n",
       " 'Street_ W ROOSEVELT',\n",
       " 'Street_ W ROSCOE ST',\n",
       " 'Street_ W STRONG ST',\n",
       " 'Street_ W SUNNYSIDE AVE',\n",
       " 'Street_ W WEBSTER AVE']"
      ]
     },
     "execution_count": 70,
     "metadata": {},
     "output_type": "execute_result"
    }
   ],
   "source": [
    "[col for col in train_merge.columns]"
   ]
  }
 ],
 "metadata": {
  "kernelspec": {
   "display_name": "Python 2",
   "language": "python",
   "name": "python2"
  },
  "language_info": {
   "codemirror_mode": {
    "name": "ipython",
    "version": 2
   },
   "file_extension": ".py",
   "mimetype": "text/x-python",
   "name": "python",
   "nbconvert_exporter": "python",
   "pygments_lexer": "ipython2",
   "version": "2.7.11"
  }
 },
 "nbformat": 4,
 "nbformat_minor": 0
}
