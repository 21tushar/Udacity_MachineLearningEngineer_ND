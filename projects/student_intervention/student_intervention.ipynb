{
 "cells": [
  {
   "cell_type": "markdown",
   "metadata": {},
   "source": [
    "# Project 2: Supervised Learning\n",
    "### Building a Student Intervention System"
   ]
  },
  {
   "cell_type": "markdown",
   "metadata": {},
   "source": [
    "## 1. Classification vs Regression\n",
    "\n",
    "Your goal is to identify students who might need early intervention - which type of supervised machine learning problem is this, classification or regression? Why?\n",
    "\n",
    "- This is a classification scenario since our goal is to use features to assign students to one of two classes.  A regression would be appropriate if our goal was to generate a function of continuous output (e.g. y= mx + b)"
   ]
  },
  {
   "cell_type": "markdown",
   "metadata": {},
   "source": [
    "## 2. Exploring the Data\n",
    "\n",
    "Let's go ahead and read in the student dataset first.\n",
    "\n",
    "_To execute a code cell, click inside it and press **Shift+Enter**._"
   ]
  },
  {
   "cell_type": "code",
   "execution_count": 1,
   "metadata": {
    "collapsed": false
   },
   "outputs": [],
   "source": [
    "# Import libraries\n",
    "import numpy as np\n",
    "import pandas as pd"
   ]
  },
  {
   "cell_type": "code",
   "execution_count": 2,
   "metadata": {
    "collapsed": false
   },
   "outputs": [
    {
     "name": "stdout",
     "output_type": "stream",
     "text": [
      "Student data read successfully!\n"
     ]
    }
   ],
   "source": [
    "# Read student data\n",
    "student_data = pd.read_csv(\"student-data.csv\")\n",
    "print \"Student data read successfully!\"\n",
    "# Note: The last column 'passed' is the target/label, all other are feature columns"
   ]
  },
  {
   "cell_type": "markdown",
   "metadata": {},
   "source": [
    "Now, can you find out the following facts about the dataset?\n",
    "- Total number of students\n",
    "- Number of students who passed\n",
    "- Number of students who failed\n",
    "- Graduation rate of the class (%)\n",
    "- Number of features\n",
    "\n",
    "_Use the code block below to compute these values. Instructions/steps are marked using **TODO**s._"
   ]
  },
  {
   "cell_type": "markdown",
   "metadata": {},
   "source": [
    "### Data Exploration"
   ]
  },
  {
   "cell_type": "code",
   "execution_count": 3,
   "metadata": {
    "collapsed": false
   },
   "outputs": [
    {
     "data": {
      "text/plain": [
       "Index([u'school', u'sex', u'age', u'address', u'famsize', u'Pstatus', u'Medu',\n",
       "       u'Fedu', u'Mjob', u'Fjob', u'reason', u'guardian', u'traveltime',\n",
       "       u'studytime', u'failures', u'schoolsup', u'famsup', u'paid',\n",
       "       u'activities', u'nursery', u'higher', u'internet', u'romantic',\n",
       "       u'famrel', u'freetime', u'goout', u'Dalc', u'Walc', u'health',\n",
       "       u'absences', u'passed'],\n",
       "      dtype='object')"
      ]
     },
     "execution_count": 3,
     "metadata": {},
     "output_type": "execute_result"
    }
   ],
   "source": [
    "student_data.columns"
   ]
  },
  {
   "cell_type": "code",
   "execution_count": 4,
   "metadata": {
    "collapsed": false
   },
   "outputs": [
    {
     "data": {
      "text/html": [
       "<div>\n",
       "<table border=\"1\" class=\"dataframe\">\n",
       "  <thead>\n",
       "    <tr style=\"text-align: right;\">\n",
       "      <th></th>\n",
       "      <th>school</th>\n",
       "      <th>sex</th>\n",
       "      <th>age</th>\n",
       "      <th>address</th>\n",
       "      <th>famsize</th>\n",
       "      <th>Pstatus</th>\n",
       "      <th>Medu</th>\n",
       "      <th>Fedu</th>\n",
       "      <th>Mjob</th>\n",
       "      <th>Fjob</th>\n",
       "      <th>...</th>\n",
       "      <th>internet</th>\n",
       "      <th>romantic</th>\n",
       "      <th>famrel</th>\n",
       "      <th>freetime</th>\n",
       "      <th>goout</th>\n",
       "      <th>Dalc</th>\n",
       "      <th>Walc</th>\n",
       "      <th>health</th>\n",
       "      <th>absences</th>\n",
       "      <th>passed</th>\n",
       "    </tr>\n",
       "  </thead>\n",
       "  <tbody>\n",
       "    <tr>\n",
       "      <th>0</th>\n",
       "      <td>GP</td>\n",
       "      <td>F</td>\n",
       "      <td>18</td>\n",
       "      <td>U</td>\n",
       "      <td>GT3</td>\n",
       "      <td>A</td>\n",
       "      <td>4</td>\n",
       "      <td>4</td>\n",
       "      <td>at_home</td>\n",
       "      <td>teacher</td>\n",
       "      <td>...</td>\n",
       "      <td>no</td>\n",
       "      <td>no</td>\n",
       "      <td>4</td>\n",
       "      <td>3</td>\n",
       "      <td>4</td>\n",
       "      <td>1</td>\n",
       "      <td>1</td>\n",
       "      <td>3</td>\n",
       "      <td>6</td>\n",
       "      <td>no</td>\n",
       "    </tr>\n",
       "    <tr>\n",
       "      <th>1</th>\n",
       "      <td>GP</td>\n",
       "      <td>F</td>\n",
       "      <td>17</td>\n",
       "      <td>U</td>\n",
       "      <td>GT3</td>\n",
       "      <td>T</td>\n",
       "      <td>1</td>\n",
       "      <td>1</td>\n",
       "      <td>at_home</td>\n",
       "      <td>other</td>\n",
       "      <td>...</td>\n",
       "      <td>yes</td>\n",
       "      <td>no</td>\n",
       "      <td>5</td>\n",
       "      <td>3</td>\n",
       "      <td>3</td>\n",
       "      <td>1</td>\n",
       "      <td>1</td>\n",
       "      <td>3</td>\n",
       "      <td>4</td>\n",
       "      <td>no</td>\n",
       "    </tr>\n",
       "    <tr>\n",
       "      <th>2</th>\n",
       "      <td>GP</td>\n",
       "      <td>F</td>\n",
       "      <td>15</td>\n",
       "      <td>U</td>\n",
       "      <td>LE3</td>\n",
       "      <td>T</td>\n",
       "      <td>1</td>\n",
       "      <td>1</td>\n",
       "      <td>at_home</td>\n",
       "      <td>other</td>\n",
       "      <td>...</td>\n",
       "      <td>yes</td>\n",
       "      <td>no</td>\n",
       "      <td>4</td>\n",
       "      <td>3</td>\n",
       "      <td>2</td>\n",
       "      <td>2</td>\n",
       "      <td>3</td>\n",
       "      <td>3</td>\n",
       "      <td>10</td>\n",
       "      <td>yes</td>\n",
       "    </tr>\n",
       "    <tr>\n",
       "      <th>3</th>\n",
       "      <td>GP</td>\n",
       "      <td>F</td>\n",
       "      <td>15</td>\n",
       "      <td>U</td>\n",
       "      <td>GT3</td>\n",
       "      <td>T</td>\n",
       "      <td>4</td>\n",
       "      <td>2</td>\n",
       "      <td>health</td>\n",
       "      <td>services</td>\n",
       "      <td>...</td>\n",
       "      <td>yes</td>\n",
       "      <td>yes</td>\n",
       "      <td>3</td>\n",
       "      <td>2</td>\n",
       "      <td>2</td>\n",
       "      <td>1</td>\n",
       "      <td>1</td>\n",
       "      <td>5</td>\n",
       "      <td>2</td>\n",
       "      <td>yes</td>\n",
       "    </tr>\n",
       "    <tr>\n",
       "      <th>4</th>\n",
       "      <td>GP</td>\n",
       "      <td>F</td>\n",
       "      <td>16</td>\n",
       "      <td>U</td>\n",
       "      <td>GT3</td>\n",
       "      <td>T</td>\n",
       "      <td>3</td>\n",
       "      <td>3</td>\n",
       "      <td>other</td>\n",
       "      <td>other</td>\n",
       "      <td>...</td>\n",
       "      <td>no</td>\n",
       "      <td>no</td>\n",
       "      <td>4</td>\n",
       "      <td>3</td>\n",
       "      <td>2</td>\n",
       "      <td>1</td>\n",
       "      <td>2</td>\n",
       "      <td>5</td>\n",
       "      <td>4</td>\n",
       "      <td>yes</td>\n",
       "    </tr>\n",
       "  </tbody>\n",
       "</table>\n",
       "<p>5 rows × 31 columns</p>\n",
       "</div>"
      ],
      "text/plain": [
       "  school sex  age address famsize Pstatus  Medu  Fedu     Mjob      Fjob  \\\n",
       "0     GP   F   18       U     GT3       A     4     4  at_home   teacher   \n",
       "1     GP   F   17       U     GT3       T     1     1  at_home     other   \n",
       "2     GP   F   15       U     LE3       T     1     1  at_home     other   \n",
       "3     GP   F   15       U     GT3       T     4     2   health  services   \n",
       "4     GP   F   16       U     GT3       T     3     3    other     other   \n",
       "\n",
       "   ...   internet romantic  famrel  freetime  goout Dalc Walc health absences  \\\n",
       "0  ...         no       no       4         3      4    1    1      3        6   \n",
       "1  ...        yes       no       5         3      3    1    1      3        4   \n",
       "2  ...        yes       no       4         3      2    2    3      3       10   \n",
       "3  ...        yes      yes       3         2      2    1    1      5        2   \n",
       "4  ...         no       no       4         3      2    1    2      5        4   \n",
       "\n",
       "  passed  \n",
       "0     no  \n",
       "1     no  \n",
       "2    yes  \n",
       "3    yes  \n",
       "4    yes  \n",
       "\n",
       "[5 rows x 31 columns]"
      ]
     },
     "execution_count": 4,
     "metadata": {},
     "output_type": "execute_result"
    }
   ],
   "source": [
    "student_data.head()"
   ]
  },
  {
   "cell_type": "code",
   "execution_count": 5,
   "metadata": {
    "collapsed": false
   },
   "outputs": [
    {
     "data": {
      "text/html": [
       "<div>\n",
       "<table border=\"1\" class=\"dataframe\">\n",
       "  <thead>\n",
       "    <tr style=\"text-align: right;\">\n",
       "      <th></th>\n",
       "      <th>age</th>\n",
       "      <th>Medu</th>\n",
       "      <th>Fedu</th>\n",
       "      <th>traveltime</th>\n",
       "      <th>studytime</th>\n",
       "      <th>failures</th>\n",
       "      <th>famrel</th>\n",
       "      <th>freetime</th>\n",
       "      <th>goout</th>\n",
       "      <th>Dalc</th>\n",
       "      <th>Walc</th>\n",
       "      <th>health</th>\n",
       "      <th>absences</th>\n",
       "    </tr>\n",
       "  </thead>\n",
       "  <tbody>\n",
       "    <tr>\n",
       "      <th>count</th>\n",
       "      <td>395.000000</td>\n",
       "      <td>395.000000</td>\n",
       "      <td>395.000000</td>\n",
       "      <td>395.000000</td>\n",
       "      <td>395.000000</td>\n",
       "      <td>395.000000</td>\n",
       "      <td>395.000000</td>\n",
       "      <td>395.000000</td>\n",
       "      <td>395.000000</td>\n",
       "      <td>395.000000</td>\n",
       "      <td>395.000000</td>\n",
       "      <td>395.000000</td>\n",
       "      <td>395.000000</td>\n",
       "    </tr>\n",
       "    <tr>\n",
       "      <th>mean</th>\n",
       "      <td>16.696203</td>\n",
       "      <td>2.749367</td>\n",
       "      <td>2.521519</td>\n",
       "      <td>1.448101</td>\n",
       "      <td>2.035443</td>\n",
       "      <td>0.334177</td>\n",
       "      <td>3.944304</td>\n",
       "      <td>3.235443</td>\n",
       "      <td>3.108861</td>\n",
       "      <td>1.481013</td>\n",
       "      <td>2.291139</td>\n",
       "      <td>3.554430</td>\n",
       "      <td>5.708861</td>\n",
       "    </tr>\n",
       "    <tr>\n",
       "      <th>std</th>\n",
       "      <td>1.276043</td>\n",
       "      <td>1.094735</td>\n",
       "      <td>1.088201</td>\n",
       "      <td>0.697505</td>\n",
       "      <td>0.839240</td>\n",
       "      <td>0.743651</td>\n",
       "      <td>0.896659</td>\n",
       "      <td>0.998862</td>\n",
       "      <td>1.113278</td>\n",
       "      <td>0.890741</td>\n",
       "      <td>1.287897</td>\n",
       "      <td>1.390303</td>\n",
       "      <td>8.003096</td>\n",
       "    </tr>\n",
       "    <tr>\n",
       "      <th>min</th>\n",
       "      <td>15.000000</td>\n",
       "      <td>0.000000</td>\n",
       "      <td>0.000000</td>\n",
       "      <td>1.000000</td>\n",
       "      <td>1.000000</td>\n",
       "      <td>0.000000</td>\n",
       "      <td>1.000000</td>\n",
       "      <td>1.000000</td>\n",
       "      <td>1.000000</td>\n",
       "      <td>1.000000</td>\n",
       "      <td>1.000000</td>\n",
       "      <td>1.000000</td>\n",
       "      <td>0.000000</td>\n",
       "    </tr>\n",
       "    <tr>\n",
       "      <th>25%</th>\n",
       "      <td>16.000000</td>\n",
       "      <td>2.000000</td>\n",
       "      <td>2.000000</td>\n",
       "      <td>1.000000</td>\n",
       "      <td>1.000000</td>\n",
       "      <td>0.000000</td>\n",
       "      <td>4.000000</td>\n",
       "      <td>3.000000</td>\n",
       "      <td>2.000000</td>\n",
       "      <td>1.000000</td>\n",
       "      <td>1.000000</td>\n",
       "      <td>3.000000</td>\n",
       "      <td>0.000000</td>\n",
       "    </tr>\n",
       "    <tr>\n",
       "      <th>50%</th>\n",
       "      <td>17.000000</td>\n",
       "      <td>3.000000</td>\n",
       "      <td>2.000000</td>\n",
       "      <td>1.000000</td>\n",
       "      <td>2.000000</td>\n",
       "      <td>0.000000</td>\n",
       "      <td>4.000000</td>\n",
       "      <td>3.000000</td>\n",
       "      <td>3.000000</td>\n",
       "      <td>1.000000</td>\n",
       "      <td>2.000000</td>\n",
       "      <td>4.000000</td>\n",
       "      <td>4.000000</td>\n",
       "    </tr>\n",
       "    <tr>\n",
       "      <th>75%</th>\n",
       "      <td>18.000000</td>\n",
       "      <td>4.000000</td>\n",
       "      <td>3.000000</td>\n",
       "      <td>2.000000</td>\n",
       "      <td>2.000000</td>\n",
       "      <td>0.000000</td>\n",
       "      <td>5.000000</td>\n",
       "      <td>4.000000</td>\n",
       "      <td>4.000000</td>\n",
       "      <td>2.000000</td>\n",
       "      <td>3.000000</td>\n",
       "      <td>5.000000</td>\n",
       "      <td>8.000000</td>\n",
       "    </tr>\n",
       "    <tr>\n",
       "      <th>max</th>\n",
       "      <td>22.000000</td>\n",
       "      <td>4.000000</td>\n",
       "      <td>4.000000</td>\n",
       "      <td>4.000000</td>\n",
       "      <td>4.000000</td>\n",
       "      <td>3.000000</td>\n",
       "      <td>5.000000</td>\n",
       "      <td>5.000000</td>\n",
       "      <td>5.000000</td>\n",
       "      <td>5.000000</td>\n",
       "      <td>5.000000</td>\n",
       "      <td>5.000000</td>\n",
       "      <td>75.000000</td>\n",
       "    </tr>\n",
       "  </tbody>\n",
       "</table>\n",
       "</div>"
      ],
      "text/plain": [
       "              age        Medu        Fedu  traveltime   studytime    failures  \\\n",
       "count  395.000000  395.000000  395.000000  395.000000  395.000000  395.000000   \n",
       "mean    16.696203    2.749367    2.521519    1.448101    2.035443    0.334177   \n",
       "std      1.276043    1.094735    1.088201    0.697505    0.839240    0.743651   \n",
       "min     15.000000    0.000000    0.000000    1.000000    1.000000    0.000000   \n",
       "25%     16.000000    2.000000    2.000000    1.000000    1.000000    0.000000   \n",
       "50%     17.000000    3.000000    2.000000    1.000000    2.000000    0.000000   \n",
       "75%     18.000000    4.000000    3.000000    2.000000    2.000000    0.000000   \n",
       "max     22.000000    4.000000    4.000000    4.000000    4.000000    3.000000   \n",
       "\n",
       "           famrel    freetime       goout        Dalc        Walc      health  \\\n",
       "count  395.000000  395.000000  395.000000  395.000000  395.000000  395.000000   \n",
       "mean     3.944304    3.235443    3.108861    1.481013    2.291139    3.554430   \n",
       "std      0.896659    0.998862    1.113278    0.890741    1.287897    1.390303   \n",
       "min      1.000000    1.000000    1.000000    1.000000    1.000000    1.000000   \n",
       "25%      4.000000    3.000000    2.000000    1.000000    1.000000    3.000000   \n",
       "50%      4.000000    3.000000    3.000000    1.000000    2.000000    4.000000   \n",
       "75%      5.000000    4.000000    4.000000    2.000000    3.000000    5.000000   \n",
       "max      5.000000    5.000000    5.000000    5.000000    5.000000    5.000000   \n",
       "\n",
       "         absences  \n",
       "count  395.000000  \n",
       "mean     5.708861  \n",
       "std      8.003096  \n",
       "min      0.000000  \n",
       "25%      0.000000  \n",
       "50%      4.000000  \n",
       "75%      8.000000  \n",
       "max     75.000000  "
      ]
     },
     "execution_count": 5,
     "metadata": {},
     "output_type": "execute_result"
    }
   ],
   "source": [
    "student_data.describe()"
   ]
  },
  {
   "cell_type": "code",
   "execution_count": 6,
   "metadata": {
    "collapsed": false
   },
   "outputs": [
    {
     "name": "stdout",
     "output_type": "stream",
     "text": [
      "<class 'pandas.core.frame.DataFrame'>\n",
      "RangeIndex: 395 entries, 0 to 394\n",
      "Data columns (total 31 columns):\n",
      "school        395 non-null object\n",
      "sex           395 non-null object\n",
      "age           395 non-null int64\n",
      "address       395 non-null object\n",
      "famsize       395 non-null object\n",
      "Pstatus       395 non-null object\n",
      "Medu          395 non-null int64\n",
      "Fedu          395 non-null int64\n",
      "Mjob          395 non-null object\n",
      "Fjob          395 non-null object\n",
      "reason        395 non-null object\n",
      "guardian      395 non-null object\n",
      "traveltime    395 non-null int64\n",
      "studytime     395 non-null int64\n",
      "failures      395 non-null int64\n",
      "schoolsup     395 non-null object\n",
      "famsup        395 non-null object\n",
      "paid          395 non-null object\n",
      "activities    395 non-null object\n",
      "nursery       395 non-null object\n",
      "higher        395 non-null object\n",
      "internet      395 non-null object\n",
      "romantic      395 non-null object\n",
      "famrel        395 non-null int64\n",
      "freetime      395 non-null int64\n",
      "goout         395 non-null int64\n",
      "Dalc          395 non-null int64\n",
      "Walc          395 non-null int64\n",
      "health        395 non-null int64\n",
      "absences      395 non-null int64\n",
      "passed        395 non-null object\n",
      "dtypes: int64(13), object(18)\n",
      "memory usage: 67.9+ KB\n"
     ]
    }
   ],
   "source": [
    "student_data.info()"
   ]
  },
  {
   "cell_type": "code",
   "execution_count": 7,
   "metadata": {
    "collapsed": false
   },
   "outputs": [
    {
     "data": {
      "text/plain": [
       "(395, 31)"
      ]
     },
     "execution_count": 7,
     "metadata": {},
     "output_type": "execute_result"
    }
   ],
   "source": [
    "student_data.shape"
   ]
  },
  {
   "cell_type": "code",
   "execution_count": 8,
   "metadata": {
    "collapsed": false
   },
   "outputs": [
    {
     "name": "stdout",
     "output_type": "stream",
     "text": [
      "Total number of students: 395\n",
      "Number of students who passed: 265\n",
      "Number of students who failed: 130\n",
      "Number of features: 30\n",
      "Graduation rate of the class: 67.09%\n"
     ]
    }
   ],
   "source": [
    "# TODO: Compute desired values - replace each '?' with an appropriate expression/function call\n",
    "n_students = len(student_data)\n",
    "n_features = len(student_data.columns[:-1])\n",
    "n_passed = student_data.passed.value_counts()[0]\n",
    "n_failed = student_data.passed.value_counts()[1]\n",
    "grad_rate = n_passed/float(n_students) * 100\n",
    "print \"Total number of students: {}\".format(n_students)\n",
    "print \"Number of students who passed: {}\".format(n_passed)\n",
    "print \"Number of students who failed: {}\".format(n_failed)\n",
    "print \"Number of features: {}\".format(n_features)\n",
    "print \"Graduation rate of the class: {:.2f}%\".format(grad_rate)"
   ]
  },
  {
   "cell_type": "markdown",
   "metadata": {},
   "source": [
    "## 3. Preparing the Data\n",
    "In this section, we will prepare the data for modeling, training and testing.\n",
    "\n",
    "### Identify feature and target columns\n",
    "It is often the case that the data you obtain contains non-numeric features. This can be a problem, as most machine learning algorithms expect numeric data to perform computations with.\n",
    "\n",
    "Let's first separate our data into feature and target columns, and see if any features are non-numeric.<br/>\n",
    "**Note**: For this dataset, the last column (`'passed'`) is the target or label we are trying to predict."
   ]
  },
  {
   "cell_type": "code",
   "execution_count": 9,
   "metadata": {
    "collapsed": false
   },
   "outputs": [
    {
     "name": "stdout",
     "output_type": "stream",
     "text": [
      "Feature column(s):-\n",
      "['school', 'sex', 'age', 'address', 'famsize', 'Pstatus', 'Medu', 'Fedu', 'Mjob', 'Fjob', 'reason', 'guardian', 'traveltime', 'studytime', 'failures', 'schoolsup', 'famsup', 'paid', 'activities', 'nursery', 'higher', 'internet', 'romantic', 'famrel', 'freetime', 'goout', 'Dalc', 'Walc', 'health', 'absences']\n",
      "Target column: passed\n",
      "\n",
      "Feature values:-\n"
     ]
    },
    {
     "data": {
      "text/html": [
       "<div>\n",
       "<table border=\"1\" class=\"dataframe\">\n",
       "  <thead>\n",
       "    <tr style=\"text-align: right;\">\n",
       "      <th></th>\n",
       "      <th>school</th>\n",
       "      <th>sex</th>\n",
       "      <th>age</th>\n",
       "      <th>address</th>\n",
       "      <th>famsize</th>\n",
       "      <th>Pstatus</th>\n",
       "      <th>Medu</th>\n",
       "      <th>Fedu</th>\n",
       "      <th>Mjob</th>\n",
       "      <th>Fjob</th>\n",
       "      <th>...</th>\n",
       "      <th>higher</th>\n",
       "      <th>internet</th>\n",
       "      <th>romantic</th>\n",
       "      <th>famrel</th>\n",
       "      <th>freetime</th>\n",
       "      <th>goout</th>\n",
       "      <th>Dalc</th>\n",
       "      <th>Walc</th>\n",
       "      <th>health</th>\n",
       "      <th>absences</th>\n",
       "    </tr>\n",
       "  </thead>\n",
       "  <tbody>\n",
       "    <tr>\n",
       "      <th>0</th>\n",
       "      <td>GP</td>\n",
       "      <td>F</td>\n",
       "      <td>18</td>\n",
       "      <td>U</td>\n",
       "      <td>GT3</td>\n",
       "      <td>A</td>\n",
       "      <td>4</td>\n",
       "      <td>4</td>\n",
       "      <td>at_home</td>\n",
       "      <td>teacher</td>\n",
       "      <td>...</td>\n",
       "      <td>yes</td>\n",
       "      <td>no</td>\n",
       "      <td>no</td>\n",
       "      <td>4</td>\n",
       "      <td>3</td>\n",
       "      <td>4</td>\n",
       "      <td>1</td>\n",
       "      <td>1</td>\n",
       "      <td>3</td>\n",
       "      <td>6</td>\n",
       "    </tr>\n",
       "    <tr>\n",
       "      <th>1</th>\n",
       "      <td>GP</td>\n",
       "      <td>F</td>\n",
       "      <td>17</td>\n",
       "      <td>U</td>\n",
       "      <td>GT3</td>\n",
       "      <td>T</td>\n",
       "      <td>1</td>\n",
       "      <td>1</td>\n",
       "      <td>at_home</td>\n",
       "      <td>other</td>\n",
       "      <td>...</td>\n",
       "      <td>yes</td>\n",
       "      <td>yes</td>\n",
       "      <td>no</td>\n",
       "      <td>5</td>\n",
       "      <td>3</td>\n",
       "      <td>3</td>\n",
       "      <td>1</td>\n",
       "      <td>1</td>\n",
       "      <td>3</td>\n",
       "      <td>4</td>\n",
       "    </tr>\n",
       "    <tr>\n",
       "      <th>2</th>\n",
       "      <td>GP</td>\n",
       "      <td>F</td>\n",
       "      <td>15</td>\n",
       "      <td>U</td>\n",
       "      <td>LE3</td>\n",
       "      <td>T</td>\n",
       "      <td>1</td>\n",
       "      <td>1</td>\n",
       "      <td>at_home</td>\n",
       "      <td>other</td>\n",
       "      <td>...</td>\n",
       "      <td>yes</td>\n",
       "      <td>yes</td>\n",
       "      <td>no</td>\n",
       "      <td>4</td>\n",
       "      <td>3</td>\n",
       "      <td>2</td>\n",
       "      <td>2</td>\n",
       "      <td>3</td>\n",
       "      <td>3</td>\n",
       "      <td>10</td>\n",
       "    </tr>\n",
       "    <tr>\n",
       "      <th>3</th>\n",
       "      <td>GP</td>\n",
       "      <td>F</td>\n",
       "      <td>15</td>\n",
       "      <td>U</td>\n",
       "      <td>GT3</td>\n",
       "      <td>T</td>\n",
       "      <td>4</td>\n",
       "      <td>2</td>\n",
       "      <td>health</td>\n",
       "      <td>services</td>\n",
       "      <td>...</td>\n",
       "      <td>yes</td>\n",
       "      <td>yes</td>\n",
       "      <td>yes</td>\n",
       "      <td>3</td>\n",
       "      <td>2</td>\n",
       "      <td>2</td>\n",
       "      <td>1</td>\n",
       "      <td>1</td>\n",
       "      <td>5</td>\n",
       "      <td>2</td>\n",
       "    </tr>\n",
       "    <tr>\n",
       "      <th>4</th>\n",
       "      <td>GP</td>\n",
       "      <td>F</td>\n",
       "      <td>16</td>\n",
       "      <td>U</td>\n",
       "      <td>GT3</td>\n",
       "      <td>T</td>\n",
       "      <td>3</td>\n",
       "      <td>3</td>\n",
       "      <td>other</td>\n",
       "      <td>other</td>\n",
       "      <td>...</td>\n",
       "      <td>yes</td>\n",
       "      <td>no</td>\n",
       "      <td>no</td>\n",
       "      <td>4</td>\n",
       "      <td>3</td>\n",
       "      <td>2</td>\n",
       "      <td>1</td>\n",
       "      <td>2</td>\n",
       "      <td>5</td>\n",
       "      <td>4</td>\n",
       "    </tr>\n",
       "  </tbody>\n",
       "</table>\n",
       "<p>5 rows × 30 columns</p>\n",
       "</div>"
      ],
      "text/plain": [
       "  school sex  age address famsize Pstatus  Medu  Fedu     Mjob      Fjob  \\\n",
       "0     GP   F   18       U     GT3       A     4     4  at_home   teacher   \n",
       "1     GP   F   17       U     GT3       T     1     1  at_home     other   \n",
       "2     GP   F   15       U     LE3       T     1     1  at_home     other   \n",
       "3     GP   F   15       U     GT3       T     4     2   health  services   \n",
       "4     GP   F   16       U     GT3       T     3     3    other     other   \n",
       "\n",
       "    ...    higher internet  romantic  famrel  freetime goout Dalc Walc health  \\\n",
       "0   ...       yes       no        no       4         3     4    1    1      3   \n",
       "1   ...       yes      yes        no       5         3     3    1    1      3   \n",
       "2   ...       yes      yes        no       4         3     2    2    3      3   \n",
       "3   ...       yes      yes       yes       3         2     2    1    1      5   \n",
       "4   ...       yes       no        no       4         3     2    1    2      5   \n",
       "\n",
       "  absences  \n",
       "0        6  \n",
       "1        4  \n",
       "2       10  \n",
       "3        2  \n",
       "4        4  \n",
       "\n",
       "[5 rows x 30 columns]"
      ]
     },
     "execution_count": 9,
     "metadata": {},
     "output_type": "execute_result"
    }
   ],
   "source": [
    "# Extract feature (X) and target (y) columns\n",
    "feature_cols = list(student_data.columns[:-1])  # all columns but last are features\n",
    "target_col = student_data.columns[-1]  # last column is the target/label\n",
    "print \"Feature column(s):-\\n{}\".format(feature_cols)\n",
    "print \"Target column: {}\".format(target_col)\n",
    "\n",
    "X_all = student_data[feature_cols]  # feature values for all students\n",
    "y_all = student_data[target_col]  # corresponding targets/labels\n",
    "print \"\\nFeature values:-\"\n",
    "X_all.head()  # print the first 5 rows"
   ]
  },
  {
   "cell_type": "markdown",
   "metadata": {},
   "source": [
    "### Preprocess feature columns\n",
    "\n",
    "As you can see, there are several non-numeric columns that need to be converted! Many of them are simply `yes`/`no`, e.g. `internet`. These can be reasonably converted into `1`/`0` (binary) values.\n",
    "\n",
    "Other columns, like `Mjob` and `Fjob`, have more than two values, and are known as _categorical variables_. The recommended way to handle such a column is to create as many columns as possible values (e.g. `Fjob_teacher`, `Fjob_other`, `Fjob_services`, etc.), and assign a `1` to one of them and `0` to all others.\n",
    "\n",
    "These generated columns are sometimes called _dummy variables_, and we will use the [`pandas.get_dummies()`](http://pandas.pydata.org/pandas-docs/stable/generated/pandas.get_dummies.html?highlight=get_dummies#pandas.get_dummies) function to perform this transformation."
   ]
  },
  {
   "cell_type": "code",
   "execution_count": 10,
   "metadata": {
    "collapsed": false,
    "scrolled": true
   },
   "outputs": [
    {
     "name": "stdout",
     "output_type": "stream",
     "text": [
      "Processed feature columns (48):-\n",
      "['school_GP', 'school_MS', 'sex_F', 'sex_M', 'age', 'address_R', 'address_U', 'famsize_GT3', 'famsize_LE3', 'Pstatus_A', 'Pstatus_T', 'Medu', 'Fedu', 'Mjob_at_home', 'Mjob_health', 'Mjob_other', 'Mjob_services', 'Mjob_teacher', 'Fjob_at_home', 'Fjob_health', 'Fjob_other', 'Fjob_services', 'Fjob_teacher', 'reason_course', 'reason_home', 'reason_other', 'reason_reputation', 'guardian_father', 'guardian_mother', 'guardian_other', 'traveltime', 'studytime', 'failures', 'schoolsup', 'famsup', 'paid', 'activities', 'nursery', 'higher', 'internet', 'romantic', 'famrel', 'freetime', 'goout', 'Dalc', 'Walc', 'health', 'absences']\n"
     ]
    }
   ],
   "source": [
    "# Preprocess feature columns\n",
    "def preprocess_features(X):\n",
    "    outX = pd.DataFrame(index=X.index)  # output dataframe, initially empty\n",
    "\n",
    "    # Check each column\n",
    "    for col, col_data in X.iteritems():\n",
    "        # If data type is non-numeric, try to replace all yes/no values with 1/0\n",
    "        if col_data.dtype == object:\n",
    "            col_data = col_data.replace(['yes', 'no'], [1, 0])\n",
    "        # Note: This should change the data type for yes/no columns to int\n",
    "\n",
    "        # If still non-numeric, convert to one or more dummy variables\n",
    "        if col_data.dtype == object:\n",
    "            col_data = pd.get_dummies(col_data, prefix=col)  # e.g. 'school' => 'school_GP', 'school_MS'\n",
    "\n",
    "        outX = outX.join(col_data)  # collect column(s) in output dataframe\n",
    "\n",
    "    return outX\n",
    "\n",
    "X_all = preprocess_features(X_all)\n",
    "print \"Processed feature columns ({}):-\\n{}\".format(len(X_all.columns), list(X_all.columns))"
   ]
  },
  {
   "cell_type": "markdown",
   "metadata": {},
   "source": [
    "### Split data into training and test sets\n",
    "\n",
    "So far, we have converted all _categorical_ features into numeric values. In this next step, we split the data (both features and corresponding labels) into training and test sets."
   ]
  },
  {
   "cell_type": "code",
   "execution_count": 11,
   "metadata": {
    "collapsed": true
   },
   "outputs": [],
   "source": [
    "from sklearn.cross_validation import train_test_split"
   ]
  },
  {
   "cell_type": "code",
   "execution_count": 12,
   "metadata": {
    "collapsed": false
   },
   "outputs": [
    {
     "name": "stdout",
     "output_type": "stream",
     "text": [
      "Training set: 300 samples\n",
      "Test set: 95 samples\n",
      "Grad rate of train set: 67.00%\n",
      "Grad rate of test set: 67.37%\n"
     ]
    }
   ],
   "source": [
    "# First, decide how many training vs test samples you want\n",
    "#num_all = student_data.shape[0]  # same as len(student_data)\n",
    "#num_train = 300  # about 75% of the data\n",
    "#num_test = num_all - num_train\n",
    "\n",
    "\n",
    "# TODO: Then, select features (X) and corresponding labels (y) for the training and test sets\n",
    "# Note: Shuffle the data or randomly select samples to avoid any bias due to ordering in the dataset\n",
    "\n",
    "X_train, X_test, y_train, y_test = train_test_split(X_all, y_all, test_size = 0.24,\n",
    "                                                    random_state = 42, stratify= y_all)\n",
    "\n",
    "#X_train = ?\n",
    "#y_train = ?\n",
    "#X_test = ?\n",
    "#y_test = ?\n",
    "print \"Training set: {} samples\".format(X_train.shape[0])\n",
    "print \"Test set: {} samples\".format(X_test.shape[0])\n",
    "print \"Grad rate of train set: {:.2f}%\".format(100 * (y_train == 'yes').mean())\n",
    "print \"Grad rate of test set: {:.2f}%\".format(100 * (y_test == 'yes').mean())\n",
    "# Note: If you need a validation set, extract it from within training data"
   ]
  },
  {
   "cell_type": "markdown",
   "metadata": {},
   "source": [
    "## Feature Selection\n",
    "\n",
    "To enhance efficiency it would be best to limit features (limit dimensionality) in our model. This strategy will consist of:\n",
    "\n",
    "1.  Feature selection using SelectKBest with chi^2 scoring\n",
    "2.  Try feature selection using RFECV (Recursive Feature Elimination with Cross Validation): Abandoned since data set is clearly dominated by a few features.\n",
    "3.  Generate plots as a reality check for features selected to visualize trends and likely impact\n",
    "4.  Follow up both strategies to gauge performance and run metrics with and without feature selection"
   ]
  },
  {
   "cell_type": "markdown",
   "metadata": {},
   "source": [
    "### SelectKBest with Chi^2"
   ]
  },
  {
   "cell_type": "code",
   "execution_count": 13,
   "metadata": {
    "collapsed": true
   },
   "outputs": [],
   "source": [
    "from sklearn.feature_selection import SelectKBest\n",
    "from sklearn.feature_selection import chi2"
   ]
  },
  {
   "cell_type": "code",
   "execution_count": 14,
   "metadata": {
    "collapsed": false
   },
   "outputs": [],
   "source": [
    "scores, pvals = chi2(X_train, y_train)"
   ]
  },
  {
   "cell_type": "code",
   "execution_count": 15,
   "metadata": {
    "collapsed": false
   },
   "outputs": [],
   "source": [
    "feature_sig = zip(X_train.columns, pvals)\n",
    "\n",
    "feature_sig_df = pd.DataFrame(feature_sig, columns = ['feature', 'p_value'])\n",
    "feature_sig_df = feature_sig_df.sort_values(by = 'p_value')\n",
    "feature_sig_df = feature_sig_df.reset_index(drop= True)"
   ]
  },
  {
   "cell_type": "markdown",
   "metadata": {},
   "source": [
    "**3 features are positive for independence (failures, absences, and paid) the rest do not.  goout is an honorable mention.**"
   ]
  },
  {
   "cell_type": "code",
   "execution_count": 16,
   "metadata": {
    "collapsed": false,
    "scrolled": true
   },
   "outputs": [
    {
     "data": {
      "text/html": [
       "<div>\n",
       "<table border=\"1\" class=\"dataframe\">\n",
       "  <thead>\n",
       "    <tr style=\"text-align: right;\">\n",
       "      <th></th>\n",
       "      <th>feature</th>\n",
       "      <th>p_value</th>\n",
       "    </tr>\n",
       "  </thead>\n",
       "  <tbody>\n",
       "    <tr>\n",
       "      <th>0</th>\n",
       "      <td>failures</td>\n",
       "      <td>1.723308e-19</td>\n",
       "    </tr>\n",
       "    <tr>\n",
       "      <th>1</th>\n",
       "      <td>absences</td>\n",
       "      <td>1.498878e-04</td>\n",
       "    </tr>\n",
       "    <tr>\n",
       "      <th>2</th>\n",
       "      <td>goout</td>\n",
       "      <td>3.723220e-02</td>\n",
       "    </tr>\n",
       "    <tr>\n",
       "      <th>3</th>\n",
       "      <td>guardian_other</td>\n",
       "      <td>5.051215e-02</td>\n",
       "    </tr>\n",
       "    <tr>\n",
       "      <th>4</th>\n",
       "      <td>schoolsup</td>\n",
       "      <td>5.113919e-02</td>\n",
       "    </tr>\n",
       "    <tr>\n",
       "      <th>5</th>\n",
       "      <td>Mjob_health</td>\n",
       "      <td>7.111005e-02</td>\n",
       "    </tr>\n",
       "    <tr>\n",
       "      <th>6</th>\n",
       "      <td>Medu</td>\n",
       "      <td>1.922398e-01</td>\n",
       "    </tr>\n",
       "    <tr>\n",
       "      <th>7</th>\n",
       "      <td>Fedu</td>\n",
       "      <td>2.180558e-01</td>\n",
       "    </tr>\n",
       "    <tr>\n",
       "      <th>8</th>\n",
       "      <td>reason_reputation</td>\n",
       "      <td>2.250879e-01</td>\n",
       "    </tr>\n",
       "    <tr>\n",
       "      <th>9</th>\n",
       "      <td>guardian_father</td>\n",
       "      <td>2.404591e-01</td>\n",
       "    </tr>\n",
       "  </tbody>\n",
       "</table>\n",
       "</div>"
      ],
      "text/plain": [
       "             feature       p_value\n",
       "0           failures  1.723308e-19\n",
       "1           absences  1.498878e-04\n",
       "2              goout  3.723220e-02\n",
       "3     guardian_other  5.051215e-02\n",
       "4          schoolsup  5.113919e-02\n",
       "5        Mjob_health  7.111005e-02\n",
       "6               Medu  1.922398e-01\n",
       "7               Fedu  2.180558e-01\n",
       "8  reason_reputation  2.250879e-01\n",
       "9    guardian_father  2.404591e-01"
      ]
     },
     "execution_count": 16,
     "metadata": {},
     "output_type": "execute_result"
    }
   ],
   "source": [
    "feature_sig_df.head(10)"
   ]
  },
  {
   "cell_type": "code",
   "execution_count": 17,
   "metadata": {
    "collapsed": true
   },
   "outputs": [],
   "source": [
    "k = 20\n",
    "k_best = SelectKBest(chi2, k= k)\n",
    "k_best.fit(X_train, y_train)\n",
    "scores_kchi2 = k_best.scores_\n",
    "pairs = zip(X_all.columns, scores_kchi2)\n",
    "\n",
    "# combined scores and features into a pandas dataframe then sort \n",
    "\n",
    "k_best_features = pd.DataFrame(pairs,columns = ['feature','score'])\n",
    "k_best_features = k_best_features.sort_values(by= 'score',ascending = False)\n",
    "\n",
    "k_best_features = k_best_features.reset_index(drop = True)"
   ]
  },
  {
   "cell_type": "markdown",
   "metadata": {},
   "source": [
    "**Feature scores are similarly informative.**"
   ]
  },
  {
   "cell_type": "code",
   "execution_count": 18,
   "metadata": {
    "collapsed": false,
    "scrolled": true
   },
   "outputs": [
    {
     "data": {
      "text/html": [
       "<div>\n",
       "<table border=\"1\" class=\"dataframe\">\n",
       "  <thead>\n",
       "    <tr style=\"text-align: right;\">\n",
       "      <th></th>\n",
       "      <th>feature</th>\n",
       "      <th>score</th>\n",
       "    </tr>\n",
       "  </thead>\n",
       "  <tbody>\n",
       "    <tr>\n",
       "      <th>0</th>\n",
       "      <td>failures</td>\n",
       "      <td>81.533328</td>\n",
       "    </tr>\n",
       "    <tr>\n",
       "      <th>1</th>\n",
       "      <td>absences</td>\n",
       "      <td>14.373617</td>\n",
       "    </tr>\n",
       "    <tr>\n",
       "      <th>2</th>\n",
       "      <td>goout</td>\n",
       "      <td>4.339759</td>\n",
       "    </tr>\n",
       "    <tr>\n",
       "      <th>3</th>\n",
       "      <td>guardian_other</td>\n",
       "      <td>3.824376</td>\n",
       "    </tr>\n",
       "    <tr>\n",
       "      <th>4</th>\n",
       "      <td>schoolsup</td>\n",
       "      <td>3.803709</td>\n",
       "    </tr>\n",
       "    <tr>\n",
       "      <th>5</th>\n",
       "      <td>Mjob_health</td>\n",
       "      <td>3.257209</td>\n",
       "    </tr>\n",
       "    <tr>\n",
       "      <th>6</th>\n",
       "      <td>Medu</td>\n",
       "      <td>1.700369</td>\n",
       "    </tr>\n",
       "    <tr>\n",
       "      <th>7</th>\n",
       "      <td>Fedu</td>\n",
       "      <td>1.517120</td>\n",
       "    </tr>\n",
       "    <tr>\n",
       "      <th>8</th>\n",
       "      <td>reason_reputation</td>\n",
       "      <td>1.471635</td>\n",
       "    </tr>\n",
       "    <tr>\n",
       "      <th>9</th>\n",
       "      <td>guardian_father</td>\n",
       "      <td>1.377901</td>\n",
       "    </tr>\n",
       "    <tr>\n",
       "      <th>10</th>\n",
       "      <td>Fjob_services</td>\n",
       "      <td>1.346019</td>\n",
       "    </tr>\n",
       "    <tr>\n",
       "      <th>11</th>\n",
       "      <td>paid</td>\n",
       "      <td>1.183138</td>\n",
       "    </tr>\n",
       "    <tr>\n",
       "      <th>12</th>\n",
       "      <td>romantic</td>\n",
       "      <td>1.130710</td>\n",
       "    </tr>\n",
       "    <tr>\n",
       "      <th>13</th>\n",
       "      <td>Fjob_at_home</td>\n",
       "      <td>1.017326</td>\n",
       "    </tr>\n",
       "    <tr>\n",
       "      <th>14</th>\n",
       "      <td>famsize_LE3</td>\n",
       "      <td>0.909179</td>\n",
       "    </tr>\n",
       "    <tr>\n",
       "      <th>15</th>\n",
       "      <td>Fjob_other</td>\n",
       "      <td>0.890997</td>\n",
       "    </tr>\n",
       "    <tr>\n",
       "      <th>16</th>\n",
       "      <td>health</td>\n",
       "      <td>0.855532</td>\n",
       "    </tr>\n",
       "    <tr>\n",
       "      <th>17</th>\n",
       "      <td>reason_course</td>\n",
       "      <td>0.761123</td>\n",
       "    </tr>\n",
       "    <tr>\n",
       "      <th>18</th>\n",
       "      <td>higher</td>\n",
       "      <td>0.729013</td>\n",
       "    </tr>\n",
       "    <tr>\n",
       "      <th>19</th>\n",
       "      <td>sex_M</td>\n",
       "      <td>0.625816</td>\n",
       "    </tr>\n",
       "  </tbody>\n",
       "</table>\n",
       "</div>"
      ],
      "text/plain": [
       "              feature      score\n",
       "0            failures  81.533328\n",
       "1            absences  14.373617\n",
       "2               goout   4.339759\n",
       "3      guardian_other   3.824376\n",
       "4           schoolsup   3.803709\n",
       "5         Mjob_health   3.257209\n",
       "6                Medu   1.700369\n",
       "7                Fedu   1.517120\n",
       "8   reason_reputation   1.471635\n",
       "9     guardian_father   1.377901\n",
       "10      Fjob_services   1.346019\n",
       "11               paid   1.183138\n",
       "12           romantic   1.130710\n",
       "13       Fjob_at_home   1.017326\n",
       "14        famsize_LE3   0.909179\n",
       "15         Fjob_other   0.890997\n",
       "16             health   0.855532\n",
       "17      reason_course   0.761123\n",
       "18             higher   0.729013\n",
       "19              sex_M   0.625816"
      ]
     },
     "execution_count": 18,
     "metadata": {},
     "output_type": "execute_result"
    }
   ],
   "source": [
    "k_best_features.head(k)"
   ]
  },
  {
   "cell_type": "markdown",
   "metadata": {},
   "source": [
    "### Feature Selection Results\n",
    "Results suggest that many features may not be useful for predicting drop out. Visualizing features with respect to status (pass or fail) will likely be informative."
   ]
  },
  {
   "cell_type": "markdown",
   "metadata": {},
   "source": [
    "#### Exploratory Feature Analysis"
   ]
  },
  {
   "cell_type": "code",
   "execution_count": 19,
   "metadata": {
    "collapsed": false
   },
   "outputs": [
    {
     "name": "stderr",
     "output_type": "stream",
     "text": [
      "C:\\Users\\vhim98198\\Anaconda2\\lib\\site-packages\\matplotlib\\__init__.py:872: UserWarning: axes.color_cycle is deprecated and replaced with axes.prop_cycle; please use the latter.\n",
      "  warnings.warn(self.msg_depr % (key, alt_key))\n"
     ]
    }
   ],
   "source": [
    "import matplotlib as mpl\n",
    "import matplotlib.pyplot as plt\n",
    "%matplotlib inline\n",
    "import seaborn as sns\n",
    "sns.set(style=\"whitegrid\", color_codes=True)"
   ]
  },
  {
   "cell_type": "code",
   "execution_count": 20,
   "metadata": {
    "collapsed": false
   },
   "outputs": [
    {
     "data": {
      "text/plain": [
       "Index([u'school_GP', u'school_MS', u'sex_F', u'sex_M', u'age', u'address_R',\n",
       "       u'address_U', u'famsize_GT3', u'famsize_LE3', u'Pstatus_A',\n",
       "       u'Pstatus_T', u'Medu', u'Fedu', u'Mjob_at_home', u'Mjob_health',\n",
       "       u'Mjob_other', u'Mjob_services', u'Mjob_teacher', u'Fjob_at_home',\n",
       "       u'Fjob_health', u'Fjob_other', u'Fjob_services', u'Fjob_teacher',\n",
       "       u'reason_course', u'reason_home', u'reason_other', u'reason_reputation',\n",
       "       u'guardian_father', u'guardian_mother', u'guardian_other',\n",
       "       u'traveltime', u'studytime', u'failures', u'schoolsup', u'famsup',\n",
       "       u'paid', u'activities', u'nursery', u'higher', u'internet', u'romantic',\n",
       "       u'famrel', u'freetime', u'goout', u'Dalc', u'Walc', u'health',\n",
       "       u'absences', u'passed', u'passed_binary'],\n",
       "      dtype='object')"
      ]
     },
     "execution_count": 20,
     "metadata": {},
     "output_type": "execute_result"
    }
   ],
   "source": [
    "# recombine X_all and y_all\n",
    "\n",
    "combined_X_y = X_all.join(y_all)\n",
    "\n",
    "# create a binary measure of passed where yes = 1 and no = 0\n",
    "\n",
    "combined_X_y['passed_binary'] = np.where(combined_X_y.passed == 'yes', 1,0)\n",
    "\n",
    "combined_X_y.columns"
   ]
  },
  {
   "cell_type": "code",
   "execution_count": 21,
   "metadata": {
    "collapsed": false,
    "scrolled": true
   },
   "outputs": [
    {
     "name": "stderr",
     "output_type": "stream",
     "text": [
      "C:\\Users\\vhim98198\\Anaconda2\\lib\\site-packages\\matplotlib\\__init__.py:892: UserWarning: axes.color_cycle is deprecated and replaced with axes.prop_cycle; please use the latter.\n",
      "  warnings.warn(self.msg_depr % (key, alt_key))\n"
     ]
    },
    {
     "data": {
      "image/png": "[encoded data removed]",
      "text/plain": [
       "<matplotlib.figure.Figure at 0xa00e890>"
      ]
     },
     "metadata": {},
     "output_type": "display_data"
    }
   ],
   "source": [
    "p= sns.barplot(x=\"failures\", y= 'passed_binary', order= [0,1,2,3],data= combined_X_y);\n",
    "p.set_title('Mean Passed by Failures')\n",
    "plt.show()"
   ]
  },
  {
   "cell_type": "markdown",
   "metadata": {},
   "source": [
    "**There is clearly a relationship between failures probabiliyt of passing**"
   ]
  },
  {
   "cell_type": "code",
   "execution_count": 22,
   "metadata": {
    "collapsed": false
   },
   "outputs": [],
   "source": [
    "# groupby passed probability for each number of absences and failures\n",
    "absences_df = combined_X_y[['absences','passed_binary', 'failures']].groupby(['absences', 'failures']).mean().reset_index()"
   ]
  },
  {
   "cell_type": "code",
   "execution_count": 23,
   "metadata": {
    "collapsed": false,
    "scrolled": true
   },
   "outputs": [
    {
     "data": {
      "image/png": "[encoded data removed]",
      "text/plain": [
       "<matplotlib.figure.Figure at 0xa15b850>"
      ]
     },
     "metadata": {},
     "output_type": "display_data"
    }
   ],
   "source": [
    "p= sns.lmplot(x= 'absences', y= 'passed_binary', hue= 'failures', data= absences_df, fit_reg= False,\n",
    "              scatter_kws={\"marker\": \"D\", \"s\": 30})\n",
    "plt.title('Passed probability by Absences')\n",
    "plt.show()"
   ]
  },
  {
   "cell_type": "markdown",
   "metadata": {},
   "source": [
    "**There appears to be an interplay between failures and absences in terms of passing rate**"
   ]
  },
  {
   "cell_type": "code",
   "execution_count": 24,
   "metadata": {
    "collapsed": false
   },
   "outputs": [
    {
     "data": {
      "image/png": "[encoded data removed]",
      "text/plain": [
       "<matplotlib.figure.Figure at 0xa1d3150>"
      ]
     },
     "metadata": {},
     "output_type": "display_data"
    }
   ],
   "source": [
    "p= sns.barplot(x=\"paid\", y= 'passed_binary',data= combined_X_y);\n",
    "p.set_title(\"Mean Passed  by Paid\")\n",
    "plt.show()"
   ]
  },
  {
   "cell_type": "code",
   "execution_count": 25,
   "metadata": {
    "collapsed": false,
    "scrolled": true
   },
   "outputs": [
    {
     "data": {
      "image/png": "[encoded data removed]",
      "text/plain": [
       "<matplotlib.figure.Figure at 0x9d09550>"
      ]
     },
     "metadata": {},
     "output_type": "display_data"
    }
   ],
   "source": [
    "p= sns.barplot(x=\"goout\", y=\"passed_binary\", order= [1,2,3,4,5],data= combined_X_y);\n",
    "p.set_title('Mean Passed by Go Out')\n",
    "plt.show()"
   ]
  },
  {
   "cell_type": "code",
   "execution_count": 26,
   "metadata": {
    "collapsed": false
   },
   "outputs": [
    {
     "data": {
      "image/png": "[encoded data removed]",
      "text/plain": [
       "<matplotlib.figure.Figure at 0xa42ef70>"
      ]
     },
     "metadata": {},
     "output_type": "display_data"
    }
   ],
   "source": [
    "p= sns.barplot(x=\"Medu\", y= 'passed_binary', order= [0,1,2,3,4], data= combined_X_y);\n",
    "p.set_title('Mean Passed by Medu')\n",
    "plt.show()"
   ]
  },
  {
   "cell_type": "markdown",
   "metadata": {},
   "source": [
    "**The CIs (error bars in plots) overlap for Medu, Go Out, and Paid.  This is not surprising based on  p_values and feature scores.**"
   ]
  },
  {
   "cell_type": "markdown",
   "metadata": {},
   "source": [
    "# 4. Training and Evaluating Models\n",
    "Choose 3 supervised learning models that are available in scikit-learn, and appropriate for this problem. For each model:\n",
    "\n",
    "- What is the theoretical O(n) time & space complexity in terms of input size?\n",
    "- What are the general applications of this model? What are its strengths and weaknesses?\n",
    "- Given what you know about the data so far, why did you choose this model to apply?\n",
    "- Fit this model to the training data, try to predict labels (for both training and test sets), and measure the F<sub>1</sub> score. Repeat this process with different training set sizes (100, 200, 300), keeping test set constant.\n",
    "\n",
    "Produce a table showing training time, prediction time, F<sub>1</sub> score on training set and F<sub>1</sub> score on test set, for each training set size.\n",
    "\n",
    "Note: You need to produce 3 such tables - one for each model."
   ]
  },
  {
   "cell_type": "markdown",
   "metadata": {},
   "source": [
    "#### Chosen Models\n",
    "- Adaboost\n",
    "- Multinomial Bayes\n",
    "- SVM"
   ]
  },
  {
   "cell_type": "code",
   "execution_count": 27,
   "metadata": {
    "collapsed": false
   },
   "outputs": [],
   "source": [
    "# load combined table of classifier training size results\n",
    "classifier_metrics= pd.read_csv('combined_df.csv', index_col= False)"
   ]
  },
  {
   "cell_type": "markdown",
   "metadata": {},
   "source": [
    "#### Adaboost\n",
    "\n",
    "- What is the theoretical O(n) time & space complexity in terms of input size?\n",
    "The theoretical O(n) can vary widely for Adaboost and is largely dependent on the followinng factors:\n",
    "    + Base_estimator:  Typically this is a decison tree which has a theoretical O(log(n_samples)) for predicton and a general training time of O(n_samples * n_features * (log(n_samples)).\n",
    "    + Number of features (see above)\n",
    "    + Number of samples (see above)\n",
    "    + Number of estimators (the more we have the larger the time and space complexity)\n",
    "\n",
    "    The impact of number of samples, features, and estimators on time complexity is emprically demonstrated in the remainder of this report. Generally the time complexity is proportional to each factor. \n",
    "    \n",
    "\n",
    "- What are the general applications of this model? What are its strengths and weaknesses?\n",
    "    \n",
    "    Adaboost is an ensemble method which can be used for classification and regression.  Ensemble methods combine the predictions of several base estimators to improve robustness and generalizability.  Adaboost is a boosting algorithm which combines several (default is 50) weak learners (result of each individual learner is slightly better than random) to produce a strong learner. During training each estimator learns a portion of the data during several rounds of learning. As learning progresses the weak learners are boosted through performance based weighting. This way good performers are de-prioritized for training, and poor performers are prioritized. The end result is typically a well generalized and robust strong learner.\n",
    "    \n",
    "    \n",
    "- Given what you know about the data so far, why did you choose this model to apply?\n",
    "\n",
    "    This model was considred because it has the similar advantages to a decisoin tree, when a decision tree is used as the base estimator, but with the added advantage of combining multiple \"weak\" decision trees to decrease error rate, increase robustness, and decrease opportunities of overfitting. Adaboost also has tunable hyper parameters which can be used to augment the model.  The particular properties of decison trees which were drivers for the decision to use adaboost are:\n",
    "\n",
    "    - Requires little data preparation.\n",
    "    - Low prediction cost\n",
    "    - Able to handle both numerical and categorical data.\n",
    "    - Performs well even if some assumptions for the model are violated.\n",
    "\n",
    "    In other words, it is robust.  Considering that the school district may not have a budget for maintenance of the classifier, a robust model is best.\n",
    "    \n",
    "    #### Adaboost Training Size Results (default settings with random state= 42)"
   ]
  },
  {
   "cell_type": "code",
   "execution_count": 28,
   "metadata": {
    "collapsed": false
   },
   "outputs": [
    {
     "data": {
      "text/html": [
       "<div>\n",
       "<table border=\"1\" class=\"dataframe\">\n",
       "  <thead>\n",
       "    <tr style=\"text-align: right;\">\n",
       "      <th></th>\n",
       "      <th>classifier</th>\n",
       "      <th>train_size</th>\n",
       "      <th>training_time(s)</th>\n",
       "      <th>prediction_time(s)</th>\n",
       "      <th>f1_train</th>\n",
       "      <th>f1_test</th>\n",
       "    </tr>\n",
       "  </thead>\n",
       "  <tbody>\n",
       "    <tr>\n",
       "      <th>0</th>\n",
       "      <td>adaboost</td>\n",
       "      <td>25</td>\n",
       "      <td>0.423</td>\n",
       "      <td>1.000000</td>\n",
       "      <td>1.000000</td>\n",
       "      <td>0.702290</td>\n",
       "    </tr>\n",
       "    <tr>\n",
       "      <th>1</th>\n",
       "      <td>adaboost</td>\n",
       "      <td>50</td>\n",
       "      <td>0.456</td>\n",
       "      <td>1.000000</td>\n",
       "      <td>1.000000</td>\n",
       "      <td>0.692913</td>\n",
       "    </tr>\n",
       "    <tr>\n",
       "      <th>2</th>\n",
       "      <td>adaboost</td>\n",
       "      <td>100</td>\n",
       "      <td>0.456</td>\n",
       "      <td>0.977778</td>\n",
       "      <td>0.977778</td>\n",
       "      <td>0.688000</td>\n",
       "    </tr>\n",
       "    <tr>\n",
       "      <th>3</th>\n",
       "      <td>adaboost</td>\n",
       "      <td>200</td>\n",
       "      <td>0.509</td>\n",
       "      <td>0.890511</td>\n",
       "      <td>0.890511</td>\n",
       "      <td>0.744526</td>\n",
       "    </tr>\n",
       "    <tr>\n",
       "      <th>4</th>\n",
       "      <td>adaboost</td>\n",
       "      <td>300</td>\n",
       "      <td>0.570</td>\n",
       "      <td>0.856471</td>\n",
       "      <td>0.856471</td>\n",
       "      <td>0.732824</td>\n",
       "    </tr>\n",
       "  </tbody>\n",
       "</table>\n",
       "</div>"
      ],
      "text/plain": [
       "  classifier  train_size  training_time(s)  prediction_time(s)  f1_train  \\\n",
       "0   adaboost          25             0.423            1.000000  1.000000   \n",
       "1   adaboost          50             0.456            1.000000  1.000000   \n",
       "2   adaboost         100             0.456            0.977778  0.977778   \n",
       "3   adaboost         200             0.509            0.890511  0.890511   \n",
       "4   adaboost         300             0.570            0.856471  0.856471   \n",
       "\n",
       "    f1_test  \n",
       "0  0.702290  \n",
       "1  0.692913  \n",
       "2  0.688000  \n",
       "3  0.744526  \n",
       "4  0.732824  "
      ]
     },
     "execution_count": 28,
     "metadata": {},
     "output_type": "execute_result"
    }
   ],
   "source": [
    "classifier_metrics[classifier_metrics.classifier == 'adaboost']"
   ]
  },
  {
   "cell_type": "markdown",
   "metadata": {
    "collapsed": true
   },
   "source": [
    "#### Multinomial Bayes\n",
    "\n",
    "- What is the theoretical O(n) time & space complexity in terms of input size?\n",
    "\n",
    "    Multinomial Bayes is an implementation of Naive Bayes for multinomially distributed data, and has similiar properties to the Naive Bayes classifier. Since Bayesian algorithms essentially build a mapping of counts pre and post evidence (features) the theoretical time complexity is O(n).\n",
    "    \n",
    "- What are the general applications of this model? What are its strengths and weaknesses?\n",
    "\n",
    "    Bayesian algorithms are typically reserved for classification and are often used for applications that need to be fast, such as spam classification.  \n",
    "    \n",
    "    **Strengths include:**    \n",
    "    \n",
    "    - simple \"white box\" model\n",
    "    - faster run time than more complex and sophisticated models\n",
    "    - treats each feature distribution independently, mitigating the curse of dimensionality\n",
    "    \n",
    "  **Weaknesses include:**\n",
    "    \n",
    "     - Since the model is so simple we risk a high bias model and there are very few parameters to tune for performance improvment.\n",
    "     - The \"naive\" assumpitons that make them great classifiers tend to make them unrelable estimators, so their predictiion probabiiites are not reliable.\n",
    "\n",
    "- Given what you know about the data so far, why did you choose this model to apply?\n",
    "\n",
    "Based on the client specifications and the number of features I felt it was worth trying a fast and reliable classifier that is robust to the curse of dimensionality. A white box model is also desierable in terms of explaining the mapping between inputs and outputs to the school district.\n",
    "\n",
    "#### MNB Training Size Results (default settings with random state= 42)"
   ]
  },
  {
   "cell_type": "code",
   "execution_count": 29,
   "metadata": {
    "collapsed": false
   },
   "outputs": [
    {
     "data": {
      "text/html": [
       "<div>\n",
       "<table border=\"1\" class=\"dataframe\">\n",
       "  <thead>\n",
       "    <tr style=\"text-align: right;\">\n",
       "      <th></th>\n",
       "      <th>classifier</th>\n",
       "      <th>train_size</th>\n",
       "      <th>training_time(s)</th>\n",
       "      <th>prediction_time(s)</th>\n",
       "      <th>f1_train</th>\n",
       "      <th>f1_test</th>\n",
       "    </tr>\n",
       "  </thead>\n",
       "  <tbody>\n",
       "    <tr>\n",
       "      <th>5</th>\n",
       "      <td>mnb</td>\n",
       "      <td>25</td>\n",
       "      <td>0.016</td>\n",
       "      <td>0.878049</td>\n",
       "      <td>0.878049</td>\n",
       "      <td>0.740741</td>\n",
       "    </tr>\n",
       "    <tr>\n",
       "      <th>6</th>\n",
       "      <td>mnb</td>\n",
       "      <td>50</td>\n",
       "      <td>0.003</td>\n",
       "      <td>0.883117</td>\n",
       "      <td>0.883117</td>\n",
       "      <td>0.716418</td>\n",
       "    </tr>\n",
       "    <tr>\n",
       "      <th>7</th>\n",
       "      <td>mnb</td>\n",
       "      <td>100</td>\n",
       "      <td>0.013</td>\n",
       "      <td>0.819444</td>\n",
       "      <td>0.819444</td>\n",
       "      <td>0.705036</td>\n",
       "    </tr>\n",
       "    <tr>\n",
       "      <th>8</th>\n",
       "      <td>mnb</td>\n",
       "      <td>200</td>\n",
       "      <td>0.005</td>\n",
       "      <td>0.798587</td>\n",
       "      <td>0.798587</td>\n",
       "      <td>0.766917</td>\n",
       "    </tr>\n",
       "    <tr>\n",
       "      <th>9</th>\n",
       "      <td>mnb</td>\n",
       "      <td>300</td>\n",
       "      <td>0.011</td>\n",
       "      <td>0.814815</td>\n",
       "      <td>0.814815</td>\n",
       "      <td>0.785185</td>\n",
       "    </tr>\n",
       "  </tbody>\n",
       "</table>\n",
       "</div>"
      ],
      "text/plain": [
       "  classifier  train_size  training_time(s)  prediction_time(s)  f1_train  \\\n",
       "5        mnb          25             0.016            0.878049  0.878049   \n",
       "6        mnb          50             0.003            0.883117  0.883117   \n",
       "7        mnb         100             0.013            0.819444  0.819444   \n",
       "8        mnb         200             0.005            0.798587  0.798587   \n",
       "9        mnb         300             0.011            0.814815  0.814815   \n",
       "\n",
       "    f1_test  \n",
       "5  0.740741  \n",
       "6  0.716418  \n",
       "7  0.705036  \n",
       "8  0.766917  \n",
       "9  0.785185  "
      ]
     },
     "execution_count": 29,
     "metadata": {},
     "output_type": "execute_result"
    }
   ],
   "source": [
    "classifier_metrics[classifier_metrics.classifier == 'mnb']"
   ]
  },
  {
   "cell_type": "markdown",
   "metadata": {},
   "source": [
    "#### Support Vector Machine (SVM)\n",
    "\n",
    "- What is the theoretical O(n) time & space complexity in terms of input size?\n",
    "\n",
    "    According to [Support Vector Machine Solvers by Bottou and Lin](http://140.112.30.28/~cjlin/papers/bottou_lin.pdf) time complexity is dependent on the C parameter and is in the range O(n^2) - O(n^3).\n",
    "\n",
    "- What are the general applications of this model? What are its strengths and weaknesses?\n",
    "\n",
    "    Suppot vector machines are used in classification, regression, and outlier detection. Per the [Scikit-learn User's Guide](http://scikit-learn.org/stable/modules/svm.html):\n",
    "    \n",
    "    **The advantages of support vector machines are:**\n",
    "    \n",
    "    - Effective in high dimensional spaces.\n",
    "    - Still effective in cases where number of dimensions is greater than the number of samples.\n",
    "    - Uses a subset of training points in the decision function (called support vectors), so it is also memory efficient.\n",
    "    - Versatile: different Kernel functions can be specified for the decision function. Common kernels are provided, but it is also possible to specify custom kernels.\n",
    "    \n",
    "  **The disadvantages of support vector machines include:**\n",
    "    \n",
    "    - If the number of features is much greater than the number of samples, the method is likely to give poor performances.\n",
    "    - SVMs do not directly provide probability estimates, these are calculated using an expensive five-fold cross-validation.\n",
    "\n",
    "- Given what you know about the data so far, why did you choose this model to apply?\n",
    "\n",
    "    I wanted to apply a memory effieicent model that is effective in high dimensional space.\n",
    "    \n",
    "    #### SVM Training Size Results (default settings with random state= 42)"
   ]
  },
  {
   "cell_type": "code",
   "execution_count": 30,
   "metadata": {
    "collapsed": false
   },
   "outputs": [
    {
     "data": {
      "text/html": [
       "<div>\n",
       "<table border=\"1\" class=\"dataframe\">\n",
       "  <thead>\n",
       "    <tr style=\"text-align: right;\">\n",
       "      <th></th>\n",
       "      <th>classifier</th>\n",
       "      <th>train_size</th>\n",
       "      <th>training_time(s)</th>\n",
       "      <th>prediction_time(s)</th>\n",
       "      <th>f1_train</th>\n",
       "      <th>f1_test</th>\n",
       "    </tr>\n",
       "  </thead>\n",
       "  <tbody>\n",
       "    <tr>\n",
       "      <th>10</th>\n",
       "      <td>svc</td>\n",
       "      <td>25</td>\n",
       "      <td>0.001</td>\n",
       "      <td>0.863636</td>\n",
       "      <td>0.863636</td>\n",
       "      <td>0.805031</td>\n",
       "    </tr>\n",
       "    <tr>\n",
       "      <th>11</th>\n",
       "      <td>svc</td>\n",
       "      <td>50</td>\n",
       "      <td>0.003</td>\n",
       "      <td>0.837209</td>\n",
       "      <td>0.837209</td>\n",
       "      <td>0.805031</td>\n",
       "    </tr>\n",
       "    <tr>\n",
       "      <th>12</th>\n",
       "      <td>svc</td>\n",
       "      <td>100</td>\n",
       "      <td>0.004</td>\n",
       "      <td>0.795181</td>\n",
       "      <td>0.795181</td>\n",
       "      <td>0.805031</td>\n",
       "    </tr>\n",
       "    <tr>\n",
       "      <th>13</th>\n",
       "      <td>svc</td>\n",
       "      <td>200</td>\n",
       "      <td>0.013</td>\n",
       "      <td>0.787879</td>\n",
       "      <td>0.787879</td>\n",
       "      <td>0.805031</td>\n",
       "    </tr>\n",
       "    <tr>\n",
       "      <th>14</th>\n",
       "      <td>svc</td>\n",
       "      <td>300</td>\n",
       "      <td>0.027</td>\n",
       "      <td>0.802395</td>\n",
       "      <td>0.802395</td>\n",
       "      <td>0.805031</td>\n",
       "    </tr>\n",
       "  </tbody>\n",
       "</table>\n",
       "</div>"
      ],
      "text/plain": [
       "   classifier  train_size  training_time(s)  prediction_time(s)  f1_train  \\\n",
       "10        svc          25             0.001            0.863636  0.863636   \n",
       "11        svc          50             0.003            0.837209  0.837209   \n",
       "12        svc         100             0.004            0.795181  0.795181   \n",
       "13        svc         200             0.013            0.787879  0.787879   \n",
       "14        svc         300             0.027            0.802395  0.802395   \n",
       "\n",
       "     f1_test  \n",
       "10  0.805031  \n",
       "11  0.805031  \n",
       "12  0.805031  \n",
       "13  0.805031  \n",
       "14  0.805031  "
      ]
     },
     "execution_count": 30,
     "metadata": {},
     "output_type": "execute_result"
    }
   ],
   "source": [
    "classifier_metrics[classifier_metrics.classifier == 'svc']"
   ]
  },
  {
   "cell_type": "markdown",
   "metadata": {},
   "source": [
    "### Functions and Imports\n",
    "\n",
    "Functions and associated imports for this section."
   ]
  },
  {
   "cell_type": "code",
   "execution_count": 31,
   "metadata": {
    "collapsed": false
   },
   "outputs": [],
   "source": [
    "import time\n",
    "\n",
    "\n",
    "# Train a model\n",
    "def train_classifier(clf, X_train, y_train):\n",
    "    #print \"Training {}... \\n\".format(clf.__class__.__name__)\n",
    "    start = time.time()\n",
    "    clf.fit(X_train, y_train)\n",
    "    end = time.time()\n",
    "    #print \"Done!\\nTraining time (secs): {:.3f}\".format(end - start)\n",
    "    return end - start\n",
    "\n",
    "from sklearn.metrics import f1_score, precision_score, recall_score\n",
    "\n",
    "def predict_labels(clf, features, target):\n",
    "    #print \"Predicting labels using {}... \\n\".format(clf.__class__.__name__)\n",
    "    start = time.time()\n",
    "    y_pred = clf.predict(features)\n",
    "    end = time.time()\n",
    "    #print \"Done!\\nPrediction time (secs): {:.3f} \\n\".format(end - start)\n",
    "    return f1_score(target.values, y_pred, pos_label='yes')\n",
    "\n",
    "# Train and predict using different training set sizes\n",
    "def train_predict(clf, X_train, y_train, X_test, y_test):\n",
    "    #print \"------------------------------------------\"\n",
    "    #print \"Training set size: {}\".format(len(X_train))\n",
    "    train_classifier(clf, X_train, y_train)\n",
    "    #print \"F1 score for training set: {}\".format(predict_labels(clf, X_train, y_train))\n",
    "    #print \"F1 score for test set: {}\".format(predict_labels(clf, X_test, y_test))\n",
    "    f1_score_train = predict_labels(clf, X_train, y_train)\n",
    "    f1_score_test = predict_labels(clf, X_test, y_test)\n",
    "    training_time = train_classifier(clf, X_train, y_train)\n",
    "    prediction_time= predict_labels(clf, X_train, y_train)\n",
    "    \n",
    "    return training_time, prediction_time, f1_score_train, f1_score_test\n",
    "\n",
    "def build_clf_metrics_table(metrics_dict, dependent_variable_name):\n",
    "    clf_df = pd.DataFrame.from_dict(metrics_dict, orient='index')\n",
    "    clf_df.columns = [\"training_time(s)\", \"prediction_time(s)\", \"f1_train\",\"f1_test\"]\n",
    "    clf_df = clf_df.sort_index()\n",
    "    clf_df = clf_df.reset_index()\n",
    "    clf_df.rename(columns={'index': dependent_variable_name},inplace=True)\n",
    "    return clf_df\n",
    "\n",
    "\n",
    "def build_melted_metrics_table(df):\n",
    "    \n",
    "\n",
    "    cols_train = [x for x in df.columns if x != 'f1_test']\n",
    "    cols_test = [x for x in df.columns if x != 'f1_train']\n",
    "\n",
    "    df_train = df[cols_train]\n",
    "    df_train['kind'] = 'train'\n",
    "    df_train.rename(columns= {'f1_train': 'f1'}, inplace= True)\n",
    "\n",
    "    df_test = df[cols_test]\n",
    "    df_test['kind'] = 'test'\n",
    "    df_test.rename(columns= {'f1_test': 'f1'}, inplace= True)\n",
    "\n",
    "    return df_train.append(df_test)\n",
    "\n",
    "def gen_test_train_plot(data, dependent_variable_name):\n",
    "    plot = sns.pointplot(x= dependent_variable_name, y= 'f1', hue= 'kind', data = data)\n",
    "    return plot"
   ]
  },
  {
   "cell_type": "code",
   "execution_count": 64,
   "metadata": {
    "collapsed": false
   },
   "outputs": [],
   "source": [
    "# set up pickle functions for saving and restoring tuned classifier\n",
    "import pickle\n",
    "\n",
    "def dump_pkl(my_object, filename):\n",
    "    with open(filename, \"w\") as outfile:\n",
    "        pickle.dump(my_object, outfile)\n",
    "\n",
    "\n",
    "def load_pkl(filename):\n",
    "    with open(filename, \"r\") as infile:\n",
    "        obj = pickle.load(infile)\n",
    "        return obj"
   ]
  },
  {
   "cell_type": "markdown",
   "metadata": {},
   "source": [
    "### Adaboost All Features"
   ]
  },
  {
   "cell_type": "code",
   "execution_count": 32,
   "metadata": {
    "collapsed": false,
    "scrolled": true
   },
   "outputs": [
    {
     "name": "stdout",
     "output_type": "stream",
     "text": [
      "AdaBoostClassifier(algorithm='SAMME.R', base_estimator=None,\n",
      "          learning_rate=1.0, n_estimators=50, random_state=42)\n",
      "F1 score for training set: 0.856470588235 \n",
      "\n",
      "F1 score for test set: 0.732824427481 \n",
      "\n"
     ]
    }
   ],
   "source": [
    "# TODO: Choose a model, import it and instantiate an object\n",
    "from sklearn.ensemble import AdaBoostClassifier\n",
    "clf = AdaBoostClassifier(random_state= 42)\n",
    "\n",
    "# Fit model to training data\n",
    "train_classifier(clf, X_train, y_train)  # note: using entire training set here\n",
    "print clf\n",
    "\n",
    "# Predict on training set and compute F1 score\n",
    "train_f1_score = predict_labels(clf, X_train, y_train)\n",
    "print \"F1 score for training set: {} \\n\".format(train_f1_score)\n",
    "\n",
    "# Predict on test data\n",
    "print \"F1 score for test set: {} \\n\".format(predict_labels(clf, X_test, y_test))"
   ]
  },
  {
   "cell_type": "code",
   "execution_count": 33,
   "metadata": {
    "collapsed": false
   },
   "outputs": [],
   "source": [
    "# TODO: Run the helper function above for desired subsets of training data\n",
    "# Note: Keep the test set constant\n",
    "\n",
    "sizes = [25, 50, 100, 200, len(X_train)]\n",
    "\n",
    "metrics = {}\n",
    "for size in sizes:\n",
    "    training_time, prediction_time, f1_score_train, f1_score_test = train_predict(clf, X_train[:size],\n",
    "                                                                 y_train[:size], X_test, y_test)\n",
    "    \n",
    "    metrics_list = [training_time, prediction_time, f1_score_train, f1_score_test]\n",
    "    \n",
    "    metrics[size] = metrics_list   \n",
    "    "
   ]
  },
  {
   "cell_type": "code",
   "execution_count": 34,
   "metadata": {
    "collapsed": false
   },
   "outputs": [
    {
     "data": {
      "text/html": [
       "<div>\n",
       "<table border=\"1\" class=\"dataframe\">\n",
       "  <thead>\n",
       "    <tr style=\"text-align: right;\">\n",
       "      <th></th>\n",
       "      <th>train_size</th>\n",
       "      <th>training_time(s)</th>\n",
       "      <th>prediction_time(s)</th>\n",
       "      <th>f1_train</th>\n",
       "      <th>f1_test</th>\n",
       "    </tr>\n",
       "  </thead>\n",
       "  <tbody>\n",
       "    <tr>\n",
       "      <th>0</th>\n",
       "      <td>25</td>\n",
       "      <td>0.479</td>\n",
       "      <td>1.000000</td>\n",
       "      <td>1.000000</td>\n",
       "      <td>0.702290</td>\n",
       "    </tr>\n",
       "    <tr>\n",
       "      <th>1</th>\n",
       "      <td>50</td>\n",
       "      <td>0.453</td>\n",
       "      <td>1.000000</td>\n",
       "      <td>1.000000</td>\n",
       "      <td>0.692913</td>\n",
       "    </tr>\n",
       "    <tr>\n",
       "      <th>2</th>\n",
       "      <td>100</td>\n",
       "      <td>0.462</td>\n",
       "      <td>0.977778</td>\n",
       "      <td>0.977778</td>\n",
       "      <td>0.688000</td>\n",
       "    </tr>\n",
       "    <tr>\n",
       "      <th>3</th>\n",
       "      <td>200</td>\n",
       "      <td>0.481</td>\n",
       "      <td>0.890511</td>\n",
       "      <td>0.890511</td>\n",
       "      <td>0.744526</td>\n",
       "    </tr>\n",
       "    <tr>\n",
       "      <th>4</th>\n",
       "      <td>300</td>\n",
       "      <td>0.514</td>\n",
       "      <td>0.856471</td>\n",
       "      <td>0.856471</td>\n",
       "      <td>0.732824</td>\n",
       "    </tr>\n",
       "  </tbody>\n",
       "</table>\n",
       "</div>"
      ],
      "text/plain": [
       "   train_size  training_time(s)  prediction_time(s)  f1_train   f1_test\n",
       "0          25             0.479            1.000000  1.000000  0.702290\n",
       "1          50             0.453            1.000000  1.000000  0.692913\n",
       "2         100             0.462            0.977778  0.977778  0.688000\n",
       "3         200             0.481            0.890511  0.890511  0.744526\n",
       "4         300             0.514            0.856471  0.856471  0.732824"
      ]
     },
     "execution_count": 34,
     "metadata": {},
     "output_type": "execute_result"
    }
   ],
   "source": [
    "adaboost_metrics = build_clf_metrics_table(metrics, 'train_size')\n",
    "adaboost_metrics"
   ]
  },
  {
   "cell_type": "code",
   "execution_count": 35,
   "metadata": {
    "collapsed": false
   },
   "outputs": [
    {
     "data": {
      "text/plain": [
       "(0.5, 1.15)"
      ]
     },
     "execution_count": 35,
     "metadata": {},
     "output_type": "execute_result"
    },
    {
     "data": {
      "image/png": "[encoded data removed]",
      "text/plain": [
       "<matplotlib.figure.Figure at 0xa3a5f50>"
      ]
     },
     "metadata": {},
     "output_type": "display_data"
    }
   ],
   "source": [
    "adaboost_melted = build_melted_metrics_table(adaboost_metrics)\n",
    "\n",
    "adaboost_plot = gen_test_train_plot(adaboost_melted, 'train_size')\n",
    "plt.ylim(.50,1.15)"
   ]
  },
  {
   "cell_type": "markdown",
   "metadata": {
    "collapsed": false
   },
   "source": [
    "### Multinomial Bayes All Features"
   ]
  },
  {
   "cell_type": "code",
   "execution_count": 36,
   "metadata": {
    "collapsed": false
   },
   "outputs": [
    {
     "name": "stdout",
     "output_type": "stream",
     "text": [
      "MultinomialNB(alpha=1.0, class_prior=None, fit_prior=True)\n",
      "F1 score for training set: 0.814814814815 \n",
      "\n",
      "F1 score for test set: 0.785185185185 \n",
      "\n"
     ]
    }
   ],
   "source": [
    "# TODO: Choose a model, import it and instantiate an object\n",
    "from sklearn.naive_bayes import MultinomialNB\n",
    "clf = MultinomialNB()\n",
    "\n",
    "# Fit model to training data\n",
    "train_classifier(clf, X_train, y_train)  # note: using entire training set here\n",
    "print clf\n",
    "\n",
    "# Predict on training set and compute F1 score\n",
    "train_f1_score = predict_labels(clf, X_train, y_train)\n",
    "print \"F1 score for training set: {} \\n\".format(train_f1_score)\n",
    "\n",
    "# Predict on test data\n",
    "print \"F1 score for test set: {} \\n\".format(predict_labels(clf, X_test, y_test))"
   ]
  },
  {
   "cell_type": "code",
   "execution_count": 37,
   "metadata": {
    "collapsed": true
   },
   "outputs": [],
   "source": [
    "# TODO: Run the helper function above for desired subsets of training data\n",
    "# Note: Keep the test set constant\n",
    "\n",
    "sizes = [25, 50, 100, 200, len(X_train)]\n",
    "\n",
    "metrics = {}\n",
    "for size in sizes:\n",
    "    training_time, prediction_time, f1_score_train, f1_score_test = train_predict(clf, X_train[:size],\n",
    "                                                                 y_train[:size], X_test, y_test)\n",
    "    \n",
    "    metrics_list = [training_time, prediction_time, f1_score_train, f1_score_test]\n",
    "    \n",
    "    metrics[size] = metrics_list   "
   ]
  },
  {
   "cell_type": "code",
   "execution_count": 38,
   "metadata": {
    "collapsed": false
   },
   "outputs": [
    {
     "data": {
      "text/html": [
       "<div>\n",
       "<table border=\"1\" class=\"dataframe\">\n",
       "  <thead>\n",
       "    <tr style=\"text-align: right;\">\n",
       "      <th></th>\n",
       "      <th>train_size</th>\n",
       "      <th>training_time(s)</th>\n",
       "      <th>prediction_time(s)</th>\n",
       "      <th>f1_train</th>\n",
       "      <th>f1_test</th>\n",
       "    </tr>\n",
       "  </thead>\n",
       "  <tbody>\n",
       "    <tr>\n",
       "      <th>0</th>\n",
       "      <td>25</td>\n",
       "      <td>0.003</td>\n",
       "      <td>0.878049</td>\n",
       "      <td>0.878049</td>\n",
       "      <td>0.740741</td>\n",
       "    </tr>\n",
       "    <tr>\n",
       "      <th>1</th>\n",
       "      <td>50</td>\n",
       "      <td>0.000</td>\n",
       "      <td>0.883117</td>\n",
       "      <td>0.883117</td>\n",
       "      <td>0.716418</td>\n",
       "    </tr>\n",
       "    <tr>\n",
       "      <th>2</th>\n",
       "      <td>100</td>\n",
       "      <td>0.004</td>\n",
       "      <td>0.819444</td>\n",
       "      <td>0.819444</td>\n",
       "      <td>0.705036</td>\n",
       "    </tr>\n",
       "    <tr>\n",
       "      <th>3</th>\n",
       "      <td>200</td>\n",
       "      <td>0.004</td>\n",
       "      <td>0.798587</td>\n",
       "      <td>0.798587</td>\n",
       "      <td>0.766917</td>\n",
       "    </tr>\n",
       "    <tr>\n",
       "      <th>4</th>\n",
       "      <td>300</td>\n",
       "      <td>0.000</td>\n",
       "      <td>0.814815</td>\n",
       "      <td>0.814815</td>\n",
       "      <td>0.785185</td>\n",
       "    </tr>\n",
       "  </tbody>\n",
       "</table>\n",
       "</div>"
      ],
      "text/plain": [
       "   train_size  training_time(s)  prediction_time(s)  f1_train   f1_test\n",
       "0          25             0.003            0.878049  0.878049  0.740741\n",
       "1          50             0.000            0.883117  0.883117  0.716418\n",
       "2         100             0.004            0.819444  0.819444  0.705036\n",
       "3         200             0.004            0.798587  0.798587  0.766917\n",
       "4         300             0.000            0.814815  0.814815  0.785185"
      ]
     },
     "execution_count": 38,
     "metadata": {},
     "output_type": "execute_result"
    }
   ],
   "source": [
    "mnb_metrics = build_clf_metrics_table(metrics, 'train_size')\n",
    "mnb_metrics"
   ]
  },
  {
   "cell_type": "code",
   "execution_count": 39,
   "metadata": {
    "collapsed": false,
    "scrolled": true
   },
   "outputs": [
    {
     "data": {
      "text/plain": [
       "(0.6, 0.95)"
      ]
     },
     "execution_count": 39,
     "metadata": {},
     "output_type": "execute_result"
    },
    {
     "data": {
      "image/png": "[encoded data removed]",
      "text/plain": [
       "<matplotlib.figure.Figure at 0xa376630>"
      ]
     },
     "metadata": {},
     "output_type": "display_data"
    }
   ],
   "source": [
    "mnb_melted = build_melted_metrics_table(mnb_metrics)\n",
    "\n",
    "mnb_plot = gen_test_train_plot(mnb_melted, 'train_size')\n",
    "plt.ylim(.60,.95)"
   ]
  },
  {
   "cell_type": "markdown",
   "metadata": {},
   "source": [
    "### Support Vector Machine All Features"
   ]
  },
  {
   "cell_type": "markdown",
   "metadata": {},
   "source": [
    "#### Scale for SVM"
   ]
  },
  {
   "cell_type": "code",
   "execution_count": 40,
   "metadata": {
    "collapsed": true
   },
   "outputs": [],
   "source": [
    "from sklearn.preprocessing import MinMaxScaler\n",
    "\n",
    "scaler = MinMaxScaler()\n",
    "X_train_scaled = scaler.fit_transform(X_train)\n",
    "X_test_scaled = scaler.fit_transform(X_test)"
   ]
  },
  {
   "cell_type": "code",
   "execution_count": 41,
   "metadata": {
    "collapsed": false
   },
   "outputs": [
    {
     "name": "stdout",
     "output_type": "stream",
     "text": [
      "SVC(C=1.0, cache_size=200, class_weight=None, coef0=0.0,\n",
      "  decision_function_shape=None, degree=3, gamma='auto', kernel='rbf',\n",
      "  max_iter=-1, probability=False, random_state=42, shrinking=True,\n",
      "  tol=0.001, verbose=False)\n",
      "F1 score for training set: 0.802395209581 \n",
      "\n",
      "F1 score for test set: 0.805031446541 \n",
      "\n"
     ]
    }
   ],
   "source": [
    "# TODO: Choose a model, import it and instantiate an object\n",
    "from sklearn import svm\n",
    "clf = svm.SVC(random_state= 42)\n",
    "\n",
    "# Fit model to training data\n",
    "train_classifier(clf, X_train_scaled, y_train)  # note: using entire training set here\n",
    "print clf\n",
    "\n",
    "# Predict on training set and compute F1 score\n",
    "train_f1_score = predict_labels(clf, X_train_scaled, y_train)\n",
    "print \"F1 score for training set: {} \\n\".format(train_f1_score)\n",
    "\n",
    "# Predict on test data\n",
    "print \"F1 score for test set: {} \\n\".format(predict_labels(clf, X_test_scaled, y_test))"
   ]
  },
  {
   "cell_type": "code",
   "execution_count": 42,
   "metadata": {
    "collapsed": false
   },
   "outputs": [],
   "source": [
    "# TODO: Run the helper function above for desired subsets of training data\n",
    "# Note: Keep the test set constant\n",
    "\n",
    "sizes = [25, 50, 100, 200, len(X_train)]\n",
    "\n",
    "metrics = {}\n",
    "for size in sizes:\n",
    "    training_time, prediction_time, f1_score_train, f1_score_test = train_predict(clf, X_train_scaled[:size],\n",
    "                                                                 y_train[:size], X_test_scaled, y_test)\n",
    "    \n",
    "    metrics_list = [training_time, prediction_time, f1_score_train, f1_score_test]\n",
    "    \n",
    "    metrics[size] = metrics_list   "
   ]
  },
  {
   "cell_type": "code",
   "execution_count": 43,
   "metadata": {
    "collapsed": false
   },
   "outputs": [
    {
     "data": {
      "text/html": [
       "<div>\n",
       "<table border=\"1\" class=\"dataframe\">\n",
       "  <thead>\n",
       "    <tr style=\"text-align: right;\">\n",
       "      <th></th>\n",
       "      <th>train_size</th>\n",
       "      <th>training_time(s)</th>\n",
       "      <th>prediction_time(s)</th>\n",
       "      <th>f1_train</th>\n",
       "      <th>f1_test</th>\n",
       "    </tr>\n",
       "  </thead>\n",
       "  <tbody>\n",
       "    <tr>\n",
       "      <th>0</th>\n",
       "      <td>25</td>\n",
       "      <td>0.001</td>\n",
       "      <td>0.863636</td>\n",
       "      <td>0.863636</td>\n",
       "      <td>0.805031</td>\n",
       "    </tr>\n",
       "    <tr>\n",
       "      <th>1</th>\n",
       "      <td>50</td>\n",
       "      <td>0.000</td>\n",
       "      <td>0.837209</td>\n",
       "      <td>0.837209</td>\n",
       "      <td>0.805031</td>\n",
       "    </tr>\n",
       "    <tr>\n",
       "      <th>2</th>\n",
       "      <td>100</td>\n",
       "      <td>0.004</td>\n",
       "      <td>0.795181</td>\n",
       "      <td>0.795181</td>\n",
       "      <td>0.805031</td>\n",
       "    </tr>\n",
       "    <tr>\n",
       "      <th>3</th>\n",
       "      <td>200</td>\n",
       "      <td>0.011</td>\n",
       "      <td>0.787879</td>\n",
       "      <td>0.787879</td>\n",
       "      <td>0.805031</td>\n",
       "    </tr>\n",
       "    <tr>\n",
       "      <th>4</th>\n",
       "      <td>300</td>\n",
       "      <td>0.014</td>\n",
       "      <td>0.802395</td>\n",
       "      <td>0.802395</td>\n",
       "      <td>0.805031</td>\n",
       "    </tr>\n",
       "  </tbody>\n",
       "</table>\n",
       "</div>"
      ],
      "text/plain": [
       "   train_size  training_time(s)  prediction_time(s)  f1_train   f1_test\n",
       "0          25             0.001            0.863636  0.863636  0.805031\n",
       "1          50             0.000            0.837209  0.837209  0.805031\n",
       "2         100             0.004            0.795181  0.795181  0.805031\n",
       "3         200             0.011            0.787879  0.787879  0.805031\n",
       "4         300             0.014            0.802395  0.802395  0.805031"
      ]
     },
     "execution_count": 43,
     "metadata": {},
     "output_type": "execute_result"
    }
   ],
   "source": [
    "svc_metrics = build_clf_metrics_table(metrics, 'train_size')\n",
    "svc_metrics"
   ]
  },
  {
   "cell_type": "code",
   "execution_count": 44,
   "metadata": {
    "collapsed": false
   },
   "outputs": [
    {
     "data": {
      "text/plain": [
       "(0.6, 0.95)"
      ]
     },
     "execution_count": 44,
     "metadata": {},
     "output_type": "execute_result"
    },
    {
     "data": {
      "image/png": "[encoded data removed]",
      "text/plain": [
       "<matplotlib.figure.Figure at 0xa3a5230>"
      ]
     },
     "metadata": {},
     "output_type": "display_data"
    }
   ],
   "source": [
    "svc_melted = build_melted_metrics_table(svc_metrics)\n",
    "\n",
    "svc_plot = gen_test_train_plot(svc_melted, 'train_size')\n",
    "plt.ylim(.60,.95)"
   ]
  },
  {
   "cell_type": "code",
   "execution_count": 45,
   "metadata": {
    "collapsed": true
   },
   "outputs": [],
   "source": [
    "# add classifier column to each metrics DataFrame\n",
    "dfs= [adaboost_metrics, mnb_metrics, svc_metrics]\n",
    "classifiers= ['adaboost', 'mnb', 'svc']\n",
    "\n",
    "for index,df in enumerate(dfs):\n",
    "    df['classifier']= classifiers[index]    "
   ]
  },
  {
   "cell_type": "code",
   "execution_count": 46,
   "metadata": {
    "collapsed": false
   },
   "outputs": [],
   "source": [
    "# combine DataFrames    \n",
    "combined_df= pd.concat([adaboost_metrics, mnb_metrics, svc_metrics])\n",
    "\n",
    "# reorder columns\n",
    "combined_cols= ['classifier', 'train_size', 'training_time(s)', 'prediction_time(s)','f1_train', 'f1_test']\n",
    "combined_df= combined_df[combined_cols]\n",
    "\n",
    "#export to CSV\n",
    "combined_df.to_csv('combined_df.csv', index= False)"
   ]
  },
  {
   "cell_type": "markdown",
   "metadata": {},
   "source": [
    "### Investigate Adaboost n-estimators\n",
    "\n",
    "- Explore performance as a functtion of n-estimator space"
   ]
  },
  {
   "cell_type": "code",
   "execution_count": 47,
   "metadata": {
    "collapsed": false
   },
   "outputs": [],
   "source": [
    "# TODO: Run the helper function above for desired subsets of training data\n",
    "# Note: Keep the test set constant\n",
    "\n",
    "estimators = [1, 2, 5, 10, 20, 40, 50]\n",
    "\n",
    "metrics = {}\n",
    "for n_est in estimators:\n",
    "    clf = AdaBoostClassifier(n_estimators= n_est, random_state= 42)\n",
    "    training_time, prediction_time, f1_score_train, f1_score_test = train_predict(clf, X_train,\n",
    "                                                                 y_train, X_test, y_test)\n",
    "    \n",
    "    metrics_list = [training_time, prediction_time, f1_score_train, f1_score_test]\n",
    "    \n",
    "    metrics[n_est] = metrics_list   \n",
    "    "
   ]
  },
  {
   "cell_type": "code",
   "execution_count": 48,
   "metadata": {
    "collapsed": false
   },
   "outputs": [
    {
     "data": {
      "text/html": [
       "<div>\n",
       "<table border=\"1\" class=\"dataframe\">\n",
       "  <thead>\n",
       "    <tr style=\"text-align: right;\">\n",
       "      <th></th>\n",
       "      <th>n_estimators</th>\n",
       "      <th>training_time(s)</th>\n",
       "      <th>prediction_time(s)</th>\n",
       "      <th>f1_train</th>\n",
       "      <th>f1_test</th>\n",
       "    </tr>\n",
       "  </thead>\n",
       "  <tbody>\n",
       "    <tr>\n",
       "      <th>0</th>\n",
       "      <td>1</td>\n",
       "      <td>0.013</td>\n",
       "      <td>0.824601</td>\n",
       "      <td>0.824601</td>\n",
       "      <td>0.768116</td>\n",
       "    </tr>\n",
       "    <tr>\n",
       "      <th>1</th>\n",
       "      <td>2</td>\n",
       "      <td>0.022</td>\n",
       "      <td>0.824601</td>\n",
       "      <td>0.824601</td>\n",
       "      <td>0.768116</td>\n",
       "    </tr>\n",
       "    <tr>\n",
       "      <th>2</th>\n",
       "      <td>5</td>\n",
       "      <td>0.055</td>\n",
       "      <td>0.836879</td>\n",
       "      <td>0.836879</td>\n",
       "      <td>0.746269</td>\n",
       "    </tr>\n",
       "    <tr>\n",
       "      <th>3</th>\n",
       "      <td>10</td>\n",
       "      <td>0.117</td>\n",
       "      <td>0.835616</td>\n",
       "      <td>0.835616</td>\n",
       "      <td>0.780142</td>\n",
       "    </tr>\n",
       "    <tr>\n",
       "      <th>4</th>\n",
       "      <td>20</td>\n",
       "      <td>0.178</td>\n",
       "      <td>0.843823</td>\n",
       "      <td>0.843823</td>\n",
       "      <td>0.746269</td>\n",
       "    </tr>\n",
       "    <tr>\n",
       "      <th>5</th>\n",
       "      <td>40</td>\n",
       "      <td>0.455</td>\n",
       "      <td>0.844340</td>\n",
       "      <td>0.844340</td>\n",
       "      <td>0.736842</td>\n",
       "    </tr>\n",
       "    <tr>\n",
       "      <th>6</th>\n",
       "      <td>50</td>\n",
       "      <td>0.483</td>\n",
       "      <td>0.856471</td>\n",
       "      <td>0.856471</td>\n",
       "      <td>0.732824</td>\n",
       "    </tr>\n",
       "  </tbody>\n",
       "</table>\n",
       "</div>"
      ],
      "text/plain": [
       "   n_estimators  training_time(s)  prediction_time(s)  f1_train   f1_test\n",
       "0             1             0.013            0.824601  0.824601  0.768116\n",
       "1             2             0.022            0.824601  0.824601  0.768116\n",
       "2             5             0.055            0.836879  0.836879  0.746269\n",
       "3            10             0.117            0.835616  0.835616  0.780142\n",
       "4            20             0.178            0.843823  0.843823  0.746269\n",
       "5            40             0.455            0.844340  0.844340  0.736842\n",
       "6            50             0.483            0.856471  0.856471  0.732824"
      ]
     },
     "execution_count": 48,
     "metadata": {},
     "output_type": "execute_result"
    }
   ],
   "source": [
    "adaboost_metrics = build_clf_metrics_table(metrics, 'n_estimators')\n",
    "adaboost_metrics"
   ]
  },
  {
   "cell_type": "code",
   "execution_count": 49,
   "metadata": {
    "collapsed": false,
    "scrolled": true
   },
   "outputs": [
    {
     "data": {
      "text/plain": [
       "(0.6, 0.95)"
      ]
     },
     "execution_count": 49,
     "metadata": {},
     "output_type": "execute_result"
    },
    {
     "data": {
      "image/png": "[encoded data removed]",
      "text/plain": [
       "<matplotlib.figure.Figure at 0xa329c70>"
      ]
     },
     "metadata": {},
     "output_type": "display_data"
    }
   ],
   "source": [
    "adaboost_melted = build_melted_metrics_table(adaboost_metrics)\n",
    "\n",
    "adaboost_plot = gen_test_train_plot(adaboost_melted, 'n_estimators')\n",
    "plt.ylim(.60,.95)"
   ]
  },
  {
   "cell_type": "markdown",
   "metadata": {},
   "source": [
    "### Classifiers with Reduced Feature Set\n",
    "\n",
    "- Cut Feature set with SelectKBest and Chi^2 Scoring\n",
    "- Test classifiers with reduced set"
   ]
  },
  {
   "cell_type": "markdown",
   "metadata": {},
   "source": [
    "### Adaboost"
   ]
  },
  {
   "cell_type": "code",
   "execution_count": 50,
   "metadata": {
    "collapsed": false
   },
   "outputs": [
    {
     "name": "stdout",
     "output_type": "stream",
     "text": [
      "AdaBoostClassifier(algorithm='SAMME.R', base_estimator=None,\n",
      "          learning_rate=1.0, n_estimators=5, random_state=42)\n",
      "F1 score for training set: 0.836879432624 \n",
      "\n",
      "F1 score for test set: 0.746268656716 \n",
      "\n",
      "{'test': (95, 1), 'train': (300, 1)}\n",
      "{'test': (95, 2), 'train': (300, 2)}\n",
      "{'test': (95, 4), 'train': (300, 4)}\n",
      "{'test': (95, 10), 'train': (300, 10)}\n",
      "{'test': (95, 20), 'train': (300, 20)}\n",
      "{'test': (95, 48), 'train': (300, 48)}\n"
     ]
    }
   ],
   "source": [
    "# TODO: Choose a model, import it and instantiate an object\n",
    "clf = AdaBoostClassifier(n_estimators= 5, random_state= 42)\n",
    "\n",
    "# Fit model to training data\n",
    "train_classifier(clf, X_train, y_train)  # note: using entire training set here\n",
    "print clf\n",
    "\n",
    "# Predict on training set and compute F1 score\n",
    "train_f1_score = predict_labels(clf, X_train, y_train)\n",
    "print \"F1 score for training set: {} \\n\".format(train_f1_score)\n",
    "\n",
    "# Predict on test data\n",
    "print \"F1 score for test set: {} \\n\".format(predict_labels(clf, X_test, y_test))\n",
    "\n",
    "# TODO: Run the helper function above for desired subsets of training data\n",
    "# Note: Keep the test set constant\n",
    "\n",
    "numfeatures = [1,2, 4, 10, 20, 48]\n",
    "\n",
    "metrics = {}\n",
    "for num in numfeatures:    \n",
    "\n",
    "    X_chi2 = SelectKBest(chi2, k= num)\n",
    "    \n",
    "    X_chi2_train = X_chi2.fit_transform(X_train, y_train)\n",
    "    X_chi2_test = X_chi2.transform(X_test)\n",
    "    \n",
    "    print {'train':X_chi2_train.shape,\n",
    "          'test':X_chi2_test.shape}\n",
    "    \n",
    "    \n",
    "    \n",
    "\n",
    "    \n",
    "    training_time, prediction_time, f1_score_train, f1_score_test = train_predict(clf, X_chi2_train,\n",
    "                                                                 y_train, X_chi2_test, y_test)\n",
    "    \n",
    "    metrics_list = [training_time, prediction_time, f1_score_train, f1_score_test]\n",
    "    \n",
    "    metrics[num] = metrics_list \n",
    "    "
   ]
  },
  {
   "cell_type": "code",
   "execution_count": 51,
   "metadata": {
    "collapsed": false
   },
   "outputs": [
    {
     "data": {
      "text/html": [
       "<div>\n",
       "<table border=\"1\" class=\"dataframe\">\n",
       "  <thead>\n",
       "    <tr style=\"text-align: right;\">\n",
       "      <th></th>\n",
       "      <th>num_features</th>\n",
       "      <th>training_time(s)</th>\n",
       "      <th>prediction_time(s)</th>\n",
       "      <th>f1_train</th>\n",
       "      <th>f1_test</th>\n",
       "    </tr>\n",
       "  </thead>\n",
       "  <tbody>\n",
       "    <tr>\n",
       "      <th>0</th>\n",
       "      <td>1</td>\n",
       "      <td>0.049</td>\n",
       "      <td>0.824601</td>\n",
       "      <td>0.824601</td>\n",
       "      <td>0.768116</td>\n",
       "    </tr>\n",
       "    <tr>\n",
       "      <th>1</th>\n",
       "      <td>2</td>\n",
       "      <td>0.051</td>\n",
       "      <td>0.827586</td>\n",
       "      <td>0.827586</td>\n",
       "      <td>0.773723</td>\n",
       "    </tr>\n",
       "    <tr>\n",
       "      <th>2</th>\n",
       "      <td>4</td>\n",
       "      <td>0.050</td>\n",
       "      <td>0.850780</td>\n",
       "      <td>0.850780</td>\n",
       "      <td>0.771429</td>\n",
       "    </tr>\n",
       "    <tr>\n",
       "      <th>3</th>\n",
       "      <td>10</td>\n",
       "      <td>0.050</td>\n",
       "      <td>0.831461</td>\n",
       "      <td>0.831461</td>\n",
       "      <td>0.774648</td>\n",
       "    </tr>\n",
       "    <tr>\n",
       "      <th>4</th>\n",
       "      <td>20</td>\n",
       "      <td>0.051</td>\n",
       "      <td>0.831461</td>\n",
       "      <td>0.831461</td>\n",
       "      <td>0.774648</td>\n",
       "    </tr>\n",
       "    <tr>\n",
       "      <th>5</th>\n",
       "      <td>48</td>\n",
       "      <td>0.054</td>\n",
       "      <td>0.836879</td>\n",
       "      <td>0.836879</td>\n",
       "      <td>0.746269</td>\n",
       "    </tr>\n",
       "  </tbody>\n",
       "</table>\n",
       "</div>"
      ],
      "text/plain": [
       "   num_features  training_time(s)  prediction_time(s)  f1_train   f1_test\n",
       "0             1             0.049            0.824601  0.824601  0.768116\n",
       "1             2             0.051            0.827586  0.827586  0.773723\n",
       "2             4             0.050            0.850780  0.850780  0.771429\n",
       "3            10             0.050            0.831461  0.831461  0.774648\n",
       "4            20             0.051            0.831461  0.831461  0.774648\n",
       "5            48             0.054            0.836879  0.836879  0.746269"
      ]
     },
     "execution_count": 51,
     "metadata": {},
     "output_type": "execute_result"
    }
   ],
   "source": [
    "adaboost_metrics = build_clf_metrics_table(metrics, 'num_features')\n",
    "adaboost_metrics"
   ]
  },
  {
   "cell_type": "code",
   "execution_count": 52,
   "metadata": {
    "collapsed": false
   },
   "outputs": [
    {
     "data": {
      "text/plain": [
       "(0.6, 0.95)"
      ]
     },
     "execution_count": 52,
     "metadata": {},
     "output_type": "execute_result"
    },
    {
     "data": {
      "image/png": "[encoded data removed]",
      "text/plain": [
       "<matplotlib.figure.Figure at 0xa8d5ef0>"
      ]
     },
     "metadata": {},
     "output_type": "display_data"
    }
   ],
   "source": [
    "adaboost_melted = build_melted_metrics_table(adaboost_metrics)\n",
    "\n",
    "adaboost_plot = gen_test_train_plot(adaboost_melted, 'num_features')\n",
    "plt.ylim(.60,.95)"
   ]
  },
  {
   "cell_type": "markdown",
   "metadata": {},
   "source": [
    "### Multinomial Bayes"
   ]
  },
  {
   "cell_type": "code",
   "execution_count": 53,
   "metadata": {
    "collapsed": false
   },
   "outputs": [
    {
     "name": "stdout",
     "output_type": "stream",
     "text": [
      "MultinomialNB(alpha=1.0, class_prior=None, fit_prior=True)\n",
      "F1 score for training set: 0.814814814815 \n",
      "\n",
      "F1 score for test set: 0.785185185185 \n",
      "\n",
      "{'test': (95, 1), 'train': (300, 1)}\n",
      "{'test': (95, 2), 'train': (300, 2)}\n",
      "{'test': (95, 4), 'train': (300, 4)}\n",
      "{'test': (95, 10), 'train': (300, 10)}\n",
      "{'test': (95, 20), 'train': (300, 20)}\n",
      "{'test': (95, 48), 'train': (300, 48)}\n"
     ]
    }
   ],
   "source": [
    "# TODO: Choose a model, import it and instantiate an object\n",
    "clf = MultinomialNB()\n",
    "\n",
    "# Fit model to training data\n",
    "train_classifier(clf, X_train, y_train)  # note: using entire training set here\n",
    "print clf\n",
    "\n",
    "# Predict on training set and compute F1 score\n",
    "train_f1_score = predict_labels(clf, X_train, y_train)\n",
    "print \"F1 score for training set: {} \\n\".format(train_f1_score)\n",
    "\n",
    "# Predict on test data\n",
    "print \"F1 score for test set: {} \\n\".format(predict_labels(clf, X_test, y_test))\n",
    "\n",
    "# TODO: Run the helper function above for desired subsets of training data\n",
    "# Note: Keep the test set constant\n",
    "\n",
    "numfeatures = [1,2, 4, 10, 20, 48]\n",
    "\n",
    "metrics = {}\n",
    "for num in numfeatures:\n",
    "    \n",
    "\n",
    "    X_chi2 = SelectKBest(chi2, k= num)\n",
    "    \n",
    "    X_chi2_train = X_chi2.fit_transform(X_train, y_train)\n",
    "    X_chi2_test = X_chi2.transform(X_test)\n",
    "    \n",
    "    print {'train':X_chi2_train.shape,\n",
    "          'test':X_chi2_test.shape}\n",
    "    \n",
    "    \n",
    "    \n",
    "\n",
    "    \n",
    "    training_time, prediction_time, f1_score_train, f1_score_test = train_predict(clf, X_chi2_train,\n",
    "                                                                 y_train, X_chi2_test, y_test)\n",
    "    \n",
    "    metrics_list = [training_time, prediction_time, f1_score_train, f1_score_test]\n",
    "    \n",
    "    metrics[num] = metrics_list \n",
    "    "
   ]
  },
  {
   "cell_type": "code",
   "execution_count": 54,
   "metadata": {
    "collapsed": false,
    "scrolled": true
   },
   "outputs": [
    {
     "data": {
      "text/html": [
       "<div>\n",
       "<table border=\"1\" class=\"dataframe\">\n",
       "  <thead>\n",
       "    <tr style=\"text-align: right;\">\n",
       "      <th></th>\n",
       "      <th>num_features</th>\n",
       "      <th>training_time(s)</th>\n",
       "      <th>prediction_time(s)</th>\n",
       "      <th>f1_train</th>\n",
       "      <th>f1_test</th>\n",
       "    </tr>\n",
       "  </thead>\n",
       "  <tbody>\n",
       "    <tr>\n",
       "      <th>0</th>\n",
       "      <td>1</td>\n",
       "      <td>0.004</td>\n",
       "      <td>0.802395</td>\n",
       "      <td>0.802395</td>\n",
       "      <td>0.805031</td>\n",
       "    </tr>\n",
       "    <tr>\n",
       "      <th>1</th>\n",
       "      <td>2</td>\n",
       "      <td>0.004</td>\n",
       "      <td>0.839560</td>\n",
       "      <td>0.839560</td>\n",
       "      <td>0.769231</td>\n",
       "    </tr>\n",
       "    <tr>\n",
       "      <th>2</th>\n",
       "      <td>4</td>\n",
       "      <td>0.004</td>\n",
       "      <td>0.826667</td>\n",
       "      <td>0.826667</td>\n",
       "      <td>0.769231</td>\n",
       "    </tr>\n",
       "    <tr>\n",
       "      <th>3</th>\n",
       "      <td>10</td>\n",
       "      <td>0.004</td>\n",
       "      <td>0.823799</td>\n",
       "      <td>0.823799</td>\n",
       "      <td>0.797101</td>\n",
       "    </tr>\n",
       "    <tr>\n",
       "      <th>4</th>\n",
       "      <td>20</td>\n",
       "      <td>0.017</td>\n",
       "      <td>0.817552</td>\n",
       "      <td>0.817552</td>\n",
       "      <td>0.788321</td>\n",
       "    </tr>\n",
       "    <tr>\n",
       "      <th>5</th>\n",
       "      <td>48</td>\n",
       "      <td>0.004</td>\n",
       "      <td>0.814815</td>\n",
       "      <td>0.814815</td>\n",
       "      <td>0.785185</td>\n",
       "    </tr>\n",
       "  </tbody>\n",
       "</table>\n",
       "</div>"
      ],
      "text/plain": [
       "   num_features  training_time(s)  prediction_time(s)  f1_train   f1_test\n",
       "0             1             0.004            0.802395  0.802395  0.805031\n",
       "1             2             0.004            0.839560  0.839560  0.769231\n",
       "2             4             0.004            0.826667  0.826667  0.769231\n",
       "3            10             0.004            0.823799  0.823799  0.797101\n",
       "4            20             0.017            0.817552  0.817552  0.788321\n",
       "5            48             0.004            0.814815  0.814815  0.785185"
      ]
     },
     "execution_count": 54,
     "metadata": {},
     "output_type": "execute_result"
    }
   ],
   "source": [
    "mbn_metrics = build_clf_metrics_table(metrics, 'num_features')\n",
    "mbn_metrics"
   ]
  },
  {
   "cell_type": "code",
   "execution_count": 55,
   "metadata": {
    "collapsed": false,
    "scrolled": true
   },
   "outputs": [
    {
     "data": {
      "text/plain": [
       "(0.6, 0.95)"
      ]
     },
     "execution_count": 55,
     "metadata": {},
     "output_type": "execute_result"
    },
    {
     "data": {
      "image/png": "[encoded data removed]",
      "text/plain": [
       "<matplotlib.figure.Figure at 0xa117310>"
      ]
     },
     "metadata": {},
     "output_type": "display_data"
    }
   ],
   "source": [
    "mbn_melted = build_melted_metrics_table(mbn_metrics)\n",
    "\n",
    "mbn_plot = gen_test_train_plot(mbn_melted, 'num_features')\n",
    "plt.ylim(.60,.95)"
   ]
  },
  {
   "cell_type": "markdown",
   "metadata": {},
   "source": [
    "### SVC"
   ]
  },
  {
   "cell_type": "code",
   "execution_count": 56,
   "metadata": {
    "collapsed": false,
    "scrolled": false
   },
   "outputs": [
    {
     "name": "stdout",
     "output_type": "stream",
     "text": [
      "SVC(C=1.0, cache_size=200, class_weight=None, coef0=0.0,\n",
      "  decision_function_shape=None, degree=3, gamma='auto', kernel='rbf',\n",
      "  max_iter=-1, probability=False, random_state=42, shrinking=True,\n",
      "  tol=0.001, verbose=False)\n",
      "F1 score for training set: 0.802395209581 \n",
      "\n",
      "F1 score for test set: 0.805031446541 \n",
      "\n",
      "{'test': (95, 1), 'train': (300, 1)}\n",
      "{'test': (95, 2), 'train': (300, 2)}\n",
      "{'test': (95, 4), 'train': (300, 4)}\n",
      "{'test': (95, 10), 'train': (300, 10)}\n",
      "{'test': (95, 20), 'train': (300, 20)}\n",
      "{'test': (95, 48), 'train': (300, 48)}\n"
     ]
    }
   ],
   "source": [
    "# TODO: Choose a model, import it and instantiate an object\n",
    "clf = svm.SVC(random_state= 42)\n",
    "\n",
    "# Fit model to training data\n",
    "train_classifier(clf, X_train_scaled, y_train)  # note: using entire training set here\n",
    "print clf\n",
    "\n",
    "# Predict on training set and compute F1 score\n",
    "train_f1_score = predict_labels(clf, X_train_scaled, y_train)\n",
    "print \"F1 score for training set: {} \\n\".format(train_f1_score)\n",
    "\n",
    "# Predict on test data\n",
    "print \"F1 score for test set: {} \\n\".format(predict_labels(clf, X_test_scaled, y_test))\n",
    "\n",
    "# TODO: Run the helper function above for desired subsets of training data\n",
    "# Note: Keep the test set constant\n",
    "\n",
    "numfeatures = [1,2, 4, 10, 20, 48]\n",
    "\n",
    "metrics = {}\n",
    "for num in numfeatures:\n",
    "    \n",
    "\n",
    "    X_chi2 = SelectKBest(chi2, k= num)\n",
    "    \n",
    "    X_chi2_train = X_chi2.fit_transform(X_train_scaled, y_train)\n",
    "    X_chi2_test = X_chi2.transform(X_test_scaled)\n",
    "    \n",
    "    print {'train':X_chi2_train.shape,\n",
    "          'test':X_chi2_test.shape}\n",
    "    \n",
    "    \n",
    "    \n",
    "\n",
    "    \n",
    "    training_time, prediction_time, f1_score_train, f1_score_test = train_predict(clf, X_chi2_train,\n",
    "                                                                 y_train, X_chi2_test, y_test)\n",
    "    \n",
    "    metrics_list = [training_time, prediction_time, f1_score_train, f1_score_test]\n",
    "    \n",
    "    metrics[num] = metrics_list "
   ]
  },
  {
   "cell_type": "code",
   "execution_count": 57,
   "metadata": {
    "collapsed": false
   },
   "outputs": [
    {
     "data": {
      "text/html": [
       "<div>\n",
       "<table border=\"1\" class=\"dataframe\">\n",
       "  <thead>\n",
       "    <tr style=\"text-align: right;\">\n",
       "      <th></th>\n",
       "      <th>num_features</th>\n",
       "      <th>training_time(s)</th>\n",
       "      <th>prediction_time(s)</th>\n",
       "      <th>f1_train</th>\n",
       "      <th>f1_test</th>\n",
       "    </tr>\n",
       "  </thead>\n",
       "  <tbody>\n",
       "    <tr>\n",
       "      <th>0</th>\n",
       "      <td>1</td>\n",
       "      <td>0.008</td>\n",
       "      <td>0.824601</td>\n",
       "      <td>0.824601</td>\n",
       "      <td>0.768116</td>\n",
       "    </tr>\n",
       "    <tr>\n",
       "      <th>1</th>\n",
       "      <td>2</td>\n",
       "      <td>0.009</td>\n",
       "      <td>0.834081</td>\n",
       "      <td>0.834081</td>\n",
       "      <td>0.788732</td>\n",
       "    </tr>\n",
       "    <tr>\n",
       "      <th>2</th>\n",
       "      <td>4</td>\n",
       "      <td>0.009</td>\n",
       "      <td>0.831933</td>\n",
       "      <td>0.831933</td>\n",
       "      <td>0.794702</td>\n",
       "    </tr>\n",
       "    <tr>\n",
       "      <th>3</th>\n",
       "      <td>10</td>\n",
       "      <td>0.012</td>\n",
       "      <td>0.831933</td>\n",
       "      <td>0.831933</td>\n",
       "      <td>0.794702</td>\n",
       "    </tr>\n",
       "    <tr>\n",
       "      <th>4</th>\n",
       "      <td>20</td>\n",
       "      <td>0.019</td>\n",
       "      <td>0.824017</td>\n",
       "      <td>0.824017</td>\n",
       "      <td>0.787097</td>\n",
       "    </tr>\n",
       "    <tr>\n",
       "      <th>5</th>\n",
       "      <td>48</td>\n",
       "      <td>0.014</td>\n",
       "      <td>0.802395</td>\n",
       "      <td>0.802395</td>\n",
       "      <td>0.805031</td>\n",
       "    </tr>\n",
       "  </tbody>\n",
       "</table>\n",
       "</div>"
      ],
      "text/plain": [
       "   num_features  training_time(s)  prediction_time(s)  f1_train   f1_test\n",
       "0             1             0.008            0.824601  0.824601  0.768116\n",
       "1             2             0.009            0.834081  0.834081  0.788732\n",
       "2             4             0.009            0.831933  0.831933  0.794702\n",
       "3            10             0.012            0.831933  0.831933  0.794702\n",
       "4            20             0.019            0.824017  0.824017  0.787097\n",
       "5            48             0.014            0.802395  0.802395  0.805031"
      ]
     },
     "execution_count": 57,
     "metadata": {},
     "output_type": "execute_result"
    }
   ],
   "source": [
    "svc_metrics = build_clf_metrics_table(metrics, 'num_features')\n",
    "svc_metrics"
   ]
  },
  {
   "cell_type": "code",
   "execution_count": 58,
   "metadata": {
    "collapsed": false
   },
   "outputs": [
    {
     "data": {
      "text/plain": [
       "(0.6, 0.95)"
      ]
     },
     "execution_count": 58,
     "metadata": {},
     "output_type": "execute_result"
    },
    {
     "data": {
      "image/png": "[encoded data removed]",
      "text/plain": [
       "<matplotlib.figure.Figure at 0xa100530>"
      ]
     },
     "metadata": {},
     "output_type": "display_data"
    }
   ],
   "source": [
    "svc_melted = build_melted_metrics_table(svc_metrics)\n",
    "\n",
    "svc_plot = gen_test_train_plot(svc_melted, 'num_features')\n",
    "plt.ylim(.60,.95)"
   ]
  },
  {
   "cell_type": "markdown",
   "metadata": {},
   "source": [
    "## 5. Choosing the Best Model\n",
    "\n",
    "### Model Explanation to Board of Supervisors\n",
    "\n",
    "- Based on the experiments you performed earlier, in 1-2 paragraphs explain to the board of supervisors what single model you chose as the best model. Which model is generally the most appropriate based on the available data, limited resources, cost, and performance?\n",
    "\n",
    "I chose adaboost with a decision tree as the base estimator.  Given the type of data, data available, and in consideration of resources, cost, and performance, I would typically pursue a Bayesian classifier. However, with careful feature selection and a low number (3) of base estimators the training and prediction time are reasonable. With only 3 decision tree base estimators this adabpost model is less likely to be black box, that is, we could reasonably look at each estimator in terms of feature importancces etc, and make sense out of the model.  Unlike the less complex Bayesian classifier, adaboost has room for growth and further optimization, in addition its estimate probabilities are more reliable.  The estimaed probabilities can be used to further parse at risk students, and I have written a function (student_risk.py) to assist with this operation.\n",
    "\n",
    "### Model In Layman's Terms\n",
    "- In 1-2 paragraphs explain to the board of supervisors in layman's terms how the final model chosen is supposed to work (for example if you chose a Decision Tree or Support Vector Machine, how does it make a prediction).\n",
    "\n",
    "Adaboost is a boosting algorithm. It uses a specified number of base estimators (decision trees in this case) each of which is trained to classify a subset of the data as a weak learner.  That is each decision tree is trained to predict the class (yes or no) of a portion of the students slightly better than guessing.  The mechnism by which this occurs is that in each round of training the adaboost algorithm determines which students have been classified correctly and which have not. The correctly classified points are de-emphasized (given less weight) and the incorrect ones are emphasized (given more weight).  In this way the decision tree for that round focuses more on getting the classification correct for the incorrectly classified points. Finally we combine these decision trees into a final model.\n",
    "\n",
    "The decision trees themselves work by splittiing based on attributes, say for example, by number of absences, or number of failures. The split is assessed by seeing how much information is gained, that is how well did we separate classes at a particular split (measured by purity or entropy).\n",
    "\n",
    "\n",
    "### Fine Tuning the Model\n",
    "\n",
    "- Fine-tune the model. Use Gridsearch with at least one important parameter tuned and with at least 3 settings. Use the entire training set for this.\n",
    "\n",
    "- What is the final model's F<sub>1</sub> score for training and testing? How does that score compare to the untuned model?\n",
    "\n",
    "The performance of the model was determined by performing predictions on the test set using a Stratified Shuffle Split cross validator with 100 iterations.  That is, we performed a set of predictions 100 times with the data being shuffled each time in a way that preserves class proprotions (yes:no).  Through this process we are able to determine a mean, standard deviation, and confidence interval for model performance.  There is a clear gain in performance as a result of tuning (even when comparing the non-cv approach F1 scores carried out earlier in the notebook). What is really striking is not only the performance gain but also how much more robust the tuned model is, as demonstrated by the low standard deviation and tight confidence intervals. \n",
    "\n",
    "\n",
    "\n",
    "#### Untuned model performance on test set\n",
    "- **F1 Mean:** 0.68\n",
    "- **F1 Standard Deviation:** 0.11\n",
    "- **F1 95% Confidence Interval:** 0.66 - 0.70\n",
    "\n",
    "- **Precison and recall are approximately:** 0.71 and 0.83 respectively\n",
    "\n",
    "\n",
    "#### Final Model Performance on Test Data\n",
    "\n",
    "- **F1 Mean:** 0.80\n",
    "- **F1 Standard Deviation:** 0.04\n",
    "- **F1 95% Confidence Interval:** 0.80 - 0.82\n",
    "\n",
    "- **Precison and recall are approximately:** 0.70 and 0.89 respectively\n",
    "\n",
    "\n",
    "#### Final Model Performance on Training Data\n",
    "\n",
    "- **F1 Mean:** 0.80\n",
    "- **F1 Standard Deviation:** 0.12\n",
    "- **F1 95% Confidence Interval:** 0.78 - 0.82\n",
    "\n",
    "- **Precison and recall are approximately:** 0.74 and 0.96 respectively\n",
    "\n",
    "\n",
    "#### Future Work\n",
    "\n",
    "It is worth noting that the data set is dominated by just a few features. Future efforts would likely be better spent determining better predictor variables (features)"
   ]
  },
  {
   "cell_type": "markdown",
   "metadata": {
    "collapsed": true
   },
   "source": [
    "### Fine Tuning the Model on the Test Set"
   ]
  },
  {
   "cell_type": "code",
   "execution_count": 99,
   "metadata": {
    "collapsed": false
   },
   "outputs": [],
   "source": [
    "# Import key functions\n",
    "from sklearn.cross_validation import StratifiedShuffleSplit\n",
    "from sklearn.tree import DecisionTreeClassifier\n",
    "from sklearn import grid_search\n",
    "from sklearn.metrics import make_scorer\n",
    "from sklearn.cross_validation import cross_val_score\n",
    "import math\n",
    "from scipy import stats, integrate\n",
    "\n",
    "# select top 10 features\n",
    "X_chi2 = SelectKBest(chi2, k= 10)\n",
    "X_chi2_train = X_chi2.fit_transform(X_train, y_train)\n",
    "X_chi2_test = X_chi2.transform(X_test)\n",
    "\n",
    "# initialize base estimator and classifier with base estimator (required for tuning of base estimator parameters)\n",
    "clf = AdaBoostClassifier(random_state= 42)\n",
    "\n",
    "# initiate cross validator\n",
    "cv = StratifiedShuffleSplit(y_train, 100, random_state = 42)\n",
    "\n",
    "# set up paramaters dictionary\n",
    "\n",
    "a_params = dict(n_estimators=[3, 5, 10, 12, 15],\n",
    "                learning_rate=[.1,.5,1])\n",
    "\n",
    "\n",
    "# set up F1 scorer, this is  necessary because of strings as labels vs default {0:1}\n",
    "\n",
    "f1_scorer = make_scorer(f1_score, pos_label=\"yes\")\n",
    "\n",
    "# set up grid search\n",
    "adaboost_grid_search = grid_search.GridSearchCV(clf, param_grid = a_params, cv= cv, scoring= f1_scorer)\n",
    "\n",
    "adaboost_grid_search.fit(X_chi2_train, y_train)\n",
    "\n",
    "best_aclf = adaboost_grid_search.best_estimator_\n",
    "score= adaboost_grid_search.best_score_\n",
    "print 'F1 Score: {}'.format(score)\n",
    "grid_scores= adaboost_grid_search.grid_scores_"
   ]
  },
  {
   "cell_type": "code",
   "execution_count": 101,
   "metadata": {
    "collapsed": true
   },
   "outputs": [],
   "source": [
    "dump_pkl(best_aclf, 'tuned_classifier.pkl')\n",
    "dump_pkl(grid_scores, 'grid_scores.pkl')\n",
    "dump_pkl(score, 'F1_score.pkl')"
   ]
  },
  {
   "cell_type": "raw",
   "metadata": {
    "collapsed": false
   },
   "source": [
    "# access (de-serialize) classifier\n",
    "grid_scores= load_pkl('grid_scores.pkl')\n",
    "best_aclf= load_pkl('tuned_classifier.pkl')\n",
    "best_score= load_pkl('F1_score.pkl')"
   ]
  },
  {
   "cell_type": "code",
   "execution_count": 102,
   "metadata": {
    "collapsed": false
   },
   "outputs": [
    {
     "data": {
      "text/plain": [
       "AdaBoostClassifier(algorithm='SAMME.R', base_estimator=None,\n",
       "          learning_rate=0.5, n_estimators=3, random_state=42)"
      ]
     },
     "execution_count": 102,
     "metadata": {},
     "output_type": "execute_result"
    }
   ],
   "source": [
    "# examine classifier tuned parameters\n",
    "best_aclf"
   ]
  },
  {
   "cell_type": "markdown",
   "metadata": {},
   "source": [
    "### Measure Performance of Best Classifier on Test Set"
   ]
  },
  {
   "cell_type": "markdown",
   "metadata": {},
   "source": [
    "#### F1, Precision, and Recall without cross validation"
   ]
  },
  {
   "cell_type": "code",
   "execution_count": 116,
   "metadata": {
    "collapsed": false
   },
   "outputs": [
    {
     "name": "stdout",
     "output_type": "stream",
     "text": [
      "F1_score: 0.79        Precison: 0.7        Recall: 0.89\n"
     ]
    }
   ],
   "source": [
    "pred = best_aclf.predict(X_chi2_test)\n",
    "\n",
    "score= np.round(f1_score(y_test, pred, pos_label= 'yes'), decimals= 2)\n",
    "\n",
    "precision= np.round(precision_score(y_test,pred, pos_label= 'yes'), decimals= 2)\n",
    "\n",
    "recall= np.round(recall_score(y_test,pred, pos_label= 'yes'), decimals= 2)\n",
    "\n",
    "print('F1_score: {} \\\n",
    "       Precison: {} \\\n",
    "       Recall: {}'.format(score, precision, recall))"
   ]
  },
  {
   "cell_type": "markdown",
   "metadata": {},
   "source": [
    "#### F1 with cross validation\n",
    "\n",
    "- 100 tests were run so that descriptive statistics could be used to get a true measure of performance characterics with respect to F1 score."
   ]
  },
  {
   "cell_type": "code",
   "execution_count": 104,
   "metadata": {
    "collapsed": false
   },
   "outputs": [
    {
     "name": "stdout",
     "output_type": "stream",
     "text": [
      "Sample Size: 100        Mean Score: 0.81        Median Score: 0.82        Standard Deviation: +/- 0.04        Range: 0.71 - 0.93\n"
     ]
    }
   ],
   "source": [
    "cv_test= StratifiedShuffleSplit(y_test, n_iter=100, random_state=42)\n",
    "\n",
    "cross_val_F1= cross_val_score(best_aclf, X_chi2_test, y_test, cv=cv_test, scoring= f1_scorer)\n",
    "\n",
    "mean_score= np.round(np.mean(cross_val_F1), decimals= 2)\n",
    "\n",
    "median_score= np.round(np.median(cross_val_F1), decimals= 2)\n",
    "\n",
    "min_score= np.round(min(cross_val_F1), decimals= 2)\n",
    "\n",
    "max_score= np.round(max(cross_val_F1), decimals= 2)\n",
    "\n",
    "st_dev= np.round(np.std(cross_val_F1), decimals= 2)\n",
    "\n",
    "sample_size = len(cross_val_F1)\n",
    "\n",
    "\n",
    "\n",
    "print('Sample Size: {} \\\n",
    "       Mean Score: {} \\\n",
    "       Median Score: {} \\\n",
    "       Standard Deviation: +/- {} \\\n",
    "       Range: {} - {}'.format(sample_size, mean_score, median_score, st_dev, min_score, max_score))"
   ]
  },
  {
   "cell_type": "markdown",
   "metadata": {},
   "source": [
    "#### Visualize the F1 score distribution"
   ]
  },
  {
   "cell_type": "code",
   "execution_count": 108,
   "metadata": {
    "collapsed": false,
    "scrolled": false
   },
   "outputs": [
    {
     "data": {
      "image/png": "[encoded data removed]",
      "text/plain": [
       "<matplotlib.figure.Figure at 0xbdc2b50>"
      ]
     },
     "metadata": {},
     "output_type": "display_data"
    }
   ],
   "source": [
    "sns.distplot(cross_val_F1, bins=15, fit= stats.norm);"
   ]
  },
  {
   "cell_type": "markdown",
   "metadata": {},
   "source": [
    "#### Calculate confidence intervals"
   ]
  },
  {
   "cell_type": "code",
   "execution_count": 109,
   "metadata": {
    "collapsed": false
   },
   "outputs": [
    {
     "name": "stdout",
     "output_type": "stream",
     "text": [
      "z-critical value: 1.96\n",
      "Confidence interval: (0.80216014406183989, 0.81783985593816022)\n"
     ]
    }
   ],
   "source": [
    "# approach borrowed from Life is Study: http://hamelg.blogspot.com/2015/11/python-for-data-analysis-part-23-point.html\n",
    "\n",
    "# get the z-critical value (two tailed, alpha = .05)\n",
    "z_critical = stats.norm.ppf(q = 0.975)\n",
    "\n",
    "print(\"z-critical value: {}\".format(np.round(z_critical, decimals= 2)))\n",
    "                        \n",
    "# population standard deviation\n",
    "pop_stdev= st_dev\n",
    "\n",
    "# calculate margin of error\n",
    "margin_of_error = z_critical * (pop_stdev/math.sqrt(sample_size))\n",
    "\n",
    "# calculate confidence interval\n",
    "confidence_interval = (mean_score - margin_of_error,\n",
    "                       mean_score + margin_of_error)  \n",
    "\n",
    "print(\"Confidence interval: {}\".format(confidence_interval))"
   ]
  },
  {
   "cell_type": "markdown",
   "metadata": {},
   "source": [
    "### Repeat tests with final classifier on training set"
   ]
  },
  {
   "cell_type": "code",
   "execution_count": 112,
   "metadata": {
    "collapsed": false
   },
   "outputs": [
    {
     "name": "stdout",
     "output_type": "stream",
     "text": [
      "F1_score: 0.84        Precison: 0.74        Recall: 0.96\n"
     ]
    }
   ],
   "source": [
    "pred = best_aclf.predict(X_chi2_train)\n",
    "\n",
    "score= np.round(f1_score(y_train, pred, pos_label= 'yes'), decimals= 2)\n",
    "\n",
    "precision= np.round(precision_score(y_train,pred, pos_label= 'yes'), decimals= 2)\n",
    "\n",
    "recall= np.round(recall_score(y_train,pred, pos_label= 'yes'), decimals= 2)\n",
    "\n",
    "print('F1_score: {} \\\n",
    "       Precison: {} \\\n",
    "       Recall: {}'.format(score, precision, recall))"
   ]
  },
  {
   "cell_type": "code",
   "execution_count": 110,
   "metadata": {
    "collapsed": false
   },
   "outputs": [
    {
     "name": "stdout",
     "output_type": "stream",
     "text": [
      "Sample Size: 100        Mean Score: 0.8        Median Score: 0.82        Standard Deviation: +/- 0.12        Range: 0.18 - 1.0\n",
      "z-critical value: 1.96\n",
      "Confidence interval: (0.77648043218551943, 0.82351956781448066)\n"
     ]
    }
   ],
   "source": [
    "cv_test= StratifiedShuffleSplit(y_test, n_iter=100, random_state=42)\n",
    "\n",
    "cross_val_F1= cross_val_score(best_aclf, X_chi2_train, y_train, cv=cv_test, scoring= f1_scorer)\n",
    "\n",
    "mean_score= np.round(np.mean(cross_val_F1), decimals= 2)\n",
    "\n",
    "median_score= np.round(np.median(cross_val_F1), decimals= 2)\n",
    "\n",
    "min_score= np.round(min(cross_val_F1), decimals= 2)\n",
    "\n",
    "max_score= np.round(max(cross_val_F1), decimals= 2)\n",
    "\n",
    "st_dev= np.round(np.std(cross_val_F1), decimals= 2)\n",
    "\n",
    "sample_size = len(cross_val_F1)\n",
    "\n",
    "\n",
    "\n",
    "print('Sample Size: {} \\\n",
    "       Mean Score: {} \\\n",
    "       Median Score: {} \\\n",
    "       Standard Deviation: +/- {} \\\n",
    "       Range: {} - {}'.format(sample_size, mean_score, median_score, st_dev, min_score, max_score))\n",
    "\n",
    "# approach borrowed from Life is Study: http://hamelg.blogspot.com/2015/11/python-for-data-analysis-part-23-point.html\n",
    "\n",
    "# get the z-critical value (two tailed, alpha = .05)\n",
    "z_critical = stats.norm.ppf(q = 0.975)\n",
    "\n",
    "print(\"z-critical value: {}\".format(np.round(z_critical, decimals= 2)))\n",
    "                        \n",
    "# population standard deviation\n",
    "pop_stdev= st_dev\n",
    "\n",
    "# calculate margin of error\n",
    "margin_of_error = z_critical * (pop_stdev/math.sqrt(sample_size))\n",
    "\n",
    "# calculate confidence interval\n",
    "confidence_interval = (mean_score - margin_of_error,\n",
    "                       mean_score + margin_of_error)  \n",
    "\n",
    "print(\"Confidence interval: {}\".format(confidence_interval))"
   ]
  },
  {
   "cell_type": "markdown",
   "metadata": {},
   "source": [
    "### Repeat tests with untuned classifier on test set"
   ]
  },
  {
   "cell_type": "code",
   "execution_count": 115,
   "metadata": {
    "collapsed": false
   },
   "outputs": [
    {
     "name": "stdout",
     "output_type": "stream",
     "text": [
      "F1_score: 0.76        Precison: 0.71        Recall: 0.83\n"
     ]
    }
   ],
   "source": [
    "clf= AdaBoostClassifier(random_state= 42)\n",
    "\n",
    "clf.fit(X_chi2_train, y_train)\n",
    "\n",
    "pred = clf.predict(X_chi2_test)\n",
    "\n",
    "score= np.round(f1_score(y_test, pred, pos_label= 'yes'), decimals= 2)\n",
    "\n",
    "precision= np.round(precision_score(y_test,pred, pos_label= 'yes'), decimals= 2)\n",
    "\n",
    "recall= np.round(recall_score(y_test,pred, pos_label= 'yes'), decimals= 2)\n",
    "\n",
    "print('F1_score: {} \\\n",
    "       Precison: {} \\\n",
    "       Recall: {}'.format(score, precision, recall))"
   ]
  },
  {
   "cell_type": "code",
   "execution_count": 111,
   "metadata": {
    "collapsed": false
   },
   "outputs": [
    {
     "name": "stdout",
     "output_type": "stream",
     "text": [
      "Sample Size: 100        Mean Score: 0.68        Median Score: 0.67        Standard Deviation: +/- 0.11        Range: 0.33 - 0.88\n",
      "z-critical value: 1.96\n",
      "Confidence interval: (0.65844039617005945, 0.70155960382994065)\n"
     ]
    }
   ],
   "source": [
    "cv_test= StratifiedShuffleSplit(y_test, n_iter=100, random_state=42)\n",
    "\n",
    "cross_val_F1= cross_val_score(clf, X_chi2_test, y_test, cv=cv_test, scoring= f1_scorer)\n",
    "\n",
    "mean_score= np.round(np.mean(cross_val_F1), decimals= 2)\n",
    "\n",
    "median_score= np.round(np.median(cross_val_F1), decimals= 2)\n",
    "\n",
    "min_score= np.round(min(cross_val_F1), decimals= 2)\n",
    "\n",
    "max_score= np.round(max(cross_val_F1), decimals= 2)\n",
    "\n",
    "st_dev= np.round(np.std(cross_val_F1), decimals= 2)\n",
    "\n",
    "sample_size = len(cross_val_F1)\n",
    "\n",
    "\n",
    "\n",
    "print('Sample Size: {} \\\n",
    "       Mean Score: {} \\\n",
    "       Median Score: {} \\\n",
    "       Standard Deviation: +/- {} \\\n",
    "       Range: {} - {}'.format(sample_size, mean_score, median_score, st_dev, min_score, max_score))\n",
    "\n",
    "# approach borrowed from Life is Study: http://hamelg.blogspot.com/2015/11/python-for-data-analysis-part-23-point.html\n",
    "\n",
    "# get the z-critical value (two tailed, alpha = .05)\n",
    "z_critical = stats.norm.ppf(q = 0.975)\n",
    "\n",
    "print(\"z-critical value: {}\".format(np.round(z_critical, decimals= 2)))\n",
    "                        \n",
    "# population standard deviation\n",
    "pop_stdev= st_dev\n",
    "\n",
    "# calculate margin of error\n",
    "margin_of_error = z_critical * (pop_stdev/math.sqrt(sample_size))\n",
    "\n",
    "# calculate confidence interval\n",
    "confidence_interval = (mean_score - margin_of_error,\n",
    "                       mean_score + margin_of_error)  \n",
    "\n",
    "print(\"Confidence interval: {}\".format(confidence_interval))"
   ]
  },
  {
   "cell_type": "markdown",
   "metadata": {},
   "source": [
    "## Script to help school district determine which students require intervention\n",
    "\n",
    "Function accepts a classifier .pkl filename, a student data filename, a cut level (quartiles or deciles) and a threshold value (eg 60% would be 60), and returns several dataframes and corresponding exports to csv.\n",
    "\n",
    "    Outputs:\n",
    "\n",
    "    - DataFrame 1: Pass probability dataframe (input) with added column for decile or quarile bins\n",
    "    - DataFrame 2: DataFrame one selected for rows <= threshold\n",
    "    - Remaining 4 or 10 DataFrames: DataFrame 1 split by quartile or decile\n",
    "\n",
    "    - csv files corresponding to each DataFrame\n",
    "\n",
    "    How to Run:  on command line enter python student_risk.py and 4 arguments separated by spaces \n",
    "    example: python student_risk.py tuned_classifier.pkl student-data.csv 'quartiles' 60"
   ]
  },
  {
   "cell_type": "markdown",
   "metadata": {
    "collapsed": false
   },
   "source": [
    "```python\n",
    "\n",
    "%%writefile student_risk.py\n",
    "\n",
    "#!/usr/bin/env python\n",
    "# -*- coding: utf-8 -*-\n",
    "\n",
    "import sys\n",
    "import pickle\n",
    "\n",
    "from sklearn.feature_selection import SelectKBest\n",
    "from sklearn.feature_selection import chi2\n",
    "\n",
    "import pandas as pd\n",
    "import numpy as np\n",
    "\n",
    "    \n",
    "def load_pkl(filename):\n",
    "    \n",
    "    \"\"\"\n",
    "    Function accepts a .pkl filename and loads (de-serializes) object\n",
    "    \"\"\"\n",
    "    \n",
    "    with open(filename, \"r\") as infile:\n",
    "        obj = pickle.load(infile)\n",
    "        return obj\n",
    "    \n",
    "def generate_all_features(data_filename):\n",
    "    \n",
    "    \"\"\"\n",
    "    Function accepts a csv (data_filename), reads it into pandas, splits out features, and returns\n",
    "    a feature array.\n",
    "    \"\"\"\n",
    "    \n",
    "    student_data = pd.read_csv(data_filename)\n",
    "    \n",
    "    # Extract feature (X) and target (y) columns\n",
    "    feature_cols = list(student_data.columns[:-1])  # all columns but last are features\n",
    "    target_col = student_data.columns[-1]  # last column is the target/label\n",
    "\n",
    "    X_all = student_data[feature_cols]  # feature values for all students\n",
    "    \n",
    "    return X_all\n",
    "    \n",
    "\n",
    "def preprocess_features(X):\n",
    "    \n",
    "    \"\"\"\n",
    "    Function accepts a feature array (X) and returns pre-processed features (dummie variables etc.)\n",
    "    \"\"\"\n",
    "    outX = pd.DataFrame(index=X.index)  # output dataframe, initially empty\n",
    "\n",
    "    # Check each column\n",
    "    for col, col_data in X.iteritems():\n",
    "        # If data type is non-numeric, try to replace all yes/no values with 1/0\n",
    "        if col_data.dtype == object:\n",
    "            col_data = col_data.replace(['yes', 'no'], [1, 0])\n",
    "        # Note: This should change the data type for yes/no columns to int\n",
    "\n",
    "        # If still non-numeric, convert to one or more dummy variables\n",
    "        if col_data.dtype == object:\n",
    "            col_data = pd.get_dummies(col_data, prefix=col)  # e.g. 'school' => 'school_GP', 'school_MS'\n",
    "\n",
    "        outX = outX.join(col_data)  # collect column(s) in output dataframe\n",
    "\n",
    "    return outX\n",
    "    \n",
    "\n",
    "def student_pass_probs(classifier, features):\n",
    "    \"\"\"\n",
    "    Returns probability of student passing given a classifier and feature set.\n",
    "    inputs: features, classifier\n",
    "    outputs: array of probabilities per student\n",
    "    \"\"\"\n",
    "    \n",
    "    probs= np.round(classifier.predict_proba(features) * 100, decimals=2)    \n",
    "    probs_df= pd.DataFrame(probs, columns= ['Yes', 'No'])\n",
    "    \n",
    "    return probs_df\n",
    "\n",
    "\n",
    "def return_at_risk_students(dataframe, cut_level, threshold):\n",
    "    \n",
    "    \"\"\"\n",
    "    Function accepts a student pass probability dataframe, a cut level (quartiles are default but deciles,\n",
    "    can also be specified) and a threshold value (as a percent), and returns several dataframes\n",
    "    and corresponding exports to csv.\n",
    "    \n",
    "    Outputs:\n",
    "    DataFrame 1: Pass probability dataframe (input) with added column for decile or quarile bins\n",
    "    DataFrame 2: DataFrame one selected for rows <= threshold\n",
    "    Remaining 4 or 10 DataFrames: DataFrame 1 split by quartile or decile\n",
    "    \n",
    "    csv files corresponding to each DataFrame\n",
    "    \"\"\"\n",
    "    # defend against treshold argument as string when using CLI\n",
    "    threshold= float(threshold)\n",
    "    # set up cuts\n",
    "    if cut_level== 'quartiles':\n",
    "        bins= bins = [0, 25, 50, 75, 101]\n",
    "        label_list= ['lowest', 'low', 'mid', 'high']\n",
    "    elif cut_level == 'deciles':\n",
    "        bins= range(0,110,10)\n",
    "        label_list= [str(num) for num in range(1,11)]\n",
    "        \n",
    "    # assign bins into new column and export to csv\n",
    "    dataframe['bin']= pd.cut(dataframe.Yes, bins= bins, labels= label_list, include_lowest= True)\n",
    "    dataframe.to_csv('all_student_probabilites_and_bins.csv')\n",
    "    \n",
    "    \n",
    "    # select by threshold and export to csv\n",
    "    threshold_df= dataframe[dataframe.Yes <= threshold].sort_values(by= 'Yes')\n",
    "    threshold_df.to_csv('threshold.csv')\n",
    "    \n",
    "    # split by bins and export to csv\n",
    "    df_list= []\n",
    "    for index, label in enumerate(label_list): \n",
    "        \n",
    "        df_index= dataframe[dataframe['bin'] == label]  \n",
    "        df_index.name= label # name the dataframe as an attribute for use in export to csv\n",
    "        df_list.append(df_index)\n",
    "        \n",
    "        # export to csv\n",
    "        name= df_index.name + '.csv'\n",
    "        df_index.to_csv(name)\n",
    "        \n",
    "        \n",
    "    return_tuple= (threshold_df, dataframe) + tuple(df_list)\n",
    "    \n",
    "    print \"Unpack {} variables.\\\n",
    "    First is threshold dataframe, second is dataframe labeled with quartiles or deciles \\\n",
    "    the remainder are either the individual quartile or decile dataframes.\".format(len(return_tuple))\n",
    "    \n",
    "    return(return_tuple)  \n",
    "\n",
    "\n",
    "def student_at_risk_info(classifier_filename, data_filename, cut_level, threshold): \n",
    "    \n",
    "    \"\"\"\n",
    "    Function accepts a classifier .pkl filename, a student data filename, a cut level (quartiles or deciles)\n",
    "    and a threshold value (eg 60% would be 60), and returns several dataframes and corresponding exports to csv.\n",
    "    \n",
    "    Outputs:\n",
    "    \n",
    "    DataFrame 1: Pass probability dataframe (input) with added column for decile or quarile bins\n",
    "    DataFrame 2: DataFrame one selected for rows <= threshold\n",
    "    Remaining 4 or 10 DataFrames: DataFrame 1 split by quartile or decile\n",
    "    \n",
    "    csv files corresponding to each DataFrame\n",
    "    \n",
    "    How to Run:  on command line enter python student_risk.py and 4 arguments separated by spaces \n",
    "    example: python student_risk.py tuned_classifier.pkl student-data.csv 'quartiles' 60\n",
    "    \"\"\"\n",
    "    \n",
    "    # laod classifier from .pkl\n",
    "    print('Loading classifier')\n",
    "    classifier= load_pkl(classifier_filename)\n",
    "    \n",
    "    # extract and pre-process all features\n",
    "    print('Reading data, extracting features, pre-processing features')\n",
    "    X_all= generate_all_features(data_filename)\n",
    "    all_features = preprocess_features(X_all)\n",
    "\n",
    "    \n",
    "    # extract top 10 features determined in classifier development\n",
    "    print('Extracting top 10 features')\n",
    "    feature_list= ['failures', 'absences', 'paid', 'goout', 'reason_reputation',\n",
    "                   'Mjob_health', 'guardian_other', 'Medu', 'reason_course', 'Fedu']\n",
    "    \n",
    "    features= all_features[feature_list]\n",
    "    \n",
    "    \n",
    "    # create student probability DataFrame\n",
    "    print('Generating DataFrames and .csv files')\n",
    "    prob_dataframe= student_pass_probs(classifier, features)\n",
    "    \n",
    "    # make cuts and bin, returning corresponding DataFrames and creating .csv\n",
    "    return_at_risk_students(prob_dataframe, cut_level, threshold)\n",
    "    \n",
    "\n",
    "student_at_risk_info(sys.argv[1], sys.argv[2], sys.argv[3], sys.argv[4])\n",
    "\n",
    "```"
   ]
  },
  {
   "cell_type": "markdown",
   "metadata": {},
   "source": [
    "### References\n",
    "\n",
    "1. Scikit-learn documentation\n",
    "2. [ Support Vector Machine Solvers by Bottou and Lin](http://140.112.30.28/~cjlin/papers/bottou_lin.pdf)\n",
    "3. [Stats Stack Exchange](http://stats.stackexchange.com/questions/96995/machine-learning-classifiers-big-o-or-complexity)\n",
    "4. [Life Is Study](http://hamelg.blogspot.com/2015/11/python-for-data-analysis-part-23-point.html)"
   ]
  }
 ],
 "metadata": {
  "kernelspec": {
   "display_name": "Python 2",
   "language": "python",
   "name": "python2"
  },
  "language_info": {
   "codemirror_mode": {
    "name": "ipython",
    "version": 2
   },
   "file_extension": ".py",
   "mimetype": "text/x-python",
   "name": "python",
   "nbconvert_exporter": "python",
   "pygments_lexer": "ipython2",
   "version": "2.7.11"
  }
 },
 "nbformat": 4,
 "nbformat_minor": 0
}
