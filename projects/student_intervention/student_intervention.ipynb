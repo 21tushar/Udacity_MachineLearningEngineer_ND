{
 "cells": [
  {
   "cell_type": "markdown",
   "metadata": {},
   "source": [
    "# Project 2: Supervised Learning\n",
    "### Building a Student Intervention System"
   ]
  },
  {
   "cell_type": "markdown",
   "metadata": {},
   "source": [
    "## 1. Classification vs Regression\n",
    "\n",
    "Your goal is to identify students who might need early intervention - which type of supervised machine learning problem is this, classification or regression? Why?"
   ]
  },
  {
   "cell_type": "markdown",
   "metadata": {},
   "source": [
    "## 2. Exploring the Data\n",
    "\n",
    "Let's go ahead and read in the student dataset first.\n",
    "\n",
    "_To execute a code cell, click inside it and press **Shift+Enter**._"
   ]
  },
  {
   "cell_type": "code",
   "execution_count": 1,
   "metadata": {
    "collapsed": false
   },
   "outputs": [],
   "source": [
    "# Import libraries\n",
    "import numpy as np\n",
    "import pandas as pd"
   ]
  },
  {
   "cell_type": "code",
   "execution_count": 2,
   "metadata": {
    "collapsed": false
   },
   "outputs": [
    {
     "name": "stdout",
     "output_type": "stream",
     "text": [
      "Student data read successfully!\n"
     ]
    }
   ],
   "source": [
    "# Read student data\n",
    "student_data = pd.read_csv(\"student-data.csv\")\n",
    "print \"Student data read successfully!\"\n",
    "# Note: The last column 'passed' is the target/label, all other are feature columns"
   ]
  },
  {
   "cell_type": "markdown",
   "metadata": {},
   "source": [
    "Now, can you find out the following facts about the dataset?\n",
    "- Total number of students\n",
    "- Number of students who passed\n",
    "- Number of students who failed\n",
    "- Graduation rate of the class (%)\n",
    "- Number of features\n",
    "\n",
    "_Use the code block below to compute these values. Instructions/steps are marked using **TODO**s._"
   ]
  },
  {
   "cell_type": "markdown",
   "metadata": {},
   "source": [
    "### Data Exploration"
   ]
  },
  {
   "cell_type": "code",
   "execution_count": 3,
   "metadata": {
    "collapsed": false
   },
   "outputs": [
    {
     "data": {
      "text/plain": [
       "Index([u'school', u'sex', u'age', u'address', u'famsize', u'Pstatus', u'Medu',\n",
       "       u'Fedu', u'Mjob', u'Fjob', u'reason', u'guardian', u'traveltime',\n",
       "       u'studytime', u'failures', u'schoolsup', u'famsup', u'paid',\n",
       "       u'activities', u'nursery', u'higher', u'internet', u'romantic',\n",
       "       u'famrel', u'freetime', u'goout', u'Dalc', u'Walc', u'health',\n",
       "       u'absences', u'passed'],\n",
       "      dtype='object')"
      ]
     },
     "execution_count": 3,
     "metadata": {},
     "output_type": "execute_result"
    }
   ],
   "source": [
    "student_data.columns"
   ]
  },
  {
   "cell_type": "code",
   "execution_count": 4,
   "metadata": {
    "collapsed": false
   },
   "outputs": [
    {
     "data": {
      "text/html": [
       "<div>\n",
       "<table border=\"1\" class=\"dataframe\">\n",
       "  <thead>\n",
       "    <tr style=\"text-align: right;\">\n",
       "      <th></th>\n",
       "      <th>school</th>\n",
       "      <th>sex</th>\n",
       "      <th>age</th>\n",
       "      <th>address</th>\n",
       "      <th>famsize</th>\n",
       "      <th>Pstatus</th>\n",
       "      <th>Medu</th>\n",
       "      <th>Fedu</th>\n",
       "      <th>Mjob</th>\n",
       "      <th>Fjob</th>\n",
       "      <th>...</th>\n",
       "      <th>internet</th>\n",
       "      <th>romantic</th>\n",
       "      <th>famrel</th>\n",
       "      <th>freetime</th>\n",
       "      <th>goout</th>\n",
       "      <th>Dalc</th>\n",
       "      <th>Walc</th>\n",
       "      <th>health</th>\n",
       "      <th>absences</th>\n",
       "      <th>passed</th>\n",
       "    </tr>\n",
       "  </thead>\n",
       "  <tbody>\n",
       "    <tr>\n",
       "      <th>0</th>\n",
       "      <td>GP</td>\n",
       "      <td>F</td>\n",
       "      <td>18</td>\n",
       "      <td>U</td>\n",
       "      <td>GT3</td>\n",
       "      <td>A</td>\n",
       "      <td>4</td>\n",
       "      <td>4</td>\n",
       "      <td>at_home</td>\n",
       "      <td>teacher</td>\n",
       "      <td>...</td>\n",
       "      <td>no</td>\n",
       "      <td>no</td>\n",
       "      <td>4</td>\n",
       "      <td>3</td>\n",
       "      <td>4</td>\n",
       "      <td>1</td>\n",
       "      <td>1</td>\n",
       "      <td>3</td>\n",
       "      <td>6</td>\n",
       "      <td>no</td>\n",
       "    </tr>\n",
       "    <tr>\n",
       "      <th>1</th>\n",
       "      <td>GP</td>\n",
       "      <td>F</td>\n",
       "      <td>17</td>\n",
       "      <td>U</td>\n",
       "      <td>GT3</td>\n",
       "      <td>T</td>\n",
       "      <td>1</td>\n",
       "      <td>1</td>\n",
       "      <td>at_home</td>\n",
       "      <td>other</td>\n",
       "      <td>...</td>\n",
       "      <td>yes</td>\n",
       "      <td>no</td>\n",
       "      <td>5</td>\n",
       "      <td>3</td>\n",
       "      <td>3</td>\n",
       "      <td>1</td>\n",
       "      <td>1</td>\n",
       "      <td>3</td>\n",
       "      <td>4</td>\n",
       "      <td>no</td>\n",
       "    </tr>\n",
       "    <tr>\n",
       "      <th>2</th>\n",
       "      <td>GP</td>\n",
       "      <td>F</td>\n",
       "      <td>15</td>\n",
       "      <td>U</td>\n",
       "      <td>LE3</td>\n",
       "      <td>T</td>\n",
       "      <td>1</td>\n",
       "      <td>1</td>\n",
       "      <td>at_home</td>\n",
       "      <td>other</td>\n",
       "      <td>...</td>\n",
       "      <td>yes</td>\n",
       "      <td>no</td>\n",
       "      <td>4</td>\n",
       "      <td>3</td>\n",
       "      <td>2</td>\n",
       "      <td>2</td>\n",
       "      <td>3</td>\n",
       "      <td>3</td>\n",
       "      <td>10</td>\n",
       "      <td>yes</td>\n",
       "    </tr>\n",
       "    <tr>\n",
       "      <th>3</th>\n",
       "      <td>GP</td>\n",
       "      <td>F</td>\n",
       "      <td>15</td>\n",
       "      <td>U</td>\n",
       "      <td>GT3</td>\n",
       "      <td>T</td>\n",
       "      <td>4</td>\n",
       "      <td>2</td>\n",
       "      <td>health</td>\n",
       "      <td>services</td>\n",
       "      <td>...</td>\n",
       "      <td>yes</td>\n",
       "      <td>yes</td>\n",
       "      <td>3</td>\n",
       "      <td>2</td>\n",
       "      <td>2</td>\n",
       "      <td>1</td>\n",
       "      <td>1</td>\n",
       "      <td>5</td>\n",
       "      <td>2</td>\n",
       "      <td>yes</td>\n",
       "    </tr>\n",
       "    <tr>\n",
       "      <th>4</th>\n",
       "      <td>GP</td>\n",
       "      <td>F</td>\n",
       "      <td>16</td>\n",
       "      <td>U</td>\n",
       "      <td>GT3</td>\n",
       "      <td>T</td>\n",
       "      <td>3</td>\n",
       "      <td>3</td>\n",
       "      <td>other</td>\n",
       "      <td>other</td>\n",
       "      <td>...</td>\n",
       "      <td>no</td>\n",
       "      <td>no</td>\n",
       "      <td>4</td>\n",
       "      <td>3</td>\n",
       "      <td>2</td>\n",
       "      <td>1</td>\n",
       "      <td>2</td>\n",
       "      <td>5</td>\n",
       "      <td>4</td>\n",
       "      <td>yes</td>\n",
       "    </tr>\n",
       "  </tbody>\n",
       "</table>\n",
       "<p>5 rows × 31 columns</p>\n",
       "</div>"
      ],
      "text/plain": [
       "  school sex  age address famsize Pstatus  Medu  Fedu     Mjob      Fjob  \\\n",
       "0     GP   F   18       U     GT3       A     4     4  at_home   teacher   \n",
       "1     GP   F   17       U     GT3       T     1     1  at_home     other   \n",
       "2     GP   F   15       U     LE3       T     1     1  at_home     other   \n",
       "3     GP   F   15       U     GT3       T     4     2   health  services   \n",
       "4     GP   F   16       U     GT3       T     3     3    other     other   \n",
       "\n",
       "   ...   internet romantic  famrel  freetime  goout Dalc Walc health absences  \\\n",
       "0  ...         no       no       4         3      4    1    1      3        6   \n",
       "1  ...        yes       no       5         3      3    1    1      3        4   \n",
       "2  ...        yes       no       4         3      2    2    3      3       10   \n",
       "3  ...        yes      yes       3         2      2    1    1      5        2   \n",
       "4  ...         no       no       4         3      2    1    2      5        4   \n",
       "\n",
       "  passed  \n",
       "0     no  \n",
       "1     no  \n",
       "2    yes  \n",
       "3    yes  \n",
       "4    yes  \n",
       "\n",
       "[5 rows x 31 columns]"
      ]
     },
     "execution_count": 4,
     "metadata": {},
     "output_type": "execute_result"
    }
   ],
   "source": [
    "student_data.head()"
   ]
  },
  {
   "cell_type": "code",
   "execution_count": 5,
   "metadata": {
    "collapsed": false
   },
   "outputs": [
    {
     "data": {
      "text/html": [
       "<div>\n",
       "<table border=\"1\" class=\"dataframe\">\n",
       "  <thead>\n",
       "    <tr style=\"text-align: right;\">\n",
       "      <th></th>\n",
       "      <th>age</th>\n",
       "      <th>Medu</th>\n",
       "      <th>Fedu</th>\n",
       "      <th>traveltime</th>\n",
       "      <th>studytime</th>\n",
       "      <th>failures</th>\n",
       "      <th>famrel</th>\n",
       "      <th>freetime</th>\n",
       "      <th>goout</th>\n",
       "      <th>Dalc</th>\n",
       "      <th>Walc</th>\n",
       "      <th>health</th>\n",
       "      <th>absences</th>\n",
       "    </tr>\n",
       "  </thead>\n",
       "  <tbody>\n",
       "    <tr>\n",
       "      <th>count</th>\n",
       "      <td>395.000000</td>\n",
       "      <td>395.000000</td>\n",
       "      <td>395.000000</td>\n",
       "      <td>395.000000</td>\n",
       "      <td>395.000000</td>\n",
       "      <td>395.000000</td>\n",
       "      <td>395.000000</td>\n",
       "      <td>395.000000</td>\n",
       "      <td>395.000000</td>\n",
       "      <td>395.000000</td>\n",
       "      <td>395.000000</td>\n",
       "      <td>395.000000</td>\n",
       "      <td>395.000000</td>\n",
       "    </tr>\n",
       "    <tr>\n",
       "      <th>mean</th>\n",
       "      <td>16.696203</td>\n",
       "      <td>2.749367</td>\n",
       "      <td>2.521519</td>\n",
       "      <td>1.448101</td>\n",
       "      <td>2.035443</td>\n",
       "      <td>0.334177</td>\n",
       "      <td>3.944304</td>\n",
       "      <td>3.235443</td>\n",
       "      <td>3.108861</td>\n",
       "      <td>1.481013</td>\n",
       "      <td>2.291139</td>\n",
       "      <td>3.554430</td>\n",
       "      <td>5.708861</td>\n",
       "    </tr>\n",
       "    <tr>\n",
       "      <th>std</th>\n",
       "      <td>1.276043</td>\n",
       "      <td>1.094735</td>\n",
       "      <td>1.088201</td>\n",
       "      <td>0.697505</td>\n",
       "      <td>0.839240</td>\n",
       "      <td>0.743651</td>\n",
       "      <td>0.896659</td>\n",
       "      <td>0.998862</td>\n",
       "      <td>1.113278</td>\n",
       "      <td>0.890741</td>\n",
       "      <td>1.287897</td>\n",
       "      <td>1.390303</td>\n",
       "      <td>8.003096</td>\n",
       "    </tr>\n",
       "    <tr>\n",
       "      <th>min</th>\n",
       "      <td>15.000000</td>\n",
       "      <td>0.000000</td>\n",
       "      <td>0.000000</td>\n",
       "      <td>1.000000</td>\n",
       "      <td>1.000000</td>\n",
       "      <td>0.000000</td>\n",
       "      <td>1.000000</td>\n",
       "      <td>1.000000</td>\n",
       "      <td>1.000000</td>\n",
       "      <td>1.000000</td>\n",
       "      <td>1.000000</td>\n",
       "      <td>1.000000</td>\n",
       "      <td>0.000000</td>\n",
       "    </tr>\n",
       "    <tr>\n",
       "      <th>25%</th>\n",
       "      <td>16.000000</td>\n",
       "      <td>2.000000</td>\n",
       "      <td>2.000000</td>\n",
       "      <td>1.000000</td>\n",
       "      <td>1.000000</td>\n",
       "      <td>0.000000</td>\n",
       "      <td>4.000000</td>\n",
       "      <td>3.000000</td>\n",
       "      <td>2.000000</td>\n",
       "      <td>1.000000</td>\n",
       "      <td>1.000000</td>\n",
       "      <td>3.000000</td>\n",
       "      <td>0.000000</td>\n",
       "    </tr>\n",
       "    <tr>\n",
       "      <th>50%</th>\n",
       "      <td>17.000000</td>\n",
       "      <td>3.000000</td>\n",
       "      <td>2.000000</td>\n",
       "      <td>1.000000</td>\n",
       "      <td>2.000000</td>\n",
       "      <td>0.000000</td>\n",
       "      <td>4.000000</td>\n",
       "      <td>3.000000</td>\n",
       "      <td>3.000000</td>\n",
       "      <td>1.000000</td>\n",
       "      <td>2.000000</td>\n",
       "      <td>4.000000</td>\n",
       "      <td>4.000000</td>\n",
       "    </tr>\n",
       "    <tr>\n",
       "      <th>75%</th>\n",
       "      <td>18.000000</td>\n",
       "      <td>4.000000</td>\n",
       "      <td>3.000000</td>\n",
       "      <td>2.000000</td>\n",
       "      <td>2.000000</td>\n",
       "      <td>0.000000</td>\n",
       "      <td>5.000000</td>\n",
       "      <td>4.000000</td>\n",
       "      <td>4.000000</td>\n",
       "      <td>2.000000</td>\n",
       "      <td>3.000000</td>\n",
       "      <td>5.000000</td>\n",
       "      <td>8.000000</td>\n",
       "    </tr>\n",
       "    <tr>\n",
       "      <th>max</th>\n",
       "      <td>22.000000</td>\n",
       "      <td>4.000000</td>\n",
       "      <td>4.000000</td>\n",
       "      <td>4.000000</td>\n",
       "      <td>4.000000</td>\n",
       "      <td>3.000000</td>\n",
       "      <td>5.000000</td>\n",
       "      <td>5.000000</td>\n",
       "      <td>5.000000</td>\n",
       "      <td>5.000000</td>\n",
       "      <td>5.000000</td>\n",
       "      <td>5.000000</td>\n",
       "      <td>75.000000</td>\n",
       "    </tr>\n",
       "  </tbody>\n",
       "</table>\n",
       "</div>"
      ],
      "text/plain": [
       "              age        Medu        Fedu  traveltime   studytime    failures  \\\n",
       "count  395.000000  395.000000  395.000000  395.000000  395.000000  395.000000   \n",
       "mean    16.696203    2.749367    2.521519    1.448101    2.035443    0.334177   \n",
       "std      1.276043    1.094735    1.088201    0.697505    0.839240    0.743651   \n",
       "min     15.000000    0.000000    0.000000    1.000000    1.000000    0.000000   \n",
       "25%     16.000000    2.000000    2.000000    1.000000    1.000000    0.000000   \n",
       "50%     17.000000    3.000000    2.000000    1.000000    2.000000    0.000000   \n",
       "75%     18.000000    4.000000    3.000000    2.000000    2.000000    0.000000   \n",
       "max     22.000000    4.000000    4.000000    4.000000    4.000000    3.000000   \n",
       "\n",
       "           famrel    freetime       goout        Dalc        Walc      health  \\\n",
       "count  395.000000  395.000000  395.000000  395.000000  395.000000  395.000000   \n",
       "mean     3.944304    3.235443    3.108861    1.481013    2.291139    3.554430   \n",
       "std      0.896659    0.998862    1.113278    0.890741    1.287897    1.390303   \n",
       "min      1.000000    1.000000    1.000000    1.000000    1.000000    1.000000   \n",
       "25%      4.000000    3.000000    2.000000    1.000000    1.000000    3.000000   \n",
       "50%      4.000000    3.000000    3.000000    1.000000    2.000000    4.000000   \n",
       "75%      5.000000    4.000000    4.000000    2.000000    3.000000    5.000000   \n",
       "max      5.000000    5.000000    5.000000    5.000000    5.000000    5.000000   \n",
       "\n",
       "         absences  \n",
       "count  395.000000  \n",
       "mean     5.708861  \n",
       "std      8.003096  \n",
       "min      0.000000  \n",
       "25%      0.000000  \n",
       "50%      4.000000  \n",
       "75%      8.000000  \n",
       "max     75.000000  "
      ]
     },
     "execution_count": 5,
     "metadata": {},
     "output_type": "execute_result"
    }
   ],
   "source": [
    "student_data.describe()"
   ]
  },
  {
   "cell_type": "code",
   "execution_count": 6,
   "metadata": {
    "collapsed": false
   },
   "outputs": [
    {
     "name": "stdout",
     "output_type": "stream",
     "text": [
      "<class 'pandas.core.frame.DataFrame'>\n",
      "RangeIndex: 395 entries, 0 to 394\n",
      "Data columns (total 31 columns):\n",
      "school        395 non-null object\n",
      "sex           395 non-null object\n",
      "age           395 non-null int64\n",
      "address       395 non-null object\n",
      "famsize       395 non-null object\n",
      "Pstatus       395 non-null object\n",
      "Medu          395 non-null int64\n",
      "Fedu          395 non-null int64\n",
      "Mjob          395 non-null object\n",
      "Fjob          395 non-null object\n",
      "reason        395 non-null object\n",
      "guardian      395 non-null object\n",
      "traveltime    395 non-null int64\n",
      "studytime     395 non-null int64\n",
      "failures      395 non-null int64\n",
      "schoolsup     395 non-null object\n",
      "famsup        395 non-null object\n",
      "paid          395 non-null object\n",
      "activities    395 non-null object\n",
      "nursery       395 non-null object\n",
      "higher        395 non-null object\n",
      "internet      395 non-null object\n",
      "romantic      395 non-null object\n",
      "famrel        395 non-null int64\n",
      "freetime      395 non-null int64\n",
      "goout         395 non-null int64\n",
      "Dalc          395 non-null int64\n",
      "Walc          395 non-null int64\n",
      "health        395 non-null int64\n",
      "absences      395 non-null int64\n",
      "passed        395 non-null object\n",
      "dtypes: int64(13), object(18)\n",
      "memory usage: 67.9+ KB\n"
     ]
    }
   ],
   "source": [
    "student_data.info()"
   ]
  },
  {
   "cell_type": "code",
   "execution_count": 7,
   "metadata": {
    "collapsed": false
   },
   "outputs": [
    {
     "data": {
      "text/plain": [
       "(395, 31)"
      ]
     },
     "execution_count": 7,
     "metadata": {},
     "output_type": "execute_result"
    }
   ],
   "source": [
    "student_data.shape"
   ]
  },
  {
   "cell_type": "code",
   "execution_count": 8,
   "metadata": {
    "collapsed": false
   },
   "outputs": [
    {
     "name": "stdout",
     "output_type": "stream",
     "text": [
      "Total number of students: 395\n",
      "Number of students who passed: 265\n",
      "Number of students who failed: 130\n",
      "Number of features: 31\n",
      "Graduation rate of the class: 67.09%\n"
     ]
    }
   ],
   "source": [
    "# TODO: Compute desired values - replace each '?' with an appropriate expression/function call\n",
    "n_students = len(student_data)\n",
    "n_features = len(student_data.columns)\n",
    "n_passed = student_data.passed.value_counts()[0]\n",
    "n_failed = student_data.passed.value_counts()[1]\n",
    "grad_rate = n_passed/float(n_students) * 100\n",
    "print \"Total number of students: {}\".format(n_students)\n",
    "print \"Number of students who passed: {}\".format(n_passed)\n",
    "print \"Number of students who failed: {}\".format(n_failed)\n",
    "print \"Number of features: {}\".format(n_features)\n",
    "print \"Graduation rate of the class: {:.2f}%\".format(grad_rate)"
   ]
  },
  {
   "cell_type": "markdown",
   "metadata": {},
   "source": [
    "## 3. Preparing the Data\n",
    "In this section, we will prepare the data for modeling, training and testing.\n",
    "\n",
    "### Identify feature and target columns\n",
    "It is often the case that the data you obtain contains non-numeric features. This can be a problem, as most machine learning algorithms expect numeric data to perform computations with.\n",
    "\n",
    "Let's first separate our data into feature and target columns, and see if any features are non-numeric.<br/>\n",
    "**Note**: For this dataset, the last column (`'passed'`) is the target or label we are trying to predict."
   ]
  },
  {
   "cell_type": "code",
   "execution_count": 9,
   "metadata": {
    "collapsed": false
   },
   "outputs": [
    {
     "name": "stdout",
     "output_type": "stream",
     "text": [
      "Feature column(s):-\n",
      "['school', 'sex', 'age', 'address', 'famsize', 'Pstatus', 'Medu', 'Fedu', 'Mjob', 'Fjob', 'reason', 'guardian', 'traveltime', 'studytime', 'failures', 'schoolsup', 'famsup', 'paid', 'activities', 'nursery', 'higher', 'internet', 'romantic', 'famrel', 'freetime', 'goout', 'Dalc', 'Walc', 'health', 'absences']\n",
      "Target column: passed\n",
      "\n",
      "Feature values:-\n"
     ]
    },
    {
     "data": {
      "text/html": [
       "<div>\n",
       "<table border=\"1\" class=\"dataframe\">\n",
       "  <thead>\n",
       "    <tr style=\"text-align: right;\">\n",
       "      <th></th>\n",
       "      <th>school</th>\n",
       "      <th>sex</th>\n",
       "      <th>age</th>\n",
       "      <th>address</th>\n",
       "      <th>famsize</th>\n",
       "      <th>Pstatus</th>\n",
       "      <th>Medu</th>\n",
       "      <th>Fedu</th>\n",
       "      <th>Mjob</th>\n",
       "      <th>Fjob</th>\n",
       "      <th>...</th>\n",
       "      <th>higher</th>\n",
       "      <th>internet</th>\n",
       "      <th>romantic</th>\n",
       "      <th>famrel</th>\n",
       "      <th>freetime</th>\n",
       "      <th>goout</th>\n",
       "      <th>Dalc</th>\n",
       "      <th>Walc</th>\n",
       "      <th>health</th>\n",
       "      <th>absences</th>\n",
       "    </tr>\n",
       "  </thead>\n",
       "  <tbody>\n",
       "    <tr>\n",
       "      <th>0</th>\n",
       "      <td>GP</td>\n",
       "      <td>F</td>\n",
       "      <td>18</td>\n",
       "      <td>U</td>\n",
       "      <td>GT3</td>\n",
       "      <td>A</td>\n",
       "      <td>4</td>\n",
       "      <td>4</td>\n",
       "      <td>at_home</td>\n",
       "      <td>teacher</td>\n",
       "      <td>...</td>\n",
       "      <td>yes</td>\n",
       "      <td>no</td>\n",
       "      <td>no</td>\n",
       "      <td>4</td>\n",
       "      <td>3</td>\n",
       "      <td>4</td>\n",
       "      <td>1</td>\n",
       "      <td>1</td>\n",
       "      <td>3</td>\n",
       "      <td>6</td>\n",
       "    </tr>\n",
       "    <tr>\n",
       "      <th>1</th>\n",
       "      <td>GP</td>\n",
       "      <td>F</td>\n",
       "      <td>17</td>\n",
       "      <td>U</td>\n",
       "      <td>GT3</td>\n",
       "      <td>T</td>\n",
       "      <td>1</td>\n",
       "      <td>1</td>\n",
       "      <td>at_home</td>\n",
       "      <td>other</td>\n",
       "      <td>...</td>\n",
       "      <td>yes</td>\n",
       "      <td>yes</td>\n",
       "      <td>no</td>\n",
       "      <td>5</td>\n",
       "      <td>3</td>\n",
       "      <td>3</td>\n",
       "      <td>1</td>\n",
       "      <td>1</td>\n",
       "      <td>3</td>\n",
       "      <td>4</td>\n",
       "    </tr>\n",
       "    <tr>\n",
       "      <th>2</th>\n",
       "      <td>GP</td>\n",
       "      <td>F</td>\n",
       "      <td>15</td>\n",
       "      <td>U</td>\n",
       "      <td>LE3</td>\n",
       "      <td>T</td>\n",
       "      <td>1</td>\n",
       "      <td>1</td>\n",
       "      <td>at_home</td>\n",
       "      <td>other</td>\n",
       "      <td>...</td>\n",
       "      <td>yes</td>\n",
       "      <td>yes</td>\n",
       "      <td>no</td>\n",
       "      <td>4</td>\n",
       "      <td>3</td>\n",
       "      <td>2</td>\n",
       "      <td>2</td>\n",
       "      <td>3</td>\n",
       "      <td>3</td>\n",
       "      <td>10</td>\n",
       "    </tr>\n",
       "    <tr>\n",
       "      <th>3</th>\n",
       "      <td>GP</td>\n",
       "      <td>F</td>\n",
       "      <td>15</td>\n",
       "      <td>U</td>\n",
       "      <td>GT3</td>\n",
       "      <td>T</td>\n",
       "      <td>4</td>\n",
       "      <td>2</td>\n",
       "      <td>health</td>\n",
       "      <td>services</td>\n",
       "      <td>...</td>\n",
       "      <td>yes</td>\n",
       "      <td>yes</td>\n",
       "      <td>yes</td>\n",
       "      <td>3</td>\n",
       "      <td>2</td>\n",
       "      <td>2</td>\n",
       "      <td>1</td>\n",
       "      <td>1</td>\n",
       "      <td>5</td>\n",
       "      <td>2</td>\n",
       "    </tr>\n",
       "    <tr>\n",
       "      <th>4</th>\n",
       "      <td>GP</td>\n",
       "      <td>F</td>\n",
       "      <td>16</td>\n",
       "      <td>U</td>\n",
       "      <td>GT3</td>\n",
       "      <td>T</td>\n",
       "      <td>3</td>\n",
       "      <td>3</td>\n",
       "      <td>other</td>\n",
       "      <td>other</td>\n",
       "      <td>...</td>\n",
       "      <td>yes</td>\n",
       "      <td>no</td>\n",
       "      <td>no</td>\n",
       "      <td>4</td>\n",
       "      <td>3</td>\n",
       "      <td>2</td>\n",
       "      <td>1</td>\n",
       "      <td>2</td>\n",
       "      <td>5</td>\n",
       "      <td>4</td>\n",
       "    </tr>\n",
       "  </tbody>\n",
       "</table>\n",
       "<p>5 rows × 30 columns</p>\n",
       "</div>"
      ],
      "text/plain": [
       "  school sex  age address famsize Pstatus  Medu  Fedu     Mjob      Fjob  \\\n",
       "0     GP   F   18       U     GT3       A     4     4  at_home   teacher   \n",
       "1     GP   F   17       U     GT3       T     1     1  at_home     other   \n",
       "2     GP   F   15       U     LE3       T     1     1  at_home     other   \n",
       "3     GP   F   15       U     GT3       T     4     2   health  services   \n",
       "4     GP   F   16       U     GT3       T     3     3    other     other   \n",
       "\n",
       "    ...    higher internet  romantic  famrel  freetime goout Dalc Walc health  \\\n",
       "0   ...       yes       no        no       4         3     4    1    1      3   \n",
       "1   ...       yes      yes        no       5         3     3    1    1      3   \n",
       "2   ...       yes      yes        no       4         3     2    2    3      3   \n",
       "3   ...       yes      yes       yes       3         2     2    1    1      5   \n",
       "4   ...       yes       no        no       4         3     2    1    2      5   \n",
       "\n",
       "  absences  \n",
       "0        6  \n",
       "1        4  \n",
       "2       10  \n",
       "3        2  \n",
       "4        4  \n",
       "\n",
       "[5 rows x 30 columns]"
      ]
     },
     "execution_count": 9,
     "metadata": {},
     "output_type": "execute_result"
    }
   ],
   "source": [
    "# Extract feature (X) and target (y) columns\n",
    "feature_cols = list(student_data.columns[:-1])  # all columns but last are features\n",
    "target_col = student_data.columns[-1]  # last column is the target/label\n",
    "print \"Feature column(s):-\\n{}\".format(feature_cols)\n",
    "print \"Target column: {}\".format(target_col)\n",
    "\n",
    "X_all = student_data[feature_cols]  # feature values for all students\n",
    "y_all = student_data[target_col]  # corresponding targets/labels\n",
    "print \"\\nFeature values:-\"\n",
    "X_all.head()  # print the first 5 rows"
   ]
  },
  {
   "cell_type": "markdown",
   "metadata": {},
   "source": [
    "### Preprocess feature columns\n",
    "\n",
    "As you can see, there are several non-numeric columns that need to be converted! Many of them are simply `yes`/`no`, e.g. `internet`. These can be reasonably converted into `1`/`0` (binary) values.\n",
    "\n",
    "Other columns, like `Mjob` and `Fjob`, have more than two values, and are known as _categorical variables_. The recommended way to handle such a column is to create as many columns as possible values (e.g. `Fjob_teacher`, `Fjob_other`, `Fjob_services`, etc.), and assign a `1` to one of them and `0` to all others.\n",
    "\n",
    "These generated columns are sometimes called _dummy variables_, and we will use the [`pandas.get_dummies()`](http://pandas.pydata.org/pandas-docs/stable/generated/pandas.get_dummies.html?highlight=get_dummies#pandas.get_dummies) function to perform this transformation."
   ]
  },
  {
   "cell_type": "code",
   "execution_count": 10,
   "metadata": {
    "collapsed": false
   },
   "outputs": [
    {
     "name": "stdout",
     "output_type": "stream",
     "text": [
      "Processed feature columns (48):-\n",
      "['school_GP', 'school_MS', 'sex_F', 'sex_M', 'age', 'address_R', 'address_U', 'famsize_GT3', 'famsize_LE3', 'Pstatus_A', 'Pstatus_T', 'Medu', 'Fedu', 'Mjob_at_home', 'Mjob_health', 'Mjob_other', 'Mjob_services', 'Mjob_teacher', 'Fjob_at_home', 'Fjob_health', 'Fjob_other', 'Fjob_services', 'Fjob_teacher', 'reason_course', 'reason_home', 'reason_other', 'reason_reputation', 'guardian_father', 'guardian_mother', 'guardian_other', 'traveltime', 'studytime', 'failures', 'schoolsup', 'famsup', 'paid', 'activities', 'nursery', 'higher', 'internet', 'romantic', 'famrel', 'freetime', 'goout', 'Dalc', 'Walc', 'health', 'absences']\n"
     ]
    }
   ],
   "source": [
    "# Preprocess feature columns\n",
    "def preprocess_features(X):\n",
    "    outX = pd.DataFrame(index=X.index)  # output dataframe, initially empty\n",
    "\n",
    "    # Check each column\n",
    "    for col, col_data in X.iteritems():\n",
    "        # If data type is non-numeric, try to replace all yes/no values with 1/0\n",
    "        if col_data.dtype == object:\n",
    "            col_data = col_data.replace(['yes', 'no'], [1, 0])\n",
    "        # Note: This should change the data type for yes/no columns to int\n",
    "\n",
    "        # If still non-numeric, convert to one or more dummy variables\n",
    "        if col_data.dtype == object:\n",
    "            col_data = pd.get_dummies(col_data, prefix=col)  # e.g. 'school' => 'school_GP', 'school_MS'\n",
    "\n",
    "        outX = outX.join(col_data)  # collect column(s) in output dataframe\n",
    "\n",
    "    return outX\n",
    "\n",
    "X_all = preprocess_features(X_all)\n",
    "print \"Processed feature columns ({}):-\\n{}\".format(len(X_all.columns), list(X_all.columns))"
   ]
  },
  {
   "cell_type": "markdown",
   "metadata": {},
   "source": [
    "### Split data into training and test sets\n",
    "\n",
    "So far, we have converted all _categorical_ features into numeric values. In this next step, we split the data (both features and corresponding labels) into training and test sets."
   ]
  },
  {
   "cell_type": "code",
   "execution_count": 11,
   "metadata": {
    "collapsed": true
   },
   "outputs": [],
   "source": [
    "from sklearn.cross_validation import train_test_split"
   ]
  },
  {
   "cell_type": "code",
   "execution_count": 12,
   "metadata": {
    "collapsed": false
   },
   "outputs": [
    {
     "name": "stdout",
     "output_type": "stream",
     "text": [
      "Training set: 276 samples\n",
      "Test set: 119 samples\n"
     ]
    }
   ],
   "source": [
    "# First, decide how many training vs test samples you want\n",
    "#num_all = student_data.shape[0]  # same as len(student_data)\n",
    "#num_train = 300  # about 75% of the data\n",
    "#num_test = num_all - num_train\n",
    "\n",
    "\n",
    "# TODO: Then, select features (X) and corresponding labels (y) for the training and test sets\n",
    "# Note: Shuffle the data or randomly select samples to avoid any bias due to ordering in the dataset\n",
    "\n",
    "X_train, X_test, y_train, y_test = train_test_split(X_all, y_all, test_size = 0.3, random_state = 42)\n",
    "\n",
    "#X_train = ?\n",
    "#y_train = ?\n",
    "#X_test = ?\n",
    "#y_test = ?\n",
    "print \"Training set: {} samples\".format(X_train.shape[0])\n",
    "print \"Test set: {} samples\".format(X_test.shape[0])\n",
    "# Note: If you need a validation set, extract it from within training data"
   ]
  },
  {
   "cell_type": "markdown",
   "metadata": {},
   "source": [
    "## Feature Selection\n",
    "\n",
    "To enhance efficiency it would be best to limit features (limit dimensionality) in our model. This strategy will consist of:\n",
    "\n",
    "1.  Feature selection using SelectKBest with chi^2 scoring\n",
    "2.  Try feature selection using RFECV (Recursive Feature Elimination with Cross Validation)\n",
    "3.  Generate plots as a reality check for features selected to visualize trends and likely impact\n",
    "4.  Follow up both strategies to gauge performance and run metrics with and without feature selection"
   ]
  },
  {
   "cell_type": "markdown",
   "metadata": {},
   "source": [
    "### SelectKBest with Chi^2"
   ]
  },
  {
   "cell_type": "code",
   "execution_count": 13,
   "metadata": {
    "collapsed": true
   },
   "outputs": [],
   "source": [
    "from sklearn.feature_selection import SelectKBest\n",
    "from sklearn.feature_selection import chi2"
   ]
  },
  {
   "cell_type": "markdown",
   "metadata": {},
   "source": [
    "#### Pre-processed Features"
   ]
  },
  {
   "cell_type": "code",
   "execution_count": 14,
   "metadata": {
    "collapsed": false,
    "scrolled": true
   },
   "outputs": [
    {
     "data": {
      "text/html": [
       "<div>\n",
       "<table border=\"1\" class=\"dataframe\">\n",
       "  <thead>\n",
       "    <tr style=\"text-align: right;\">\n",
       "      <th></th>\n",
       "      <th>feature</th>\n",
       "      <th>score</th>\n",
       "    </tr>\n",
       "  </thead>\n",
       "  <tbody>\n",
       "    <tr>\n",
       "      <th>0</th>\n",
       "      <td>failures</td>\n",
       "      <td>49.514058</td>\n",
       "    </tr>\n",
       "    <tr>\n",
       "      <th>1</th>\n",
       "      <td>absences</td>\n",
       "      <td>15.986899</td>\n",
       "    </tr>\n",
       "    <tr>\n",
       "      <th>2</th>\n",
       "      <td>goout</td>\n",
       "      <td>3.629403</td>\n",
       "    </tr>\n",
       "    <tr>\n",
       "      <th>3</th>\n",
       "      <td>paid</td>\n",
       "      <td>2.784097</td>\n",
       "    </tr>\n",
       "    <tr>\n",
       "      <th>4</th>\n",
       "      <td>reason_reputation</td>\n",
       "      <td>2.137619</td>\n",
       "    </tr>\n",
       "    <tr>\n",
       "      <th>5</th>\n",
       "      <td>Mjob_health</td>\n",
       "      <td>1.848214</td>\n",
       "    </tr>\n",
       "    <tr>\n",
       "      <th>6</th>\n",
       "      <td>Dalc</td>\n",
       "      <td>1.731429</td>\n",
       "    </tr>\n",
       "    <tr>\n",
       "      <th>7</th>\n",
       "      <td>romantic</td>\n",
       "      <td>1.286560</td>\n",
       "    </tr>\n",
       "    <tr>\n",
       "      <th>8</th>\n",
       "      <td>schoolsup</td>\n",
       "      <td>1.164116</td>\n",
       "    </tr>\n",
       "    <tr>\n",
       "      <th>9</th>\n",
       "      <td>reason_course</td>\n",
       "      <td>1.137605</td>\n",
       "    </tr>\n",
       "    <tr>\n",
       "      <th>10</th>\n",
       "      <td>Fjob_services</td>\n",
       "      <td>1.095734</td>\n",
       "    </tr>\n",
       "    <tr>\n",
       "      <th>11</th>\n",
       "      <td>Medu</td>\n",
       "      <td>1.070023</td>\n",
       "    </tr>\n",
       "    <tr>\n",
       "      <th>12</th>\n",
       "      <td>Fjob_other</td>\n",
       "      <td>1.056644</td>\n",
       "    </tr>\n",
       "    <tr>\n",
       "      <th>13</th>\n",
       "      <td>Fedu</td>\n",
       "      <td>0.967275</td>\n",
       "    </tr>\n",
       "    <tr>\n",
       "      <th>14</th>\n",
       "      <td>Pstatus_A</td>\n",
       "      <td>0.860119</td>\n",
       "    </tr>\n",
       "    <tr>\n",
       "      <th>15</th>\n",
       "      <td>higher</td>\n",
       "      <td>0.849731</td>\n",
       "    </tr>\n",
       "    <tr>\n",
       "      <th>16</th>\n",
       "      <td>age</td>\n",
       "      <td>0.715183</td>\n",
       "    </tr>\n",
       "    <tr>\n",
       "      <th>17</th>\n",
       "      <td>health</td>\n",
       "      <td>0.656383</td>\n",
       "    </tr>\n",
       "    <tr>\n",
       "      <th>18</th>\n",
       "      <td>Fjob_at_home</td>\n",
       "      <td>0.607639</td>\n",
       "    </tr>\n",
       "    <tr>\n",
       "      <th>19</th>\n",
       "      <td>famsup</td>\n",
       "      <td>0.582470</td>\n",
       "    </tr>\n",
       "  </tbody>\n",
       "</table>\n",
       "</div>"
      ],
      "text/plain": [
       "              feature      score\n",
       "0            failures  49.514058\n",
       "1            absences  15.986899\n",
       "2               goout   3.629403\n",
       "3                paid   2.784097\n",
       "4   reason_reputation   2.137619\n",
       "5         Mjob_health   1.848214\n",
       "6                Dalc   1.731429\n",
       "7            romantic   1.286560\n",
       "8           schoolsup   1.164116\n",
       "9       reason_course   1.137605\n",
       "10      Fjob_services   1.095734\n",
       "11               Medu   1.070023\n",
       "12         Fjob_other   1.056644\n",
       "13               Fedu   0.967275\n",
       "14          Pstatus_A   0.860119\n",
       "15             higher   0.849731\n",
       "16                age   0.715183\n",
       "17             health   0.656383\n",
       "18       Fjob_at_home   0.607639\n",
       "19             famsup   0.582470"
      ]
     },
     "execution_count": 14,
     "metadata": {},
     "output_type": "execute_result"
    }
   ],
   "source": [
    "k = 20\n",
    "k_best = SelectKBest(chi2, k= k)\n",
    "k_best.fit(X_train, y_train)\n",
    "scores_kchi2 = k_best.scores_\n",
    "pairs = zip(X_all.columns, scores_kchi2)\n",
    "\n",
    "# combined scores and features into a pandas dataframe then sort \n",
    "\n",
    "k_best_features = pd.DataFrame(pairs,columns = ['feature','score'])\n",
    "k_best_features = k_best_features.sort_values(by= 'score',ascending = False)\n",
    "\n",
    "k_best_features = k_best_features.reset_index(drop = True)\n",
    "\n",
    "k_best_features.head(k)"
   ]
  },
  {
   "cell_type": "markdown",
   "metadata": {},
   "source": [
    "Results suggest that many features may not be useful for predicting drop out.  I'd like to visualize this. To make it manageable I will bin features by score and use those groups for calculation and plotting purposes."
   ]
  },
  {
   "cell_type": "markdown",
   "metadata": {},
   "source": [
    "#### Plots"
   ]
  },
  {
   "cell_type": "code",
   "execution_count": 15,
   "metadata": {
    "collapsed": false
   },
   "outputs": [
    {
     "name": "stderr",
     "output_type": "stream",
     "text": [
      "C:\\Users\\vhim98198\\Anaconda2\\lib\\site-packages\\matplotlib\\__init__.py:872: UserWarning: axes.color_cycle is deprecated and replaced with axes.prop_cycle; please use the latter.\n",
      "  warnings.warn(self.msg_depr % (key, alt_key))\n"
     ]
    }
   ],
   "source": [
    "import matplotlib as mpl\n",
    "import matplotlib.pyplot as plt\n",
    "%matplotlib inline\n",
    "import seaborn as sns\n",
    "sns.set(style=\"whitegrid\", color_codes=True)"
   ]
  },
  {
   "cell_type": "code",
   "execution_count": 16,
   "metadata": {
    "collapsed": false
   },
   "outputs": [
    {
     "data": {
      "text/plain": [
       "Index([u'school_GP', u'school_MS', u'sex_F', u'sex_M', u'age', u'address_R',\n",
       "       u'address_U', u'famsize_GT3', u'famsize_LE3', u'Pstatus_A',\n",
       "       u'Pstatus_T', u'Medu', u'Fedu', u'Mjob_at_home', u'Mjob_health',\n",
       "       u'Mjob_other', u'Mjob_services', u'Mjob_teacher', u'Fjob_at_home',\n",
       "       u'Fjob_health', u'Fjob_other', u'Fjob_services', u'Fjob_teacher',\n",
       "       u'reason_course', u'reason_home', u'reason_other', u'reason_reputation',\n",
       "       u'guardian_father', u'guardian_mother', u'guardian_other',\n",
       "       u'traveltime', u'studytime', u'failures', u'schoolsup', u'famsup',\n",
       "       u'paid', u'activities', u'nursery', u'higher', u'internet', u'romantic',\n",
       "       u'famrel', u'freetime', u'goout', u'Dalc', u'Walc', u'health',\n",
       "       u'absences', u'passed', u'passed_binary'],\n",
       "      dtype='object')"
      ]
     },
     "execution_count": 16,
     "metadata": {},
     "output_type": "execute_result"
    }
   ],
   "source": [
    "# recombine X_all and y_all\n",
    "\n",
    "combined_X_y = X_all.join(y_all)\n",
    "\n",
    "# create a binary measure of passed where yes = 1 and no = 0\n",
    "\n",
    "combined_X_y['passed_binary'] = np.where(combined_X_y.passed == 'yes', 1,0)\n",
    "\n",
    "combined_X_y.columns"
   ]
  },
  {
   "cell_type": "code",
   "execution_count": 17,
   "metadata": {
    "collapsed": false
   },
   "outputs": [
    {
     "name": "stderr",
     "output_type": "stream",
     "text": [
      "C:\\Users\\vhim98198\\Anaconda2\\lib\\site-packages\\matplotlib\\__init__.py:892: UserWarning: axes.color_cycle is deprecated and replaced with axes.prop_cycle; please use the latter.\n",
      "  warnings.warn(self.msg_depr % (key, alt_key))\n"
     ]
    },
    {
     "data": {
      "image/png": "[encoded data removed]",
      "text/plain": [
       "<matplotlib.figure.Figure at 0xa1dcfd0>"
      ]
     },
     "metadata": {},
     "output_type": "display_data"
    }
   ],
   "source": [
    "sns.barplot(x=\"failures\", y= 'passed_binary', order= [0,1,2,3],data= combined_X_y);"
   ]
  },
  {
   "cell_type": "code",
   "execution_count": 18,
   "metadata": {
    "collapsed": false
   },
   "outputs": [
    {
     "data": {
      "text/plain": [
       "<matplotlib.axes._subplots.AxesSubplot at 0xa39e290>"
      ]
     },
     "execution_count": 18,
     "metadata": {},
     "output_type": "execute_result"
    },
    {
     "data": {
      "image/png": "[encoded data removed]",
      "text/plain": [
       "<matplotlib.figure.Figure at 0xa32dff0>"
      ]
     },
     "metadata": {},
     "output_type": "display_data"
    }
   ],
   "source": [
    "sns.barplot(x= combined_X_y.passed, y= combined_X_y.absences)"
   ]
  },
  {
   "cell_type": "code",
   "execution_count": 19,
   "metadata": {
    "collapsed": false
   },
   "outputs": [
    {
     "data": {
      "image/png": "[encoded data removed]",
      "text/plain": [
       "<matplotlib.figure.Figure at 0xa3f3c90>"
      ]
     },
     "metadata": {},
     "output_type": "display_data"
    }
   ],
   "source": [
    "sns.barplot(x=\"goout\", y=\"passed_binary\", order= [1,2,3,4,5],data= combined_X_y);"
   ]
  },
  {
   "cell_type": "code",
   "execution_count": 20,
   "metadata": {
    "collapsed": false
   },
   "outputs": [
    {
     "data": {
      "image/png": "[encoded data removed]",
      "text/plain": [
       "<matplotlib.figure.Figure at 0xa419f90>"
      ]
     },
     "metadata": {},
     "output_type": "display_data"
    }
   ],
   "source": [
    "sns.barplot(x=\"paid\", y= 'passed_binary',data= combined_X_y);"
   ]
  },
  {
   "cell_type": "code",
   "execution_count": 21,
   "metadata": {
    "collapsed": false
   },
   "outputs": [
    {
     "data": {
      "image/png": "[encoded data removed]",
      "text/plain": [
       "<matplotlib.figure.Figure at 0xa65c3d0>"
      ]
     },
     "metadata": {},
     "output_type": "display_data"
    }
   ],
   "source": [
    "sns.barplot(x=\"Medu\", y= 'passed_binary', order= [0,1,2,3,4], data= combined_X_y);"
   ]
  },
  {
   "cell_type": "raw",
   "metadata": {
    "collapsed": false
   },
   "source": [
    "X_chi2 = SelectKBest(chi2, k=20).fit_transform(X_train, y_train)\n",
    "\n",
    "print \"Number of Features: {}\".format(X_chi2.shape[1])"
   ]
  },
  {
   "cell_type": "raw",
   "metadata": {},
   "source": [
    "print(__doc__)\n",
    "\n",
    "import matplotlib.pyplot as plt\n",
    "from sklearn.svm import SVC\n",
    "from sklearn.cross_validation import StratifiedKFold\n",
    "from sklearn.feature_selection import RFECV\n",
    "from sklearn.datasets import make_classification\n",
    "\n",
    "# Build a classification task using 3 informative features\n",
    "X, y = make_classification(n_samples=1000, n_features=25, n_informative=3,\n",
    "                           n_redundant=2, n_repeated=0, n_classes=8,\n",
    "                           n_clusters_per_class=1, random_state=0)\n",
    "\n",
    "# Create the RFE object and compute a cross-validated score.\n",
    "svc = SVC(kernel=\"linear\")\n",
    "# The \"accuracy\" scoring is proportional to the number of correct\n",
    "# classifications\n",
    "rfecv = RFECV(estimator=svc, step=1, cv=StratifiedKFold(y, 2),\n",
    "              scoring='accuracy')\n",
    "rfecv.fit(X, y)\n",
    "\n",
    "print(\"Optimal number of features : %d\" % rfecv.n_features_)\n",
    "\n",
    "# Plot number of features VS. cross-validation scores\n",
    "plt.figure()\n",
    "plt.xlabel(\"Number of features selected\")\n",
    "plt.ylabel(\"Cross validation score (nb of correct classifications)\")\n",
    "plt.plot(range(1, len(rfecv.grid_scores_) + 1), rfecv.grid_scores_)\n",
    "plt.show()"
   ]
  },
  {
   "cell_type": "markdown",
   "metadata": {},
   "source": [
    "# 4. Training and Evaluating Models\n",
    "Choose 3 supervised learning models that are available in scikit-learn, and appropriate for this problem. For each model:\n",
    "\n",
    "- What is the theoretical O(n) time & space complexity in terms of input size?\n",
    "- What are the general applications of this model? What are its strengths and weaknesses?\n",
    "- Given what you know about the data so far, why did you choose this model to apply?\n",
    "- Fit this model to the training data, try to predict labels (for both training and test sets), and measure the F<sub>1</sub> score. Repeat this process with different training set sizes (100, 200, 300), keeping test set constant.\n",
    "\n",
    "Produce a table showing training time, prediction time, F<sub>1</sub> score on training set and F<sub>1</sub> score on test set, for each training set size.\n",
    "\n",
    "Note: You need to produce 3 such tables - one for each model."
   ]
  },
  {
   "cell_type": "markdown",
   "metadata": {},
   "source": [
    "### Functions and Imports\n",
    "\n",
    "Functions and associated imports for this section."
   ]
  },
  {
   "cell_type": "code",
   "execution_count": 32,
   "metadata": {
    "collapsed": false
   },
   "outputs": [],
   "source": [
    "import time\n",
    "\n",
    "\n",
    "# Train a model\n",
    "def train_classifier(clf, X_train, y_train):\n",
    "    print \"Training {}... \\n\".format(clf.__class__.__name__)\n",
    "    start = time.time()\n",
    "    clf.fit(X_train, y_train)\n",
    "    end = time.time()\n",
    "    print \"Done!\\nTraining time (secs): {:.3f}\".format(end - start)\n",
    "    return end - start\n",
    "\n",
    "from sklearn.metrics import f1_score\n",
    "\n",
    "def predict_labels(clf, features, target):\n",
    "    print \"Predicting labels using {}... \\n\".format(clf.__class__.__name__)\n",
    "    start = time.time()\n",
    "    y_pred = clf.predict(features)\n",
    "    end = time.time()\n",
    "    print \"Done!\\nPrediction time (secs): {:.3f} \\n\".format(end - start)\n",
    "    return f1_score(target.values, y_pred, pos_label='yes')\n",
    "\n",
    "# Train and predict using different training set sizes\n",
    "def train_predict(clf, X_train, y_train, X_test, y_test):\n",
    "    print \"------------------------------------------\"\n",
    "    print \"Training set size: {}\".format(len(X_train))\n",
    "    train_classifier(clf, X_train, y_train)\n",
    "    print \"F1 score for training set: {}\".format(predict_labels(clf, X_train, y_train))\n",
    "    print \"F1 score for test set: {}\".format(predict_labels(clf, X_test, y_test))\n",
    "    f1_score_train = predict_labels(clf, X_train, y_train)\n",
    "    f1_score_test = predict_labels(clf, X_test, y_test)\n",
    "    training_time = train_classifier(clf, X_train, y_train)\n",
    "    \n",
    "    return training_time, f1_score_train, f1_score_test\n",
    "\n",
    "def build_clf_metrics_table(metrics_dict):\n",
    "    clf_df = pd.DataFrame.from_dict(metrics_dict, orient='index')\n",
    "    clf_df.columns = [\"training_time(s)\", \"f1_train\",\"f1_test\"]\n",
    "    clf_df = clf_df.sort_index()\n",
    "    clf_df = clf_df.reset_index()\n",
    "    clf_df.rename(columns={'index':'train_size'},inplace=True)\n",
    "    return clf_df\n",
    "\n",
    "\n",
    "def build_melted_metrics_table(df):\n",
    "    \n",
    "\n",
    "    cols_train = [x for x in df.columns if x != 'f1_test']\n",
    "    cols_test = [x for x in df.columns if x != 'f1_train']\n",
    "\n",
    "    df_train = df[cols_train]\n",
    "    df_train['kind'] = 'train'\n",
    "    df_train.rename(columns= {'f1_train': 'f1'}, inplace= True)\n",
    "\n",
    "    df_test = df[cols_test]\n",
    "    df_test['kind'] = 'test'\n",
    "    df_test.rename(columns= {'f1_test': 'f1'}, inplace= True)\n",
    "\n",
    "    return df_train.append(df_test)\n",
    "\n",
    "def gen_test_train_plot(data):\n",
    "    plot = sns.pointplot(x= 'train_size', y= 'f1', hue= 'kind', data = data)\n",
    "    return plot"
   ]
  },
  {
   "cell_type": "markdown",
   "metadata": {},
   "source": [
    "### Adaboost All Features"
   ]
  },
  {
   "cell_type": "code",
   "execution_count": 28,
   "metadata": {
    "collapsed": false
   },
   "outputs": [
    {
     "name": "stdout",
     "output_type": "stream",
     "text": [
      "Training AdaBoostClassifier... \n",
      "\n",
      "Done!\n",
      "Training time (secs): 0.492\n",
      "AdaBoostClassifier(algorithm='SAMME.R', base_estimator=None,\n",
      "          learning_rate=1.0, n_estimators=50, random_state=None)\n",
      "Predicting labels using AdaBoostClassifier... \n",
      "\n",
      "Done!\n",
      "Prediction time (secs): 0.031 \n",
      "\n",
      "F1 score for training set: 0.892156862745 \n",
      "\n",
      "Predicting labels using AdaBoostClassifier... \n",
      "\n",
      "Done!\n",
      "Prediction time (secs): 0.015 \n",
      "\n",
      "F1 score for test set: 0.764705882353 \n",
      "\n"
     ]
    }
   ],
   "source": [
    "# TODO: Choose a model, import it and instantiate an object\n",
    "from sklearn.ensemble import AdaBoostClassifier\n",
    "clf = AdaBoostClassifier()\n",
    "\n",
    "# Fit model to training data\n",
    "train_classifier(clf, X_train, y_train)  # note: using entire training set here\n",
    "print clf\n",
    "\n",
    "# Predict on training set and compute F1 score\n",
    "train_f1_score = predict_labels(clf, X_train, y_train)\n",
    "print \"F1 score for training set: {} \\n\".format(train_f1_score)\n",
    "\n",
    "# Predict on test data\n",
    "print \"F1 score for test set: {} \\n\".format(predict_labels(clf, X_test, y_test))"
   ]
  },
  {
   "cell_type": "code",
   "execution_count": 29,
   "metadata": {
    "collapsed": true
   },
   "outputs": [
    {
     "name": "stdout",
     "output_type": "stream",
     "text": [
      "------------------------------------------\n",
      "Training set size: 25\n",
      "Training AdaBoostClassifier... \n",
      "\n",
      "Done!\n",
      "Training time (secs): 0.453\n",
      "Predicting labels using AdaBoostClassifier... \n",
      "\n",
      "Done!\n",
      "Prediction time (secs): 0.031 \n",
      "\n",
      "F1 score for training set: 1.0\n",
      "Predicting labels using AdaBoostClassifier... \n",
      "\n",
      "Done!\n",
      "Prediction time (secs): 0.016 \n",
      "\n",
      "F1 score for test set: 0.744444444444\n",
      "Predicting labels using AdaBoostClassifier... \n",
      "\n",
      "Done!\n",
      "Prediction time (secs): 0.015 \n",
      "\n",
      "Predicting labels using AdaBoostClassifier... \n",
      "\n",
      "Done!\n",
      "Prediction time (secs): 0.016 \n",
      "\n",
      "Training AdaBoostClassifier... \n",
      "\n",
      "Done!\n",
      "Training time (secs): 0.391\n",
      "------------------------------------------\n",
      "Training set size: 50\n",
      "Training AdaBoostClassifier... \n",
      "\n",
      "Done!\n",
      "Training time (secs): 0.394\n",
      "Predicting labels using AdaBoostClassifier... \n",
      "\n",
      "Done!\n",
      "Prediction time (secs): 0.016 \n",
      "\n",
      "F1 score for training set: 1.0\n",
      "Predicting labels using AdaBoostClassifier... \n",
      "\n",
      "Done!\n",
      "Prediction time (secs): 0.031 \n",
      "\n",
      "F1 score for test set: 0.708074534161\n",
      "Predicting labels using AdaBoostClassifier... \n",
      "\n",
      "Done!\n",
      "Prediction time (secs): 0.015 \n",
      "\n",
      "Predicting labels using AdaBoostClassifier... \n",
      "\n",
      "Done!\n",
      "Prediction time (secs): 0.032 \n",
      "\n",
      "Training AdaBoostClassifier... \n",
      "\n",
      "Done!\n",
      "Training time (secs): 0.392\n",
      "------------------------------------------\n",
      "Training set size: 100\n",
      "Training AdaBoostClassifier... \n",
      "\n",
      "Done!\n",
      "Training time (secs): 0.432\n",
      "Predicting labels using AdaBoostClassifier... \n",
      "\n",
      "Done!\n",
      "Prediction time (secs): 0.032 \n",
      "\n",
      "F1 score for training set: 0.971428571429\n",
      "Predicting labels using AdaBoostClassifier... \n",
      "\n",
      "Done!\n",
      "Prediction time (secs): 0.031 \n",
      "\n",
      "F1 score for test set: 0.736842105263\n",
      "Predicting labels using AdaBoostClassifier... \n",
      "\n",
      "Done!\n",
      "Prediction time (secs): 0.031 \n",
      "\n",
      "Predicting labels using AdaBoostClassifier... \n",
      "\n",
      "Done!\n",
      "Prediction time (secs): 0.031 \n",
      "\n",
      "Training AdaBoostClassifier... \n",
      "\n",
      "Done!\n",
      "Training time (secs): 0.457\n",
      "------------------------------------------\n",
      "Training set size: 200\n",
      "Training AdaBoostClassifier... \n",
      "\n",
      "Done!\n",
      "Training time (secs): 0.485\n",
      "Predicting labels using AdaBoostClassifier... \n",
      "\n",
      "Done!\n",
      "Prediction time (secs): 0.031 \n",
      "\n",
      "F1 score for training set: 0.895622895623\n",
      "Predicting labels using AdaBoostClassifier... \n",
      "\n",
      "Done!\n",
      "Prediction time (secs): 0.031 \n",
      "\n",
      "F1 score for test set: 0.775757575758\n",
      "Predicting labels using AdaBoostClassifier... \n",
      "\n",
      "Done!\n",
      "Prediction time (secs): 0.032 \n",
      "\n",
      "Predicting labels using AdaBoostClassifier... \n",
      "\n",
      "Done!\n",
      "Prediction time (secs): 0.015 \n",
      "\n",
      "Training AdaBoostClassifier... \n",
      "\n",
      "Done!\n",
      "Training time (secs): 0.497\n",
      "------------------------------------------\n",
      "Training set size: 276\n",
      "Training AdaBoostClassifier... \n",
      "\n",
      "Done!\n",
      "Training time (secs): 0.440\n",
      "Predicting labels using AdaBoostClassifier... \n",
      "\n",
      "Done!\n",
      "Prediction time (secs): 0.031 \n",
      "\n",
      "F1 score for training set: 0.892156862745\n",
      "Predicting labels using AdaBoostClassifier... \n",
      "\n",
      "Done!\n",
      "Prediction time (secs): 0.015 \n",
      "\n",
      "F1 score for test set: 0.764705882353\n",
      "Predicting labels using AdaBoostClassifier... \n",
      "\n",
      "Done!\n",
      "Prediction time (secs): 0.031 \n",
      "\n",
      "Predicting labels using AdaBoostClassifier... \n",
      "\n",
      "Done!\n",
      "Prediction time (secs): 0.032 \n",
      "\n",
      "Training AdaBoostClassifier... \n",
      "\n",
      "Done!\n",
      "Training time (secs): 0.437\n"
     ]
    }
   ],
   "source": [
    "# TODO: Run the helper function above for desired subsets of training data\n",
    "# Note: Keep the test set constant\n",
    "\n",
    "sizes = [25, 50, 100, 200, 276]\n",
    "\n",
    "metrics = {}\n",
    "for size in sizes:\n",
    "    training_time, f1_score_train, f1_score_test = train_predict(clf, X_train[:size],\n",
    "                                                                 y_train[:size], X_test, y_test)\n",
    "    \n",
    "    metrics_list = [training_time, f1_score_train, f1_score_test]\n",
    "    \n",
    "    metrics[size] = metrics_list   \n",
    "    "
   ]
  },
  {
   "cell_type": "code",
   "execution_count": 36,
   "metadata": {
    "collapsed": false
   },
   "outputs": [
    {
     "data": {
      "text/html": [
       "<div>\n",
       "<table border=\"1\" class=\"dataframe\">\n",
       "  <thead>\n",
       "    <tr style=\"text-align: right;\">\n",
       "      <th></th>\n",
       "      <th>train_size</th>\n",
       "      <th>training_time(s)</th>\n",
       "      <th>f1_train</th>\n",
       "      <th>f1_test</th>\n",
       "    </tr>\n",
       "  </thead>\n",
       "  <tbody>\n",
       "    <tr>\n",
       "      <th>0</th>\n",
       "      <td>25</td>\n",
       "      <td>0.391</td>\n",
       "      <td>1.000000</td>\n",
       "      <td>0.744444</td>\n",
       "    </tr>\n",
       "    <tr>\n",
       "      <th>1</th>\n",
       "      <td>50</td>\n",
       "      <td>0.392</td>\n",
       "      <td>1.000000</td>\n",
       "      <td>0.708075</td>\n",
       "    </tr>\n",
       "    <tr>\n",
       "      <th>2</th>\n",
       "      <td>100</td>\n",
       "      <td>0.457</td>\n",
       "      <td>0.971429</td>\n",
       "      <td>0.736842</td>\n",
       "    </tr>\n",
       "    <tr>\n",
       "      <th>3</th>\n",
       "      <td>200</td>\n",
       "      <td>0.497</td>\n",
       "      <td>0.895623</td>\n",
       "      <td>0.775758</td>\n",
       "    </tr>\n",
       "    <tr>\n",
       "      <th>4</th>\n",
       "      <td>276</td>\n",
       "      <td>0.437</td>\n",
       "      <td>0.892157</td>\n",
       "      <td>0.764706</td>\n",
       "    </tr>\n",
       "  </tbody>\n",
       "</table>\n",
       "</div>"
      ],
      "text/plain": [
       "   train_size  training_time(s)  f1_train   f1_test\n",
       "0          25             0.391  1.000000  0.744444\n",
       "1          50             0.392  1.000000  0.708075\n",
       "2         100             0.457  0.971429  0.736842\n",
       "3         200             0.497  0.895623  0.775758\n",
       "4         276             0.437  0.892157  0.764706"
      ]
     },
     "execution_count": 36,
     "metadata": {},
     "output_type": "execute_result"
    }
   ],
   "source": [
    "adaboost_metrics = build_clf_metrics_table(metrics)\n",
    "adaboost_metrics"
   ]
  },
  {
   "cell_type": "code",
   "execution_count": 37,
   "metadata": {
    "collapsed": false
   },
   "outputs": [
    {
     "data": {
      "image/png": "[encoded data removed]",
      "text/plain": [
       "<matplotlib.figure.Figure at 0xaaabf90>"
      ]
     },
     "metadata": {},
     "output_type": "display_data"
    }
   ],
   "source": [
    "adaboost_melted = build_melted_metrics_table(adaboost_metrics)\n",
    "\n",
    "adaboost_plot = gen_test_train_plot(adaboost_melted)"
   ]
  },
  {
   "cell_type": "markdown",
   "metadata": {
    "collapsed": false
   },
   "source": [
    "### Multnomial Bayes All Features"
   ]
  },
  {
   "cell_type": "code",
   "execution_count": 38,
   "metadata": {
    "collapsed": false
   },
   "outputs": [
    {
     "name": "stdout",
     "output_type": "stream",
     "text": [
      "Training MultinomialNB... \n",
      "\n",
      "Done!\n",
      "Training time (secs): 0.162\n",
      "MultinomialNB(alpha=1.0, class_prior=None, fit_prior=True)\n",
      "Predicting labels using MultinomialNB... \n",
      "\n",
      "Done!\n",
      "Prediction time (secs): 0.000 \n",
      "\n",
      "F1 score for training set: 0.81662591687 \n",
      "\n",
      "Predicting labels using MultinomialNB... \n",
      "\n",
      "Done!\n",
      "Prediction time (secs): 0.000 \n",
      "\n",
      "F1 score for test set: 0.785714285714 \n",
      "\n"
     ]
    }
   ],
   "source": [
    "# TODO: Choose a model, import it and instantiate an object\n",
    "from sklearn.naive_bayes import MultinomialNB\n",
    "clf = MultinomialNB()\n",
    "\n",
    "# Fit model to training data\n",
    "train_classifier(clf, X_train, y_train)  # note: using entire training set here\n",
    "print clf\n",
    "\n",
    "# Predict on training set and compute F1 score\n",
    "train_f1_score = predict_labels(clf, X_train, y_train)\n",
    "print \"F1 score for training set: {} \\n\".format(train_f1_score)\n",
    "\n",
    "# Predict on test data\n",
    "print \"F1 score for test set: {} \\n\".format(predict_labels(clf, X_test, y_test))"
   ]
  },
  {
   "cell_type": "code",
   "execution_count": 40,
   "metadata": {
    "collapsed": true
   },
   "outputs": [
    {
     "name": "stdout",
     "output_type": "stream",
     "text": [
      "------------------------------------------\n",
      "Training set size: 25\n",
      "Training MultinomialNB... \n",
      "\n",
      "Done!\n",
      "Training time (secs): 0.008\n",
      "Predicting labels using MultinomialNB... \n",
      "\n",
      "Done!\n",
      "Prediction time (secs): 0.000 \n",
      "\n",
      "F1 score for training set: 0.894736842105\n",
      "Predicting labels using MultinomialNB... \n",
      "\n",
      "Done!\n",
      "Prediction time (secs): 0.004 \n",
      "\n",
      "F1 score for test set: 0.670886075949\n",
      "Predicting labels using MultinomialNB... \n",
      "\n",
      "Done!\n",
      "Prediction time (secs): 0.000 \n",
      "\n",
      "Predicting labels using MultinomialNB... \n",
      "\n",
      "Done!\n",
      "Prediction time (secs): 0.004 \n",
      "\n",
      "Training MultinomialNB... \n",
      "\n",
      "Done!\n",
      "Training time (secs): 0.004\n",
      "------------------------------------------\n",
      "Training set size: 50\n",
      "Training MultinomialNB... \n",
      "\n",
      "Done!\n",
      "Training time (secs): 0.004\n",
      "Predicting labels using MultinomialNB... \n",
      "\n",
      "Done!\n",
      "Prediction time (secs): 0.004 \n",
      "\n",
      "F1 score for training set: 0.837837837838\n",
      "Predicting labels using MultinomialNB... \n",
      "\n",
      "Done!\n",
      "Prediction time (secs): 0.004 \n",
      "\n",
      "F1 score for test set: 0.764705882353\n",
      "Predicting labels using MultinomialNB... \n",
      "\n",
      "Done!\n",
      "Prediction time (secs): 0.004 \n",
      "\n",
      "Predicting labels using MultinomialNB... \n",
      "\n",
      "Done!\n",
      "Prediction time (secs): 0.004 \n",
      "\n",
      "Training MultinomialNB... \n",
      "\n",
      "Done!\n",
      "Training time (secs): 0.004\n",
      "------------------------------------------\n",
      "Training set size: 100\n",
      "Training MultinomialNB... \n",
      "\n",
      "Done!\n",
      "Training time (secs): 0.004\n",
      "Predicting labels using MultinomialNB... \n",
      "\n",
      "Done!\n",
      "Prediction time (secs): 0.000 \n",
      "\n",
      "F1 score for training set: 0.797101449275\n",
      "Predicting labels using MultinomialNB... \n",
      "\n",
      "Done!\n",
      "Prediction time (secs): 0.004 \n",
      "\n",
      "F1 score for test set: 0.773006134969\n",
      "Predicting labels using MultinomialNB... \n",
      "\n",
      "Done!\n",
      "Prediction time (secs): 0.004 \n",
      "\n",
      "Predicting labels using MultinomialNB... \n",
      "\n",
      "Done!\n",
      "Prediction time (secs): 0.000 \n",
      "\n",
      "Training MultinomialNB... \n",
      "\n",
      "Done!\n",
      "Training time (secs): 0.004\n",
      "------------------------------------------\n",
      "Training set size: 200\n",
      "Training MultinomialNB... \n",
      "\n",
      "Done!\n",
      "Training time (secs): 0.008\n",
      "Predicting labels using MultinomialNB... \n",
      "\n",
      "Done!\n",
      "Prediction time (secs): 0.004 \n",
      "\n",
      "F1 score for training set: 0.835016835017\n",
      "Predicting labels using MultinomialNB... \n",
      "\n",
      "Done!\n",
      "Prediction time (secs): 0.004 \n",
      "\n",
      "F1 score for test set: 0.797687861272\n",
      "Predicting labels using MultinomialNB... \n",
      "\n",
      "Done!\n",
      "Prediction time (secs): 0.004 \n",
      "\n",
      "Predicting labels using MultinomialNB... \n",
      "\n",
      "Done!\n",
      "Prediction time (secs): 0.000 \n",
      "\n",
      "Training MultinomialNB... \n",
      "\n",
      "Done!\n",
      "Training time (secs): 0.004\n",
      "------------------------------------------\n",
      "Training set size: 276\n",
      "Training MultinomialNB... \n",
      "\n",
      "Done!\n",
      "Training time (secs): 0.008\n",
      "Predicting labels using MultinomialNB... \n",
      "\n",
      "Done!\n",
      "Prediction time (secs): 0.000 \n",
      "\n",
      "F1 score for training set: 0.81662591687\n",
      "Predicting labels using MultinomialNB... \n",
      "\n",
      "Done!\n",
      "Prediction time (secs): 0.000 \n",
      "\n",
      "F1 score for test set: 0.785714285714\n",
      "Predicting labels using MultinomialNB... \n",
      "\n",
      "Done!\n",
      "Prediction time (secs): 0.000 \n",
      "\n",
      "Predicting labels using MultinomialNB... \n",
      "\n",
      "Done!\n",
      "Prediction time (secs): 0.000 \n",
      "\n",
      "Training MultinomialNB... \n",
      "\n",
      "Done!\n",
      "Training time (secs): 0.004\n"
     ]
    }
   ],
   "source": [
    "# TODO: Run the helper function above for desired subsets of training data\n",
    "# Note: Keep the test set constant\n",
    "\n",
    "sizes = [25, 50, 100, 200, 276]\n",
    "\n",
    "metrics = {}\n",
    "for size in sizes:\n",
    "    training_time, f1_score_train, f1_score_test = train_predict(clf, X_train[:size],\n",
    "                                                                 y_train[:size], X_test, y_test)\n",
    "    \n",
    "    metrics_list = [training_time, f1_score_train, f1_score_test]\n",
    "    \n",
    "    metrics[size] = metrics_list   "
   ]
  },
  {
   "cell_type": "code",
   "execution_count": 42,
   "metadata": {
    "collapsed": false
   },
   "outputs": [
    {
     "data": {
      "text/html": [
       "<div>\n",
       "<table border=\"1\" class=\"dataframe\">\n",
       "  <thead>\n",
       "    <tr style=\"text-align: right;\">\n",
       "      <th></th>\n",
       "      <th>train_size</th>\n",
       "      <th>training_time(s)</th>\n",
       "      <th>f1_train</th>\n",
       "      <th>f1_test</th>\n",
       "    </tr>\n",
       "  </thead>\n",
       "  <tbody>\n",
       "    <tr>\n",
       "      <th>0</th>\n",
       "      <td>25</td>\n",
       "      <td>0.004</td>\n",
       "      <td>0.894737</td>\n",
       "      <td>0.670886</td>\n",
       "    </tr>\n",
       "    <tr>\n",
       "      <th>1</th>\n",
       "      <td>50</td>\n",
       "      <td>0.004</td>\n",
       "      <td>0.837838</td>\n",
       "      <td>0.764706</td>\n",
       "    </tr>\n",
       "    <tr>\n",
       "      <th>2</th>\n",
       "      <td>100</td>\n",
       "      <td>0.004</td>\n",
       "      <td>0.797101</td>\n",
       "      <td>0.773006</td>\n",
       "    </tr>\n",
       "    <tr>\n",
       "      <th>3</th>\n",
       "      <td>200</td>\n",
       "      <td>0.004</td>\n",
       "      <td>0.835017</td>\n",
       "      <td>0.797688</td>\n",
       "    </tr>\n",
       "    <tr>\n",
       "      <th>4</th>\n",
       "      <td>276</td>\n",
       "      <td>0.004</td>\n",
       "      <td>0.816626</td>\n",
       "      <td>0.785714</td>\n",
       "    </tr>\n",
       "  </tbody>\n",
       "</table>\n",
       "</div>"
      ],
      "text/plain": [
       "   train_size  training_time(s)  f1_train   f1_test\n",
       "0          25             0.004  0.894737  0.670886\n",
       "1          50             0.004  0.837838  0.764706\n",
       "2         100             0.004  0.797101  0.773006\n",
       "3         200             0.004  0.835017  0.797688\n",
       "4         276             0.004  0.816626  0.785714"
      ]
     },
     "execution_count": 42,
     "metadata": {},
     "output_type": "execute_result"
    }
   ],
   "source": [
    "mnb_metrics = build_clf_metrics_table(metrics)\n",
    "mnb_metrics"
   ]
  },
  {
   "cell_type": "code",
   "execution_count": 43,
   "metadata": {
    "collapsed": false
   },
   "outputs": [
    {
     "data": {
      "image/png": "[encoded data removed]",
      "text/plain": [
       "<matplotlib.figure.Figure at 0xa744230>"
      ]
     },
     "metadata": {},
     "output_type": "display_data"
    }
   ],
   "source": [
    "mnb_melted = build_melted_metrics_table(mnb_metrics)\n",
    "\n",
    "mnb_plot = gen_test_train_plot(mnb_melted)"
   ]
  },
  {
   "cell_type": "markdown",
   "metadata": {},
   "source": [
    "### Support Vector Machine All Features"
   ]
  },
  {
   "cell_type": "code",
   "execution_count": 44,
   "metadata": {
    "collapsed": true
   },
   "outputs": [
    {
     "name": "stdout",
     "output_type": "stream",
     "text": [
      "Training SVC... \n",
      "\n",
      "Done!\n",
      "Training time (secs): 0.140\n",
      "SVC(C=1.0, cache_size=200, class_weight=None, coef0=0.0,\n",
      "  decision_function_shape=None, degree=3, gamma='auto', kernel='rbf',\n",
      "  max_iter=-1, probability=False, random_state=None, shrinking=True,\n",
      "  tol=0.001, verbose=False)\n",
      "Predicting labels using SVC... \n",
      "\n",
      "Done!\n",
      "Prediction time (secs): 0.028 \n",
      "\n",
      "F1 score for training set: 0.886836027714 \n",
      "\n",
      "Predicting labels using SVC... \n",
      "\n",
      "Done!\n",
      "Prediction time (secs): 0.012 \n",
      "\n",
      "F1 score for test set: 0.774193548387 \n",
      "\n"
     ]
    }
   ],
   "source": [
    "# TODO: Choose a model, import it and instantiate an object\n",
    "from sklearn import svm\n",
    "clf = svm.SVC()\n",
    "\n",
    "# Fit model to training data\n",
    "train_classifier(clf, X_train, y_train)  # note: using entire training set here\n",
    "print clf\n",
    "\n",
    "# Predict on training set and compute F1 score\n",
    "train_f1_score = predict_labels(clf, X_train, y_train)\n",
    "print \"F1 score for training set: {} \\n\".format(train_f1_score)\n",
    "\n",
    "# Predict on test data\n",
    "print \"F1 score for test set: {} \\n\".format(predict_labels(clf, X_test, y_test))"
   ]
  },
  {
   "cell_type": "code",
   "execution_count": 45,
   "metadata": {
    "collapsed": false
   },
   "outputs": [
    {
     "name": "stdout",
     "output_type": "stream",
     "text": [
      "------------------------------------------\n",
      "Training set size: 25\n",
      "Training SVC... \n",
      "\n",
      "Done!\n",
      "Training time (secs): 0.004\n",
      "Predicting labels using SVC... \n",
      "\n",
      "Done!\n",
      "Prediction time (secs): 0.000 \n",
      "\n",
      "F1 score for training set: 0.883720930233\n",
      "Predicting labels using SVC... \n",
      "\n",
      "Done!\n",
      "Prediction time (secs): 0.000 \n",
      "\n",
      "F1 score for test set: 0.760416666667\n",
      "Predicting labels using SVC... \n",
      "\n",
      "Done!\n",
      "Prediction time (secs): 0.000 \n",
      "\n",
      "Predicting labels using SVC... \n",
      "\n",
      "Done!\n",
      "Prediction time (secs): 0.000 \n",
      "\n",
      "Training SVC... \n",
      "\n",
      "Done!\n",
      "Training time (secs): 0.004\n",
      "------------------------------------------\n",
      "Training set size: 50\n",
      "Training SVC... \n",
      "\n",
      "Done!\n",
      "Training time (secs): 0.004\n",
      "Predicting labels using SVC... \n",
      "\n",
      "Done!\n",
      "Prediction time (secs): 0.000 \n",
      "\n",
      "F1 score for training set: 0.878048780488\n",
      "Predicting labels using SVC... \n",
      "\n",
      "Done!\n",
      "Prediction time (secs): 0.004 \n",
      "\n",
      "F1 score for test set: 0.760416666667\n",
      "Predicting labels using SVC... \n",
      "\n",
      "Done!\n",
      "Prediction time (secs): 0.000 \n",
      "\n",
      "Predicting labels using SVC... \n",
      "\n",
      "Done!\n",
      "Prediction time (secs): 0.000 \n",
      "\n",
      "Training SVC... \n",
      "\n",
      "Done!\n",
      "Training time (secs): 0.004\n",
      "------------------------------------------\n",
      "Training set size: 100\n",
      "Training SVC... \n",
      "\n",
      "Done!\n",
      "Training time (secs): 0.008\n",
      "Predicting labels using SVC... \n",
      "\n",
      "Done!\n",
      "Prediction time (secs): 0.004 \n",
      "\n",
      "F1 score for training set: 0.868421052632\n",
      "Predicting labels using SVC... \n",
      "\n",
      "Done!\n",
      "Prediction time (secs): 0.008 \n",
      "\n",
      "F1 score for test set: 0.760869565217\n",
      "Predicting labels using SVC... \n",
      "\n",
      "Done!\n",
      "Prediction time (secs): 0.008 \n",
      "\n",
      "Predicting labels using SVC... \n",
      "\n",
      "Done!\n",
      "Prediction time (secs): 0.008 \n",
      "\n",
      "Training SVC... \n",
      "\n",
      "Done!\n",
      "Training time (secs): 0.004\n",
      "------------------------------------------\n",
      "Training set size: 200\n",
      "Training SVC... \n",
      "\n",
      "Done!\n",
      "Training time (secs): 0.012\n",
      "Predicting labels using SVC... \n",
      "\n",
      "Done!\n",
      "Prediction time (secs): 0.016 \n",
      "\n",
      "F1 score for training set: 0.874617737003\n",
      "Predicting labels using SVC... \n",
      "\n",
      "Done!\n",
      "Prediction time (secs): 0.008 \n",
      "\n",
      "F1 score for test set: 0.770053475936\n",
      "Predicting labels using SVC... \n",
      "\n",
      "Done!\n",
      "Prediction time (secs): 0.012 \n",
      "\n",
      "Predicting labels using SVC... \n",
      "\n",
      "Done!\n",
      "Prediction time (secs): 0.008 \n",
      "\n",
      "Training SVC... \n",
      "\n",
      "Done!\n",
      "Training time (secs): 0.016\n",
      "------------------------------------------\n",
      "Training set size: 276\n",
      "Training SVC... \n",
      "\n",
      "Done!\n",
      "Training time (secs): 0.024\n",
      "Predicting labels using SVC... \n",
      "\n",
      "Done!\n",
      "Prediction time (secs): 0.024 \n",
      "\n",
      "F1 score for training set: 0.886836027714\n",
      "Predicting labels using SVC... \n",
      "\n",
      "Done!\n",
      "Prediction time (secs): 0.016 \n",
      "\n",
      "F1 score for test set: 0.774193548387\n",
      "Predicting labels using SVC... \n",
      "\n",
      "Done!\n",
      "Prediction time (secs): 0.024 \n",
      "\n",
      "Predicting labels using SVC... \n",
      "\n",
      "Done!\n",
      "Prediction time (secs): 0.012 \n",
      "\n",
      "Training SVC... \n",
      "\n",
      "Done!\n",
      "Training time (secs): 0.028\n"
     ]
    }
   ],
   "source": [
    "# TODO: Run the helper function above for desired subsets of training data\n",
    "# Note: Keep the test set constant\n",
    "\n",
    "sizes = [25, 50, 100, 200, 276]\n",
    "\n",
    "metrics = {}\n",
    "for size in sizes:\n",
    "    training_time, f1_score_train, f1_score_test = train_predict(clf, X_train[:size],\n",
    "                                                                 y_train[:size], X_test, y_test)\n",
    "    \n",
    "    metrics_list = [training_time, f1_score_train, f1_score_test]\n",
    "    \n",
    "    metrics[size] = metrics_list   "
   ]
  },
  {
   "cell_type": "code",
   "execution_count": 46,
   "metadata": {
    "collapsed": false
   },
   "outputs": [
    {
     "data": {
      "text/html": [
       "<div>\n",
       "<table border=\"1\" class=\"dataframe\">\n",
       "  <thead>\n",
       "    <tr style=\"text-align: right;\">\n",
       "      <th></th>\n",
       "      <th>train_size</th>\n",
       "      <th>training_time(s)</th>\n",
       "      <th>f1_train</th>\n",
       "      <th>f1_test</th>\n",
       "    </tr>\n",
       "  </thead>\n",
       "  <tbody>\n",
       "    <tr>\n",
       "      <th>0</th>\n",
       "      <td>25</td>\n",
       "      <td>0.004</td>\n",
       "      <td>0.883721</td>\n",
       "      <td>0.760417</td>\n",
       "    </tr>\n",
       "    <tr>\n",
       "      <th>1</th>\n",
       "      <td>50</td>\n",
       "      <td>0.004</td>\n",
       "      <td>0.878049</td>\n",
       "      <td>0.760417</td>\n",
       "    </tr>\n",
       "    <tr>\n",
       "      <th>2</th>\n",
       "      <td>100</td>\n",
       "      <td>0.004</td>\n",
       "      <td>0.868421</td>\n",
       "      <td>0.760870</td>\n",
       "    </tr>\n",
       "    <tr>\n",
       "      <th>3</th>\n",
       "      <td>200</td>\n",
       "      <td>0.016</td>\n",
       "      <td>0.874618</td>\n",
       "      <td>0.770053</td>\n",
       "    </tr>\n",
       "    <tr>\n",
       "      <th>4</th>\n",
       "      <td>276</td>\n",
       "      <td>0.028</td>\n",
       "      <td>0.886836</td>\n",
       "      <td>0.774194</td>\n",
       "    </tr>\n",
       "  </tbody>\n",
       "</table>\n",
       "</div>"
      ],
      "text/plain": [
       "   train_size  training_time(s)  f1_train   f1_test\n",
       "0          25             0.004  0.883721  0.760417\n",
       "1          50             0.004  0.878049  0.760417\n",
       "2         100             0.004  0.868421  0.760870\n",
       "3         200             0.016  0.874618  0.770053\n",
       "4         276             0.028  0.886836  0.774194"
      ]
     },
     "execution_count": 46,
     "metadata": {},
     "output_type": "execute_result"
    }
   ],
   "source": [
    "svc_metrics = build_clf_metrics_table(metrics)\n",
    "svc_metrics"
   ]
  },
  {
   "cell_type": "code",
   "execution_count": 47,
   "metadata": {
    "collapsed": false
   },
   "outputs": [
    {
     "data": {
      "image/png": "[encoded data removed]",
      "text/plain": [
       "<matplotlib.figure.Figure at 0xaac6450>"
      ]
     },
     "metadata": {},
     "output_type": "display_data"
    }
   ],
   "source": [
    "svc_melted = build_melted_metrics_table(svc_metrics)\n",
    "\n",
    "svc_plot = gen_test_train_plot(svc_melted)"
   ]
  },
  {
   "cell_type": "markdown",
   "metadata": {},
   "source": [
    "## 5. Choosing the Best Model\n",
    "\n",
    "- Based on the experiments you performed earlier, in 1-2 paragraphs explain to the board of supervisors what single model you chose as the best model. Which model is generally the most appropriate based on the available data, limited resources, cost, and performance?\n",
    "- In 1-2 paragraphs explain to the board of supervisors in layman's terms how the final model chosen is supposed to work (for example if you chose a Decision Tree or Support Vector Machine, how does it make a prediction).\n",
    "- Fine-tune the model. Use Gridsearch with at least one important parameter tuned and with at least 3 settings. Use the entire training set for this.\n",
    "- What is the model's final F<sub>1</sub> score?"
   ]
  },
  {
   "cell_type": "code",
   "execution_count": null,
   "metadata": {
    "collapsed": true
   },
   "outputs": [],
   "source": [
    "# TODO: Fine-tune your model and report the best F1 score"
   ]
  }
 ],
 "metadata": {
  "kernelspec": {
   "display_name": "Python 2",
   "language": "python",
   "name": "python2"
  },
  "language_info": {
   "codemirror_mode": {
    "name": "ipython",
    "version": 2
   },
   "file_extension": ".py",
   "mimetype": "text/x-python",
   "name": "python",
   "nbconvert_exporter": "python",
   "pygments_lexer": "ipython2",
   "version": "2.7.11"
  }
 },
 "nbformat": 4,
 "nbformat_minor": 0
}
